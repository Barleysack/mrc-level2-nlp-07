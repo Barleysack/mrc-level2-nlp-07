{
 "cells": [
  {
   "cell_type": "markdown",
   "metadata": {},
   "source": [
    "# Elastic Index\n",
    "golden_retriever, inference 시에 매번 새로 동작하는 Elastic Index 생성  \n",
    "  \n",
    "이를 효율적으로 하기 위한 방법 실험  \n",
    "  \n",
    "Reference : [Adding a FAISS or Elastic Search index to a Dataset](https://huggingface.co/docs/datasets/faiss_and_ea.html)"
   ]
  },
  {
   "cell_type": "markdown",
   "metadata": {},
   "source": [
    "## Elastic index"
   ]
  },
  {
   "cell_type": "code",
   "execution_count": null,
   "metadata": {},
   "outputs": [
    {
     "name": "stdout",
     "output_type": "stream",
     "text": [
      " * Starting Elasticsearch Server\n",
      " * Already running.\n",
      "   ...done.\n"
     ]
    }
   ],
   "source": [
    "## Elasticsearch start\n",
    "!service elasticsearch start"
   ]
  },
  {
   "cell_type": "code",
   "execution_count": null,
   "metadata": {},
   "outputs": [],
   "source": [
    "## Load Libraries\n",
    "import tqdm\n",
    "import numpy as np\n",
    "import pandas as pd\n",
    "from preprocess import preprocess_retrieval\n",
    "from tqdm.auto import tqdm\n",
    "from elasticsearch import Elasticsearch"
   ]
  },
  {
   "cell_type": "code",
   "execution_count": null,
   "metadata": {},
   "outputs": [],
   "source": [
    "## Load augmented data\n",
    "train = load_from_disk(\"../data/gen_wiki\")[\"train\"]"
   ]
  },
  {
   "cell_type": "code",
   "execution_count": null,
   "metadata": {},
   "outputs": [],
   "source": [
    "# Load wikipedia_documents.json\n",
    "with open(\"../data/wikipedia_documents.json\", \"r\", encoding=\"utf-8\") as f:\n",
    "    wiki = json.load(f)\n",
    "org_contexts = list(dict.fromkeys([v[\"text\"] for v in wiki.values()]))\n",
    "contexts = [preprocess_retrieval(corpus) for corpus in contexts]"
   ]
  },
  {
   "cell_type": "code",
   "execution_count": null,
   "metadata": {},
   "outputs": [
    {
     "data": {
      "application/vnd.jupyter.widget-view+json": {
       "model_id": "76851deed2d5465b98077d0805fd2723",
       "version_major": 2,
       "version_minor": 0
      },
      "text/plain": [
       "HBox(children=(FloatProgress(value=0.0, max=56737.0), HTML(value='')))"
      ]
     },
     "metadata": {},
     "output_type": "display_data"
    },
    {
     "name": "stdout",
     "output_type": "stream",
     "text": [
      "\n"
     ]
    },
    {
     "name": "stderr",
     "output_type": "stream",
     "text": [
      "/tmp/ipykernel_23522/598414479.py:18: DeprecationWarning: Using positional arguments for APIs is deprecated and will be disabled in 8.0.0. Instead use only keyword arguments for all APIs. See https://github.com/elastic/elasticsearch-py/issues/1698 for more information\n",
      "  if es.indices.exists(INDEX_NAME):\n",
      "/opt/conda/lib/python3.8/site-packages/elasticsearch/connection/base.py:209: ElasticsearchWarning: Elasticsearch built-in security features are not enabled. Without authentication, your cluster could be accessible to anyone. See https://www.elastic.co/guide/en/elasticsearch/reference/7.15/security-minimal-setup.html to enable security.\n",
      "  warnings.warn(message, category=ElasticsearchWarning)\n",
      "/tmp/ipykernel_23522/598414479.py:20: DeprecationWarning: The 'body' parameter is deprecated for the 'create' API and will be removed in a future version. Instead use API parameters directly. See https://github.com/elastic/elasticsearch-py/issues/1698 for more information\n",
      "  es.indices.create(index=INDEX_NAME, body=INDEX_SETTINGS)\n"
     ]
    },
    {
     "data": {
      "application/vnd.jupyter.widget-view+json": {
       "model_id": "aecb7d8e37eb49e39c931729b4b91374",
       "version_major": 2,
       "version_minor": 0
      },
      "text/plain": [
       "HBox(children=(FloatProgress(value=0.0, description='ES training..!', max=56737.0, style=ProgressStyle(descrip…"
      ]
     },
     "metadata": {},
     "output_type": "display_data"
    },
    {
     "name": "stderr",
     "output_type": "stream",
     "text": [
      "/tmp/ipykernel_23522/598414479.py:23: DeprecationWarning: The 'body' parameter is deprecated for the 'index' API and will be removed in a future version. Instead use the 'document' parameter. See https://github.com/elastic/elasticsearch-py/issues/1698 for more information\n",
      "  es.index(index=INDEX_NAME,  id=doc_id, body=doc)\n"
     ]
    },
    {
     "name": "stdout",
     "output_type": "stream",
     "text": [
      "\n"
     ]
    }
   ],
   "source": [
    "# Elastic Search index training\n",
    "INDEX_NAME = \"wiki_index\"\n",
    "\n",
    "INDEX_SETTINGS = {\"settings\" : {\"index\":{\"analysis\":{\"analyzer\":{\"korean\":{\"type\":\"custom\",\n",
    "                                        \"tokenizer\":\"nori_tokenizer\",\"filter\": [ \"shingle\" ],}}}}},\n",
    "\"mappings\": {\"properties\" : {\"context\" : {\"type\" : \"text\",\"analyzer\": \"korean\",\"search_analyzer\": \"korean\"},}}}\n",
    "\n",
    "DOCS = {}\n",
    "for i in tqdm(range(len(contexts))):\n",
    "    DOCS[i] = {'context': contexts[i]}\n",
    "    \n",
    "try:\n",
    "    es.transport.close()\n",
    "except:\n",
    "    pass\n",
    "\n",
    "es = Elasticsearch(timeout=30, max_retries=10, retry_in_timeout=True) \n",
    "\n",
    "if es.indices.exists(INDEX_NAME):\n",
    "    es.indices.delete(index=INDEX_NAME)\n",
    "es.indices.create(index=INDEX_NAME, body=INDEX_SETTINGS)\n",
    "\n",
    "for doc_id, doc in tqdm(DOCS.items(), desc=\"ES training..!\"):\n",
    "    es.index(index=INDEX_NAME,  id=doc_id, body=doc)"
   ]
  },
  {
   "cell_type": "code",
   "execution_count": null,
   "metadata": {},
   "outputs": [],
   "source": [
    "## 원래 golden_retriever 내 함수\n",
    "def get_relevent_elasticsearch(query, k=10):\n",
    "    mod_query = preprocess_retrieval(query)\n",
    "    try:\n",
    "        res = es.search(index=\"wiki_index\", q=mod_query, size=k)\n",
    "    except:\n",
    "        mod_q = mod_query.replace(\"%\", \" \").replace(\"-\", \" \"))\n",
    "        res = es.search(index=\"wiki_index\", q=mod_q, size=k)\n",
    "    \n",
    "    doc_scores = [float(res['hits']['hits'][idx]['_score']) for idx in range(k)]\n",
    "    doc_indices = [int(res['hits']['hits'][idx]['_id']) for idx in range(k)]\n",
    "    return doc_scores, doc_indices"
   ]
  },
  {
   "cell_type": "code",
   "execution_count": null,
   "metadata": {},
   "outputs": [
    {
     "name": "stderr",
     "output_type": "stream",
     "text": [
      "/tmp/ipykernel_23522/1910961920.py:3: DeprecationWarning: Using positional arguments for APIs is deprecated and will be disabled in 8.0.0. Instead use only keyword arguments for all APIs. See https://github.com/elastic/elasticsearch-py/issues/1698 for more information\n",
      "  es.indices.exists(INDEX_NAME)\n"
     ]
    },
    {
     "data": {
      "text/plain": [
       "True"
      ]
     },
     "metadata": {},
     "output_type": "display_data"
    }
   ],
   "source": [
    "## wiki_index 있는지 확인!\n",
    "es = Elasticsearch('localhost:9200')\n",
    "INDEX_NAME = \"wiki_index\"\n",
    "es.indices.exists(INDEX_NAME)"
   ]
  },
  {
   "cell_type": "code",
   "execution_count": null,
   "metadata": {},
   "outputs": [
    {
     "data": {
      "application/vnd.jupyter.widget-view+json": {
       "model_id": "2cb7837802734f8bb9e20004801f0eb4",
       "version_major": 2,
       "version_minor": 0
      },
      "text/plain": [
       "HBox(children=(FloatProgress(value=0.0, description='preparing documents', max=56737.0, style=ProgressStyle(de…"
      ]
     },
     "metadata": {},
     "output_type": "display_data"
    },
    {
     "name": "stdout",
     "output_type": "stream",
     "text": [
      "\n"
     ]
    }
   ],
   "source": [
    "# 원 방법이랑 똑같은 context 내에서 index 생성\n",
    "DOCS = {}\n",
    "for i in tqdm(range(len(org_contexts)), desc=\"preparing documents\"):\n",
    "    DOCS[i] = {'context': org_contexts[i]}\n",
    "\n",
    "df_wiki = pd.DataFrame.from_dict(DOCS, orient='index')\n",
    "df_wiki[\"preprocessed_text\"] = [preprocess_retrieval(corpus) for corpus in df_wiki[\"context\"]]\n",
    "wiki_dataset = Dataset.from_pandas(df_wiki)  # Convert dict into Dataset\n",
    "# wiki_dataset.add_elasticsearch_index(\"preprocessed_text\", es_index_name=\"wiki_index1\", es_index_config=INDEX_SETTINGS)\n",
    "\n",
    "# port에 이미 생성된 elastic search index 가 있을 경우 -> 그를 Dataset에 add\n",
    "wiki_dataset.add_elasticsearch_index(\"preprocessed_text\", host=\"localhost\", port=\"9200\")"
   ]
  },
  {
   "cell_type": "code",
   "execution_count": null,
   "metadata": {},
   "outputs": [],
   "source": [
    "## Dataset Index Test\n",
    "idx = 100\n",
    "print(train[\"question\"][idx])\n",
    "print(train[\"context\"][idx])\n",
    "query = train[\"question\"][idx]\n",
    "scores, retrieved_examples = train.get_nearest_examples(\"context\", query, k=10)\n",
    "retrieved_examples[\"context\"]"
   ]
  },
  {
   "cell_type": "markdown",
   "metadata": {},
   "source": [
    "##! Dataset Index로 뽑힌 passage와 gen_relevent elastic search로 탐색된 passage 비교   \n",
    "    -> 다름! 왜?  \n",
    "    둘 다 아예 말이 안 되는 건 아닌데..! ; 실제 코드에서 돌려봤을 때 topk 성능도 원래와 비슷"
   ]
  },
  {
   "cell_type": "code",
   "execution_count": null,
   "metadata": {},
   "outputs": [
    {
     "name": "stdout",
     "output_type": "stream",
     "text": [
      "백장 한국 최후의 칸은 누구인가? 토크타미시 칸\n",
      "토크타미시 칸(? ~ 1406년)은 백장 한국의 마지막 칸이었다. 그는 백장 한국과 청장 한국을 통합하여 킵차크 한국을 하나의 나라로 만들었다. 그는 징기스칸의 손자 오르다 칸의 후손이다.\n",
      "\n",
      "토크타미시는 1376년 역사에 등장한다. 그는 백장 한국의 지배자였던 그의 삼촌 우루스를 전복하려고 하였다. 그리고 티무르 황제에게로 달아났다. 1378년 토크타미시는 우루스 사후에도 생존하였고 티무르의 지원으로 백장한국의 제위에 올랐다.\n",
      "\n",
      "토크타미시는 그의 조상처럼 하기를 꿈꾸었다. 그리고 주치 울루스를 재통일하는 계획을 세웠다. 1380년 그는 청장 한국을 침입하였다. 청장 한국의 군주 마마이는 쿨리코보 전투 직후에 피살되었다.\n",
      "\n",
      "청장 한국과 백장 한국을 킵차크 한국에 통합한 후에 그는 1382년 모스크바 원정을 성공적으로 이끌었다. 6년 만에 그는 크리미아에서 발하슈 호까지의 킵차크 칸국을 재통일하였다.\n",
      "\n",
      "1395년에 티무르가 킵차크 한국을 공격하였고 그를 테레크에서 격파하였다. 티무르는 수도 사라이 베르케를 약탈하였고 킵차크 한국을 속국으로 만들었으며 꼭두각시 군주를 왕좌에 세웠다.\n",
      "[6.9865046, 6.867181, 6.826168] [10278, 31520, 39666]\n",
      "고시 통화는 다음과 같다 괄호 안에 표시된 숫자는 환전이 가능한 화폐 단위를 의미한다 * 아시아 ** 홍콩 달러 모든 지폐 및 동전 ** 일본 엔 모든 지폐 및 동전 ** 중국 위안 1 2 5 10 20 50 100 ** 태국 밧 20 50 100 500 1 000 ** 싱가포르 달러 2 5 10 20 50 100 1 000 10 000 ** 베트남 동 2 000 5 000 10 000 20 000 50 000 100 000 200 000 500 000 ** 이름 타이완 신 타이완 달러 100 200 500 1 000 2 000 ** 인도네시아 루피아 100 500 1 000 2 000 5 000 10 000 20 000 50 000 100 000 ** 인도 루피 1 2 5 10 20 50 100 500 1 000 ** 파키스탄 루피 5 10 20 50 100 500 1 000 5 000 ** 필리핀 페소 5 10 20 50 100 200 500 1 000 2 000 ** 말레이시아 링깃 1 2 5 10 50 100 ** 브루나이 달러 1 5 10 20 25 50 100 500 1 000 10 000 ** 방글라데시 타카 1 2 5 10 20 50 100 200 500 ** 몽골 투그릭 500 1 000 5 000 10 000 20 000 * 오세아니아 ** 오스트레일리아 달러 모든 지폐 및 동전 ** 뉴질랜드 달러 5 10 20 50 100 * 북아메리카와 남아메리카 ** 미국 달러 모든 지폐 및 동전 ** 캐나다 달러 모든 지폐 및 동전 ** 멕시코 페소 20 50 100 200 500 1 000 ** 브라질 헤알 1 2 5 10 20 50 100 ** 칠레 페소 1 000 2 000 5 000 10 000 20 000 * 유럽 ** 유럽 연합 유로 모든 지폐 및 동전 ** 영국 파운드 모든 지폐 및 동전 ** 스위스 프랑 모든 지폐 및 동전 ** 스웨덴 크로나 20 50 100 500 1 000 ** 노르웨이 크로네 50 100 200 500 1 000 ** 덴마크 크로네 50 100 200 500 1 000 ** 폴란드 즈워티 10 20 50 100 200 ** 헝가리 포린트 200 500 1 000 2 000 5 000 10 000 20 000 ** 러시아 루블 5 10 50 100 500 1 000 5 000 ** 체코 코루나 100 500 1 000 5 000 ** 카자흐스탄 텡게 200 500 1 000 2 000 5 000 10 000 ** 터키 리라 5 10 20 50 100 200 * 중동/아프리카 ** 이집트 파운드 0 25 0 5 1 5 10 20 50 100 200 ** 이스라엘 셰켈 1 5 10 20 50 100 200 ** 남아프리카 공화국 랜드 10 20 50 100 200 ** 쿠웨이트 디나르 1/4 1/2 1 5 10 20 ** 사우디아라비아 리얄 1 5 10 50 100 200 500 ** 아랍에미리트 디르함 5 10 20 50 100 200 500 ** 요르단 디나르 1/2 1 5 10 20 50 ** 바레인 디나르 1/2 5 10 20 ** 오만 리알 100 Baisa 200 Baisa 1/2 1 5 10 20 50 ** 카타르 리얄 1 5 10 50 100 다른 외국환은행과는 달리 비고시 통화 네덜란드 휠던을 제외한 통합 이전 지폐들을 포함한 58개국 지폐 를 추심한다 동전은 추심하지 않으며 국내에서 5% 해외에서 5% 추가해서 총 10%의 추심 수수료를 제외하고 3주 후에 원화로 찾을 수 있다\n",
      "}} 2000년 시드니 50m 자유형 2000년 시드니 100m 자유형 2000년 시드니 400m 자유형 계주 2007년 멜버른 50m 접영 2011년 상하이 50m 자유형 2001년 후쿠오카 50m 자유형 2001년 후쿠오카 50m 접영 2007년 멜버른 50m 자유형 2009년 로마 50m 자유형 2011년 상하이 50m 접영 2005년 몬트리올 50m 접영 2000년 아테네 50m 자유형 2000년 아테네 100m 자유형 2000년 아테네 400m 자유형 계주 2000년 아테네 400m 혼계영 2002년 모스크바 50m 자유형 2002년 모스크바 100m 자유형 2002년 모스크바 400m 자유형 계주 2002년 모스크바 400m 혼계영 2006년 상하이 50m 접영 2010년 두바이 50m 접영 2004년 인디애나폴리스 400m 자유형 계주 2006년 상하이 50m 자유형 2010년 두바이 100m 접영 1997년 예테보리 400m 자유형 계주 1999년 홍콩 400m 혼계영 2004년 인디애나폴리스 50m 자유형 2006년 상하이 400m 자유형 계주 말린 테레세 알스함마르 Malin Therese Alshammar 1977년 8월 26일 ~ 은 스웨덴의 여자 수영 선수이다 올림픽 메달 3개 세계 선수권 메달 25개 유럽 선수권 메달 43개를 획득하였으며 자유형과 접영이 주종목이다\n",
      "}} 1996 애틀란타 50km 경보 2000 시드니 20km 경보 2000 시드니 50km 경보 2004 아테네 50km 경보 1995 예테보리 50km 경보 1997 아테네 50km 경보 2001 에드먼턴 50km 경보 2003 파리 50km 경보 1991 셰필드 50km 경보 1993 버팔로 50km 경보 로베르트 마레크 코제니오프스키 Robert Marek Korzeniowski 1968년 7월 30일 ~ 는 폴란드의 전직 육상 선수이다 그는 하계 올림픽에서 4개의 금메달을 획득했고 세계 선수권 대회에서 3개의 금메달을 획득했다 코제니오프스키는 하계 올림픽 50km 경보에서 3연패했다 그는 올림픽에서 3번 우승했다\n"
     ]
    }
   ],
   "source": [
    "idx = 0\n",
    "print(train[\"question\"][idx], train[\"answers\"][idx])\n",
    "print(train[\"context\"][idx])\n",
    "\n",
    "query = preprocess_retrieval(train[\"question\"][idx])\n",
    "\n",
    "scores, indices = wiki_dataset.search(\"preprocessed_text\", query, k=3)\n",
    "print(scores, indices)\n",
    "print(retrieved_examples[\"text\"])\n",
    "print(\"\\n\".join([wiki_dataset[\"preprocessed_text\"][idx] for idx in indices[:]]))\n",
    "\n",
    "doc_scores, doc_indices = get_relevent_elasticsearch(query, k=3)\n",
    "print(doc_scores, doc_indices)\n",
    "print(\"\\n\".join([preprocess_retrieval(org_contexts[idx]) for idx in doc_indices[:]]))"
   ]
  }
 ],
 "metadata": {
  "language_info": {
   "name": "python"
  },
  "orig_nbformat": 4
 },
 "nbformat": 4,
 "nbformat_minor": 2
}
