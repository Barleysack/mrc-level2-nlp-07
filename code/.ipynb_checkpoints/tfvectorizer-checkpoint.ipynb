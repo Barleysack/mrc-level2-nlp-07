{
 "cells": [
  {
   "cell_type": "code",
   "execution_count": 3,
   "id": "6559db19-fcf7-44ea-ac01-a0e4031a2fa8",
   "metadata": {},
   "outputs": [],
   "source": [
    "from transformers import AutoTokenizer\n",
    "import os\n",
    "import json\n",
    "import pickle\n",
    "import numpy as np\n",
    "import pandas as pd\n",
    "\n",
    "from tqdm.auto import tqdm\n",
    "\n",
    "from sklearn.feature_extraction.text import TfidfVectorizer\n",
    "\n",
    "from datasets import (\n",
    "    Dataset,\n",
    "    load_from_disk,\n",
    "    concatenate_datasets,\n",
    ")\n",
    "\n",
    "from preprocess import preprocess_retrieval"
   ]
  },
  {
   "cell_type": "code",
   "execution_count": 1,
   "id": "36b829df-7208-4247-abe4-3c5d81f85529",
   "metadata": {},
   "outputs": [],
   "source": [
    "model_name = \"xlm-roberta-large\"\n",
    "tokenizer = AutoTokenizer.from_pretrained(model_name)"
   ]
  },
  {
   "cell_type": "code",
   "execution_count": 4,
   "id": "38318825-c34d-434a-902d-57ba30843a72",
   "metadata": {},
   "outputs": [],
   "source": [
    "with open(\"../data/wikipedia_documents.json\", \"r\", encoding=\"utf-8\") as f:\n",
    "    wiki = json.load(f)\n",
    "\n",
    "contexts = list(dict.fromkeys([v[\"text\"] for v in wiki.values()]))"
   ]
  },
  {
   "cell_type": "code",
   "execution_count": 5,
   "id": "4a982849-6ced-417f-add2-32e2498f50f2",
   "metadata": {},
   "outputs": [
    {
     "data": {
      "text/plain": [
       "'이 문서는 나라 목록이며, 전 세계 206개 나라의 각 현황과 주권 승인 정보를 개요 형태로 나열하고 있다.\\n\\n이 목록은 명료화를 위해 두 부분으로 나뉘어 있다.\\n\\n# 첫 번째 부분은 바티칸 시국과 팔레스타인을 포함하여 유엔 등 국제 기구에 가입되어 국제적인 승인을 널리 받았다고 여기는 195개 나라를 나열하고 있다.\\n# 두 번째 부분은 일부 지역의 주권을 사실상 (데 팍토) 행사하고 있지만, 아직 국제적인 승인을 널리 받지 않았다고 여기는 11개 나라를 나열하고 있다.\\n\\n두 목록은 모두 가나다 순이다.\\n\\n일부 국가의 경우 국가로서의 자격에 논쟁의 여부가 있으며, 이 때문에 이러한 목록을 엮는 것은 매우 어렵고 논란이 생길 수 있는 과정이다. 이 목록을 구성하고 있는 국가를 선정하는 기준에 대한 정보는 \"포함 기준\" 단락을 통해 설명하였다. 나라에 대한 일반적인 정보는 \"국가\" 문서에서 설명하고 있다.'"
      ]
     },
     "execution_count": 5,
     "metadata": {},
     "output_type": "execute_result"
    }
   ],
   "source": [
    "contexts[0]"
   ]
  },
  {
   "cell_type": "code",
   "execution_count": 19,
   "id": "55fdbbbd-ce72-4f47-99ed-8b7db5fbf03f",
   "metadata": {},
   "outputs": [],
   "source": [
    "from collections import Counter"
   ]
  },
  {
   "cell_type": "code",
   "execution_count": 20,
   "id": "c1aa5448-e19b-45c5-9128-a0fc2ae59875",
   "metadata": {},
   "outputs": [
    {
     "name": "stdout",
     "output_type": "stream",
     "text": [
      "나는 <unk> <unk> <unk> 이다.\n",
      "[37231, 6, 3, 6, 3, 6, 3, 6, 5769, 5]\n",
      "['▁나는', '▁', '뷀뷁', '▁', '뙇', '▁', '뛓', '▁', '이다', '.']\n",
      "10 10\n"
     ]
    }
   ],
   "source": [
    "txt = \"나는 뷀뷁 뙇 뛓 이다.\"\n",
    "encoded = tokenizer(txt)['input_ids'][1:-1]\n",
    "tokenized = tokenizer.tokenize(txt)\n",
    "print(tokenizer.decode(encoded))\n",
    "print(encoded)\n",
    "print(tokenized)\n",
    "print(len(encoded), len(tokenized))"
   ]
  },
  {
   "cell_type": "markdown",
   "id": "69487217-e738-4965-a35d-cbd4827def3c",
   "metadata": {},
   "source": [
    "띄어쓰기(_) : 6, UNK : 3 & UNK에 대해서 tokenize는 되지만 encoding은 안되는 듯"
   ]
  },
  {
   "cell_type": "code",
   "execution_count": 22,
   "id": "d270a5e7-2675-4469-ac1d-30bb327ae07b",
   "metadata": {},
   "outputs": [
    {
     "data": {
      "application/vnd.jupyter.widget-view+json": {
       "model_id": "3592d254240c45a09569f1bfc25bd1f9",
       "version_major": 2,
       "version_minor": 0
      },
      "text/plain": [
       "HBox(children=(FloatProgress(value=0.0, max=56737.0), HTML(value='')))"
      ]
     },
     "metadata": {},
     "output_type": "display_data"
    },
    {
     "name": "stderr",
     "output_type": "stream",
     "text": [
      "Token indices sequence length is longer than the specified maximum sequence length for this model (1194 > 512). Running this sequence through the model will result in indexing errors\n"
     ]
    },
    {
     "name": "stdout",
     "output_type": "stream",
     "text": [
      "\n"
     ]
    },
    {
     "data": {
      "text/plain": [
       "54387"
      ]
     },
     "execution_count": 22,
     "metadata": {},
     "output_type": "execute_result"
    }
   ],
   "source": [
    "preprocessed = []\n",
    "tokens = []\n",
    "\n",
    "for context in tqdm(contexts):\n",
    "    preprocessed.append(preprocess_retrieval(context))\n",
    "    \n",
    "for context in tqdm(preprocessed):\n",
    "    tokens.extend(tokenizer(context)['input_ids'][1:-1])\n",
    "    \n",
    "counter = Counter(tokens)\n",
    "len(counter)"
   ]
  },
  {
   "cell_type": "code",
   "execution_count": 23,
   "id": "ee22befb-7ca7-4d0d-8995-01187f3fec91",
   "metadata": {},
   "outputs": [
    {
     "data": {
      "text/plain": [
       "collections.Counter"
      ]
     },
     "execution_count": 23,
     "metadata": {},
     "output_type": "execute_result"
    }
   ],
   "source": [
    "type(counter)"
   ]
  },
  {
   "cell_type": "code",
   "execution_count": 40,
   "id": "ea33f82a-8c9c-4685-909d-d2a2b48f385a",
   "metadata": {},
   "outputs": [
    {
     "data": {
      "text/plain": [
       "[(6, 899284),\n",
       " (5, 592248),\n",
       " (4, 443375),\n",
       " (367, 414961),\n",
       " (480, 284455),\n",
       " (413, 282849),\n",
       " (469, 224792),\n",
       " (16, 221887),\n",
       " (132, 219792),\n",
       " (697, 196470),\n",
       " (769, 182561),\n",
       " (2680, 177012),\n",
       " (688, 175797),\n",
       " (1083, 162484),\n",
       " (713, 160175),\n",
       " (1180, 138660),\n",
       " (1654, 115533)]"
      ]
     },
     "execution_count": 40,
     "metadata": {},
     "output_type": "execute_result"
    }
   ],
   "source": [
    "counter.most_common(17)"
   ]
  },
  {
   "cell_type": "code",
   "execution_count": 46,
   "id": "c355eb93-bc60-4a03-a383-ae9687d2511b",
   "metadata": {},
   "outputs": [
    {
     "name": "stdout",
     "output_type": "stream",
     "text": [
      "['', '.', ',', '의', '에', '을', '이', ')', '(', '은', '는', '년', '를', '로', '가', '에서', '으로', '한', '이', '고', '과', '인', '와', '도', '월', '리', '지', '일', '사', '스', '수', '기', '다', '있다', '어', '시', '했다', '르', '자', '하였다', '하는', '라', '그', '해', '하고', '전', '부', '이다', '하여', '군']\n"
     ]
    }
   ],
   "source": [
    "common = [tokenizer.decode(idx) for idx, _ in counter.most_common(50)]\n",
    "print(common)"
   ]
  },
  {
   "cell_type": "code",
   "execution_count": 31,
   "id": "918aa2d1-7179-4559-aa15-4c9b94615ca4",
   "metadata": {},
   "outputs": [
    {
     "data": {
      "text/plain": [
       "24359584"
      ]
     },
     "execution_count": 31,
     "metadata": {},
     "output_type": "execute_result"
    }
   ],
   "source": [
    "len(tokens)"
   ]
  },
  {
   "cell_type": "code",
   "execution_count": 49,
   "id": "68eb74ae-b7de-4cd4-8949-6b492009f810",
   "metadata": {},
   "outputs": [],
   "source": [
    "import re\n",
    "\n",
    "def preprocess_retrieval(corpus):\n",
    "    corpus = corpus.replace(f\"\\n\", \"\")\n",
    "    corpus = re.sub(f\"[\\\"<>\\[\\].,?!\\(\\)\\:#\\|'\\=-]\", \" \", corpus)\n",
    "    corpus = ' '.join(corpus.split())\n",
    "    return corpus"
   ]
  },
  {
   "cell_type": "code",
   "execution_count": 50,
   "id": "1679f231-7d29-41e5-804b-be873e4d3ffe",
   "metadata": {},
   "outputs": [
    {
     "data": {
      "text/plain": [
       "'이 문서는 나라 목록이며 전 세계 206개 나라의 각 현황과 주권 승인 정보를 개요 형태로 나열하고 있다 이 목록은 명료화를 위해 두 부분으로 나뉘어 있다 첫 번째 부분은 바티칸 시국과 팔레스타인을 포함하여 유엔 등 국제 기구에 가입되어 국제적인 승인을 널리 받았다고 여기는 195개 나라를 나열하고 있다 두 번째 부분은 일부 지역의 주권을 사실상 데 팍토 행사하고 있지만 아직 국제적인 승인을 널리 받지 않았다고 여기는 11개 나라를 나열하고 있다 두 목록은 모두 가나다 순이다 일부 국가의 경우 국가로서의 자격에 논쟁의 여부가 있으며 이 때문에 이러한 목록을 엮는 것은 매우 어렵고 논란이 생길 수 있는 과정이다 이 목록을 구성하고 있는 국가를 선정하는 기준에 대한 정보는 포함 기준 단락을 통해 설명하였다 나라에 대한 일반적인 정보는 국가 문서에서 설명하고 있다'"
      ]
     },
     "execution_count": 50,
     "metadata": {},
     "output_type": "execute_result"
    }
   ],
   "source": [
    "preprocess_retrieval(contexts[0])"
   ]
  },
  {
   "cell_type": "code",
   "execution_count": null,
   "id": "13f58880-2a39-4cd1-9bf5-ba884fdb839c",
   "metadata": {},
   "outputs": [],
   "source": []
  }
 ],
 "metadata": {
  "kernelspec": {
   "display_name": "Python 3 (ipykernel)",
   "language": "python",
   "name": "python3"
  },
  "language_info": {
   "codemirror_mode": {
    "name": "ipython",
    "version": 3
   },
   "file_extension": ".py",
   "mimetype": "text/x-python",
   "name": "python",
   "nbconvert_exporter": "python",
   "pygments_lexer": "ipython3",
   "version": "3.8.5"
  }
 },
 "nbformat": 4,
 "nbformat_minor": 5
}
