{
 "cells": [
  {
   "cell_type": "code",
   "execution_count": 2,
   "id": "28bc0834-2bf4-4a9b-8270-65f754b8d6d2",
   "metadata": {},
   "outputs": [],
   "source": [
    "from datasets import load_from_disk\n",
    "import pandas as pd"
   ]
  },
  {
   "cell_type": "markdown",
   "id": "e7353b0e-fc35-4854-a298-3b65393aeec8",
   "metadata": {},
   "source": [
    "### Explore TrainDataset"
   ]
  },
  {
   "cell_type": "code",
   "execution_count": 3,
   "id": "44c23f9e-2a68-41c5-b8cc-51027697ad5e",
   "metadata": {},
   "outputs": [
    {
     "data": {
      "text/plain": [
       "DatasetDict({\n",
       "    train: Dataset({\n",
       "        features: ['__index_level_0__', 'answers', 'context', 'document_id', 'id', 'question', 'title'],\n",
       "        num_rows: 3952\n",
       "    })\n",
       "    validation: Dataset({\n",
       "        features: ['__index_level_0__', 'answers', 'context', 'document_id', 'id', 'question', 'title'],\n",
       "        num_rows: 240\n",
       "    })\n",
       "})"
      ]
     },
     "execution_count": 3,
     "metadata": {},
     "output_type": "execute_result"
    }
   ],
   "source": [
    "dataset = load_from_disk(\"../data/train_dataset/\")\n",
    "dataset"
   ]
  },
  {
   "cell_type": "code",
   "execution_count": 4,
   "id": "e4b60a38-afcb-4cb2-b267-b54f612aa90e",
   "metadata": {},
   "outputs": [
    {
     "data": {
      "text/plain": [
       "Dataset({\n",
       "    features: ['__index_level_0__', 'answers', 'context', 'document_id', 'id', 'question', 'title'],\n",
       "    num_rows: 3952\n",
       "})"
      ]
     },
     "execution_count": 4,
     "metadata": {},
     "output_type": "execute_result"
    }
   ],
   "source": [
    "dataset['train']"
   ]
  },
  {
   "cell_type": "code",
   "execution_count": 31,
   "id": "baf53cb0-bdd4-408d-992f-459253123465",
   "metadata": {},
   "outputs": [],
   "source": [
    "def read_dataset(dataset, idx, mode):\n",
    "    IDX = idx\n",
    "    features = dataset[mode].features\n",
    "    for feature in features:\n",
    "        print(\"*\"*50, feature, \"*\"*50)\n",
    "        print(dataset[mode][IDX][feature])"
   ]
  },
  {
   "cell_type": "code",
   "execution_count": 32,
   "id": "832135ec-ff02-4d1f-9e14-a6a41121717d",
   "metadata": {},
   "outputs": [
    {
     "name": "stdout",
     "output_type": "stream",
     "text": [
      "************************************************** __index_level_0__ **************************************************\n",
      "1081\n",
      "************************************************** answers **************************************************\n",
      "{'answer_start': [947], 'text': ['대통령 박정희']}\n",
      "************************************************** context **************************************************\n",
      "그의 죽음으로 좌우합작위원회는 구심점을 잃게 된다. 제2차 미소공위는 추진하던 중 이후 중재자가 없어지자 극좌,극우 양극단 세력의 갈등이 표출하였고, 끝내 미국-소련의 입장만 확인한 채 1947년 10월에 제2차 미소공위는 완전히 결렬되어 미국이 한반도 문제를 UN으로 이관함으로써 좌우합작위원회는 1947년 12월에 공식 해체된다. 결국, '통일임시정부' 수립을 위한 좌우합작운동은 좌절되어 실패로 끝났고 한반도는 '남한 내 단독정부 수립'안이 확정되기에 이르렀다.\\n\\n1947년 7월 19일 여운형이 피습,절명하여 암살되었을 당시 갑작스런 그의 죽음은 많은 사람들에게 커다란 충격을 주었다. 1947년 8월 3일 광화문 인민당사 앞에서 발인식이 거행되었다. 그의 영결식은 인민장으로 치러졌다. \\n\\n영결식에 약 60여만명의 수많은 추모인파가 몰렸다고 한다. 이는 광복 이후 최다 인파가 모인 것인데, 민중들이 슬픔에 동참하기 위해 자발적으로 흰 옷을 입어서 서울시내가 하얗게 뒤덮였다고 한다. 영구는 결식장인 서울운동장(동대문운동장)으로 향해 서서히 갔고, 장례 행렬은 11시 40분에 서울운동장에 도착하여 영결식이 치러졌다. 서울 운동장에서 베를린 올림픽 마라톤 금메달리스트 손기정과 역도선수 김성집 등 체육인들이 그의 관을 운구하였다. \\n\\n그의 시신은 포르말린으로 방부처리되어 쇠로 만들어진 관에 안치되었다. 통일이 되는 날에 다시 장사를 지내기 위함이었다. 그가 죽자 미 군정장관 하지가 육각수은관을 미국에서 특별 주문해 가져왔다고 한다.\\n\\n 여운형의 묘소는 서울시 강북구 우이동에 안치되었으며 강북구 수유동에서 멀지 않은 솔밭공원 근처에 있다. 한 때 1961년 5.16 군사정변 직후 우이동 묘소 땅이 채윤혁 개인에게 불하받게 되어 여운형 시신이 오갈 데 없는 딱한 처지에 놓인 적이 있었다. 당시 국회의원이던 여운형의 동생 여운홍이 법적으로 어떻게 해볼 길이 없으니 대통령 박정희한테 직접 문제를 해결해달라고 부탁했다. 이에 대해 박정희는 \"그 분 사상이 어떤지는 모르겠지만 독립운동을 했다는 것 자체만으로도 높이 평가할 만 하다.\"면서 좋게 해결해주었다고 한다. 그리고, 1965년 7월 19일에 공식적인 추모식이 열렸다\\n1990년 조선민주주의인민공화국으로부터 조국통일상이 추서되었다.\\n\\n2007년 항일독립운동가단체 협의회로부터 신간회창립80주년을 기념하는 민족공동체 상이 추서되었다. 양평군에서는 생가 복원사업을 진행하고 있다.\\n\\n2005년 서울특별시 종로구 계동에 여운형집 터 표석이 설치되었다.\n",
      "************************************************** document_id **************************************************\n",
      "5609\n",
      "************************************************** id **************************************************\n",
      "mrc-0-001657\n",
      "************************************************** question **************************************************\n",
      "여운홍이 도움을 청한 사람은?\n",
      "************************************************** title **************************************************\n",
      "여운형\n"
     ]
    }
   ],
   "source": [
    "read_dataset(dataset, 100, \"train\")"
   ]
  },
  {
   "cell_type": "code",
   "execution_count": 33,
   "id": "b33d9de5-004e-4647-834d-3133b8f6b81c",
   "metadata": {},
   "outputs": [
    {
     "name": "stdout",
     "output_type": "stream",
     "text": [
      "************************************************** __index_level_0__ **************************************************\n",
      "240\n",
      "************************************************** answers **************************************************\n",
      "{'answer_start': [191], 'text': ['수녀']}\n",
      "************************************************** context **************************************************\n",
      "캐서린 스윈포드는 원래 캐서린 드 로애로 태어났다. 그녀의 아버지는 \"파옹\"으로 알려진 질 드 로애였다. 파옹 드 로애는 원래 에노 출신으로 에드워드3세의 왕비 필리파의 수행원으로 잉글랜드에 왔으며, 후에 기사 작위와 영지를 얻는다. 어머니에 대해서는 알려진바가 없다. 형제로는 오빠이자 후에 흑태자 에드워드의 측근으로 일한 월터 드 로애와 수녀가 된 언니 엘리자베스 드 로애와 \"캔터베리 이야기\"로 유명한 초서의 부인이 된 동생 필리파 드 로애가 있다.\\n캐서린은 휴 스윈포드경과 결혼했고 그와의 사이에 적어도 네명의 아이를 낳았다.\\n랭카스터 공작 부인이었던 랭카스터의 블랜치가 죽은 3년후 그의 정부가 되었고 오래도록 랭카스터 공작의 정부로 남았다.\\n랭카스터 공작 곤트의 존의 두 번째 부인이 죽자, 그는 정식으로 캐서린과 결혼했다. 랭카스터 공작부인이 된 후 왕국에서 서열 2위의 여성으로 중요한 행사에서 중요한 임무를 수행했으며, 의붓아들인 볼링블룩의 헨리가 헨리 4세로 즉위한후 그녀는 국왕의 어머니로 대접받았다.\n",
      "************************************************** document_id **************************************************\n",
      "27095\n",
      "************************************************** id **************************************************\n",
      "mrc-0-000355\n",
      "************************************************** question **************************************************\n",
      "캐서린 스윈포드의 언니의 직업은?\n",
      "************************************************** title **************************************************\n",
      "캐서린 스윈포드\n"
     ]
    }
   ],
   "source": [
    "read_dataset(dataset, 100, \"validation\")"
   ]
  },
  {
   "cell_type": "code",
   "execution_count": null,
   "id": "19ba6f31-e90c-4ff4-bcfb-62e20af5a747",
   "metadata": {},
   "outputs": [],
   "source": [
    "from matplotlib import pyplot as plt\n",
    "import seaborn as sns"
   ]
  },
  {
   "cell_type": "code",
   "execution_count": 38,
   "id": "8fd6d368-5a7b-4238-88b2-07422b979589",
   "metadata": {},
   "outputs": [
    {
     "data": {
      "text/html": [
       "<div>\n",
       "<style scoped>\n",
       "    .dataframe tbody tr th:only-of-type {\n",
       "        vertical-align: middle;\n",
       "    }\n",
       "\n",
       "    .dataframe tbody tr th {\n",
       "        vertical-align: top;\n",
       "    }\n",
       "\n",
       "    .dataframe thead th {\n",
       "        text-align: right;\n",
       "    }\n",
       "</style>\n",
       "<table border=\"1\" class=\"dataframe\">\n",
       "  <thead>\n",
       "    <tr style=\"text-align: right;\">\n",
       "      <th></th>\n",
       "      <th>0</th>\n",
       "      <th>1</th>\n",
       "      <th>2</th>\n",
       "      <th>3</th>\n",
       "      <th>4</th>\n",
       "      <th>5</th>\n",
       "      <th>6</th>\n",
       "      <th>7</th>\n",
       "      <th>8</th>\n",
       "      <th>9</th>\n",
       "      <th>...</th>\n",
       "      <th>3942</th>\n",
       "      <th>3943</th>\n",
       "      <th>3944</th>\n",
       "      <th>3945</th>\n",
       "      <th>3946</th>\n",
       "      <th>3947</th>\n",
       "      <th>3948</th>\n",
       "      <th>3949</th>\n",
       "      <th>3950</th>\n",
       "      <th>3951</th>\n",
       "    </tr>\n",
       "  </thead>\n",
       "  <tbody>\n",
       "    <tr>\n",
       "      <th>0</th>\n",
       "      <td>{'title': '미국 상원', 'context': '미국 상의원 또는 미국 상원...</td>\n",
       "      <td>{'title': '인사조직관리', 'context': ''근대적 경영학' 또는 '...</td>\n",
       "      <td>{'title': '강희제', 'context': '강희제는 강화된 황권으로 거의 ...</td>\n",
       "      <td>{'title': '금동삼존불감', 'context': '불상을 모시기 위해 나무나...</td>\n",
       "      <td>{'title': '계사명 사리구', 'context': '동아대학교박물관에서 소장...</td>\n",
       "      <td>{'title': '용아병', 'context': '델포이의 신탁에 따라 암소를 따...</td>\n",
       "      <td>{'title': '호반', 'context': '제27회와 제73회에 출현한다. ...</td>\n",
       "      <td>{'title': '제50노섬브리안 보병사단', 'context': '이집트로 이어...</td>\n",
       "      <td>{'title': '오싱', 'context': '하지만 슬픈 일들이 그녀의 행복을...</td>\n",
       "      <td>{'title': '모후산', 'context': '모후산(母后山)대한민국 전라남도...</td>\n",
       "      <td>...</td>\n",
       "      <td>{'title': '북위 도무제', 'context': '378년 4월, 부견은 부...</td>\n",
       "      <td>{'title': '부일장학회', 'context': '진실규명 결정을 받은 김지태...</td>\n",
       "      <td>{'title': '전자감시제도', 'context': '감시 시스템에 대해 성찰해...</td>\n",
       "      <td>{'title': '미국 알래스카 육군', 'context': '1940년, 제2차...</td>\n",
       "      <td>{'title': '막리지의 난', 'context': '628년에 당이 마지막 남...</td>\n",
       "      <td>{'title': '이오 (위성)', 'context': '이오의 산\\n이오의 산 ...</td>\n",
       "      <td>{'title': '내니 다이어리', 'context': '애니의 고군분투 뉴욕 입...</td>\n",
       "      <td>{'title': '빈 필하모니 관현악단', 'context': '1842년에 작곡...</td>\n",
       "      <td>{'title': '드래곤', 'context': '원어는 고대 그리스어까지 거슬러...</td>\n",
       "      <td>{'title': '2011년 함부르크 주의회 선거', 'context': '200...</td>\n",
       "    </tr>\n",
       "    <tr>\n",
       "      <th>1</th>\n",
       "      <td>{'title': '전효숙', 'context': '순천여자고등학교 졸업, 1973...</td>\n",
       "      <td>{'title': '스토우빌선', 'context': '요크 카운티 동쪽에 처음으로...</td>\n",
       "      <td>{'title': '촐라', 'context': '촐라 정부\\n 촐라의 정부 체제는...</td>\n",
       "      <td>{'title': '백조 기사', 'context': '프랑스의 십자군 무훈시는 1...</td>\n",
       "      <td>{'title': '탈관료제화', 'context': '탈관료제화는 현대사회에서 관...</td>\n",
       "      <td>{'title': '마쓰에 소요 사건', 'context': '마쓰에 소요 사건(마...</td>\n",
       "      <td>{'title': '자수장', 'context': '수를 놓을 때에 사용하는 기법을...</td>\n",
       "      <td>{'title': '감염내과', 'context': '감염내과 전문의들은 일반적으로...</td>\n",
       "      <td>{'title': '노트르담 다리', 'context': '예부터 노트르담 다리는 ...</td>\n",
       "      <td>{'title': '히자즈', 'context': '여러 유적이 로마 제국의 영역상...</td>\n",
       "      <td>...</td>\n",
       "      <td>None</td>\n",
       "      <td>None</td>\n",
       "      <td>None</td>\n",
       "      <td>None</td>\n",
       "      <td>None</td>\n",
       "      <td>None</td>\n",
       "      <td>None</td>\n",
       "      <td>None</td>\n",
       "      <td>None</td>\n",
       "      <td>None</td>\n",
       "    </tr>\n",
       "  </tbody>\n",
       "</table>\n",
       "<p>2 rows × 3952 columns</p>\n",
       "</div>"
      ],
      "text/plain": [
       "                                                0     \\\n",
       "0  {'title': '미국 상원', 'context': '미국 상의원 또는 미국 상원...   \n",
       "1  {'title': '전효숙', 'context': '순천여자고등학교 졸업, 1973...   \n",
       "\n",
       "                                                1     \\\n",
       "0  {'title': '인사조직관리', 'context': ''근대적 경영학' 또는 '...   \n",
       "1  {'title': '스토우빌선', 'context': '요크 카운티 동쪽에 처음으로...   \n",
       "\n",
       "                                                2     \\\n",
       "0  {'title': '강희제', 'context': '강희제는 강화된 황권으로 거의 ...   \n",
       "1  {'title': '촐라', 'context': '촐라 정부\\n 촐라의 정부 체제는...   \n",
       "\n",
       "                                                3     \\\n",
       "0  {'title': '금동삼존불감', 'context': '불상을 모시기 위해 나무나...   \n",
       "1  {'title': '백조 기사', 'context': '프랑스의 십자군 무훈시는 1...   \n",
       "\n",
       "                                                4     \\\n",
       "0  {'title': '계사명 사리구', 'context': '동아대학교박물관에서 소장...   \n",
       "1  {'title': '탈관료제화', 'context': '탈관료제화는 현대사회에서 관...   \n",
       "\n",
       "                                                5     \\\n",
       "0  {'title': '용아병', 'context': '델포이의 신탁에 따라 암소를 따...   \n",
       "1  {'title': '마쓰에 소요 사건', 'context': '마쓰에 소요 사건(마...   \n",
       "\n",
       "                                                6     \\\n",
       "0  {'title': '호반', 'context': '제27회와 제73회에 출현한다. ...   \n",
       "1  {'title': '자수장', 'context': '수를 놓을 때에 사용하는 기법을...   \n",
       "\n",
       "                                                7     \\\n",
       "0  {'title': '제50노섬브리안 보병사단', 'context': '이집트로 이어...   \n",
       "1  {'title': '감염내과', 'context': '감염내과 전문의들은 일반적으로...   \n",
       "\n",
       "                                                8     \\\n",
       "0  {'title': '오싱', 'context': '하지만 슬픈 일들이 그녀의 행복을...   \n",
       "1  {'title': '노트르담 다리', 'context': '예부터 노트르담 다리는 ...   \n",
       "\n",
       "                                                9     ...  \\\n",
       "0  {'title': '모후산', 'context': '모후산(母后山)대한민국 전라남도...  ...   \n",
       "1  {'title': '히자즈', 'context': '여러 유적이 로마 제국의 영역상...  ...   \n",
       "\n",
       "                                                3942  \\\n",
       "0  {'title': '북위 도무제', 'context': '378년 4월, 부견은 부...   \n",
       "1                                               None   \n",
       "\n",
       "                                                3943  \\\n",
       "0  {'title': '부일장학회', 'context': '진실규명 결정을 받은 김지태...   \n",
       "1                                               None   \n",
       "\n",
       "                                                3944  \\\n",
       "0  {'title': '전자감시제도', 'context': '감시 시스템에 대해 성찰해...   \n",
       "1                                               None   \n",
       "\n",
       "                                                3945  \\\n",
       "0  {'title': '미국 알래스카 육군', 'context': '1940년, 제2차...   \n",
       "1                                               None   \n",
       "\n",
       "                                                3946  \\\n",
       "0  {'title': '막리지의 난', 'context': '628년에 당이 마지막 남...   \n",
       "1                                               None   \n",
       "\n",
       "                                                3947  \\\n",
       "0  {'title': '이오 (위성)', 'context': '이오의 산\\n이오의 산 ...   \n",
       "1                                               None   \n",
       "\n",
       "                                                3948  \\\n",
       "0  {'title': '내니 다이어리', 'context': '애니의 고군분투 뉴욕 입...   \n",
       "1                                               None   \n",
       "\n",
       "                                                3949  \\\n",
       "0  {'title': '빈 필하모니 관현악단', 'context': '1842년에 작곡...   \n",
       "1                                               None   \n",
       "\n",
       "                                                3950  \\\n",
       "0  {'title': '드래곤', 'context': '원어는 고대 그리스어까지 거슬러...   \n",
       "1                                               None   \n",
       "\n",
       "                                                3951  \n",
       "0  {'title': '2011년 함부르크 주의회 선거', 'context': '200...  \n",
       "1                                               None  \n",
       "\n",
       "[2 rows x 3952 columns]"
      ]
     },
     "execution_count": 38,
     "metadata": {},
     "output_type": "execute_result"
    }
   ],
   "source": [
    "index_level = []\n",
    "answers = []\n",
    "context = []\n",
    "document_id = []\n",
    "mrc_id = []\n",
    "question = []\n",
    "title = []\n",
    "\n",
    "for data in dataset['train'].values():\n",
    "    index_level.append(data.__index_level_0__)\n",
    "    answers.append(data.answers)\n",
    "    context.append(data.context)\n",
    "    document_id.append(data.document_id)\n",
    "    mrc_id.append(data.id)\n",
    "    question.append(data.question)\n",
    "    title.append(data.title)"
   ]
  },
  {
   "cell_type": "markdown",
   "id": "00ffe610-7960-4047-a66b-61706cbf93eb",
   "metadata": {},
   "source": [
    "### Explore TestDataset"
   ]
  },
  {
   "cell_type": "code",
   "execution_count": 34,
   "id": "919484a1-a183-4d1e-a41b-d88cadb8f8c3",
   "metadata": {},
   "outputs": [],
   "source": [
    "test = load_from_disk('../data/test_dataset/')"
   ]
  },
  {
   "cell_type": "code",
   "execution_count": 24,
   "id": "732c162e-e838-49a2-b6c2-fcde2f171609",
   "metadata": {},
   "outputs": [
    {
     "data": {
      "text/plain": [
       "DatasetDict({\n",
       "    validation: Dataset({\n",
       "        features: ['id', 'question'],\n",
       "        num_rows: 600\n",
       "    })\n",
       "})"
      ]
     },
     "execution_count": 24,
     "metadata": {},
     "output_type": "execute_result"
    }
   ],
   "source": [
    "test"
   ]
  },
  {
   "cell_type": "code",
   "execution_count": 35,
   "id": "c3e5fd54-29b9-4eb8-8177-c8db5cbe9fcf",
   "metadata": {},
   "outputs": [
    {
     "name": "stdout",
     "output_type": "stream",
     "text": [
      "************************************************** id **************************************************\n",
      "mrc-1-000653\n",
      "************************************************** question **************************************************\n",
      "유령'은 어느 행성에서 지구로 왔는가?\n"
     ]
    }
   ],
   "source": [
    "read_dataset(test, 0, \"validation\")"
   ]
  },
  {
   "cell_type": "code",
   "execution_count": 36,
   "id": "3c6c163d-e16a-46d5-badc-ec6106b657dd",
   "metadata": {},
   "outputs": [
    {
     "name": "stdout",
     "output_type": "stream",
     "text": [
      "************************************************** id **************************************************\n",
      "mrc-0-004345\n",
      "************************************************** question **************************************************\n",
      "셰이크 무지부르 라흐만의 딸이 처음으로 선거에서 졌던 해는?\n"
     ]
    }
   ],
   "source": [
    "read_dataset(test, 100, \"validation\")"
   ]
  },
  {
   "cell_type": "code",
   "execution_count": null,
   "id": "5e0a9b89-e50f-46fe-abcb-fd608d71753b",
   "metadata": {},
   "outputs": [],
   "source": []
  }
 ],
 "metadata": {
  "kernelspec": {
   "display_name": "Python 3 (ipykernel)",
   "language": "python",
   "name": "python3"
  },
  "language_info": {
   "codemirror_mode": {
    "name": "ipython",
    "version": 3
   },
   "file_extension": ".py",
   "mimetype": "text/x-python",
   "name": "python",
   "nbconvert_exporter": "python",
   "pygments_lexer": "ipython3",
   "version": "3.8.5"
  }
 },
 "nbformat": 4,
 "nbformat_minor": 5
}
