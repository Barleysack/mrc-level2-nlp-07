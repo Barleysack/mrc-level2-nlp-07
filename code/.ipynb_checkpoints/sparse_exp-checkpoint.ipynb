{
 "cells": [
  {
   "cell_type": "markdown",
   "id": "b93290e5-55f5-4e3f-8779-63930af0d242",
   "metadata": {},
   "source": [
    "# TF-IDF, BM25, ElasticSearch\n",
    "# wikipedia로 임베딩을 만들고 valid set에 대해 테스트해보기\n",
    "## TF-IDF, BM25는 xlm-roberta tokenizer 사용 / Elasticsearch는 내장 nori_tokenizer 사용"
   ]
  },
  {
   "cell_type": "code",
   "execution_count": 9,
   "id": "39cba611-de41-4d78-928c-5edaff25f46f",
   "metadata": {},
   "outputs": [],
   "source": [
    "from rank_bm25 import BM25Okapi, BM25Plus\n",
    "from sklearn.feature_extraction.text import TfidfVectorizer\n",
    "from elasticsearch import Elasticsearch\n",
    "\n",
    "from transformers import AutoTokenizer\n",
    "import os\n",
    "import json\n",
    "import pickle\n",
    "import numpy as np\n",
    "import pandas as pd\n",
    "import re\n",
    "from tqdm import tqdm\n",
    "\n",
    "from datasets import load_from_disk"
   ]
  },
  {
   "cell_type": "markdown",
   "id": "e0e83e45-efa4-4dbc-aed1-eea912ca7f18",
   "metadata": {},
   "source": [
    "### Tokenizer는 xlm-roberta를 기본 셋팅으로"
   ]
  },
  {
   "cell_type": "code",
   "execution_count": 10,
   "id": "b55927c9-15a9-4e78-afd8-4a74d4d42b09",
   "metadata": {},
   "outputs": [],
   "source": [
    "tokenizer = AutoTokenizer.from_pretrained(\"xlm-roberta-base\")"
   ]
  },
  {
   "cell_type": "markdown",
   "id": "bd29f94d-b9d7-400f-836d-c8ec9672021e",
   "metadata": {},
   "source": [
    "### 전처리 함수"
   ]
  },
  {
   "cell_type": "code",
   "execution_count": 11,
   "id": "9ab737a4-1377-46ee-9bbb-9cd8b247849a",
   "metadata": {},
   "outputs": [],
   "source": [
    "def preprocess_retrieval(corpus):\n",
    "    corpus = corpus.replace(\"\\\\n\", \"\")\n",
    "    corpus = re.sub(f\"[\\\"<>\\[\\].,?!\\(\\)\\:#\\|'\\=-]\", \" \", corpus)\n",
    "    corpus = ' '.join(corpus.split())\n",
    "    return corpus"
   ]
  },
  {
   "cell_type": "markdown",
   "id": "114e0aed-c15f-4f55-be8c-bb9f31edfc3c",
   "metadata": {},
   "source": [
    "## 데이터 불러오기"
   ]
  },
  {
   "cell_type": "code",
   "execution_count": 12,
   "id": "1a0bfefc-27a6-46c9-b5f6-f56996786f71",
   "metadata": {},
   "outputs": [],
   "source": [
    "# wikipedia_documents.json\n",
    "with open(\"../data/wikipedia_documents.json\", \"r\", encoding=\"utf-8\") as f:\n",
    "    wiki = json.load(f)\n",
    "contexts = list(dict.fromkeys([v[\"text\"] for v in wiki.values()]))"
   ]
  },
  {
   "cell_type": "code",
   "execution_count": 13,
   "id": "61ea853d-f1bb-4657-99f6-8f8fab340c78",
   "metadata": {},
   "outputs": [
    {
     "name": "stderr",
     "output_type": "stream",
     "text": [
      "100%|██████████| 3952/3952 [00:00<00:00, 6043.59it/s]\n",
      "100%|██████████| 240/240 [00:00<00:00, 5951.23it/s]\n"
     ]
    }
   ],
   "source": [
    "# train/valid dataset\n",
    "train_dataset = load_from_disk(\"../data/train_dataset\")\n",
    "train_context, valid_context = [], []\n",
    "train_query, valid_query = [], []\n",
    "for data in tqdm(train_dataset['train']):\n",
    "    train_context.append(preprocess_retrieval(data['context']))\n",
    "    train_query.append(preprocess_retrieval(data['question']))\n",
    "for data in tqdm(train_dataset['validation']):\n",
    "    valid_context.append(preprocess_retrieval(data['context']))\n",
    "    valid_query.append(preprocess_retrieval(data['question']))"
   ]
  },
  {
   "cell_type": "code",
   "execution_count": 14,
   "id": "1f88dba0-c63e-4f47-bbc4-4a81d3bef309",
   "metadata": {},
   "outputs": [
    {
     "name": "stdout",
     "output_type": "stream",
     "text": [
      "3952 240\n",
      "미국 상의원 또는 미국 상원 United States Senate 은 양원제인 미국 의회의 상원이다 미국 부통령이 상원의장이 된다 각 주당 2명의 상원의원이 선출되어 100명의 상원의원으로 구성되어 있다 임기는 6년이며 2년마다 50개주 중 1/3씩 상원의원을 새로 선출하여 연방에 보낸다 미국 상원은 미국 하원과는 다르게 미국 대통령을 수반으로 하는 미국 연방 행정부에 각종 동의를 하는 기관이다 하원이 세금과 경제에 대한 권한 대통령을 포함한 대다수의 공무원을 파면할 권한을 갖고 있는 국민을 대표하는 기관인 반면 상원은 미국의 주를 대표한다 즉 캘리포니아주 일리노이주 같이 주 정부와 주 의회를 대표하는 기관이다 그로 인하여 군대의 파병 관료의 임명에 대한 동의 외국 조약에 대한 승인 등 신속을 요하는 권한은 모두 상원에게만 있다 그리고 하원에 대한 견제 역할 하원의 법안을 거부할 권한 등 을 담당한다 2년의 임기로 인하여 급진적일 수밖에 없는 하원은 지나치게 급진적인 법안을 만들기 쉽다 대표적인 예로 건강보험 개혁 당시 하원이 미국 연방 행정부에게 퍼블릭 옵션 공공건강보험기관 의 조항이 있는 반면 상원의 경우 하원안이 지나치게 세금이 많이 든다는 이유로 퍼블릭 옵션 조항을 제외하고 비영리건강보험기관이나 보험회사가 담당하도록 한 것이다 이 경우처럼 상원은 하원이나 내각책임제가 빠지기 쉬운 국가들의 국회처럼 걸핏하면 발생하는 의회의 비정상적인 사태를 방지하는 기관이다 상원은 급박한 처리사항의 경우가 아니면 법안을 먼저 내는 경우가 드물고 하원이 만든 법안을 수정하여 다시 하원에 되돌려보낸다 이러한 방식으로 단원제가 빠지기 쉬운 함정을 미리 방지하는 것이다 날짜 2017 02 05\n"
     ]
    }
   ],
   "source": [
    "print(len(train_context), len(valid_context))\n",
    "print(train_context[0])"
   ]
  },
  {
   "cell_type": "code",
   "execution_count": 15,
   "id": "bf173508-3059-41e7-8465-20bd8e02164a",
   "metadata": {},
   "outputs": [
    {
     "data": {
      "text/plain": [
       "(3952, list)"
      ]
     },
     "execution_count": 15,
     "metadata": {},
     "output_type": "execute_result"
    }
   ],
   "source": [
    "train_ids = list(range(len(train_context)))\n",
    "valid_ids = list(range(len(valid_context)))\n",
    "len(train_ids), type(valid_ids)"
   ]
  },
  {
   "cell_type": "code",
   "execution_count": 16,
   "id": "8201f4d4-d79b-4bb0-96b6-d5ef6341c781",
   "metadata": {},
   "outputs": [],
   "source": [
    "contexts = [preprocess_retrieval(corpus) for corpus in contexts]"
   ]
  },
  {
   "cell_type": "markdown",
   "id": "101e408a-4adf-413c-8500-0dcac935cb14",
   "metadata": {
    "tags": []
   },
   "source": [
    "## BM25Okapi 실험"
   ]
  },
  {
   "cell_type": "code",
   "execution_count": 25,
   "id": "c8376891-cb6f-4015-ba75-4d55c459c2e5",
   "metadata": {},
   "outputs": [
    {
     "name": "stderr",
     "output_type": "stream",
     "text": [
      "100%|██████████| 56737/56737 [01:41<00:00, 560.25it/s]\n",
      "100%|██████████| 56737/56737 [00:07<00:00, 7223.31it/s]\n"
     ]
    }
   ],
   "source": [
    "tokenized_wiki = [tokenizer.tokenize(corpus) for corpus in tqdm(contexts)]\n",
    "bm25 = BM25Okapi(tqdm(tokenized_wiki))"
   ]
  },
  {
   "cell_type": "code",
   "execution_count": 26,
   "id": "8a444120-4a84-496c-b4cc-9bb83d19eb23",
   "metadata": {},
   "outputs": [
    {
     "data": {
      "text/plain": [
       "rank_bm25.BM25Okapi"
      ]
     },
     "execution_count": 26,
     "metadata": {},
     "output_type": "execute_result"
    }
   ],
   "source": [
    "type(bm25)"
   ]
  },
  {
   "cell_type": "code",
   "execution_count": 27,
   "id": "0578981e-c581-4dd5-a4a2-8c67f3866f8d",
   "metadata": {},
   "outputs": [
    {
     "data": {
      "text/plain": [
       "array([0.        , 3.03814529, 5.30148683, ..., 0.        , 0.        ,\n",
       "       0.        ])"
      ]
     },
     "execution_count": 27,
     "metadata": {},
     "output_type": "execute_result"
    }
   ],
   "source": [
    "query = \"트랜스포머\"\n",
    "tokenized_query = tokenizer.tokenize(preprocess_retrieval(query))\n",
    "\n",
    "doc_scores = bm25.get_scores(tokenized_query)\n",
    "doc_scores"
   ]
  },
  {
   "cell_type": "code",
   "execution_count": 28,
   "id": "c678f87b-6e80-4d19-9151-0b368779f826",
   "metadata": {},
   "outputs": [
    {
     "data": {
      "text/plain": [
       "['트랜스포머 실시영화 세계관에서는 1에서 처음등장하였다 비클모드는 머스탱이다 실사판 영화에서는 몸속의 프렌지를 데리고 다닌다 언뜻 보면 사운드웨이브처럼 숨기고 다닌다 트랜스포머 실사판 3편에서도 잠깐 휠잭를 죽일때나온다 그리고 군대쪽에서 총을 사격하자 그의 눈에 맞는다 그리고 군대쪽에서 빌딩에서 내려오고 군대쪽에서 바리케이드의 발쪽에 이상한 폭파무기를 다리쪽에 심어놓고는 폭파되어 사망한다 그후로 트랜스포머5 최후의 기사 에서도 부활하여 다시 출연한다 하지만 초반에는 메가트론과 좀 나오다가 중간에 시가전을 펼칠때 그림록의 꼬리에 밀려나간 후로부터 나오질 않는다 그 다음에는 스톤헨지에서 잠깐 메가트론 니트로제우스와 함께 포착되고 그 후로부터 등장이 없다 얼라인드 세계관에서 작품인 트랜스포머 워 포 사이버트론에서는 플레이캐릭터로 등장한다',\n",
       " '1969년 그렇게 개발된 것이 2254E 컴프레서/리미터이다 2254는 기본적으로 시그널이 게인의 변화를 주는 섹션을 지나서 다시 게인컨트롤 섹션에 영향을 주는 피드백 방식이었다 2254의 특징은 총 4개의 트랜스포머로 가득한 게인스테이지 덩어리라는 것이다 일단 인풋 게인 스테이지에서 첫 번째 트랜스포머가 들어온 신호에 색을 칠한다 그 다음 신호는 게인 리덕션 유닛으로 넘어오는데 니브만의 다이오드 브릿지 diode bridges 방식은 사실 레벨 효율이 매우 떨어지는 방식이었다 게인 리덕션 유닛을 지난 신호는 인풋신호에 비해 거의 40dB 가까이 떨어진채 두 번째 트랜스포머의 색을 묻힌 후 니브의 전매특허 BA283 아웃풋 앰프로 들어가게 된다 BA283에 포함된 총 세 번째 트랜스포머를 지나 원래의 라인신호 레벨을 되찾은 신호는 엔지니어 마음에 따라 리미터 사이드체인으로 들어가거나 말거나 중에 하나를 택한다 리미터까지 들어가면 총 4개의 트랜스포머를 거치게 되는 것이다 그로 인해 2254는 다른 기종에 비해 낮은 노이즈 대 시그널 비율을 가지고 있다 그리고 특유의 색깔도 매우 독특하다 이것이 2254만의 매력이다 게인리덕션의 성향은 비단같은 스무스함을 가지고 있다 다양한 신호에 대해서 레벨 컨트롤도 자연스러운 편이다 그렇지만 트랜스포머 덩어리와 BA283 앰프의 색을 잔뜩 입혀주었기에 여전히 클래식 컴프레서로서의 가치를 이어나가고 있는 것이다 기본적으로 느린 편인 어택은 고정되어 있다 2254는 대표적인 피드백타입 컴프레서로 불리는 만큼 반응이 느린 컴프레서이다 릴리즈를 자동으로 놓으면 릴리즈타임뿐만 아니라 어택타임까지 시그널에 맞추어 속도가 자동으로 조절된다 자연스러운 스무스니스는 바로 오토 세팅에서 나오는 것이다 하지만 트랜지언트 소스의 경우에는 다이나믹 디스토션이 생길 가능성이 크다 다이나믹 디스토션 효과를 얻고자 한다면 그렇게 쓸수도 있지만 펀치감이 파괴될 수도 있으니 주의해야 한다',\n",
       " '매년 해즈브로는 명예의 전당의 인간 부분에 입성할 개인을 선정한다 해즈브로는 또한 명예의 전당의 트랜스포머 부분에 소중히 간직하여 자격이 있다고 느끼는 특정 캐릭터를 선택한다 명예의 전당의 목적상 등장인물들은 다른 연속성들 사이에서 차별화되지 않는다 캐릭터 일대기는 캐릭터가 해즈브로의 현재 통일된 연속성에 표현되어 있음을 반영하는 경향이 있었다 해즈브로는 팬들 선택 입성을 위해 다양한 트랜스포머 팬 사이트에서 추가 후보 지명을 요청한다 상위 5명의 후보자는 명예의 전당에 선출 될 자격이 있으며 투표는 공식 트랜스포머 웹 사이트에서 4월에 열린다 수상자는 명예의 전당 입성식에서 발표된다']"
      ]
     },
     "execution_count": 28,
     "metadata": {},
     "output_type": "execute_result"
    }
   ],
   "source": [
    "bm25.get_top_n(tokenized_query, contexts, n=3)"
   ]
  },
  {
   "cell_type": "code",
   "execution_count": 40,
   "id": "67917680-c5ad-4498-a3a2-2794164b4a74",
   "metadata": {},
   "outputs": [],
   "source": [
    "def correct_retrieval(method, topk, passages, texts, queries):\n",
    "    right, wrong = 0, 0\n",
    "    for i in tqdm(range(len(texts))):\n",
    "        tokenized_query = tokenizer.tokenize(preprocess_retrieval(queries[i]))\n",
    "        predict = method.get_top_n(tokenized_query, passages, n=topk)\n",
    "        if texts[i] in predict:\n",
    "            right += 1\n",
    "        else:\n",
    "            wrong += 1\n",
    "    print(f\"Total Length : {right+wrong}\")\n",
    "    return right/(right+wrong)"
   ]
  },
  {
   "cell_type": "code",
   "execution_count": 32,
   "id": "003405ca-0d53-433e-89ee-aa297f930a1c",
   "metadata": {
    "tags": []
   },
   "outputs": [
    {
     "name": "stderr",
     "output_type": "stream",
     "text": [
      "100%|██████████| 240/240 [02:15<00:00,  1.77it/s]"
     ]
    },
    {
     "name": "stdout",
     "output_type": "stream",
     "text": [
      "Total Length : 240\n",
      "52.92\n"
     ]
    },
    {
     "name": "stderr",
     "output_type": "stream",
     "text": [
      "\n"
     ]
    }
   ],
   "source": [
    "bm25_acc = correct_retrieval(bm25, 1, contexts, valid_context, valid_query)\n",
    "print(f\"{100*bm25_acc:.2f}\")"
   ]
  },
  {
   "cell_type": "markdown",
   "id": "d4d508f1-2ce4-4c40-8de8-7437328aa660",
   "metadata": {},
   "source": [
    "## BM25Plus 실험"
   ]
  },
  {
   "cell_type": "code",
   "execution_count": 36,
   "id": "b414bf49-4739-4a11-bb1b-8545c391ef7d",
   "metadata": {},
   "outputs": [
    {
     "name": "stderr",
     "output_type": "stream",
     "text": [
      "100%|██████████| 56737/56737 [00:06<00:00, 8444.55it/s]\n"
     ]
    }
   ],
   "source": [
    "bm25plus = BM25Plus(tqdm(tokenized_wiki))"
   ]
  },
  {
   "cell_type": "code",
   "execution_count": 37,
   "id": "dd0a9e33-038b-4519-bd15-3cd29a169f7b",
   "metadata": {},
   "outputs": [
    {
     "data": {
      "text/plain": [
       "array([12.41217118, 16.19212622, 18.9751972 , ..., 12.41217118,\n",
       "       12.41217118, 12.41217118])"
      ]
     },
     "execution_count": 37,
     "metadata": {},
     "output_type": "execute_result"
    }
   ],
   "source": [
    "query = \"트랜스포머\"\n",
    "tokenized_query = tokenizer.tokenize(preprocess_retrieval(query))\n",
    "\n",
    "doc_scores = bm25plus.get_scores(tokenized_query)\n",
    "doc_scores"
   ]
  },
  {
   "cell_type": "code",
   "execution_count": 38,
   "id": "831afd25-f779-4616-a2e2-d25dd7b6906c",
   "metadata": {},
   "outputs": [
    {
     "data": {
      "text/plain": [
       "['트랜스포머 실시영화 세계관에서는 1에서 처음등장하였다 비클모드는 머스탱이다 실사판 영화에서는 몸속의 프렌지를 데리고 다닌다 언뜻 보면 사운드웨이브처럼 숨기고 다닌다 트랜스포머 실사판 3편에서도 잠깐 휠잭를 죽일때나온다 그리고 군대쪽에서 총을 사격하자 그의 눈에 맞는다 그리고 군대쪽에서 빌딩에서 내려오고 군대쪽에서 바리케이드의 발쪽에 이상한 폭파무기를 다리쪽에 심어놓고는 폭파되어 사망한다 그후로 트랜스포머5 최후의 기사 에서도 부활하여 다시 출연한다 하지만 초반에는 메가트론과 좀 나오다가 중간에 시가전을 펼칠때 그림록의 꼬리에 밀려나간 후로부터 나오질 않는다 그 다음에는 스톤헨지에서 잠깐 메가트론 니트로제우스와 함께 포착되고 그 후로부터 등장이 없다 얼라인드 세계관에서 작품인 트랜스포머 워 포 사이버트론에서는 플레이캐릭터로 등장한다',\n",
       " '1969년 그렇게 개발된 것이 2254E 컴프레서/리미터이다 2254는 기본적으로 시그널이 게인의 변화를 주는 섹션을 지나서 다시 게인컨트롤 섹션에 영향을 주는 피드백 방식이었다 2254의 특징은 총 4개의 트랜스포머로 가득한 게인스테이지 덩어리라는 것이다 일단 인풋 게인 스테이지에서 첫 번째 트랜스포머가 들어온 신호에 색을 칠한다 그 다음 신호는 게인 리덕션 유닛으로 넘어오는데 니브만의 다이오드 브릿지 diode bridges 방식은 사실 레벨 효율이 매우 떨어지는 방식이었다 게인 리덕션 유닛을 지난 신호는 인풋신호에 비해 거의 40dB 가까이 떨어진채 두 번째 트랜스포머의 색을 묻힌 후 니브의 전매특허 BA283 아웃풋 앰프로 들어가게 된다 BA283에 포함된 총 세 번째 트랜스포머를 지나 원래의 라인신호 레벨을 되찾은 신호는 엔지니어 마음에 따라 리미터 사이드체인으로 들어가거나 말거나 중에 하나를 택한다 리미터까지 들어가면 총 4개의 트랜스포머를 거치게 되는 것이다 그로 인해 2254는 다른 기종에 비해 낮은 노이즈 대 시그널 비율을 가지고 있다 그리고 특유의 색깔도 매우 독특하다 이것이 2254만의 매력이다 게인리덕션의 성향은 비단같은 스무스함을 가지고 있다 다양한 신호에 대해서 레벨 컨트롤도 자연스러운 편이다 그렇지만 트랜스포머 덩어리와 BA283 앰프의 색을 잔뜩 입혀주었기에 여전히 클래식 컴프레서로서의 가치를 이어나가고 있는 것이다 기본적으로 느린 편인 어택은 고정되어 있다 2254는 대표적인 피드백타입 컴프레서로 불리는 만큼 반응이 느린 컴프레서이다 릴리즈를 자동으로 놓으면 릴리즈타임뿐만 아니라 어택타임까지 시그널에 맞추어 속도가 자동으로 조절된다 자연스러운 스무스니스는 바로 오토 세팅에서 나오는 것이다 하지만 트랜지언트 소스의 경우에는 다이나믹 디스토션이 생길 가능성이 크다 다이나믹 디스토션 효과를 얻고자 한다면 그렇게 쓸수도 있지만 펀치감이 파괴될 수도 있으니 주의해야 한다',\n",
       " '매년 해즈브로는 명예의 전당의 인간 부분에 입성할 개인을 선정한다 해즈브로는 또한 명예의 전당의 트랜스포머 부분에 소중히 간직하여 자격이 있다고 느끼는 특정 캐릭터를 선택한다 명예의 전당의 목적상 등장인물들은 다른 연속성들 사이에서 차별화되지 않는다 캐릭터 일대기는 캐릭터가 해즈브로의 현재 통일된 연속성에 표현되어 있음을 반영하는 경향이 있었다 해즈브로는 팬들 선택 입성을 위해 다양한 트랜스포머 팬 사이트에서 추가 후보 지명을 요청한다 상위 5명의 후보자는 명예의 전당에 선출 될 자격이 있으며 투표는 공식 트랜스포머 웹 사이트에서 4월에 열린다 수상자는 명예의 전당 입성식에서 발표된다']"
      ]
     },
     "execution_count": 38,
     "metadata": {},
     "output_type": "execute_result"
    }
   ],
   "source": [
    "bm25plus.get_top_n(tokenized_query, contexts, n=3)"
   ]
  },
  {
   "cell_type": "code",
   "execution_count": 41,
   "id": "c712e134-eec2-40aa-8cd2-d5c179760e1d",
   "metadata": {},
   "outputs": [
    {
     "name": "stderr",
     "output_type": "stream",
     "text": [
      "100%|██████████| 240/240 [02:13<00:00,  1.80it/s]"
     ]
    },
    {
     "name": "stdout",
     "output_type": "stream",
     "text": [
      "Total Length : 240\n",
      "52.92\n"
     ]
    },
    {
     "name": "stderr",
     "output_type": "stream",
     "text": [
      "\n"
     ]
    }
   ],
   "source": [
    "bm25plus_acc = correct_retrieval(bm25plus, 1, contexts, valid_context, valid_query)\n",
    "print(f\"{100*bm25plus_acc:.2f}\")"
   ]
  },
  {
   "cell_type": "markdown",
   "id": "8c7beb09-1528-4d97-a63b-8d26c1605da1",
   "metadata": {},
   "source": [
    "## TF-IDF 실험 (max_features 제한 X)"
   ]
  },
  {
   "cell_type": "code",
   "execution_count": 43,
   "id": "d0163c89-655d-4b2d-885a-9d0f822706f2",
   "metadata": {},
   "outputs": [],
   "source": [
    "def get_relevant_doc(tfidfv, p_embedding, query, k=1):\n",
    "    query_vec = tfidfv.transform([query])\n",
    "    result = query_vec * p_embedding.T\n",
    "    result = result.toarray()\n",
    "\n",
    "    sorted_result = np.argsort(result.squeeze())[::-1]\n",
    "    doc_score = result.squeeze()[sorted_result].tolist()[:k]\n",
    "    doc_indices = sorted_result.tolist()[:k]\n",
    "    return doc_score, doc_indices"
   ]
  },
  {
   "cell_type": "code",
   "execution_count": 47,
   "id": "b22c328e-99bd-4012-b685-3b42e4759414",
   "metadata": {},
   "outputs": [],
   "source": [
    "def retrieval(tfidfv, p_embedding, query_or_dataset, topk):\n",
    "    doc_scores, doc_indices = get_relevant_doc(tfidfv, p_embedding, query_or_dataset, k=topk)\n",
    "    answers = []\n",
    "    for i in range(topk):\n",
    "        answers.append(contexts[doc_indices[i]])\n",
    "    return answers"
   ]
  },
  {
   "cell_type": "code",
   "execution_count": 46,
   "id": "4819aad9-a1b6-4952-9856-b63b5e120fdf",
   "metadata": {},
   "outputs": [
    {
     "name": "stderr",
     "output_type": "stream",
     "text": [
      "100%|██████████| 56737/56737 [02:11<00:00, 430.41it/s]\n"
     ]
    }
   ],
   "source": [
    "tfidfv = TfidfVectorizer(tokenizer=tokenizer.tokenize, ngram_range=(1, 2))\n",
    "p_embedding = tfidfv.fit_transform(tqdm(contexts))"
   ]
  },
  {
   "cell_type": "code",
   "execution_count": 55,
   "id": "4dc89e2f-b6eb-416f-8e4e-ace35ae0148e",
   "metadata": {},
   "outputs": [],
   "source": [
    "def tfidf_retrieval(method, embedding, topk, passages, texts, queries):\n",
    "    right, wrong = 0, 0\n",
    "    for i in tqdm(range(len(texts))):\n",
    "        predict = retrieval(tfidfv=tfidfv, p_embedding=embedding, query_or_dataset=queries[i], topk=topk)\n",
    "        if texts[i] in predict:\n",
    "            right += 1\n",
    "        else:\n",
    "            wrong += 1\n",
    "    print(f\"Total Length : {right+wrong}\")\n",
    "    return right/(right+wrong)"
   ]
  },
  {
   "cell_type": "code",
   "execution_count": 51,
   "id": "5dfe4460-0ba3-4e34-87f5-69f9843f6309",
   "metadata": {},
   "outputs": [
    {
     "name": "stderr",
     "output_type": "stream",
     "text": [
      "100%|██████████| 240/240 [14:58<00:00,  3.74s/it]"
     ]
    },
    {
     "name": "stdout",
     "output_type": "stream",
     "text": [
      "Total Length : 240\n",
      "47.92\n"
     ]
    },
    {
     "name": "stderr",
     "output_type": "stream",
     "text": [
      "\n"
     ]
    }
   ],
   "source": [
    "### (주의)시간 오래 걸림 - 약 15분 ###\n",
    "tfidf_acc = tfidf_retrieval(tfidfv, p_embedding, 1, contexts, valid_context, valid_query)\n",
    "print(f\"{100*tfidf_acc:.2f}\")"
   ]
  },
  {
   "cell_type": "markdown",
   "id": "529f5a8e-add3-4fb5-b03d-1980ad943f1e",
   "metadata": {
    "tags": []
   },
   "source": [
    "## Elastic Search 실험 (nori_tokenizer)"
   ]
  },
  {
   "cell_type": "code",
   "execution_count": 17,
   "id": "3dfd47f1-e4fd-4731-acf8-2f952f2886a7",
   "metadata": {},
   "outputs": [
    {
     "name": "stdout",
     "output_type": "stream",
     "text": [
      " * Starting Elasticsearch Server\n",
      " * Already running.\n",
      "   ...done.\n"
     ]
    }
   ],
   "source": [
    "!service elasticsearch start"
   ]
  },
  {
   "cell_type": "code",
   "execution_count": 18,
   "id": "b6091b18-9ec4-4c1a-a2f3-607d7aa1ca02",
   "metadata": {},
   "outputs": [],
   "source": [
    "import pprint  \n",
    "INDEX_NAME = \"toy_index\"\n",
    "\n",
    "\n",
    "INDEX_SETTINGS = {\n",
    "  \"settings\" : {\n",
    "    \"index\":{\n",
    "      \"analysis\":{\n",
    "        \"analyzer\":{\n",
    "          \"korean\":{\n",
    "            \"type\":\"custom\",\n",
    "            \"tokenizer\":\"nori_tokenizer\",\n",
    "            \"filter\": [ \"shingle\" ],\n",
    "\n",
    "          }\n",
    "        }\n",
    "      }\n",
    "    }\n",
    "  },\n",
    "  \"mappings\": {\n",
    "\n",
    "      \"properties\" : {\n",
    "        \"context\" : {\n",
    "          \"type\" : \"text\",\n",
    "          \"analyzer\": \"korean\",\n",
    "          \"search_analyzer\": \"korean\"\n",
    "        },\n",
    "      }\n",
    "\n",
    "  }\n",
    "}"
   ]
  },
  {
   "cell_type": "code",
   "execution_count": 19,
   "id": "71f7d9ad-d057-46f8-9b48-370da627cde6",
   "metadata": {},
   "outputs": [
    {
     "name": "stderr",
     "output_type": "stream",
     "text": [
      "100%|██████████| 56737/56737 [00:00<00:00, 547561.06it/s]\n"
     ]
    }
   ],
   "source": [
    "DOCS = {}\n",
    "for i in tqdm(range(len(contexts))):\n",
    "    DOCS[i] = {'context':contexts[i]}"
   ]
  },
  {
   "cell_type": "code",
   "execution_count": 20,
   "id": "1a299ec3-fe3b-4da1-8c90-5bd761b305ab",
   "metadata": {},
   "outputs": [],
   "source": [
    "try:\n",
    "    es.transport.close()\n",
    "except:\n",
    "    pass\n",
    "es = Elasticsearch()"
   ]
  },
  {
   "cell_type": "code",
   "execution_count": 21,
   "id": "7f08e63d-15ac-41fb-9d74-33e407613902",
   "metadata": {},
   "outputs": [
    {
     "name": "stderr",
     "output_type": "stream",
     "text": [
      "/opt/conda/lib/python3.8/site-packages/elasticsearch/connection/base.py:209: ElasticsearchWarning: Elasticsearch built-in security features are not enabled. Without authentication, your cluster could be accessible to anyone. See https://www.elastic.co/guide/en/elasticsearch/reference/7.15/security-minimal-setup.html to enable security.\n",
      "  warnings.warn(message, category=ElasticsearchWarning)\n"
     ]
    },
    {
     "data": {
      "text/plain": [
       "{'name': '13197ba8cc4f',\n",
       " 'cluster_name': 'elasticsearch',\n",
       " 'cluster_uuid': 'NsjOR1MlSNKPgkiGfKoBIg',\n",
       " 'version': {'number': '7.15.1',\n",
       "  'build_flavor': 'default',\n",
       "  'build_type': 'deb',\n",
       "  'build_hash': '83c34f456ae29d60e94d886e455e6a3409bba9ed',\n",
       "  'build_date': '2021-10-07T21:56:19.031608185Z',\n",
       "  'build_snapshot': False,\n",
       "  'lucene_version': '8.9.0',\n",
       "  'minimum_wire_compatibility_version': '6.8.0',\n",
       "  'minimum_index_compatibility_version': '6.0.0-beta1'},\n",
       " 'tagline': 'You Know, for Search'}"
      ]
     },
     "execution_count": 21,
     "metadata": {},
     "output_type": "execute_result"
    }
   ],
   "source": [
    "es.info()"
   ]
  },
  {
   "cell_type": "code",
   "execution_count": 22,
   "id": "5722d221-2863-48f4-8e39-6a76ca01561e",
   "metadata": {},
   "outputs": [
    {
     "name": "stderr",
     "output_type": "stream",
     "text": [
      "<ipython-input-22-b31c6028f9a8>:1: DeprecationWarning: Using positional arguments for APIs is deprecated and will be disabled in 8.0.0. Instead use only keyword arguments for all APIs. See https://github.com/elastic/elasticsearch-py/issues/1698 for more information\n",
      "  if es.indices.exists(INDEX_NAME):\n",
      "<ipython-input-22-b31c6028f9a8>:3: DeprecationWarning: The 'body' parameter is deprecated for the 'create' API and will be removed in a future version. Instead use API parameters directly. See https://github.com/elastic/elasticsearch-py/issues/1698 for more information\n",
      "  es.indices.create(index=INDEX_NAME, body=INDEX_SETTINGS)\n"
     ]
    },
    {
     "data": {
      "text/plain": [
       "{'acknowledged': True, 'shards_acknowledged': True, 'index': 'toy_index'}"
      ]
     },
     "execution_count": 22,
     "metadata": {},
     "output_type": "execute_result"
    }
   ],
   "source": [
    "if es.indices.exists(INDEX_NAME):\n",
    "    es.indices.delete(index=INDEX_NAME)\n",
    "es.indices.create(index=INDEX_NAME, body=INDEX_SETTINGS)"
   ]
  },
  {
   "cell_type": "code",
   "execution_count": 24,
   "id": "40608264-4f2b-4b8a-9842-013e3059c096",
   "metadata": {},
   "outputs": [
    {
     "name": "stderr",
     "output_type": "stream",
     "text": [
      "<ipython-input-24-1f3888081606>:3: DeprecationWarning: The 'body' parameter is deprecated for the 'index' API and will be removed in a future version. Instead use the 'document' parameter. See https://github.com/elastic/elasticsearch-py/issues/1698 for more information\n",
      "  es.index(index=INDEX_NAME,  id=doc_id, body=doc)\n"
     ]
    },
    {
     "name": "stdout",
     "output_type": "stream",
     "text": [
      "0.00% Done!\n",
      "3.53% Done!\n",
      "7.05% Done!\n",
      "10.58% Done!\n",
      "14.10% Done!\n",
      "17.63% Done!\n",
      "21.15% Done!\n",
      "24.68% Done!\n",
      "28.20% Done!\n",
      "31.73% Done!\n",
      "35.25% Done!\n",
      "38.78% Done!\n",
      "42.30% Done!\n",
      "45.83% Done!\n",
      "49.35% Done!\n",
      "52.88% Done!\n",
      "56.40% Done!\n",
      "59.93% Done!\n",
      "63.45% Done!\n",
      "66.98% Done!\n",
      "70.50% Done!\n",
      "74.03% Done!\n",
      "77.55% Done!\n",
      "81.08% Done!\n",
      "84.60% Done!\n",
      "88.13% Done!\n",
      "91.65% Done!\n",
      "95.18% Done!\n",
      "98.70% Done!\n"
     ]
    }
   ],
   "source": [
    "import time\n",
    "for doc_id, doc in DOCS.items():\n",
    "    es.index(index=INDEX_NAME,  id=doc_id, body=doc)\n",
    "    if doc_id % 2000 == 0:\n",
    "        print(f\"{100*doc_id/len(DOCS):.2f}% Done!\")\n",
    "    # time.sleep(0.1)"
   ]
  },
  {
   "cell_type": "code",
   "execution_count": 26,
   "id": "09bc9967-0598-45ee-b7f7-228d4050dd90",
   "metadata": {},
   "outputs": [
    {
     "name": "stdout",
     "output_type": "stream",
     "text": [
      "{'_id': '0',\n",
      " '_index': 'toy_index',\n",
      " '_primary_term': 1,\n",
      " '_seq_no': 3761,\n",
      " '_source': {'context': '이 문서는 나라 목록이며 전 세계 206개 나라의 각 현황과 주권 승인 정보를 개요 형태로 '\n",
      "                        '나열하고 있다 이 목록은 명료화를 위해 두 부분으로 나뉘어 있다 첫 번째 부분은 바티칸 시국과 '\n",
      "                        '팔레스타인을 포함하여 유엔 등 국제 기구에 가입되어 국제적인 승인을 널리 받았다고 여기는 '\n",
      "                        '195개 나라를 나열하고 있다 두 번째 부분은 일부 지역의 주권을 사실상 데 팍토 행사하고 '\n",
      "                        '있지만 아직 국제적인 승인을 널리 받지 않았다고 여기는 11개 나라를 나열하고 있다 두 목록은 '\n",
      "                        '모두 가나다 순이다 일부 국가의 경우 국가로서의 자격에 논쟁의 여부가 있으며 이 때문에 이러한 '\n",
      "                        '목록을 엮는 것은 매우 어렵고 논란이 생길 수 있는 과정이다 이 목록을 구성하고 있는 국가를 '\n",
      "                        '선정하는 기준에 대한 정보는 포함 기준 단락을 통해 설명하였다 나라에 대한 일반적인 정보는 국가 '\n",
      "                        '문서에서 설명하고 있다'},\n",
      " '_type': '_doc',\n",
      " '_version': 2,\n",
      " 'found': True}\n"
     ]
    }
   ],
   "source": [
    "doc = es.get(index=INDEX_NAME, id=0)\n",
    "pprint.pprint(doc)"
   ]
  },
  {
   "cell_type": "code",
   "execution_count": 27,
   "id": "f1a730d9-1f92-4da7-a2fa-90d07d2e8096",
   "metadata": {},
   "outputs": [
    {
     "name": "stdout",
     "output_type": "stream",
     "text": [
      "{'tokens': [{'end_offset': 5,\n",
      "             'position': 0,\n",
      "             'start_offset': 0,\n",
      "             'token': '트랜스포머',\n",
      "             'type': 'word'},\n",
      "            {'end_offset': 8,\n",
      "             'position': 0,\n",
      "             'positionLength': 2,\n",
      "             'start_offset': 0,\n",
      "             'token': '트랜스포머 영화',\n",
      "             'type': 'shingle'},\n",
      "            {'end_offset': 8,\n",
      "             'position': 1,\n",
      "             'start_offset': 6,\n",
      "             'token': '영화',\n",
      "             'type': 'word'}]}\n"
     ]
    }
   ],
   "source": [
    "query = \"트랜스포머 영화\"\n",
    "res = es.indices.analyze(index=INDEX_NAME,\n",
    "                                 body={\n",
    "                                       \"analyzer\" : \"korean\",\n",
    "                                        \"text\" : query\n",
    "                                 }\n",
    "                        )\n",
    "pprint.pprint(res)"
   ]
  },
  {
   "cell_type": "code",
   "execution_count": 28,
   "id": "5953e0fc-2a6b-4272-9b3c-83ee1c59c7a4",
   "metadata": {},
   "outputs": [
    {
     "name": "stdout",
     "output_type": "stream",
     "text": [
      "{'_shards': {'failed': 0, 'skipped': 0, 'successful': 1, 'total': 1},\n",
      " 'hits': {'hits': [{'_id': '39799',\n",
      "                    '_index': 'toy_index',\n",
      "                    '_score': 21.805086,\n",
      "                    '_source': {'context': '트랜스포머 실시영화 세계관에서는 1에서 처음등장하였다 '\n",
      "                                           '비클모드는 머스탱이다 실사판 영화에서는 몸속의 프렌지를 데리고 '\n",
      "                                           '다닌다 언뜻 보면 사운드웨이브처럼 숨기고 다닌다 트랜스포머 '\n",
      "                                           '실사판 3편에서도 잠깐 휠잭를 죽일때나온다 그리고 군대쪽에서 '\n",
      "                                           '총을 사격하자 그의 눈에 맞는다 그리고 군대쪽에서 빌딩에서 '\n",
      "                                           '내려오고 군대쪽에서 바리케이드의 발쪽에 이상한 폭파무기를 '\n",
      "                                           '다리쪽에 심어놓고는 폭파되어 사망한다 그후로 트랜스포머5 '\n",
      "                                           '최후의 기사 에서도 부활하여 다시 출연한다 하지만 초반에는 '\n",
      "                                           '메가트론과 좀 나오다가 중간에 시가전을 펼칠때 그림록의 꼬리에 '\n",
      "                                           '밀려나간 후로부터 나오질 않는다 그 다음에는 스톤헨지에서 잠깐 '\n",
      "                                           '메가트론 니트로제우스와 함께 포착되고 그 후로부터 등장이 없다 '\n",
      "                                           '얼라인드 세계관에서 작품인 트랜스포머 워 포 사이버트론에서는 '\n",
      "                                           '플레이캐릭터로 등장한다'},\n",
      "                    '_type': '_doc'},\n",
      "                   {'_id': '21093',\n",
      "                    '_index': 'toy_index',\n",
      "                    '_score': 18.337114,\n",
      "                    '_source': {'context': 'What I ve Done 은 미국의 록 밴드 린킨 파크의 '\n",
      "                                           '3번째 정규 음반인 Minutes to Midnight에 '\n",
      "                                           '수록된 곡이자 첫 번째 싱글 음반이다 2007년 4월 1일 '\n",
      "                                           '라디오 싱글로 공개하였으며 이어 4월 2일에는 디지털 '\n",
      "                                           '다운로드로 4월 30일에는 CD 싱글로 발매하였다 6월 28일 '\n",
      "                                           '영화 트랜스포머가 개봉되면서 이 영화의 OST로도 사용되었다 '\n",
      "                                           '2009년 12월 2일에는 Road To Revolution '\n",
      "                                           'Live At Milton Keynes에 수록된 What I '\n",
      "                                           've Done 라이브 트랙이 52회 그래미상 최고의 하드 록 '\n",
      "                                           '퍼포먼스 부문 후보에 올랐으나 AC/DC의 War '\n",
      "                                           'Machine 이 수상하였다'},\n",
      "                    '_type': '_doc'},\n",
      "                   {'_id': '27313',\n",
      "                    '_index': 'toy_index',\n",
      "                    '_score': 16.04517,\n",
      "                    '_source': {'context': '1969년 그렇게 개발된 것이 2254E 컴프레서/리미터이다 '\n",
      "                                           '2254는 기본적으로 시그널이 게인의 변화를 주는 섹션을 '\n",
      "                                           '지나서 다시 게인컨트롤 섹션에 영향을 주는 피드백 방식이었다 '\n",
      "                                           '2254의 특징은 총 4개의 트랜스포머로 가득한 게인스테이지 '\n",
      "                                           '덩어리라는 것이다 일단 인풋 게인 스테이지에서 첫 번째 '\n",
      "                                           '트랜스포머가 들어온 신호에 색을 칠한다 그 다음 신호는 게인 '\n",
      "                                           '리덕션 유닛으로 넘어오는데 니브만의 다이오드 브릿지 diode '\n",
      "                                           'bridges 방식은 사실 레벨 효율이 매우 떨어지는 '\n",
      "                                           '방식이었다 게인 리덕션 유닛을 지난 신호는 인풋신호에 비해 '\n",
      "                                           '거의 40dB 가까이 떨어진채 두 번째 트랜스포머의 색을 묻힌 '\n",
      "                                           '후 니브의 전매특허 BA283 아웃풋 앰프로 들어가게 된다 '\n",
      "                                           'BA283에 포함된 총 세 번째 트랜스포머를 지나 원래의 '\n",
      "                                           '라인신호 레벨을 되찾은 신호는 엔지니어 마음에 따라 리미터 '\n",
      "                                           '사이드체인으로 들어가거나 말거나 중에 하나를 택한다 리미터까지 '\n",
      "                                           '들어가면 총 4개의 트랜스포머를 거치게 되는 것이다 그로 인해 '\n",
      "                                           '2254는 다른 기종에 비해 낮은 노이즈 대 시그널 비율을 '\n",
      "                                           '가지고 있다 그리고 특유의 색깔도 매우 독특하다 이것이 '\n",
      "                                           '2254만의 매력이다 게인리덕션의 성향은 비단같은 스무스함을 '\n",
      "                                           '가지고 있다 다양한 신호에 대해서 레벨 컨트롤도 자연스러운 '\n",
      "                                           '편이다 그렇지만 트랜스포머 덩어리와 BA283 앰프의 색을 '\n",
      "                                           '잔뜩 입혀주었기에 여전히 클래식 컴프레서로서의 가치를 '\n",
      "                                           '이어나가고 있는 것이다 기본적으로 느린 편인 어택은 고정되어 '\n",
      "                                           '있다 2254는 대표적인 피드백타입 컴프레서로 불리는 만큼 '\n",
      "                                           '반응이 느린 컴프레서이다 릴리즈를 자동으로 놓으면 '\n",
      "                                           '릴리즈타임뿐만 아니라 어택타임까지 시그널에 맞추어 속도가 '\n",
      "                                           '자동으로 조절된다 자연스러운 스무스니스는 바로 오토 세팅에서 '\n",
      "                                           '나오는 것이다 하지만 트랜지언트 소스의 경우에는 다이나믹 '\n",
      "                                           '디스토션이 생길 가능성이 크다 다이나믹 디스토션 효과를 얻고자 '\n",
      "                                           '한다면 그렇게 쓸수도 있지만 펀치감이 파괴될 수도 있으니 '\n",
      "                                           '주의해야 한다'},\n",
      "                    '_type': '_doc'}],\n",
      "          'max_score': 21.805086,\n",
      "          'total': {'relation': 'eq', 'value': 2141}},\n",
      " 'timed_out': False,\n",
      " 'took': 629}\n"
     ]
    }
   ],
   "source": [
    "query = \"트랜스포머 영화\"\n",
    "res = es.search(index=INDEX_NAME, q=query, size=3)\n",
    "pprint.pprint(res)"
   ]
  },
  {
   "cell_type": "code",
   "execution_count": 29,
   "id": "0e9ef8dd-c7da-4319-9d02-d8c347b6bc09",
   "metadata": {},
   "outputs": [
    {
     "data": {
      "text/plain": [
       "'트랜스포머 실시영화 세계관에서는 1에서 처음등장하였다 비클모드는 머스탱이다 실사판 영화에서는 몸속의 프렌지를 데리고 다닌다 언뜻 보면 사운드웨이브처럼 숨기고 다닌다 트랜스포머 실사판 3편에서도 잠깐 휠잭를 죽일때나온다 그리고 군대쪽에서 총을 사격하자 그의 눈에 맞는다 그리고 군대쪽에서 빌딩에서 내려오고 군대쪽에서 바리케이드의 발쪽에 이상한 폭파무기를 다리쪽에 심어놓고는 폭파되어 사망한다 그후로 트랜스포머5 최후의 기사 에서도 부활하여 다시 출연한다 하지만 초반에는 메가트론과 좀 나오다가 중간에 시가전을 펼칠때 그림록의 꼬리에 밀려나간 후로부터 나오질 않는다 그 다음에는 스톤헨지에서 잠깐 메가트론 니트로제우스와 함께 포착되고 그 후로부터 등장이 없다 얼라인드 세계관에서 작품인 트랜스포머 워 포 사이버트론에서는 플레이캐릭터로 등장한다'"
      ]
     },
     "execution_count": 29,
     "metadata": {},
     "output_type": "execute_result"
    }
   ],
   "source": [
    "res['hits']['hits'][0]['_source']['context']"
   ]
  },
  {
   "cell_type": "code",
   "execution_count": 30,
   "id": "b8d9ca1f-d9c6-46c4-a17f-9306fd7aed1b",
   "metadata": {},
   "outputs": [],
   "source": [
    "def right_es(texts, queries):\n",
    "    right, wrong = 0, 0\n",
    "    errors = []\n",
    "    for i in range(len(queries)):\n",
    "        try:\n",
    "            res = res = es.search(index=INDEX_NAME, q=queries[i], size=1)\n",
    "        except:\n",
    "            mod_q = queries[i].replace(\"%\", \"\").replace(\"~\", \"\")\n",
    "            res = res = es.search(index=INDEX_NAME, q=mod_q, size=1)\n",
    "            \n",
    "        answer = res['hits']['hits'][0]['_source']['context']\n",
    "        if answer == texts[i]:\n",
    "            right += 1\n",
    "        else:\n",
    "            wrong += 1\n",
    "        if i%24 == 0:\n",
    "            print(f\"{100*i/len(texts)}% Done!\")\n",
    "    print(f\"Total Length : {right+wrong}\")\n",
    "    return right/(right+wrong), errors"
   ]
  },
  {
   "cell_type": "code",
   "execution_count": 31,
   "id": "4faa7a69-d87a-499b-b409-07b109cd6eeb",
   "metadata": {},
   "outputs": [
    {
     "name": "stdout",
     "output_type": "stream",
     "text": [
      "0.0% Done!\n"
     ]
    },
    {
     "name": "stderr",
     "output_type": "stream",
     "text": [
      "WARNING:elasticsearch:POST http://localhost:9200/toy_index/_search?q=%EB%B3%91%EC%97%90+%EA%B1%B8%EB%A0%A4+%EC%A3%BD%EC%9D%84+%ED%99%95%EB%A5%A0%EC%9D%B4+%EC%95%BD+25~50%25%EC%97%90+%EB%8B%AC%ED%95%98%EB%8A%94+%EC%9C%A0%ED%98%95%EC%9D%98+%EC%A7%88%EB%B3%91%EC%9D%80 [status:400 request:0.002s]\n"
     ]
    },
    {
     "name": "stdout",
     "output_type": "stream",
     "text": [
      "10.0% Done!\n",
      "20.0% Done!\n",
      "30.0% Done!\n",
      "40.0% Done!\n",
      "50.0% Done!\n",
      "60.0% Done!\n",
      "70.0% Done!\n",
      "80.0% Done!\n",
      "90.0% Done!\n",
      "Total Length : 240\n",
      "70.42\n"
     ]
    }
   ],
   "source": [
    "es_acc, error_query = right_es(valid_context, valid_query)\n",
    "print(f\"{100*es_acc:.2f}\")"
   ]
  },
  {
   "cell_type": "code",
   "execution_count": 33,
   "id": "1549f312-1614-450c-b83c-c34127682d31",
   "metadata": {},
   "outputs": [
    {
     "data": {
      "text/plain": [
       "['병에 걸려 죽을 확률이 약 25~50%에 달하는 유형의 질병은']"
      ]
     },
     "execution_count": 33,
     "metadata": {},
     "output_type": "execute_result"
    }
   ],
   "source": [
    "error_query"
   ]
  },
  {
   "cell_type": "markdown",
   "id": "d0f700e8-9dbe-4e05-9854-210046eee490",
   "metadata": {},
   "source": [
    "### 추가 테스트 해볼 내용\n",
    "1. nori_tokenizer 모든 query 처리 가능하게 preprocess\n",
    "2. passage 길이 너무 긴 것 삭제 (2500 이상?)\n",
    "3. 정답이 context 내 어디 쯤에 위치하는지 파악 -> 뒷단이나 앞단 random deletion"
   ]
  },
  {
   "cell_type": "code",
   "execution_count": null,
   "id": "21dd2687-d4b1-4ab0-a33a-e4bdc660e465",
   "metadata": {},
   "outputs": [],
   "source": []
  }
 ],
 "metadata": {
  "kernelspec": {
   "display_name": "Python 3 (ipykernel)",
   "language": "python",
   "name": "python3"
  },
  "language_info": {
   "codemirror_mode": {
    "name": "ipython",
    "version": 3
   },
   "file_extension": ".py",
   "mimetype": "text/x-python",
   "name": "python",
   "nbconvert_exporter": "python",
   "pygments_lexer": "ipython3",
   "version": "3.8.5"
  }
 },
 "nbformat": 4,
 "nbformat_minor": 5
}
