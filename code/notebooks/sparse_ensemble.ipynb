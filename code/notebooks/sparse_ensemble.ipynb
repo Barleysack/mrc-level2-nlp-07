{
 "cells": [
  {
   "cell_type": "markdown",
   "id": "6fef9bbd-9373-481f-8676-3509657e2043",
   "metadata": {},
   "source": [
    "# Elasticsearch와 BM25를 이용해 Sparse Ensemble 구현하기"
   ]
  },
  {
   "cell_type": "code",
   "execution_count": 1,
   "id": "9289ebb5-eb0f-47e0-b88f-6b2dd9a25045",
   "metadata": {},
   "outputs": [],
   "source": [
    "from rank_bm25 import BM25Okapi, BM25Plus\n",
    "from elasticsearch import Elasticsearch\n",
    "\n",
    "from transformers import AutoTokenizer\n",
    "import os\n",
    "import json\n",
    "import pickle\n",
    "import numpy as np\n",
    "import pandas as pd\n",
    "import re\n",
    "from tqdm.auto import tqdm\n",
    "\n",
    "from datasets import load_from_disk"
   ]
  },
  {
   "cell_type": "markdown",
   "id": "799fb7a2-aa57-43fb-814e-98a00cdacf44",
   "metadata": {},
   "source": [
    "## 전처리 함수 및 데이터 로드"
   ]
  },
  {
   "cell_type": "code",
   "execution_count": 2,
   "id": "5f8947a9-e8b0-4ca9-876e-1c440abf31c9",
   "metadata": {},
   "outputs": [],
   "source": [
    "def preprocess_retrieval(corpus):\n",
    "    corpus = corpus.replace(\"\\\\n\", \"\")\n",
    "    corpus = re.sub(f\"[^- ㄱ-ㅎㅏ-ㅣ가-힣0-9a-zA-Zぁ-ゔァ-ヴー々〆〤一-龥]\", \" \", corpus)\n",
    "    corpus = ' '.join(corpus.split())\n",
    "    return corpus"
   ]
  },
  {
   "cell_type": "code",
   "execution_count": 3,
   "id": "d9a5c926-0e0c-4692-a7df-ad49b99ac74c",
   "metadata": {},
   "outputs": [],
   "source": [
    "with open(\"../data/wikipedia_documents.json\", \"r\", encoding=\"utf-8\") as f:\n",
    "    wiki = json.load(f)\n",
    "contexts = list(dict.fromkeys([v[\"text\"] for v in wiki.values()]))"
   ]
  },
  {
   "cell_type": "code",
   "execution_count": 4,
   "id": "d488a29f-1974-440d-bfd9-c46f7578c950",
   "metadata": {},
   "outputs": [
    {
     "data": {
      "application/vnd.jupyter.widget-view+json": {
       "model_id": "083b1fd5495443e19600ed229d51f7ea",
       "version_major": 2,
       "version_minor": 0
      },
      "text/plain": [
       "HBox(children=(FloatProgress(value=0.0, max=3952.0), HTML(value='')))"
      ]
     },
     "metadata": {},
     "output_type": "display_data"
    },
    {
     "name": "stdout",
     "output_type": "stream",
     "text": [
      "\n"
     ]
    },
    {
     "data": {
      "application/vnd.jupyter.widget-view+json": {
       "model_id": "69960c5c42484c80bead0c0d47adc226",
       "version_major": 2,
       "version_minor": 0
      },
      "text/plain": [
       "HBox(children=(FloatProgress(value=0.0, max=240.0), HTML(value='')))"
      ]
     },
     "metadata": {},
     "output_type": "display_data"
    },
    {
     "name": "stdout",
     "output_type": "stream",
     "text": [
      "\n"
     ]
    }
   ],
   "source": [
    "train_dataset = load_from_disk(\"../data/train_dataset\")\n",
    "train_context, valid_context = [], []\n",
    "train_query, valid_query = [], []\n",
    "for data in tqdm(train_dataset['train']):\n",
    "    train_context.append(preprocess_retrieval(data['context']))\n",
    "    train_query.append(preprocess_retrieval(data['question']))\n",
    "for data in tqdm(train_dataset['validation']):\n",
    "    valid_context.append(preprocess_retrieval(data['context']))\n",
    "    valid_query.append(preprocess_retrieval(data['question']))"
   ]
  },
  {
   "cell_type": "code",
   "execution_count": 5,
   "id": "1d878c71-a3a2-4138-9366-013ef559e570",
   "metadata": {},
   "outputs": [],
   "source": [
    "train_ids = list(range(len(train_context)))\n",
    "valid_ids = list(range(len(valid_context)))"
   ]
  },
  {
   "cell_type": "code",
   "execution_count": 6,
   "id": "1646eff2-405f-4f22-b9fd-a95670c0708a",
   "metadata": {},
   "outputs": [
    {
     "data": {
      "application/vnd.jupyter.widget-view+json": {
       "model_id": "436cc0d406684e6b9c67eb51dfdfdea0",
       "version_major": 2,
       "version_minor": 0
      },
      "text/plain": [
       "HBox(children=(FloatProgress(value=0.0, max=56737.0), HTML(value='')))"
      ]
     },
     "metadata": {},
     "output_type": "display_data"
    },
    {
     "name": "stdout",
     "output_type": "stream",
     "text": [
      "\n"
     ]
    }
   ],
   "source": [
    "contexts = [preprocess_retrieval(corpus) for corpus in tqdm(contexts)]"
   ]
  },
  {
   "cell_type": "markdown",
   "id": "41aa925e-b184-4d55-bdbc-ca94aaa76d55",
   "metadata": {},
   "source": [
    "## 1. BM25 함수"
   ]
  },
  {
   "cell_type": "code",
   "execution_count": 7,
   "id": "4ee6f2d4-4e63-4e06-a0ce-fbacf92cb329",
   "metadata": {},
   "outputs": [],
   "source": [
    "def make_bm25(contexts, model_name):\n",
    "    tokenizer = AutoTokenizer.from_pretrained(model_name)\n",
    "    tokenized_wiki = [tokenizer.tokenize(corpus) for corpus in tqdm(contexts)]\n",
    "    bm25 = BM25Okapi(tqdm(tokenized_wiki))\n",
    "    return bm25, tokenizer"
   ]
  },
  {
   "cell_type": "code",
   "execution_count": 8,
   "id": "abc6bd0a-b056-4824-97b3-ea5daee692b4",
   "metadata": {},
   "outputs": [],
   "source": [
    "def retrieval_bm25(model, query, contexts, tokenizer, topk=1):\n",
    "    tokenized_query = tokenizer.tokenize(query)\n",
    "    results = model.get_scores(tokenized_query)\n",
    "    sorted_result = np.argsort(results)[::-1]\n",
    "    doc_score = results[sorted_result].tolist()[:topk]\n",
    "    doc_indices = sorted_result.tolist()[:topk]\n",
    "    return doc_score, doc_indices"
   ]
  },
  {
   "cell_type": "code",
   "execution_count": 9,
   "id": "4e66f69d-1b35-47dc-920b-193969a09d22",
   "metadata": {},
   "outputs": [
    {
     "data": {
      "application/vnd.jupyter.widget-view+json": {
       "model_id": "9f5a62bff13f4e11838964da8ac5f314",
       "version_major": 2,
       "version_minor": 0
      },
      "text/plain": [
       "HBox(children=(FloatProgress(value=0.0, max=56737.0), HTML(value='')))"
      ]
     },
     "metadata": {},
     "output_type": "display_data"
    },
    {
     "name": "stderr",
     "output_type": "stream",
     "text": [
      "Token indices sequence length is longer than the specified maximum sequence length for this model (1033 > 512). Running this sequence through the model will result in indexing errors\n"
     ]
    },
    {
     "name": "stdout",
     "output_type": "stream",
     "text": [
      "\n"
     ]
    },
    {
     "data": {
      "application/vnd.jupyter.widget-view+json": {
       "model_id": "e887a0b0fbdd43399d4be25645254b33",
       "version_major": 2,
       "version_minor": 0
      },
      "text/plain": [
       "HBox(children=(FloatProgress(value=0.0, max=56737.0), HTML(value='')))"
      ]
     },
     "metadata": {},
     "output_type": "display_data"
    },
    {
     "name": "stdout",
     "output_type": "stream",
     "text": [
      "\n"
     ]
    }
   ],
   "source": [
    "my_bm25, tokenizer = make_bm25(contexts=contexts, model_name=\"monologg/koelectra-base-v3-discriminator\")"
   ]
  },
  {
   "cell_type": "code",
   "execution_count": 11,
   "id": "a069a340-18a2-4534-9caf-2db15f7d826d",
   "metadata": {},
   "outputs": [
    {
     "data": {
      "application/vnd.jupyter.widget-view+json": {
       "model_id": "6668517987a4474da0765d29e81cd0fb",
       "version_major": 2,
       "version_minor": 0
      },
      "text/plain": [
       "HBox(children=(FloatProgress(value=0.0, max=240.0), HTML(value='')))"
      ]
     },
     "metadata": {},
     "output_type": "display_data"
    },
    {
     "name": "stdout",
     "output_type": "stream",
     "text": [
      "\n",
      "Total Length : 240\n",
      "Accuracy : 82.50\n"
     ]
    }
   ],
   "source": [
    "right, wrong = 0, 0\n",
    "for i in tqdm(range(len(valid_query))):\n",
    "    results = my_bm25.get_top_n(tokenizer.tokenize(valid_query[i]), contexts, n=3)\n",
    "    if valid_context[i] in results:\n",
    "        right += 1\n",
    "    else:\n",
    "        wrong += 1\n",
    "print(f\"Total Length : {right+wrong}\")\n",
    "print(f\"Accuracy : {100*right/(right+wrong):.2f}\")"
   ]
  },
  {
   "cell_type": "code",
   "execution_count": 12,
   "id": "637610a8-5dc5-4f8d-ab9d-1a880c5b96b7",
   "metadata": {},
   "outputs": [
    {
     "data": {
      "application/vnd.jupyter.widget-view+json": {
       "model_id": "6f41c95023d84a5192fe6afa1544bce6",
       "version_major": 2,
       "version_minor": 0
      },
      "text/plain": [
       "HBox(children=(FloatProgress(value=0.0, max=240.0), HTML(value='')))"
      ]
     },
     "metadata": {},
     "output_type": "display_data"
    },
    {
     "name": "stdout",
     "output_type": "stream",
     "text": [
      "\n",
      "Total Length : 240\n",
      "Accuracy : 82.50\n"
     ]
    }
   ],
   "source": [
    "right, wrong = 0, 0\n",
    "for i in tqdm(range(len(valid_query))):\n",
    "    scores, indices = retrieval_bm25(my_bm25, valid_query[i], contexts, tokenizer, 3)\n",
    "    predict = [contexts[idx] for idx in indices]\n",
    "    if valid_context[i] in predict:\n",
    "        right += 1\n",
    "    else:\n",
    "        wrong += 1\n",
    "print(f\"Total Length : {right+wrong}\")\n",
    "print(f\"Accuracy : {100*right/(right+wrong):.2f}\")"
   ]
  },
  {
   "cell_type": "markdown",
   "id": "9bc06214-764b-4e86-9f8f-368b393b0bbd",
   "metadata": {},
   "source": [
    "### 새로 발견한 중요한 사실\n",
    "### get_top_n()과 get_scores()에서 동일한 결과를 얻으려면 입력들이 모두 전처리 들어간 상태여야함"
   ]
  },
  {
   "cell_type": "markdown",
   "id": "6761255a-b57b-4cf8-a4fd-8fea3f7bc675",
   "metadata": {},
   "source": [
    "## 2. Elasticsearch 함수"
   ]
  },
  {
   "cell_type": "code",
   "execution_count": 10,
   "id": "bbcd30c4-c40d-4965-ab0b-8ff64e8b908e",
   "metadata": {},
   "outputs": [],
   "source": [
    "def make_elasticsearch(contexts, index_name):\n",
    "    os.system(\"service elasticsearch start\")\n",
    "    INDEX_NAME = index_name\n",
    "\n",
    "    INDEX_SETTINGS = {\"settings\" : {\"index\":{\"analysis\":{\"analyzer\":{\"korean\":{\"type\":\"custom\",\n",
    "                                            \"tokenizer\":\"nori_tokenizer\",\"filter\": [ \"shingle\" ],}}}}},\n",
    "      \"mappings\": {\"properties\" : {\"context\" : {\"type\" : \"text\",\"analyzer\": \"korean\",\"search_analyzer\": \"korean\"},}}}\n",
    "    \n",
    "    DOCS = {}\n",
    "    for i in tqdm(range(len(contexts))):\n",
    "        DOCS[i] = {'context':contexts[i]}\n",
    "        \n",
    "    try:\n",
    "        es.transport.close()\n",
    "    except:\n",
    "        pass\n",
    "    es = Elasticsearch()\n",
    "    \n",
    "    if es.indices.exists(INDEX_NAME):\n",
    "        es.indices.delete(index=INDEX_NAME)\n",
    "    es.indices.create(index=INDEX_NAME, body=INDEX_SETTINGS)\n",
    "    \n",
    "    for doc_id, doc in tqdm(DOCS.items()):\n",
    "        es.index(index=INDEX_NAME,  id=doc_id, body=doc)\n",
    "        \n",
    "    return es"
   ]
  },
  {
   "cell_type": "code",
   "execution_count": 13,
   "id": "0d6a44f1-6e84-4ff6-9218-570538b78ce6",
   "metadata": {},
   "outputs": [
    {
     "name": "stdout",
     "output_type": "stream",
     "text": [
      " * Starting Elasticsearch Server\n",
      " * Already running.\n",
      "   ...done.\n"
     ]
    },
    {
     "data": {
      "application/vnd.jupyter.widget-view+json": {
       "model_id": "fdd4fe8797c74fb78ecc81c2c1a9e984",
       "version_major": 2,
       "version_minor": 0
      },
      "text/plain": [
       "HBox(children=(FloatProgress(value=0.0, max=56737.0), HTML(value='')))"
      ]
     },
     "metadata": {},
     "output_type": "display_data"
    },
    {
     "name": "stdout",
     "output_type": "stream",
     "text": [
      "\n"
     ]
    },
    {
     "name": "stderr",
     "output_type": "stream",
     "text": [
      "<ipython-input-10-708f6d5b1640>:19: DeprecationWarning: Using positional arguments for APIs is deprecated and will be disabled in 8.0.0. Instead use only keyword arguments for all APIs. See https://github.com/elastic/elasticsearch-py/issues/1698 for more information\n",
      "  if es.indices.exists(INDEX_NAME):\n",
      "/opt/conda/lib/python3.8/site-packages/elasticsearch/connection/base.py:209: ElasticsearchWarning: Elasticsearch built-in security features are not enabled. Without authentication, your cluster could be accessible to anyone. See https://www.elastic.co/guide/en/elasticsearch/reference/7.15/security-minimal-setup.html to enable security.\n",
      "  warnings.warn(message, category=ElasticsearchWarning)\n",
      "<ipython-input-10-708f6d5b1640>:21: DeprecationWarning: The 'body' parameter is deprecated for the 'create' API and will be removed in a future version. Instead use API parameters directly. See https://github.com/elastic/elasticsearch-py/issues/1698 for more information\n",
      "  es.indices.create(index=INDEX_NAME, body=INDEX_SETTINGS)\n"
     ]
    },
    {
     "data": {
      "application/vnd.jupyter.widget-view+json": {
       "model_id": "d5a07102ecfe4cf8960017afe5b77ec0",
       "version_major": 2,
       "version_minor": 0
      },
      "text/plain": [
       "HBox(children=(FloatProgress(value=0.0, max=56737.0), HTML(value='')))"
      ]
     },
     "metadata": {},
     "output_type": "display_data"
    },
    {
     "name": "stderr",
     "output_type": "stream",
     "text": [
      "<ipython-input-10-708f6d5b1640>:24: DeprecationWarning: The 'body' parameter is deprecated for the 'index' API and will be removed in a future version. Instead use the 'document' parameter. See https://github.com/elastic/elasticsearch-py/issues/1698 for more information\n",
      "  es.index(index=INDEX_NAME,  id=doc_id, body=doc)\n"
     ]
    },
    {
     "name": "stdout",
     "output_type": "stream",
     "text": [
      "\n"
     ]
    }
   ],
   "source": [
    "es = make_elasticsearch(contexts, \"wiki_index\")"
   ]
  },
  {
   "cell_type": "code",
   "execution_count": 14,
   "id": "12acfaed-51c7-4d62-856e-3e4e9bad2021",
   "metadata": {},
   "outputs": [],
   "source": [
    "def retrieval_es(model, query, index_name, topk=1):\n",
    "    try:\n",
    "        res = model.search(index=index_name, q=query, size=topk)\n",
    "    except:\n",
    "        mod_q = query.replace(\"%\", \" \")\n",
    "        res = model.search(index=index_name, q=mod_q, size=topk)\n",
    "    \n",
    "    doc_score = [float(res['hits']['hits'][idx]['_score']) for idx in range(topk)]\n",
    "    doc_indices = [int(res['hits']['hits'][idx]['_id']) for idx in range(topk)]\n",
    "    return doc_score, doc_indices"
   ]
  },
  {
   "cell_type": "code",
   "execution_count": 15,
   "id": "35520956-c4fe-4c31-ade4-ce6509f28ec2",
   "metadata": {},
   "outputs": [
    {
     "data": {
      "application/vnd.jupyter.widget-view+json": {
       "model_id": "0743d427f15d4827a79eefcd822f8362",
       "version_major": 2,
       "version_minor": 0
      },
      "text/plain": [
       "HBox(children=(FloatProgress(value=0.0, max=240.0), HTML(value='')))"
      ]
     },
     "metadata": {},
     "output_type": "display_data"
    },
    {
     "name": "stdout",
     "output_type": "stream",
     "text": [
      "\n",
      "Total Length : 240\n",
      "Accuracy : 92.08\n"
     ]
    }
   ],
   "source": [
    "right, wrong = 0, 0\n",
    "for i in tqdm(range(len(valid_query))):\n",
    "    scores, indices = retrieval_es(es, valid_query[i], \"wiki_index\", 10)\n",
    "    predict = [contexts[idx] for idx in indices]\n",
    "    if valid_context[i] in predict:\n",
    "        right += 1\n",
    "    else:\n",
    "        wrong += 1\n",
    "print(f\"Total Length : {right+wrong}\")\n",
    "print(f\"Accuracy : {100*right/(right+wrong):.2f}\")"
   ]
  },
  {
   "cell_type": "code",
   "execution_count": 16,
   "id": "8985e3f8-decd-40a7-b4b8-922849df255b",
   "metadata": {},
   "outputs": [
    {
     "data": {
      "text/plain": [
       "([26.301352, 25.264828, 24.809431], float)"
      ]
     },
     "execution_count": 16,
     "metadata": {},
     "output_type": "execute_result"
    }
   ],
   "source": [
    "scores, indices = retrieval_es(es, valid_query[0], \"wiki_index\", 3)\n",
    "scores, type(scores[0])"
   ]
  },
  {
   "cell_type": "markdown",
   "id": "f35cfa24-21f9-40b4-ac6f-4e3f648de8a4",
   "metadata": {},
   "source": [
    "## 3. Ensemble 함수"
   ]
  },
  {
   "cell_type": "code",
   "execution_count": 18,
   "id": "7a756c2b-1038-4ced-b8b5-5159998ca4f8",
   "metadata": {},
   "outputs": [
    {
     "data": {
      "application/vnd.jupyter.widget-view+json": {
       "model_id": "f63ec052afec4d3980485136bc9390f9",
       "version_major": 2,
       "version_minor": 0
      },
      "text/plain": [
       "HBox(children=(FloatProgress(value=0.0, max=56737.0), HTML(value='')))"
      ]
     },
     "metadata": {},
     "output_type": "display_data"
    },
    {
     "name": "stderr",
     "output_type": "stream",
     "text": [
      "Token indices sequence length is longer than the specified maximum sequence length for this model (1003 > 512). Running this sequence through the model will result in indexing errors\n"
     ]
    },
    {
     "name": "stdout",
     "output_type": "stream",
     "text": [
      "\n"
     ]
    },
    {
     "data": {
      "application/vnd.jupyter.widget-view+json": {
       "model_id": "944348742c7346fa93323f218402d5fd",
       "version_major": 2,
       "version_minor": 0
      },
      "text/plain": [
       "HBox(children=(FloatProgress(value=0.0, max=56737.0), HTML(value='')))"
      ]
     },
     "metadata": {},
     "output_type": "display_data"
    },
    {
     "name": "stdout",
     "output_type": "stream",
     "text": [
      "\n"
     ]
    }
   ],
   "source": [
    "# my_bm25, tokenizer = make_bm25(contexts=contexts, model_name=\"monologg/koelectra-base-v3-discriminator\")\n",
    "my_bm, tokenizer2 = make_bm25(contexts=contexts, model_name=\"klue/bert-base\")"
   ]
  },
  {
   "cell_type": "code",
   "execution_count": 68,
   "id": "51e2a789-2d88-428a-b2fa-521da1304c22",
   "metadata": {},
   "outputs": [],
   "source": [
    "from collections import Counter\n",
    "\n",
    "def normalize_score(scores):\n",
    "    total = sum(scores)\n",
    "    normalized = [sc/total for sc in scores]\n",
    "    return normalized\n",
    "\n",
    "def mixed_scores(id1, sc1, id2, sc2, id3, sc3):\n",
    "    # sc1, sc2, sc3 = normalize_score(sc1), normalize_score(sc2), normalize_score(sc3)\n",
    "    cross = list(set(id1 + id2 + id3))\n",
    "    board1, board2, board3 = list(zip(id1, sc1)), list(zip(id2, sc2)), list(zip(id3, sc3))\n",
    "    total_board = [[c, 0] for c in cross]\n",
    "    for i in range(len(board1)):\n",
    "        for idx in range(len(total_board)):\n",
    "            if total_board[idx][0] == board1[i][0]:\n",
    "                total_board[idx][1] += board1[i][1]\n",
    "                break\n",
    "    for i in range(len(board2)):\n",
    "        for idx in range(len(total_board)):\n",
    "            if total_board[idx][0] == board2[i][0]:\n",
    "                total_board[idx][1] += board2[i][1]\n",
    "                break\n",
    "    for i in range(len(board3)):\n",
    "        for idx in range(len(total_board)):\n",
    "            if total_board[idx][0] == board3[i][0]:\n",
    "                total_board[idx][1] += board3[i][1]\n",
    "                break\n",
    "    indices = [idx[0] for idx in total_board]\n",
    "    scores = [score[1] for score in total_board]\n",
    "    return indices, scores"
   ]
  },
  {
   "cell_type": "code",
   "execution_count": 69,
   "id": "decb13eb-3ed5-4edd-bbb9-b86705357b83",
   "metadata": {},
   "outputs": [],
   "source": [
    "def ensemble(es, bm1, bm2, tokenizer1, tokenizer2, contexts, texts, queries, topk=1, index_name=\"wiki_index\"):\n",
    "    final_indicies, final_scores = [], []\n",
    "    len_topk = []\n",
    "    right, wrong = 0, 0\n",
    "    for i in tqdm(range(len(queries))):\n",
    "        k = 10\n",
    "        scores1, indicies1 = retrieval_bm25(bm1, queries[i], contexts, tokenizer1, topk=topk)\n",
    "        scores2, indicies2 = retrieval_bm25(bm2, queries[i], contexts, tokenizer2, topk=topk)\n",
    "        scores3, indicies3 = retrieval_es(es, queries[i], index_name, topk=topk)\n",
    "        final_id, final_score = mixed_scores(indicies1, scores1, indicies2, scores2, indicies3, scores3)\n",
    "        final_indicies.append(final_id)\n",
    "        final_scores.append(final_score)\n",
    "        # print(final_id, final_score)\n",
    "        board = list(zip(final_id, final_score))\n",
    "        board = sorted(board, key = lambda x : -x[1])\n",
    "        if len(final_id) < k:\n",
    "            k = len(final_id)\n",
    "        predict = [contexts[idx] for idx in final_id[:k]]\n",
    "        len_topk.append(len(predict))\n",
    "        if texts[i] in predict:\n",
    "            right += 1\n",
    "        else:\n",
    "            wrong += 1\n",
    "    return board, right/(right+wrong), len_topk"
   ]
  },
  {
   "cell_type": "code",
   "execution_count": 70,
   "id": "2f0641c1-5984-41d6-8369-e735011e727b",
   "metadata": {},
   "outputs": [
    {
     "data": {
      "application/vnd.jupyter.widget-view+json": {
       "model_id": "2196dd4ab29e4e89bf1d656fa2f10ebe",
       "version_major": 2,
       "version_minor": 0
      },
      "text/plain": [
       "HBox(children=(FloatProgress(value=0.0, max=240.0), HTML(value='')))"
      ]
     },
     "metadata": {},
     "output_type": "display_data"
    },
    {
     "name": "stdout",
     "output_type": "stream",
     "text": [
      "\n",
      "Ensemble Acc. : 63.75%\n",
      "Min : 10\n",
      "Max : 10\n",
      "Avg : 10.00\n"
     ]
    }
   ],
   "source": [
    "final_indicies, acc, len_topk10 = ensemble(es = es,\n",
    "                                      bm1 = my_bm25,\n",
    "                                      bm2 = my_bm,\n",
    "                                      tokenizer1 = tokenizer,\n",
    "                                      tokenizer2 = tokenizer2,\n",
    "                                      contexts = contexts,\n",
    "                                      texts = valid_context,\n",
    "                                      queries = valid_query,\n",
    "                                      topk = 10)\n",
    "\n",
    "print(f\"Ensemble Acc. : {100*acc:.2f}%\")\n",
    "print(f\"Min : {min(len_topk10)}\")\n",
    "print(f\"Max : {max(len_topk10)}\")\n",
    "print(f\"Avg : {sum(len_topk10)/len(len_topk10):.2f}\")"
   ]
  },
  {
   "cell_type": "code",
   "execution_count": 71,
   "id": "37e34b97-d6c6-4743-9996-3e5872fc976b",
   "metadata": {},
   "outputs": [
    {
     "data": {
      "application/vnd.jupyter.widget-view+json": {
       "model_id": "a917256bfb834b39a37eb640ced80a2a",
       "version_major": 2,
       "version_minor": 0
      },
      "text/plain": [
       "HBox(children=(FloatProgress(value=0.0, max=240.0), HTML(value='')))"
      ]
     },
     "metadata": {},
     "output_type": "display_data"
    },
    {
     "name": "stdout",
     "output_type": "stream",
     "text": [
      "\n",
      "Ensemble Acc. : 35.00%\n",
      "Min : 10\n",
      "Max : 10\n",
      "Avg : 10.00\n"
     ]
    }
   ],
   "source": [
    "final_indicies, acc, len_topk20 = ensemble(es = es,\n",
    "                                      bm1 = my_bm25,\n",
    "                                      bm2 = my_bm,\n",
    "                                      tokenizer1 = tokenizer,\n",
    "                                      tokenizer2 = tokenizer2,\n",
    "                                      contexts = contexts,\n",
    "                                      texts = valid_context,\n",
    "                                      queries = valid_query,\n",
    "                                      topk = 20)\n",
    "\n",
    "print(f\"Ensemble Acc. : {100*acc:.2f}%\")\n",
    "print(f\"Min : {min(len_topk20)}\")\n",
    "print(f\"Max : {max(len_topk20)}\")\n",
    "print(f\"Avg : {sum(len_topk20)/len(len_topk20):.2f}\")"
   ]
  },
  {
   "cell_type": "code",
   "execution_count": 72,
   "id": "7139ecfb-90cd-4227-bcfc-2ffca9398cce",
   "metadata": {},
   "outputs": [
    {
     "data": {
      "application/vnd.jupyter.widget-view+json": {
       "model_id": "d77bdc5b0f014e20ab4b25dedc036a39",
       "version_major": 2,
       "version_minor": 0
      },
      "text/plain": [
       "HBox(children=(FloatProgress(value=0.0, max=240.0), HTML(value='')))"
      ]
     },
     "metadata": {},
     "output_type": "display_data"
    },
    {
     "name": "stdout",
     "output_type": "stream",
     "text": [
      "\n",
      "Ensemble Acc. : 24.58%\n",
      "Min : 10\n",
      "Max : 10\n",
      "Avg : 10.00\n"
     ]
    }
   ],
   "source": [
    "final_indicies, acc, len_topk30 = ensemble(es = es,\n",
    "                                      bm1 = my_bm25,\n",
    "                                      bm2 = my_bm,\n",
    "                                      tokenizer1 = tokenizer,\n",
    "                                      tokenizer2 = tokenizer2,\n",
    "                                      contexts = contexts,\n",
    "                                      texts = valid_context,\n",
    "                                      queries = valid_query,\n",
    "                                      topk = 30)\n",
    "\n",
    "print(f\"Ensemble Acc. : {100*acc:.2f}%\")\n",
    "print(f\"Min : {min(len_topk30)}\")\n",
    "print(f\"Max : {max(len_topk30)}\")\n",
    "print(f\"Avg : {sum(len_topk30)/len(len_topk30):.2f}\")"
   ]
  },
  {
   "cell_type": "code",
   "execution_count": 73,
   "id": "4249cccd-8170-4bfd-a1fd-e79627e3c266",
   "metadata": {},
   "outputs": [
    {
     "data": {
      "application/vnd.jupyter.widget-view+json": {
       "model_id": "16f6df3ca4a14bb78f0f7690406c310e",
       "version_major": 2,
       "version_minor": 0
      },
      "text/plain": [
       "HBox(children=(FloatProgress(value=0.0, max=240.0), HTML(value='')))"
      ]
     },
     "metadata": {},
     "output_type": "display_data"
    },
    {
     "name": "stdout",
     "output_type": "stream",
     "text": [
      "\n",
      "Ensemble Acc. : 11.67%\n",
      "Min : 10\n",
      "Max : 10\n",
      "Avg : 10.00\n"
     ]
    }
   ],
   "source": [
    "final_indicies, acc, len_topk50 = ensemble(es = es,\n",
    "                                      bm1 = my_bm25,\n",
    "                                      bm2 = my_bm,\n",
    "                                      tokenizer1 = tokenizer,\n",
    "                                      tokenizer2 = tokenizer2,\n",
    "                                      contexts = contexts,\n",
    "                                      texts = valid_context,\n",
    "                                      queries = valid_query,\n",
    "                                      topk = 50)\n",
    "\n",
    "print(f\"Ensemble Acc. : {100*acc:.2f}%\")\n",
    "print(f\"Min : {min(len_topk50)}\")\n",
    "print(f\"Max : {max(len_topk50)}\")\n",
    "print(f\"Avg : {sum(len_topk50)/len(len_topk50):.2f}\")"
   ]
  },
  {
   "cell_type": "code",
   "execution_count": 67,
   "id": "2253100e-2538-49da-ba8b-629dc5c4272d",
   "metadata": {},
   "outputs": [
    {
     "data": {
      "application/vnd.jupyter.widget-view+json": {
       "model_id": "2940aafb5446476480d34b941042d810",
       "version_major": 2,
       "version_minor": 0
      },
      "text/plain": [
       "HBox(children=(FloatProgress(value=0.0, max=240.0), HTML(value='')))"
      ]
     },
     "metadata": {},
     "output_type": "display_data"
    },
    {
     "name": "stdout",
     "output_type": "stream",
     "text": [
      "\n",
      "Ensemble Acc. : 25.83%\n",
      "Min : 2\n",
      "Max : 2\n",
      "Avg : 2.00\n"
     ]
    }
   ],
   "source": [
    "final_indicies, acc, len_topk5 = ensemble(es = es,\n",
    "                                      bm1 = my_bm25,\n",
    "                                      bm2 = my_bm,\n",
    "                                      tokenizer1 = tokenizer,\n",
    "                                      tokenizer2 = tokenizer2,\n",
    "                                      contexts = contexts,\n",
    "                                      texts = valid_context,\n",
    "                                      queries = valid_query,\n",
    "                                      topk = 5)\n",
    "\n",
    "print(f\"Ensemble Acc. : {100*acc:.2f}%\")\n",
    "print(f\"Min : {min(len_topk5)}\")\n",
    "print(f\"Max : {max(len_topk5)}\")\n",
    "print(f\"Avg : {sum(len_topk5)/len(len_topk5):.2f}\")"
   ]
  },
  {
   "cell_type": "code",
   "execution_count": null,
   "id": "5ed213d9-3e59-49a6-9831-d1edad2fdbe3",
   "metadata": {},
   "outputs": [],
   "source": []
  }
 ],
 "metadata": {
  "kernelspec": {
   "display_name": "Python 3 (ipykernel)",
   "language": "python",
   "name": "python3"
  },
  "language_info": {
   "codemirror_mode": {
    "name": "ipython",
    "version": 3
   },
   "file_extension": ".py",
   "mimetype": "text/x-python",
   "name": "python",
   "nbconvert_exporter": "python",
   "pygments_lexer": "ipython3",
   "version": "3.8.5"
  }
 },
 "nbformat": 4,
 "nbformat_minor": 5
}
