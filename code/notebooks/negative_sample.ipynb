{
 "cells": [
  {
   "cell_type": "code",
   "execution_count": 1,
   "id": "bf1d440f-ae8e-429c-b7df-b23c97038037",
   "metadata": {},
   "outputs": [],
   "source": [
    "from rank_bm25 import BM25Okapi, BM25Plus\n",
    "from elasticsearch import Elasticsearch\n",
    "\n",
    "from transformers import AutoTokenizer\n",
    "import os\n",
    "import json\n",
    "import pickle\n",
    "import numpy as np\n",
    "import pandas as pd\n",
    "import re\n",
    "from tqdm.auto import tqdm\n",
    "\n",
    "from datasets import load_from_disk"
   ]
  },
  {
   "cell_type": "code",
   "execution_count": 2,
   "id": "4a24c0ab-f171-4fcf-8ed1-4cc03df980bf",
   "metadata": {},
   "outputs": [],
   "source": [
    "def preprocess_retrieval(corpus):\n",
    "    corpus = corpus.replace(\"\\\\n\", \"\")\n",
    "    corpus = re.sub(f\"[^- ㄱ-ㅎㅏ-ㅣ가-힣0-9a-zA-Zぁ-ゔァ-ヴー々〆〤一-龥]\", \" \", corpus)\n",
    "    corpus = ' '.join(corpus.split())\n",
    "    return corpus"
   ]
  },
  {
   "cell_type": "code",
   "execution_count": 3,
   "id": "c7be6e4c-cb91-4b60-97c3-f0d630dbe2fe",
   "metadata": {},
   "outputs": [
    {
     "data": {
      "application/vnd.jupyter.widget-view+json": {
       "model_id": "ff64debde84349c587d88d6ca2204535",
       "version_major": 2,
       "version_minor": 0
      },
      "text/plain": [
       "HBox(children=(FloatProgress(value=0.0, max=3952.0), HTML(value='')))"
      ]
     },
     "metadata": {},
     "output_type": "display_data"
    },
    {
     "name": "stdout",
     "output_type": "stream",
     "text": [
      "\n"
     ]
    }
   ],
   "source": [
    "train_dataset = load_from_disk(\"../data/train_dataset\")\n",
    "train_context = []\n",
    "train_query = []\n",
    "for data in tqdm(train_dataset['train']):\n",
    "    train_context.append(data['context'])\n",
    "    train_query.append(data['question'])"
   ]
  },
  {
   "cell_type": "code",
   "execution_count": 46,
   "id": "529b43b4-cb96-4ae2-ade2-3e8b8d205f79",
   "metadata": {},
   "outputs": [
    {
     "data": {
      "text/plain": [
       "(3340, 3340)"
      ]
     },
     "execution_count": 46,
     "metadata": {},
     "output_type": "execute_result"
    }
   ],
   "source": [
    "initial_contexts = list(set(train_context))\n",
    "contexts = [preprocess_retrieval(corpus) for corpus in initial_contexts]\n",
    "len(contexts), len(initial_contexts)"
   ]
  },
  {
   "cell_type": "code",
   "execution_count": 5,
   "id": "9bedbcfa-23d0-4e6f-b3a8-6616f9707a72",
   "metadata": {},
   "outputs": [],
   "source": [
    "def make_elasticsearch(contexts, index_name):\n",
    "    os.system(\"service elasticsearch start\")\n",
    "    INDEX_NAME = index_name\n",
    "\n",
    "    INDEX_SETTINGS = {\"settings\" : {\"index\":{\"analysis\":{\"analyzer\":{\"korean\":{\"type\":\"custom\",\n",
    "                                            \"tokenizer\":\"nori_tokenizer\",\"filter\": [ \"shingle\" ],}}}}},\n",
    "      \"mappings\": {\"properties\" : {\"context\" : {\"type\" : \"text\",\"analyzer\": \"korean\",\"search_analyzer\": \"korean\"},}}}\n",
    "    \n",
    "    DOCS = {}\n",
    "    for i in tqdm(range(len(contexts))):\n",
    "        DOCS[i] = {'context':contexts[i]}\n",
    "        \n",
    "    try:\n",
    "        es.transport.close()\n",
    "    except:\n",
    "        pass\n",
    "    es = Elasticsearch()\n",
    "    \n",
    "    if es.indices.exists(INDEX_NAME):\n",
    "        es.indices.delete(index=INDEX_NAME)\n",
    "    es.indices.create(index=INDEX_NAME, body=INDEX_SETTINGS)\n",
    "    \n",
    "    for doc_id, doc in tqdm(DOCS.items()):\n",
    "        es.index(index=INDEX_NAME,  id=doc_id, body=doc)\n",
    "        \n",
    "    return es"
   ]
  },
  {
   "cell_type": "code",
   "execution_count": 10,
   "id": "3fcadba3-c168-48fc-b4c2-b157be12d702",
   "metadata": {},
   "outputs": [
    {
     "name": "stdout",
     "output_type": "stream",
     "text": [
      " * Starting Elasticsearch Server\n",
      " * Already running.\n",
      "   ...done.\n"
     ]
    },
    {
     "data": {
      "application/vnd.jupyter.widget-view+json": {
       "model_id": "0ebb404538894aba9ea950fe3f4790b2",
       "version_major": 2,
       "version_minor": 0
      },
      "text/plain": [
       "HBox(children=(FloatProgress(value=0.0, max=3340.0), HTML(value='')))"
      ]
     },
     "metadata": {},
     "output_type": "display_data"
    },
    {
     "name": "stdout",
     "output_type": "stream",
     "text": [
      "\n"
     ]
    },
    {
     "name": "stderr",
     "output_type": "stream",
     "text": [
      "<ipython-input-5-708f6d5b1640>:19: DeprecationWarning: Using positional arguments for APIs is deprecated and will be disabled in 8.0.0. Instead use only keyword arguments for all APIs. See https://github.com/elastic/elasticsearch-py/issues/1698 for more information\n",
      "  if es.indices.exists(INDEX_NAME):\n",
      "/opt/conda/lib/python3.8/site-packages/elasticsearch/connection/base.py:209: ElasticsearchWarning: Elasticsearch built-in security features are not enabled. Without authentication, your cluster could be accessible to anyone. See https://www.elastic.co/guide/en/elasticsearch/reference/7.15/security-minimal-setup.html to enable security.\n",
      "  warnings.warn(message, category=ElasticsearchWarning)\n",
      "<ipython-input-5-708f6d5b1640>:21: DeprecationWarning: The 'body' parameter is deprecated for the 'create' API and will be removed in a future version. Instead use API parameters directly. See https://github.com/elastic/elasticsearch-py/issues/1698 for more information\n",
      "  es.indices.create(index=INDEX_NAME, body=INDEX_SETTINGS)\n"
     ]
    },
    {
     "data": {
      "application/vnd.jupyter.widget-view+json": {
       "model_id": "57af437ab09f4f6dab4fd59346c6165e",
       "version_major": 2,
       "version_minor": 0
      },
      "text/plain": [
       "HBox(children=(FloatProgress(value=0.0, max=3340.0), HTML(value='')))"
      ]
     },
     "metadata": {},
     "output_type": "display_data"
    },
    {
     "name": "stderr",
     "output_type": "stream",
     "text": [
      "<ipython-input-5-708f6d5b1640>:24: DeprecationWarning: The 'body' parameter is deprecated for the 'index' API and will be removed in a future version. Instead use the 'document' parameter. See https://github.com/elastic/elasticsearch-py/issues/1698 for more information\n",
      "  es.index(index=INDEX_NAME,  id=doc_id, body=doc)\n"
     ]
    },
    {
     "name": "stdout",
     "output_type": "stream",
     "text": [
      "\n"
     ]
    }
   ],
   "source": [
    "es = make_elasticsearch(contexts, \"wiki_index\")"
   ]
  },
  {
   "cell_type": "code",
   "execution_count": 42,
   "id": "9dcb46f9-602c-45ba-b8ff-de926e0f3bb3",
   "metadata": {},
   "outputs": [],
   "source": [
    "def retrieval_es(model, query, index_name, size=1):\n",
    "    try:\n",
    "        res = model.search(index=index_name, q=query, size=size)\n",
    "    except:\n",
    "        mod_q = query.replace(\"%\", \" \").replace(\"-\", \" \")\n",
    "        res = model.search(index=index_name, q=mod_q, size=size)\n",
    "    \n",
    "    doc_score = [float(res['hits']['hits'][idx]['_score']) for idx in range(size)]\n",
    "    doc_indices = [int(res['hits']['hits'][idx]['_id']) for idx in range(size)]\n",
    "    return doc_score, doc_indices"
   ]
  },
  {
   "cell_type": "code",
   "execution_count": 62,
   "id": "243c0f59-6cbf-4ffb-8dcc-6e29b211059e",
   "metadata": {},
   "outputs": [],
   "source": [
    "def negative_samples(model, contexts, passage, query, index_name, topk=1):\n",
    "    p_with_neg = []\n",
    "    double_size = topk*2\n",
    "    scores, indices = retrieval_es(model, query, index_name, size=double_size)\n",
    "    # p_with_neg.append(passage)\n",
    "    for idx in indices:\n",
    "        if contexts[idx] != passage and contexts[idx] not in p_with_neg:\n",
    "            p_with_neg.append(contexts[idx])\n",
    "        if len(p_with_neg) == topk:\n",
    "            break\n",
    "    return p_with_neg    "
   ]
  },
  {
   "cell_type": "code",
   "execution_count": 63,
   "id": "c83b0bdd-6357-47f8-80fe-6b4bebb4351b",
   "metadata": {},
   "outputs": [
    {
     "data": {
      "application/vnd.jupyter.widget-view+json": {
       "model_id": "de91a29cf32f449e9cbbee95a9cc5c4c",
       "version_major": 2,
       "version_minor": 0
      },
      "text/plain": [
       "HBox(children=(FloatProgress(value=0.0, max=3952.0), HTML(value='')))"
      ]
     },
     "metadata": {},
     "output_type": "display_data"
    },
    {
     "name": "stdout",
     "output_type": "stream",
     "text": [
      "\n"
     ]
    },
    {
     "data": {
      "text/plain": [
       "(3952,\n",
       " [\"미국의 외교정책의 수립과 이행에 대한 주된 책임을 대통령이 지게 되어 있으나, 의회도 이에 대해 강한 통제력을 발휘할 수 있다. 우선 의회는 전쟁을 선포할 수 있는 권한이 있다. 하원은 대통령의 외교정책 수행에 필요한 예산에 대해 강한 통제력을 가지고 있으며, 상원도 재원에 대한 통제가 가능하다. 특히 상원의 경우에는 고급 외무 관리의 임명에 대한 통제력을 가지고 있을 뿐만 아니라, 미국이 체결하는 모든 조약에 대한 비준권을 가지고 있다. 의회의 이와 같은 제재 권한은 행정부와 의회의 갈등을 초래하는 요소로 작용한다. 에드워드 코르윈(Edward Samuel Corwin) 교수는 미국의 정치체계가 외교정책에 있어서 행정부와 의회 간의 투쟁을 초래한다고 지적한 바 있다. 그 좋은 예로서는 상원이 국제연맹 헌장의 비준을 거부한 사실을 들 수 있다. 의회와 행정부간에는 긴밀한 협조가 이루어지고 있다. 유엔헌장 비준 당시의 의회와 행정부 간의 긴밀한 협조는 너무나 유명하다. 그러나 이러한 협동외교는 한국에서 흔히 사용되고 있는 '초당외교'라는 말과는 엄격히 구분되어야 한다. 베트남 전쟁으로 말미암아 파생된 행정부와 의회 간의 갈등은 심각한 형편이었다. 그러나 의회가 대통령에 가하는 압력은 행정부의 독주를 견제하는 동시에 건전한 방향의 미국 대외정책을 모색하고 있다. 의회는 국민의 대표기구로서 국민의 의사와 직결돼 있다. 따라서 대외정책의 수립이나 이행 과정에도 항상 의회를 '문제아'로 취급하거나, 또는 그러한 범주 내에 의회의 기능을 이해해서는 안 된다.\",\n",
       "  '비건은 1984년 미시간 대학교에서 러시아어와 정치학 학사 학위를 받았다. 1992년부터 1994년까지는 국제 공화주의 연구소의 러시아 모스크바 지국장으로 있었다. 조지 W. 부시 행정부 시절 미국 국가안전보장회의 사무국장으로 재직하며 국가안보보좌관 콘돌리자 라이스를 보좌했고, 2008년 미국 대통령 선거에서 존 매케인의 부통령 후보 세라 페일린의 외교정책보좌관을 맡았다.\\\\n\\\\n2018년 3월 1일, 비건이 도널드 트럼프 행정부의 미국 국가안보보좌관 H. R. 맥매스터를 대신할 유력한 후보 가운데 하나라는 보도가 나왔으나 3월 22일에 존 볼턴이 H. R. 맥매스터를 대신할 국가안보보좌관으로 취임했다. 8월 23일에는 미국의 국무장관 마이크 폼페이오가 비건을 도널드 트럼프 행정부를 대표해 조선민주주의인민공화국과 관련된 정책을 이끌어 나갈 미국 국무부 대북 정책 특별대표로 임명했다. 9월 11일에는 대한민국을 처음으로 찾아 대한민국의 대통령 문재인을 접견하고 의견을 나누었다. \\\\n\\\\n2019년 2월 6일 비건은 2019년 2월 북미정상회담을 준비할 실무 협상을 위해 조선민주주의인민공화국을 방문했다. 8월에 CNN 등 미국 언론기관들은 도널드 트럼프가 비건을 주러시아 미국 대사로 고려하고 있다고 전했으나 비건은 8월 21일 대한민국을 찾아 한반도평화교섭본부장 이도훈과 협의를 가진 뒤 기자들에게 자신은 주러시아 미국 대사 자리를 받아들이지 않을 것이며 조선민주주의인민공화국과 관련해 진전을 만드는 데 집중할 것이라고 밝혔다. 10월 31일 도널드 트럼프는 주러시아 미국 대사로 지명된 존 J. 설리번 전 미국 국무부 부장관을 대체할 사람으로 비건을 지명했다. 12월 19일에 미국 상원은 비건의 국무부 부장관 인준안을 찬성 90표 대 반대 3표로 통과시켰고, 이틀 뒤 비건은 국무부 부장관으로 공식 취임했다.',\n",
       "  \"NATO는 이후 동서냉전 체제하에서 서방국가들의 집단적 안전보장체제 구축의 모델로서, 소련과 동유럽 국가들에 대항하는 대표적 상징으로서의 위상을 지녀왔는데 그 본질은 군사동맹이었다.\\\\n\\\\n북대서양 조약 체약국으로 구성되는 NATO는 회원국 간의 이해 관계가 맞물려 파동을 겪기도 했는데, 프랑스는 1966년 3월 핵무기 개발을 둘러싸고 미국과 대립하다가 통합 군사 조직에서 탈퇴하였고, 그리스는 터키의 키프로스 침공과 관련된 NATO의 태도에 불만을 갖고 1974년 4월에 통합 군사 조직에서 탈퇴하였다가 1980년 10월에 다시 복귀했다.\\\\n\\\\n초기 NATO의 조직은 상설기관으로 최고기관인 각료이사회와 사무국, 그리고 그 아래의 전문·보좌 기관과 통합군사기구로 구성되었다. 각료이사회는 회원국 외무·재무·국방 장관 및 관계장관으로 구성되는 최고기관으로 연 2회 이상의 정례회합을 가지며, 각국의 대통령·총리·수상이 개인자격으로 참가하기도 하였다.\\\\n\\\\n산하에 핵방위문제위원회·방위계획위원회·핵기획 그룹 등의 전문기관이 설치되어 그 보좌를 받으며, 보조기관으로 대사급 상설이사회가 설치되었는데, 사무총장이 의장을 겸임하고, 회의방식은 만장일치제를 채택하였다. 전문기관 중 핵방위문제위원회는 프랑스·룩셈부르크·아이슬란드를 제외한 회원국 국방장관으로 구성되어 NATO의 핵전략을 결정하였고, 방위계획위원회는 회원국 국방장관으로 구성되는 최고군령기관으로 통합군사조직을 통할하며, 핵기획 그룹은 1966년 12월 방위계획위원회와 동시에 설치되었는데 프랑스 아이슬란드를 제외한 회원국방장관으로 구성되었다. 방위계획위원회는 통합군사조직의 최고통수기관이며 그 아래 군사위원회가 설치되어 '유럽 연합군 최고사령부(SHAPE), 대서양해군사령부(ACLANT), 해협연합군사령부, 3기구를 관할하였다. SHAPE는 북대서양 최고사령부라고도 칭하는데, 각료이사회의 결정에 의해 1951년 4월 발족하였다. 방위 범위는 영국·프랑스·포르투갈을 제외한 서유럽 전역과 영국영공이며, 전시에는 최고사령관이 유럽 지역의 육·해·공 3군이 작전권을 행사하였다. 산하에 북유럽군·중부유럽군·남부유럽군·영국반공군·기동부대·조기경계기동대 등 6개 사령부를 두었다. ACLANT는 상비병력은 없지만 훈련시·전시에는 회원국 해군이 전속되었다. 방위범위는 영국·프랑스 해협과 잉글랜드 연안을 제외한 미국 연합수역에서 유럽·아프리카 연안수역까지, 즉 위도상으로는 북극에서 적도까지였다. 해협연합사령부는 해협연합군 사령관과 해협연합군 항공대 사령관의 지휘 아래 영국·프랑스 해협과 북해남부의 방위를 담당하였다. 설립 당시 파리에 본부를 두고 있었으나 프랑스가 통합군사조직에서 탈퇴하자 브뤼셀로 이전하였다.\\\\n\\\\nNATO는 1990년대에 들어서 딜레마에 봉착하기도 했는데, 1991년에는 나토 회원국에 대해 즉각적으로 어떠한 군사적 위협도 없을 정도로 상황이 개선되어, 미래의 나토 역할에 대한 의문이 제기되었다. 예를 들면, 그 해에 바르샤바조약국들은 동맹관계를 청산하는 데에 합의했고, 소련의 공산당은 정부에 대한 지배력을 잃었으며, 1991년 후반에 소련은 해체되었다. 바르샤바 조약 기국가 붕괴된 후, 나토는 나토 회원국뿐만 아니라 이전에 바르샤바조약을 체결한 나라들도 포함하는 북대서양협력회의를 결성했다. 이 기구는 두 개의 국가 집단 사이의 연대를 강화할 목적으로 만들어졌다. 1991년에 나토는 유럽에 대한 핵무기 공급을 80% 줄일 것이라고 발표했다. 나토는 1992년에 소속군이 유럽의 비회원국들에게 평화유지 지원을 할 수 있도록 함으로써 군사적인 역할이 커지도록 했다.\\\\n\\\\n나토는 1994년 2월 소속 항공기가 유엔이 지정한 보스니아 헤르체고비나의 비행 금지 구역을 침범한 보스니아 헤르체고비나의 세르비아계 전투기 4대를 격추함으로써 처음으로 전투행위를 수행했다. 또한 1994년에는 대부분 과거에 공산국가였던 20개국이 평화를 위한 동반자라고 하는 나토와의 연대 기구에 가입하였고, 군사적으로도 참여하였다.\"])"
      ]
     },
     "execution_count": 63,
     "metadata": {},
     "output_type": "execute_result"
    }
   ],
   "source": [
    "p_with_negs = []\n",
    "for i in tqdm(range(len(train_query))):\n",
    "    sample = negative_samples(es, initial_contexts, train_context[i], preprocess_retrieval(train_query[i]), \"wiki_index\", topk=3)\n",
    "    p_with_negs.append(sample)\n",
    "len(p_with_negs), p_with_negs[0]"
   ]
  },
  {
   "cell_type": "code",
   "execution_count": 64,
   "id": "0d19d9cf-656a-403a-bf32-1a53a2a58872",
   "metadata": {},
   "outputs": [],
   "source": [
    "for i in range(len(p_with_negs)):\n",
    "    assert len(p_with_negs[0]) == 3, \"Wrong Topk\""
   ]
  },
  {
   "cell_type": "code",
   "execution_count": 65,
   "id": "2405c8a9-41a1-4bd3-b5f4-cfba3039f8c3",
   "metadata": {},
   "outputs": [
    {
     "data": {
      "text/plain": [
       "Dataset({\n",
       "    features: ['__index_level_0__', 'answers', 'context', 'document_id', 'id', 'question', 'title'],\n",
       "    num_rows: 3952\n",
       "})"
      ]
     },
     "execution_count": 65,
     "metadata": {},
     "output_type": "execute_result"
    }
   ],
   "source": [
    "train_dataset['train']"
   ]
  },
  {
   "cell_type": "code",
   "execution_count": 66,
   "id": "600fc9f8-f0f5-4375-8a12-6fa0f7bd3d47",
   "metadata": {},
   "outputs": [],
   "source": [
    "index_level = list(train_dataset['train']['__index_level_0__'])\n",
    "answers = list(train_dataset['train']['answers'])\n",
    "document_id = list(train_dataset['train']['document_id'])\n",
    "ids = list(train_dataset['train']['id'])\n",
    "title = list(train_dataset['train']['title'])"
   ]
  },
  {
   "cell_type": "code",
   "execution_count": 67,
   "id": "8e021444-4bdf-4436-81fc-11e37e2a40cb",
   "metadata": {},
   "outputs": [],
   "source": [
    "df = pd.DataFrame({'__index_level_0__':index_level,\n",
    "                  'answers':answers,\n",
    "                  'context':train_context,\n",
    "                  'document_id':document_id,\n",
    "                  'id':ids,\n",
    "                  'question':train_query,\n",
    "                  'title':title,\n",
    "                  'nagative_samples':p_with_negs})"
   ]
  },
  {
   "cell_type": "code",
   "execution_count": 68,
   "id": "0037674f-a6cf-4023-9b47-1207da52e27e",
   "metadata": {},
   "outputs": [],
   "source": [
    "df.to_csv(\"../negative_samples.csv\", index=False)"
   ]
  },
  {
   "cell_type": "code",
   "execution_count": null,
   "id": "6d8c32b4-5f81-4dc1-970e-bcc478dfe133",
   "metadata": {},
   "outputs": [],
   "source": []
  }
 ],
 "metadata": {
  "kernelspec": {
   "display_name": "Python 3 (ipykernel)",
   "language": "python",
   "name": "python3"
  },
  "language_info": {
   "codemirror_mode": {
    "name": "ipython",
    "version": 3
   },
   "file_extension": ".py",
   "mimetype": "text/x-python",
   "name": "python",
   "nbconvert_exporter": "python",
   "pygments_lexer": "ipython3",
   "version": "3.8.5"
  }
 },
 "nbformat": 4,
 "nbformat_minor": 5
}
