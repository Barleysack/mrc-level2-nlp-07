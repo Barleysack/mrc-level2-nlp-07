{
 "cells": [
  {
   "cell_type": "code",
   "execution_count": 1,
   "id": "9a61f692-dd98-4ea6-b93e-78fdfb6c4c13",
   "metadata": {},
   "outputs": [],
   "source": [
    "import os\n",
    "import json\n",
    "import pickle\n",
    "import numpy as np\n",
    "import pandas as pd\n",
    "import re\n",
    "\n",
    "from tqdm import tqdm\n",
    "\n",
    "from datasets import load_from_disk\n",
    "\n",
    "from matplotlib import pyplot as plt\n",
    "import seaborn as sns"
   ]
  },
  {
   "cell_type": "markdown",
   "id": "52db0f55-acf4-4e96-923f-74b19308cfc6",
   "metadata": {},
   "source": [
    "# Retrieval을 위한 wikipedia passages 관찰"
   ]
  },
  {
   "cell_type": "code",
   "execution_count": 3,
   "id": "23c264d4-55f6-4660-9bef-9e9a62c74196",
   "metadata": {},
   "outputs": [
    {
     "data": {
      "text/plain": [
       "({'text': '이 문서는 나라 목록이며, 전 세계 206개 나라의 각 현황과 주권 승인 정보를 개요 형태로 나열하고 있다.\\n\\n이 목록은 명료화를 위해 두 부분으로 나뉘어 있다.\\n\\n# 첫 번째 부분은 바티칸 시국과 팔레스타인을 포함하여 유엔 등 국제 기구에 가입되어 국제적인 승인을 널리 받았다고 여기는 195개 나라를 나열하고 있다.\\n# 두 번째 부분은 일부 지역의 주권을 사실상 (데 팍토) 행사하고 있지만, 아직 국제적인 승인을 널리 받지 않았다고 여기는 11개 나라를 나열하고 있다.\\n\\n두 목록은 모두 가나다 순이다.\\n\\n일부 국가의 경우 국가로서의 자격에 논쟁의 여부가 있으며, 이 때문에 이러한 목록을 엮는 것은 매우 어렵고 논란이 생길 수 있는 과정이다. 이 목록을 구성하고 있는 국가를 선정하는 기준에 대한 정보는 \"포함 기준\" 단락을 통해 설명하였다. 나라에 대한 일반적인 정보는 \"국가\" 문서에서 설명하고 있다.',\n",
       "  'corpus_source': '위키피디아',\n",
       "  'url': 'TODO',\n",
       "  'domain': None,\n",
       "  'title': '나라 목록',\n",
       "  'author': None,\n",
       "  'html': None,\n",
       "  'document_id': 0},\n",
       " 60613)"
      ]
     },
     "execution_count": 3,
     "metadata": {},
     "output_type": "execute_result"
    }
   ],
   "source": [
    "data_path = \"../../data/\"\n",
    "context_path = \"wikipedia_documents.json\"\n",
    "\n",
    "with open(os.path.join(data_path, context_path), \"r\", encoding=\"utf-8\") as f:\n",
    "    wiki = json.load(f)\n",
    "wiki[\"0\"], len(wiki)"
   ]
  },
  {
   "cell_type": "code",
   "execution_count": 4,
   "id": "197c3836-ea86-460e-8411-1f3291038185",
   "metadata": {},
   "outputs": [
    {
     "data": {
      "text/plain": [
       "('이 문서는 나라 목록이며, 전 세계 206개 나라의 각 현황과 주권 승인 정보를 개요 형태로 나열하고 있다.\\n\\n이 목록은 명료화를 위해 두 부분으로 나뉘어 있다.\\n\\n# 첫 번째 부분은 바티칸 시국과 팔레스타인을 포함하여 유엔 등 국제 기구에 가입되어 국제적인 승인을 널리 받았다고 여기는 195개 나라를 나열하고 있다.\\n# 두 번째 부분은 일부 지역의 주권을 사실상 (데 팍토) 행사하고 있지만, 아직 국제적인 승인을 널리 받지 않았다고 여기는 11개 나라를 나열하고 있다.\\n\\n두 목록은 모두 가나다 순이다.\\n\\n일부 국가의 경우 국가로서의 자격에 논쟁의 여부가 있으며, 이 때문에 이러한 목록을 엮는 것은 매우 어렵고 논란이 생길 수 있는 과정이다. 이 목록을 구성하고 있는 국가를 선정하는 기준에 대한 정보는 \"포함 기준\" 단락을 통해 설명하였다. 나라에 대한 일반적인 정보는 \"국가\" 문서에서 설명하고 있다.',\n",
       " 56737)"
      ]
     },
     "execution_count": 4,
     "metadata": {},
     "output_type": "execute_result"
    }
   ],
   "source": [
    "contexts = list(dict.fromkeys([v[\"text\"] for v in wiki.values()]))\n",
    "contexts[0], len(contexts)"
   ]
  },
  {
   "cell_type": "code",
   "execution_count": 8,
   "id": "a53f9ae5-41ef-4358-9421-9ce12e361823",
   "metadata": {},
   "outputs": [
    {
     "data": {
      "text/plain": [
       "56351"
      ]
     },
     "execution_count": 8,
     "metadata": {},
     "output_type": "execute_result"
    }
   ],
   "source": [
    "len([corpus for corpus in contexts if len(corpus) < 3500])"
   ]
  },
  {
   "cell_type": "code",
   "execution_count": 55,
   "id": "854ee5cd-d78a-4cd6-8002-cf9266b14da7",
   "metadata": {},
   "outputs": [
    {
     "name": "stderr",
     "output_type": "stream",
     "text": [
      "Wiki to DataFrame: 100%|██████████| 60613/60613 [00:00<00:00, 373882.08it/s]\n"
     ]
    }
   ],
   "source": [
    "text = []\n",
    "source = []\n",
    "url = []\n",
    "domain = []\n",
    "title = []\n",
    "author = []\n",
    "html = []\n",
    "document_id = []\n",
    "for idx in tqdm(range(len(wiki)), desc=\"Wiki to DataFrame\"):\n",
    "    new = wiki[str(idx)]\n",
    "    text.append(new['text'])\n",
    "    source.append(new['corpus_source'])\n",
    "    url.append(new['url'])\n",
    "    domain.append(new['domain'])\n",
    "    title.append(new['title'])\n",
    "    author.append(new['author'])\n",
    "    html.append(new['html'])\n",
    "    document_id.append(new['document_id'])\n",
    "    \n",
    "wiki_df = pd.DataFrame({\"text\":text, \"corpus_source\":source, \"url\":url, \"domain\":domain,\n",
    "                       \"title\":title, \"author\":author, \"html\":html, \"document_id\":document_id})"
   ]
  },
  {
   "cell_type": "code",
   "execution_count": 56,
   "id": "1dcff69c-f6e7-4a66-8227-023bdcda489a",
   "metadata": {},
   "outputs": [
    {
     "data": {
      "text/html": [
       "<div>\n",
       "<style scoped>\n",
       "    .dataframe tbody tr th:only-of-type {\n",
       "        vertical-align: middle;\n",
       "    }\n",
       "\n",
       "    .dataframe tbody tr th {\n",
       "        vertical-align: top;\n",
       "    }\n",
       "\n",
       "    .dataframe thead th {\n",
       "        text-align: right;\n",
       "    }\n",
       "</style>\n",
       "<table border=\"1\" class=\"dataframe\">\n",
       "  <thead>\n",
       "    <tr style=\"text-align: right;\">\n",
       "      <th></th>\n",
       "      <th>text</th>\n",
       "      <th>corpus_source</th>\n",
       "      <th>url</th>\n",
       "      <th>domain</th>\n",
       "      <th>title</th>\n",
       "      <th>author</th>\n",
       "      <th>html</th>\n",
       "      <th>document_id</th>\n",
       "    </tr>\n",
       "  </thead>\n",
       "  <tbody>\n",
       "    <tr>\n",
       "      <th>0</th>\n",
       "      <td>이 문서는 나라 목록이며, 전 세계 206개 나라의 각 현황과 주권 승인 정보를 개...</td>\n",
       "      <td>위키피디아</td>\n",
       "      <td>TODO</td>\n",
       "      <td>None</td>\n",
       "      <td>나라 목록</td>\n",
       "      <td>None</td>\n",
       "      <td>None</td>\n",
       "      <td>0</td>\n",
       "    </tr>\n",
       "    <tr>\n",
       "      <th>1</th>\n",
       "      <td>이 목록에 실린 국가 기준은 1933년 몬테비데오 협약 1장을 참고로 하였다. 협정...</td>\n",
       "      <td>위키피디아</td>\n",
       "      <td>TODO</td>\n",
       "      <td>None</td>\n",
       "      <td>나라 목록</td>\n",
       "      <td>None</td>\n",
       "      <td>None</td>\n",
       "      <td>1</td>\n",
       "    </tr>\n",
       "    <tr>\n",
       "      <th>2</th>\n",
       "      <td>현 서울특별시 종로구 서린동 (구 일제 강점기 경기도 경성부 서린정) 출신이다. 친...</td>\n",
       "      <td>위키피디아</td>\n",
       "      <td>TODO</td>\n",
       "      <td>None</td>\n",
       "      <td>백남준</td>\n",
       "      <td>None</td>\n",
       "      <td>None</td>\n",
       "      <td>2</td>\n",
       "    </tr>\n",
       "    <tr>\n",
       "      <th>3</th>\n",
       "      <td>아오조라 문고(靑空文庫, あおぞらぶんこ|아오조라 분고)는 ‘일본어판 구텐베르크 프로...</td>\n",
       "      <td>위키피디아</td>\n",
       "      <td>TODO</td>\n",
       "      <td>None</td>\n",
       "      <td>아오조라 문고</td>\n",
       "      <td>None</td>\n",
       "      <td>None</td>\n",
       "      <td>3</td>\n",
       "    </tr>\n",
       "    <tr>\n",
       "      <th>4</th>\n",
       "      <td>저자 사망 이후 50년이 지나 저작권이 소멸한 메이지 시대부터 쇼와 시대 초기까지의...</td>\n",
       "      <td>위키피디아</td>\n",
       "      <td>TODO</td>\n",
       "      <td>None</td>\n",
       "      <td>아오조라 문고</td>\n",
       "      <td>None</td>\n",
       "      <td>None</td>\n",
       "      <td>4</td>\n",
       "    </tr>\n",
       "  </tbody>\n",
       "</table>\n",
       "</div>"
      ],
      "text/plain": [
       "                                                text corpus_source   url  \\\n",
       "0  이 문서는 나라 목록이며, 전 세계 206개 나라의 각 현황과 주권 승인 정보를 개...         위키피디아  TODO   \n",
       "1  이 목록에 실린 국가 기준은 1933년 몬테비데오 협약 1장을 참고로 하였다. 협정...         위키피디아  TODO   \n",
       "2  현 서울특별시 종로구 서린동 (구 일제 강점기 경기도 경성부 서린정) 출신이다. 친...         위키피디아  TODO   \n",
       "3  아오조라 문고(靑空文庫, あおぞらぶんこ|아오조라 분고)는 ‘일본어판 구텐베르크 프로...         위키피디아  TODO   \n",
       "4  저자 사망 이후 50년이 지나 저작권이 소멸한 메이지 시대부터 쇼와 시대 초기까지의...         위키피디아  TODO   \n",
       "\n",
       "  domain    title author  html  document_id  \n",
       "0   None    나라 목록   None  None            0  \n",
       "1   None    나라 목록   None  None            1  \n",
       "2   None      백남준   None  None            2  \n",
       "3   None  아오조라 문고   None  None            3  \n",
       "4   None  아오조라 문고   None  None            4  "
      ]
     },
     "execution_count": 56,
     "metadata": {},
     "output_type": "execute_result"
    }
   ],
   "source": [
    "wiki_df.head()"
   ]
  },
  {
   "cell_type": "code",
   "execution_count": 57,
   "id": "dad6ac86-c3ae-4af2-96e9-7129876fa57f",
   "metadata": {},
   "outputs": [
    {
     "data": {
      "text/plain": [
       "60613"
      ]
     },
     "execution_count": 57,
     "metadata": {},
     "output_type": "execute_result"
    }
   ],
   "source": [
    "len(wiki_df)"
   ]
  },
  {
   "cell_type": "markdown",
   "id": "187628b3-acbf-4f37-9086-85b501c494ba",
   "metadata": {},
   "source": [
    "## Explore Texts - Length"
   ]
  },
  {
   "cell_type": "code",
   "execution_count": 58,
   "id": "5f958462-cc45-4e29-bc8c-5f5c8669f92b",
   "metadata": {},
   "outputs": [],
   "source": [
    "from transformers import AutoTokenizer\n",
    "\n",
    "# model_name = \"klue/bert-base\"\n",
    "model_name = \"xlm-roberta-large\"\n",
    "tokenizer = AutoTokenizer.from_pretrained(model_name)"
   ]
  },
  {
   "cell_type": "code",
   "execution_count": 59,
   "id": "c8508472-a400-40b2-9af8-23a3ad22cebf",
   "metadata": {},
   "outputs": [
    {
     "name": "stderr",
     "output_type": "stream",
     "text": [
      "  0%|          | 0/60613 [00:00<?, ?it/s]Token indices sequence length is longer than the specified maximum sequence length for this model (1194 > 512). Running this sequence through the model will result in indexing errors\n",
      "100%|██████████| 60613/60613 [01:31<00:00, 660.04it/s]\n"
     ]
    }
   ],
   "source": [
    "len_text = [len(tokenizer(txt)['input_ids']) for txt in tqdm(list(wiki_df['text']))]"
   ]
  },
  {
   "cell_type": "code",
   "execution_count": 60,
   "id": "95c87f40-ec2f-46aa-9a5c-b54e059cc5b9",
   "metadata": {},
   "outputs": [
    {
     "name": "stderr",
     "output_type": "stream",
     "text": [
      "/opt/conda/lib/python3.8/site-packages/seaborn/distributions.py:2619: FutureWarning: `distplot` is a deprecated function and will be removed in a future version. Please adapt your code to use either `displot` (a figure-level function with similar flexibility) or `histplot` (an axes-level function for histograms).\n",
      "  warnings.warn(msg, FutureWarning)\n"
     ]
    },
    {
     "data": {
      "image/png": "[encoded data removed]",
      "text/plain": [
       "<Figure size 432x288 with 1 Axes>"
      ]
     },
     "metadata": {
      "needs_background": "light"
     },
     "output_type": "display_data"
    },
    {
     "name": "stdout",
     "output_type": "stream",
     "text": [
      "avg : 434\n",
      "max : 38557\n",
      "min : 75\n"
     ]
    }
   ],
   "source": [
    "sns.distplot(len_text, kde=True)\n",
    "plt.ylabel(\"Tokenized Length\")\n",
    "plt.show()\n",
    "print(f\"avg : {sum(len_text)//len(len_text)}\")\n",
    "print(f\"max : {max(len_text)}\")\n",
    "print(f\"min : {min(len_text)}\")"
   ]
  },
  {
   "cell_type": "code",
   "execution_count": 61,
   "id": "f4200e7b-1de3-4a2b-8eff-e9acb1142ec6",
   "metadata": {},
   "outputs": [
    {
     "name": "stderr",
     "output_type": "stream",
     "text": [
      "100%|██████████| 60613/60613 [00:00<00:00, 786719.98it/s]\n"
     ]
    },
    {
     "data": {
      "text/plain": [
       "33"
      ]
     },
     "execution_count": 61,
     "metadata": {},
     "output_type": "execute_result"
    }
   ],
   "source": [
    "cnt = 0\n",
    "long_txt = []\n",
    "for txt in tqdm(wiki_df['text']):\n",
    "    if len(txt) > 10000:\n",
    "        cnt += 1\n",
    "        long_txt.append(txt)\n",
    "cnt"
   ]
  },
  {
   "cell_type": "code",
   "execution_count": 62,
   "id": "f298c047-c410-4f65-a52b-4cfe6b674a97",
   "metadata": {},
   "outputs": [
    {
     "data": {
      "text/html": [
       "<div>\n",
       "<style scoped>\n",
       "    .dataframe tbody tr th:only-of-type {\n",
       "        vertical-align: middle;\n",
       "    }\n",
       "\n",
       "    .dataframe tbody tr th {\n",
       "        vertical-align: top;\n",
       "    }\n",
       "\n",
       "    .dataframe thead th {\n",
       "        text-align: right;\n",
       "    }\n",
       "</style>\n",
       "<table border=\"1\" class=\"dataframe\">\n",
       "  <thead>\n",
       "    <tr style=\"text-align: right;\">\n",
       "      <th></th>\n",
       "      <th>text</th>\n",
       "      <th>corpus_source</th>\n",
       "      <th>url</th>\n",
       "      <th>domain</th>\n",
       "      <th>title</th>\n",
       "      <th>author</th>\n",
       "      <th>html</th>\n",
       "      <th>document_id</th>\n",
       "    </tr>\n",
       "  </thead>\n",
       "  <tbody>\n",
       "    <tr>\n",
       "      <th>578</th>\n",
       "      <td>;성도(청두)시 成都市\\n\\n성도,간칭으로 “융”(蓉)이라고 도 한다. 아시에서 처...</td>\n",
       "      <td>위키피디아</td>\n",
       "      <td>TODO</td>\n",
       "      <td>None</td>\n",
       "      <td>쓰촨성</td>\n",
       "      <td>None</td>\n",
       "      <td>None</td>\n",
       "      <td>578</td>\n",
       "    </tr>\n",
       "    <tr>\n",
       "      <th>699</th>\n",
       "      <td>1. 번제 : Burnt offering\\n\\n1) 어의\\n- 이스라엘의 5대 제사...</td>\n",
       "      <td>위키피디아</td>\n",
       "      <td>TODO</td>\n",
       "      <td>None</td>\n",
       "      <td>레위기</td>\n",
       "      <td>None</td>\n",
       "      <td>None</td>\n",
       "      <td>699</td>\n",
       "    </tr>\n",
       "    <tr>\n",
       "      <th>973</th>\n",
       "      <td>:참고 문헌 목록은 제1차 세계 대전의 서지 문서를 참조하십시오.\\n \\n* tit...</td>\n",
       "      <td>위키피디아</td>\n",
       "      <td>TODO</td>\n",
       "      <td>None</td>\n",
       "      <td>제1차 세계 대전</td>\n",
       "      <td>None</td>\n",
       "      <td>None</td>\n",
       "      <td>973</td>\n",
       "    </tr>\n",
       "    <tr>\n",
       "      <th>3263</th>\n",
       "      <td>일 년전쟁시 V작전의 발동과 함께 개발된 연방제 모빌 슈트 계획 중 중거리지원형 기...</td>\n",
       "      <td>위키피디아</td>\n",
       "      <td>TODO</td>\n",
       "      <td>None</td>\n",
       "      <td>건캐논</td>\n",
       "      <td>None</td>\n",
       "      <td>None</td>\n",
       "      <td>3263</td>\n",
       "    </tr>\n",
       "    <tr>\n",
       "      <th>4543</th>\n",
       "      <td>인륜을 키미니 례예 둘재라.\\n\\n○ 孟子曰, 設爲庠序學校, 以敎之. 皆所以明人...</td>\n",
       "      <td>위키피디아</td>\n",
       "      <td>TODO</td>\n",
       "      <td>None</td>\n",
       "      <td>소학언해</td>\n",
       "      <td>None</td>\n",
       "      <td>None</td>\n",
       "      <td>4543</td>\n",
       "    </tr>\n",
       "    <tr>\n",
       "      <th>4545</th>\n",
       "      <td>녜일 고홈이니 례예 넫재라.\\n\\n○ 孟子道性善, 言必稱堯舜. 其言曰, 舜爲法於...</td>\n",
       "      <td>위키피디아</td>\n",
       "      <td>TODO</td>\n",
       "      <td>None</td>\n",
       "      <td>소학언해</td>\n",
       "      <td>None</td>\n",
       "      <td>None</td>\n",
       "      <td>4545</td>\n",
       "    </tr>\n",
       "    <tr>\n",
       "      <th>4547</th>\n",
       "      <td>아다온 말이니 례예 다재라\\n\\n○ 橫渠張先生曰, 敎小兒, 先要安詳恭敬. 今...</td>\n",
       "      <td>위키피디아</td>\n",
       "      <td>TODO</td>\n",
       "      <td>None</td>\n",
       "      <td>소학언해</td>\n",
       "      <td>None</td>\n",
       "      <td>None</td>\n",
       "      <td>4547</td>\n",
       "    </tr>\n",
       "    <tr>\n",
       "      <th>4548</th>\n",
       "      <td>어딘 실이니 례예 여재라\\n\\n○ 呂滎公名希哲, 字原明. 申國正獻公之長子. 正...</td>\n",
       "      <td>위키피디아</td>\n",
       "      <td>TODO</td>\n",
       "      <td>None</td>\n",
       "      <td>소학언해</td>\n",
       "      <td>None</td>\n",
       "      <td>None</td>\n",
       "      <td>4548</td>\n",
       "    </tr>\n",
       "    <tr>\n",
       "      <th>5132</th>\n",
       "      <td>;성도(청두)시 成都市\\n\\n성도,간칭으로 “융”(蓉)이라고 도 한다. 아시에서 처...</td>\n",
       "      <td>위키피디아</td>\n",
       "      <td>None</td>\n",
       "      <td>None</td>\n",
       "      <td>쓰촨성</td>\n",
       "      <td>None</td>\n",
       "      <td>None</td>\n",
       "      <td>5132</td>\n",
       "    </tr>\n",
       "    <tr>\n",
       "      <th>5253</th>\n",
       "      <td>1. 번제 : Burnt offering\\n\\n1) 어의\\n- 이스라엘의 5대 제사...</td>\n",
       "      <td>위키피디아</td>\n",
       "      <td>None</td>\n",
       "      <td>None</td>\n",
       "      <td>레위기</td>\n",
       "      <td>None</td>\n",
       "      <td>None</td>\n",
       "      <td>5253</td>\n",
       "    </tr>\n",
       "    <tr>\n",
       "      <th>5527</th>\n",
       "      <td>:참고 문헌 목록은 제1차 세계 대전의 서지 문서를 참조하십시오.\\n \\n* tit...</td>\n",
       "      <td>위키피디아</td>\n",
       "      <td>None</td>\n",
       "      <td>None</td>\n",
       "      <td>제1차 세계 대전</td>\n",
       "      <td>None</td>\n",
       "      <td>None</td>\n",
       "      <td>5527</td>\n",
       "    </tr>\n",
       "    <tr>\n",
       "      <th>7817</th>\n",
       "      <td>일 년전쟁시 V작전의 발동과 함께 개발된 연방제 모빌 슈트 계획 중 중거리지원형 기...</td>\n",
       "      <td>위키피디아</td>\n",
       "      <td>None</td>\n",
       "      <td>None</td>\n",
       "      <td>건캐논</td>\n",
       "      <td>None</td>\n",
       "      <td>None</td>\n",
       "      <td>7817</td>\n",
       "    </tr>\n",
       "    <tr>\n",
       "      <th>9097</th>\n",
       "      <td>인륜을 키미니 례예 둘재라.\\n\\n○ 孟子曰, 設爲庠序學校, 以敎之. 皆所以明人...</td>\n",
       "      <td>위키피디아</td>\n",
       "      <td>None</td>\n",
       "      <td>None</td>\n",
       "      <td>소학언해</td>\n",
       "      <td>None</td>\n",
       "      <td>None</td>\n",
       "      <td>9097</td>\n",
       "    </tr>\n",
       "    <tr>\n",
       "      <th>9099</th>\n",
       "      <td>녜일 고홈이니 례예 넫재라.\\n\\n○ 孟子道性善, 言必稱堯舜. 其言曰, 舜爲法於...</td>\n",
       "      <td>위키피디아</td>\n",
       "      <td>None</td>\n",
       "      <td>None</td>\n",
       "      <td>소학언해</td>\n",
       "      <td>None</td>\n",
       "      <td>None</td>\n",
       "      <td>9099</td>\n",
       "    </tr>\n",
       "    <tr>\n",
       "      <th>9101</th>\n",
       "      <td>아다온 말이니 례예 다재라\\n\\n○ 橫渠張先生曰, 敎小兒, 先要安詳恭敬. 今...</td>\n",
       "      <td>위키피디아</td>\n",
       "      <td>None</td>\n",
       "      <td>None</td>\n",
       "      <td>소학언해</td>\n",
       "      <td>None</td>\n",
       "      <td>None</td>\n",
       "      <td>9101</td>\n",
       "    </tr>\n",
       "    <tr>\n",
       "      <th>9102</th>\n",
       "      <td>어딘 실이니 례예 여재라\\n\\n○ 呂滎公名希哲, 字原明. 申國正獻公之長子. 正...</td>\n",
       "      <td>위키피디아</td>\n",
       "      <td>None</td>\n",
       "      <td>None</td>\n",
       "      <td>소학언해</td>\n",
       "      <td>None</td>\n",
       "      <td>None</td>\n",
       "      <td>9102</td>\n",
       "    </tr>\n",
       "    <tr>\n",
       "      <th>9343</th>\n",
       "      <td>시라토리(白鳥) 이외의 여러 주민은 마음속에 조그만 상처를 갖고 있다.\\n\\n; 아...</td>\n",
       "      <td>위키피디아</td>\n",
       "      <td>None</td>\n",
       "      <td>None</td>\n",
       "      <td>마호라바</td>\n",
       "      <td>None</td>\n",
       "      <td>None</td>\n",
       "      <td>9343</td>\n",
       "    </tr>\n",
       "    <tr>\n",
       "      <th>9756</th>\n",
       "      <td>1907년 이후 하와이에 건너가 살던 조선인 노동자들은 하와이 농장에서 사탕수수와 ...</td>\n",
       "      <td>위키피디아</td>\n",
       "      <td>None</td>\n",
       "      <td>None</td>\n",
       "      <td>사진 신부</td>\n",
       "      <td>None</td>\n",
       "      <td>None</td>\n",
       "      <td>9756</td>\n",
       "    </tr>\n",
       "    <tr>\n",
       "      <th>10919</th>\n",
       "      <td>[개요]\\n\\n뇌성마비 (腦性痲痺, cerebral palsy, CP)는 중추신경계...</td>\n",
       "      <td>위키피디아</td>\n",
       "      <td>None</td>\n",
       "      <td>None</td>\n",
       "      <td>뇌성마비</td>\n",
       "      <td>None</td>\n",
       "      <td>None</td>\n",
       "      <td>10919</td>\n",
       "    </tr>\n",
       "    <tr>\n",
       "      <th>14722</th>\n",
       "      <td>김일성의 정체를 싸고 진위논란이 있으나 ‘북한학’을 전공한 서옥식은 그의 저서 ‘거...</td>\n",
       "      <td>위키피디아</td>\n",
       "      <td>None</td>\n",
       "      <td>None</td>\n",
       "      <td>서옥식</td>\n",
       "      <td>None</td>\n",
       "      <td>None</td>\n",
       "      <td>14722</td>\n",
       "    </tr>\n",
       "    <tr>\n",
       "      <th>29773</th>\n",
       "      <td>1948년 8월 15일, 대한민국 정부가 수립되었다.\\n\\n이 시기에는 좌익과 우익...</td>\n",
       "      <td>위키피디아</td>\n",
       "      <td>None</td>\n",
       "      <td>None</td>\n",
       "      <td>대한민국의 보수주의</td>\n",
       "      <td>None</td>\n",
       "      <td>None</td>\n",
       "      <td>29773</td>\n",
       "    </tr>\n",
       "    <tr>\n",
       "      <th>31707</th>\n",
       "      <td>; 마법(魔法)\\n: \"초능력\"이라고도 불렸던 선천적인 능력의 사용법을 \"마법식\"으...</td>\n",
       "      <td>위키피디아</td>\n",
       "      <td>None</td>\n",
       "      <td>None</td>\n",
       "      <td>마법과고교의 열등생</td>\n",
       "      <td>None</td>\n",
       "      <td>None</td>\n",
       "      <td>31707</td>\n",
       "    </tr>\n",
       "    <tr>\n",
       "      <th>32748</th>\n",
       "      <td>《유가사지론》 제8권에 따르면,  다음의 9가지 부문에 대한 이해를 통해 번뇌를 이...</td>\n",
       "      <td>위키피디아</td>\n",
       "      <td>None</td>\n",
       "      <td>None</td>\n",
       "      <td>불교 용어 목록 (ㅂ)</td>\n",
       "      <td>None</td>\n",
       "      <td>None</td>\n",
       "      <td>32748</td>\n",
       "    </tr>\n",
       "    <tr>\n",
       "      <th>32834</th>\n",
       "      <td>6촉신(六觸身)은 안촉(眼觸) 이촉(耳觸) 비촉(鼻觸) 설촉(舌觸) 신촉(身觸) 의...</td>\n",
       "      <td>위키피디아</td>\n",
       "      <td>None</td>\n",
       "      <td>None</td>\n",
       "      <td>육촉신</td>\n",
       "      <td>None</td>\n",
       "      <td>None</td>\n",
       "      <td>32834</td>\n",
       "    </tr>\n",
       "    <tr>\n",
       "      <th>34919</th>\n",
       "      <td>화엄경\\n\\n구경각으로서의 등각(等覺)은 다음 분류, 그룹 또는 체계의 한 요소이다...</td>\n",
       "      <td>위키피디아</td>\n",
       "      <td>None</td>\n",
       "      <td>None</td>\n",
       "      <td>등각</td>\n",
       "      <td>None</td>\n",
       "      <td>None</td>\n",
       "      <td>34919</td>\n",
       "    </tr>\n",
       "    <tr>\n",
       "      <th>35159</th>\n",
       "      <td>입국 비자\\n미국, 푸에르토 리코 또는 미국령 버진 아일랜드에 입국 하려는 외국인은...</td>\n",
       "      <td>위키피디아</td>\n",
       "      <td>None</td>\n",
       "      <td>None</td>\n",
       "      <td>미국의 비자</td>\n",
       "      <td>None</td>\n",
       "      <td>None</td>\n",
       "      <td>35159</td>\n",
       "    </tr>\n",
       "    <tr>\n",
       "      <th>39726</th>\n",
       "      <td>중국 왕조가 명나라일 당시 조선국 숭정대부 의정부 우찬성 겸 의금부 판사 지경연춘추...</td>\n",
       "      <td>위키피디아</td>\n",
       "      <td>None</td>\n",
       "      <td>None</td>\n",
       "      <td>정종영</td>\n",
       "      <td>None</td>\n",
       "      <td>None</td>\n",
       "      <td>39726</td>\n",
       "    </tr>\n",
       "    <tr>\n",
       "      <th>40965</th>\n",
       "      <td>11,172글자를 1줄에 28글자씩 399줄로 배열하여 모두 나열하면 다음과 같다....</td>\n",
       "      <td>위키피디아</td>\n",
       "      <td>None</td>\n",
       "      <td>None</td>\n",
       "      <td>한글 음절</td>\n",
       "      <td>None</td>\n",
       "      <td>None</td>\n",
       "      <td>40965</td>\n",
       "    </tr>\n",
       "    <tr>\n",
       "      <th>45496</th>\n",
       "      <td>들어가며\\n\\n16세기 종교개혁을 대표하고 있는 루터, 츠빙글리 그리고 칼뱅 옆에서...</td>\n",
       "      <td>위키피디아</td>\n",
       "      <td>None</td>\n",
       "      <td>None</td>\n",
       "      <td>하인리히 불링거</td>\n",
       "      <td>None</td>\n",
       "      <td>None</td>\n",
       "      <td>45496</td>\n",
       "    </tr>\n",
       "    <tr>\n",
       "      <th>46294</th>\n",
       "      <td>;마카 알반(Maka Albarn)\\n: 성우 - 오미가와 치아키 / 타케우치 쥰코...</td>\n",
       "      <td>위키피디아</td>\n",
       "      <td>None</td>\n",
       "      <td>None</td>\n",
       "      <td>소울 이터의 등장인물 목록</td>\n",
       "      <td>None</td>\n",
       "      <td>None</td>\n",
       "      <td>46294</td>\n",
       "    </tr>\n",
       "    <tr>\n",
       "      <th>46357</th>\n",
       "      <td>2018년 동계 올림픽\\n2018년 2월 9일부터 개최되는 평창올림픽은 유치 과정부...</td>\n",
       "      <td>위키피디아</td>\n",
       "      <td>None</td>\n",
       "      <td>None</td>\n",
       "      <td>문재인 정부</td>\n",
       "      <td>None</td>\n",
       "      <td>None</td>\n",
       "      <td>46357</td>\n",
       "    </tr>\n",
       "    <tr>\n",
       "      <th>52332</th>\n",
       "      <td>1944년에 전라북도 김제시 성덕면에서 풍천 임씨  집안에서 6명의 형제(임휘진 자...</td>\n",
       "      <td>위키피디아</td>\n",
       "      <td>None</td>\n",
       "      <td>None</td>\n",
       "      <td>임휘윤</td>\n",
       "      <td>None</td>\n",
       "      <td>None</td>\n",
       "      <td>52332</td>\n",
       "    </tr>\n",
       "    <tr>\n",
       "      <th>57486</th>\n",
       "      <td>; 2020년 3월 8일\\n\\n신규확진자 4명\\n\\n불가리아에서 처음으로 코로나바이...</td>\n",
       "      <td>위키피디아</td>\n",
       "      <td>None</td>\n",
       "      <td>None</td>\n",
       "      <td>불가리아의 코로나19 범유행</td>\n",
       "      <td>None</td>\n",
       "      <td>None</td>\n",
       "      <td>57486</td>\n",
       "    </tr>\n",
       "  </tbody>\n",
       "</table>\n",
       "</div>"
      ],
      "text/plain": [
       "                                                    text corpus_source   url  \\\n",
       "578    ;성도(청두)시 成都市\\n\\n성도,간칭으로 “융”(蓉)이라고 도 한다. 아시에서 처...         위키피디아  TODO   \n",
       "699    1. 번제 : Burnt offering\\n\\n1) 어의\\n- 이스라엘의 5대 제사...         위키피디아  TODO   \n",
       "973    :참고 문헌 목록은 제1차 세계 대전의 서지 문서를 참조하십시오.\\n \\n* tit...         위키피디아  TODO   \n",
       "3263   일 년전쟁시 V작전의 발동과 함께 개발된 연방제 모빌 슈트 계획 중 중거리지원형 기...         위키피디아  TODO   \n",
       "4543   인륜을 키미니 례예 둘재라.\\n\\n○ 孟子曰, 設爲庠序學校, 以敎之. 皆所以明人...         위키피디아  TODO   \n",
       "4545   녜일 고홈이니 례예 넫재라.\\n\\n○ 孟子道性善, 言必稱堯舜. 其言曰, 舜爲法於...         위키피디아  TODO   \n",
       "4547   아다온 말이니 례예 다재라\\n\\n○ 橫渠張先生曰, 敎小兒, 先要安詳恭敬. 今...         위키피디아  TODO   \n",
       "4548   어딘 실이니 례예 여재라\\n\\n○ 呂滎公名希哲, 字原明. 申國正獻公之長子. 正...         위키피디아  TODO   \n",
       "5132   ;성도(청두)시 成都市\\n\\n성도,간칭으로 “융”(蓉)이라고 도 한다. 아시에서 처...         위키피디아  None   \n",
       "5253   1. 번제 : Burnt offering\\n\\n1) 어의\\n- 이스라엘의 5대 제사...         위키피디아  None   \n",
       "5527   :참고 문헌 목록은 제1차 세계 대전의 서지 문서를 참조하십시오.\\n \\n* tit...         위키피디아  None   \n",
       "7817   일 년전쟁시 V작전의 발동과 함께 개발된 연방제 모빌 슈트 계획 중 중거리지원형 기...         위키피디아  None   \n",
       "9097   인륜을 키미니 례예 둘재라.\\n\\n○ 孟子曰, 設爲庠序學校, 以敎之. 皆所以明人...         위키피디아  None   \n",
       "9099   녜일 고홈이니 례예 넫재라.\\n\\n○ 孟子道性善, 言必稱堯舜. 其言曰, 舜爲法於...         위키피디아  None   \n",
       "9101   아다온 말이니 례예 다재라\\n\\n○ 橫渠張先生曰, 敎小兒, 先要安詳恭敬. 今...         위키피디아  None   \n",
       "9102   어딘 실이니 례예 여재라\\n\\n○ 呂滎公名希哲, 字原明. 申國正獻公之長子. 正...         위키피디아  None   \n",
       "9343   시라토리(白鳥) 이외의 여러 주민은 마음속에 조그만 상처를 갖고 있다.\\n\\n; 아...         위키피디아  None   \n",
       "9756   1907년 이후 하와이에 건너가 살던 조선인 노동자들은 하와이 농장에서 사탕수수와 ...         위키피디아  None   \n",
       "10919  [개요]\\n\\n뇌성마비 (腦性痲痺, cerebral palsy, CP)는 중추신경계...         위키피디아  None   \n",
       "14722  김일성의 정체를 싸고 진위논란이 있으나 ‘북한학’을 전공한 서옥식은 그의 저서 ‘거...         위키피디아  None   \n",
       "29773  1948년 8월 15일, 대한민국 정부가 수립되었다.\\n\\n이 시기에는 좌익과 우익...         위키피디아  None   \n",
       "31707  ; 마법(魔法)\\n: \"초능력\"이라고도 불렸던 선천적인 능력의 사용법을 \"마법식\"으...         위키피디아  None   \n",
       "32748  《유가사지론》 제8권에 따르면,  다음의 9가지 부문에 대한 이해를 통해 번뇌를 이...         위키피디아  None   \n",
       "32834  6촉신(六觸身)은 안촉(眼觸) 이촉(耳觸) 비촉(鼻觸) 설촉(舌觸) 신촉(身觸) 의...         위키피디아  None   \n",
       "34919  화엄경\\n\\n구경각으로서의 등각(等覺)은 다음 분류, 그룹 또는 체계의 한 요소이다...         위키피디아  None   \n",
       "35159  입국 비자\\n미국, 푸에르토 리코 또는 미국령 버진 아일랜드에 입국 하려는 외국인은...         위키피디아  None   \n",
       "39726  중국 왕조가 명나라일 당시 조선국 숭정대부 의정부 우찬성 겸 의금부 판사 지경연춘추...         위키피디아  None   \n",
       "40965  11,172글자를 1줄에 28글자씩 399줄로 배열하여 모두 나열하면 다음과 같다....         위키피디아  None   \n",
       "45496  들어가며\\n\\n16세기 종교개혁을 대표하고 있는 루터, 츠빙글리 그리고 칼뱅 옆에서...         위키피디아  None   \n",
       "46294  ;마카 알반(Maka Albarn)\\n: 성우 - 오미가와 치아키 / 타케우치 쥰코...         위키피디아  None   \n",
       "46357  2018년 동계 올림픽\\n2018년 2월 9일부터 개최되는 평창올림픽은 유치 과정부...         위키피디아  None   \n",
       "52332  1944년에 전라북도 김제시 성덕면에서 풍천 임씨  집안에서 6명의 형제(임휘진 자...         위키피디아  None   \n",
       "57486  ; 2020년 3월 8일\\n\\n신규확진자 4명\\n\\n불가리아에서 처음으로 코로나바이...         위키피디아  None   \n",
       "\n",
       "      domain            title author  html  document_id  \n",
       "578     None              쓰촨성   None  None          578  \n",
       "699     None              레위기   None  None          699  \n",
       "973     None        제1차 세계 대전   None  None          973  \n",
       "3263    None              건캐논   None  None         3263  \n",
       "4543    None             소학언해   None  None         4543  \n",
       "4545    None             소학언해   None  None         4545  \n",
       "4547    None             소학언해   None  None         4547  \n",
       "4548    None             소학언해   None  None         4548  \n",
       "5132    None              쓰촨성   None  None         5132  \n",
       "5253    None              레위기   None  None         5253  \n",
       "5527    None        제1차 세계 대전   None  None         5527  \n",
       "7817    None              건캐논   None  None         7817  \n",
       "9097    None             소학언해   None  None         9097  \n",
       "9099    None             소학언해   None  None         9099  \n",
       "9101    None             소학언해   None  None         9101  \n",
       "9102    None             소학언해   None  None         9102  \n",
       "9343    None             마호라바   None  None         9343  \n",
       "9756    None            사진 신부   None  None         9756  \n",
       "10919   None             뇌성마비   None  None        10919  \n",
       "14722   None              서옥식   None  None        14722  \n",
       "29773   None       대한민국의 보수주의   None  None        29773  \n",
       "31707   None       마법과고교의 열등생   None  None        31707  \n",
       "32748   None     불교 용어 목록 (ㅂ)   None  None        32748  \n",
       "32834   None              육촉신   None  None        32834  \n",
       "34919   None               등각   None  None        34919  \n",
       "35159   None           미국의 비자   None  None        35159  \n",
       "39726   None              정종영   None  None        39726  \n",
       "40965   None            한글 음절   None  None        40965  \n",
       "45496   None         하인리히 불링거   None  None        45496  \n",
       "46294   None   소울 이터의 등장인물 목록   None  None        46294  \n",
       "46357   None           문재인 정부   None  None        46357  \n",
       "52332   None              임휘윤   None  None        52332  \n",
       "57486   None  불가리아의 코로나19 범유행   None  None        57486  "
      ]
     },
     "execution_count": 62,
     "metadata": {},
     "output_type": "execute_result"
    }
   ],
   "source": [
    "long_df = wiki_df.loc[wiki_df['text'].isin(long_txt)]\n",
    "long_df"
   ]
  },
  {
   "cell_type": "code",
   "execution_count": 63,
   "id": "05222e3f-d333-40c9-8a4b-a18c18ebe019",
   "metadata": {},
   "outputs": [
    {
     "data": {
      "text/plain": [
       "';성도(청두)시 成都市\\n\\n성도,간칭으로 “융”(蓉)이라고 도 한다. 아시에서 처음으로 국제“미식의 도시”(美食之都)로 이름이 났고 고대로 부터”천부지국”(天府之国)이라는 아름다운 명칭을 얻었다.. 이백(李白)의 시편 에는 “아홉개 하늘은 성도에서 나왔고 천만개의 문은 그림으로 들어 오너라” (九天开出一成都，万户千门入画图) 진절하게 금관성(锦官城)의 부유와 수려함을 묘사 하였다. 사천의 전통극은 절기하고 풍부하며 례로 타거(托举), 개혜안(开慧眼), 얼굴 변하기(变脸), 불뿜기(喷火), 칼숨기기(藏刀)등은 사람들로 하여금 감탄을 끓이지 않 았다. 성도는 2010년 2월 28일에 “미식의 도시”로 칭호를 수여 받았다. 성도의 유명한 소식(著名小吃)은 마퍼 두부(麻婆豆腐), 쌍류 토끼 두(双流兔头), 부처폐편(夫妻肺片), 단단면(担担面), 용 초수(龙抄手), 종 물 만두(钟水饺), 한 만두 떡(韩包子), 삼대 포(三大炮), 뢰탕원(赖汤圆)등이다. 성도의 가장 좋은 여행 시간은 3월, 4월, 5월, 6월, 9월, 10월, 11월이며 청성산(青城山), 서령 설산(西岭雪山), 구룡구(九龙沟), 구봉산(九峰山), 천대산(天台山), 용지 산림공원(龙池森林公园) 등은 모두 성도의 가장 이상적인 피서 명승지이다. 성도에서 북쪽으로 올라 가다 보면 도강언(都江堰), 구채구(九寨沟)로 도달할 수 있고 서쪽의 천장 도로(川藏公路)를 따라 올라 가면 라싸(拉萨) 로 통하며 촬영 성지인 경로에는 신도교(新都桥) 해라구 빙천(海螺沟冰川), 임지(林芝) 등지 망강(芒康)에서 남쪽으로 내려가다 보면 매리설산(梅里雪山), 샹그리라(香格里亚), 려강(丽江)등 주요 여행 경치 지역이 나타 난다.\\n\\n;덕양시 德阳市\\n덕양은 역사가 유구하고 파촉문화 발원지 중의 하나이며 여행자원은 하늘의 두터운 특혜를 가져 독특하다. 국내외 에서도 유명한 국가 중점 문화물 보호 단위(国家重点文物保护单位)이며 국가 처음으로의4A 급 풍경 명승지의 고대 촉국의 삼성퇴(三星堆)유적지; 보존이 완호하며 건축이 정밀하고 아름다운 제3대의 서남지구 제일 큰 덕양공묘(德阳孔庙); 웅위롭고 장관한 이빙릉(李冰陵),고대 24효 중의 하나인 ‘일문 삼효”(一门三孝)이야기의 발원지, 그리고 백마관 방통(庞统)사묘, 장비 점장대(点将台), 환말구(换马沟), 락봉파(落凤坡), 용통 혈문(庞统血坟), 금우촉도(金牛蜀道), 제갈량쌍충사(诸葛双忠祠), 장임묘(张任墓)등은 삼국문화와 가를 수 없는 중요한 조성 부분이다. 5절4해(五绝四海)로 유명한 형화산풍경 명승구(蓥华山风景名胜区), 크게 깔려 있는 원시산림과 팬더(熊猫),들코웡수이(金丝猴)등 진귀한 동식물로 일체로 한 구정산(九顶山)풍경 명승구와 구정산(九顶山)팬더자연 보호구; 성급 산림공원—운호 산림골뤈, 검남춘(剑南春) 산림공원, 외라산 풍경구(崴螺山景区); 동호산 공원(东湖山公园), 방호 공원(房湖公园)과 계광저수지등이 있으며 ‘동방 예술의 찬란한 보배, 인류지혜의 소중한 성과”(东方艺术的瑰宝，人类智慧的结晶)의 덕양석각(德阳石刻), 기호등 현대문화오락 풍경구(旌湖等现代文化娱乐景区), 전국청소년 교육기지—황계광(黄继光)기념관과 계광의 고향 등 홍색 여행구(红色旅游区), 전국 유일한 관음보살 금강 도장(观音菩萨金刚道场)—중강 백탑사(中江白塔寺).\\n\\n;반지화 攀枝花\\n중국의 우수여행의 도시인 반지화(攀枝花)는 여행자원이 독특하여 용동(溶洞), 폭포(瀑布), 온천(温泉), 원시산림(原始森林), 고산초전(高山草甸), 지하해자(地下海子), 세계 제3의 고바(高坝), 상아 위조강성(象牙微雕钢城)을 한 일체제: 국가,성급산림공원의 여러곳은 식물학자들께 천당이라고 불리며 그중 반지화 소철국가급 자연보호구(苏铁国家级自然保护区)내 세계에서 면적이 가장 큰 원시 소철림(苏铁林)에는 철수(铁树)가 매년 꽃피여 기이한 경관(奇观)이라고 한다. 그리고 식물들이 립체적으로 대흑산(大黑山)에 분포되었고 “중화 기동”(中华奇洞)이라 불리는 미이 용탄용동(米易龙潭溶洞); 희귀한 동기온천(氡气温泉) ; 세상에서 겅탄하는 반강(攀钢)과 웅기한 2탄고협 평호(二滩高峡平湖); 기이하고 흥미롭고 놀랍 지만 무탈한 “만리장강의 제일 표류”(万里长江第一漂).열대과일, 수산품및수정(水晶), 마노(玛瑙), 비취(翡翠)등 보석과 “견중 기품”(砚中奇品)의 자각견(苴却砚)등 다채롭고 풍부한 여행상품들이 있다. 복숭아 꽃축제桃花节(), 해빛 여행(阳光之旅), 발수절(泼水节), 용주절(龙舟节), 풍쟁절(风筝节)등 여행프로젝트와 축제 경축행사를 개척 하였다.\\n\\n;야안시 雅安市\\n청산에 둘러싸여 있고, 온 시야가 짙푸르고, 맑고 푸른물의 경치, 청의강 등 4갈래의 강은 도시구역을 지나 흘러 야안이 독특하게 부드럽고 낭만적인 아름다움을 표현하도록 한다. 물이 도시속에, 도시가 산속에, 도로가 녹색속에, 사람이 꽃속에 있는 우성(雨城)은 사람들에게 더욱더 조화되고 융화되며, 편안한 느낌을 선사한다. 밤이 되면, 화려한 불빛에 고목이 즐비하고, 색채가 풍부하고, 강과 호수의 잔물결이 빛에 반짝이고, 도시가 고요하고 평온한 분위기에 잠겨, 번화하면서 소란스럽지 않고 화려하면서 요염하지 않고 속되지 않다. 도시구역은 전체가 독특한 청산이 짙푸르고, 녹수에 파도가 출렁이며 고목이 즐비하고 시와 같은 우아한 빗물, 명성이 그림과 같은 매력과 풍채를 풍기고 있다. 야안은 중국우수관광 신흥도시이다. 줄곧 “천서요로(川西咽喉)”,“서장문호(西藏门户)”,“민족회랑(民族走廊)”이란 명칭을 지니고 있으며, 사천관광 서(西)환상선과 샹그리라 환상선의 관광객 래원의 관건이고, 교통요로와 중요문호이다. 야주랑교, 야안대교, 청의강대교 등을 대표로 하는 10여개 다리는 조형이 독특하고 풍격이 특이하고, 정교하고 새롭고, 소박하며 우아하다. 이 다리들은 남북 시 구역을 함께 연결시킨다. 강을 따라 분포된 부동한 테마로 건설된 도시 레저공원은 수목이 즐비하고 온통 녹색으로 물들어 정교하고 아름다워, 자연스럽게 교묘하면서도 풍성하고 심오함으로 이 역사 문화명성의 역사인문, 자연풍모, 민속풍속을 한껏 표현한다.\\n\\n;면양시 绵阳市\\n면양은 세계에서도 큰 명성을 갖고 있는 위대하고 랑만적인 시인—이백(李白)의 고향이며 고대 명으로는 “부성”(涪城) ,”면주”(绵州)라고 했다. 면양시 내의 지형은 산지가 많고 기후가 따뜻하며 사계절이 분명 하고 1년중 4-10월 모두가 여행 하는 좋은 계절이다. 그리고 면양시 는 천서북에 위치하여 구환선(九环线)<구채구여행 순환 코스>에서 한개의 빛이 찬란히 눈부시는 명주이고 시내의 인문과 자연 경관이 아주 많아 여행자원이 풍부하고 소수민족 풍경은 한갈래의 독특한 아름다운 풍경선을 이루어 국내외의 많고 많은 여행객들을 계속 흡수하여 여행하고 래저와 휴가를 즐기수 있도록 하였다. 면양 특색의 소식(小吃):재동소 떡(梓潼酥饼), 재동편분(梓潼片粉), 춘권(春卷), 량점점(冷粘粘), 재동양완(梓潼镶碗), 채두화(菜豆花), 석량분(席凉粉), 관관탕(罐罐汤), 정이황(疋二黄), 관관계(罐罐鸡), 과괴(锅魁)등 이고 최고의 소식(小吃)은 이전에는 항상 깊숙한 골목 거리에 숨겨져 있어 지만 현재의 면양 소식(小吃)은 이미 깊숙한 골목 거리에서 나와서 체이점으로 발전 하여 전국에 펼쳐 나섰다.\\n\\n;파중시 巴中市\\n광무산(光雾山) 풍경구는 “산기(山奇),석괴(石怪), 곡유(谷幽), 수수(水秀), 봉험(峰险)” 5대 으뜸이라 할 수 있다. 공산(空山)국가삼림공원은 과보령(挂宝岭)원시풍경유람구, 천향봉(天香峰)삼림문화놀이터, 응조령(鹰爪岭)삼림캠핑놀이터, 공산파 카르스트(空山坝岩溶)풍경유람구, 후자암 협곡(猴子岩峡谷) 풍경유람구 등 5대 관광구로 구성된다. 중봉동(中峰洞)이 가장 유명하며 불광동(佛光洞)이라고도 하며, 중국종유동협회회장 주쉐원(朱学稳) 이 중봉동(中峰洞)을 “천하제1동(天下第一洞)”이라 불렀다. 중봉동( 中峰洞)은 “여수동천(诺水洞天)” 으뜸이며, 신기절묘한 “여수동천”이고, 원시적이고 유심한 “림강려협(临江丽峡)”이고, 경치가 아름답고 화려한 “공산천분(空山天盆)”이 서로 아름답게 어우러져 저명한 여수강(诺水河) 국가급 풍경명승구를 구성하였다. 파중은 사천성의 시급도시로 쓰촨 분지 동북부, 대파산계 미창산 남쪽기슭에 위치하여, 전국 제2대 소비에트지역-천섬혁명근거지의 중심과 수부(首府)로 원래부터 있던 “홍군의 고향”,“사천동북부 산소카페(川东北氧吧)”이다. 파중은 역사가 유구하고 상고시대에 벌써 인류활동이 있었기에 풍부한 문화유산을 남겼다. 여수강(诺水河) 풍경구는 대체로 “여수동천(诺水洞天)”,“림강려협(临江丽峡)”,“공산천분(空山天盆)”,“마파석림(麻坝石林)” 4대 독립된 관광구로 나눈다, 호형 구조로 분포되고, 모택동 동지가 “전국제2대 소비에트지역”-천섬소비에트지역이라 부른 수부(首府) 퉁장현과 한갈래 환형 경관을 이루고 있어, 진파산구역 제1명승지라 할 수 있다.\\n\\n;미산시 眉山市\\n미산시(眉山市)는 사천성에 속하고 고대에는 미산을 미주 라고 했으며 대 문호인 소동파(大文豪苏东坡)의 고향이다. 미산시의 주요 여행 풍경지는 삼소사(三苏祠), 삼소기념관(三苏纪念馆), 와우산국가산림공원(瓦屋山国家森林公园), 흑룡탄 저수지(黑龙滩水库), 팽조산<선녀산>(彭祖山<仙女山>),팽산강 입구 한애묘(彭山江口汉崖墓), 우각채 대불(牛角寨大佛), 중암사(中岩寺), 중국 죽예성中国竹艺城(), 동파호 공원(东坡湖公园), 용곡산(龙鹄山), 수천화월(水天花月)등이 있다. 미산시의 전통미식 특산과 공예상품이 많고 많다. 유명한 인수 흑용탄 첸위씨(仁寿黑龙滩全鱼席), 들깨떡(芝麻糕), 왕양진 간파 소고기(汪洋镇干巴牛肉), 회과 양고기(回锅羊肉), 회과 물고기(回锅鱼), 문공비파(文宫枇杷), 조가 배(曹家梨), 동파 송화단(东坡松花蛋), 동파구의 동파주자(东坡肘子),동파육(东坡肉),동파 물고기(东坡鱼), 용안소(龙眼稣), 미산 네이블 오랜지(眉山脐橙), 과 국우 삼소주(国优三苏酒); 팽산의 팽조주(彭山的彭祖酒), 달피 오리(甜皮鸭), 홍야의 야어(洪雅的雅鱼), 등초유(藤椒油), 와산춘주(瓦山春酒), 도천 고산녹차(道泉高山绿茶)와 각종 야식(各种野餐); 청신의 강단(青神的江团), 한양계(汉阳鸡), 중암 통양구이(中岩烤全羊), 천신귤감(青神椪柑), 단릉의 동파(丹棱的冻粑), 부지화(不知火), 조우빠량(曹八娘), 유계육(刘鸡肉), 대야비파(大雅枇杷),……그 중 도파주자(东坡肘子), 동파 물고기(东坡鱼),동파 송화단(东坡松花蛋), 들깨 떡(芝麻糕)은 국내외로 이름이 떨처져 있다.\\n\\n;자양시 资阳市\\n자양은 현재 “서부차성(车城)•에너지절감도시•녹색자양”으로 적극 건설해 가고 있다. 쓰촨 분지 중부에 위치하여, 사천이 유일하게 동시에 청위간 성유쌍핵(成渝“双核”)을 연결하는 중심도시이다. 자양은 위치적인 우세가 뚜렷하다. 성안유(成安渝), 내자수(内资遂), 수자미(遂资眉), 성도 제2요성(第二绕城) 고속도로와 성유(成渝) 철도여객 전용선 등 종합교통항목의 신속한 건설과 함께 “여러 선로가 성유(成渝)과 연결되고 내외로 대통하는” 종합교통구조가 이제 곧 형성될 것이다. 자양은 현재 성도 교통중심주축의 중요구성부분과 성유(成渝)경제구역내 중요교통 2등급 중추이다.안웨(安岳)는 전국에서 유일한 레몬생산기지 현으로, 중국 레몬 고향이다. 주로 재배하는 품종은 여우리커(尤力克)로 20세기 20년대 미국에서 인입하여, 과학기술 작업자의 반복된 선별을 거쳐 생산량이 많고 품질이 좋은 레몬 새 포기들을 길러낸다. 잰양(简阳)양탕은 1000여년의 역사를 갖고 있으며, “중국제1탕(中国第一汤)”이라 불린다. 그 육질이 부드럽고 지방이 많으면서 느끼하지 않다. 그 국탕은 유백색이며, 신선하고 향기로운 맛이 강하여 사람들이 아주 좋아한다. 사천러즈(四川乐至)는 천이(陈毅) 원수의 고향으로서, 여기에는 곳곳에 홍색혁명의 발자국이 찍혀 있다, 곳곳에 “천하제1구이”로 불리는 “러즈불고기(乐至烤肉)”가 있다. 자양은 인문고적이 비교적 풍부하고 “조각기술이 뛰여난 자죽관세음(紫竹观音)은 “동방의 비너스”라고 불린다. 그외, 자양의 반월산대불(半月山大佛), 하동대불(河东大佛)，간양석경산(简阳石景山)의 “인두석(人头石”, “장비영(张飞营)”， 러즈(乐至)의 천이 옛집(陈毅故居), 보국사(报国寺) 등 명승인문 고적이 있다.\\n\\n\\n;간지주 甘孜州\\n간쯔장족자치주（티베트어:dkar-mdzes bod-rigs rang-skyong khul）, 사천성의 지목 자치주로서 서,북,남쪽은 각기 서장,청해,운남 등 성 구역과 인접하며, 면적은 153002km2， 관하 18개현, 인구는 약 88만, 그중 장족은 77.8%를 차지하고, 주정부는 캉딩현에 주재한다. 전체 주 구역은 청장고원 동남변두리에 위치하며, 산천은 남북종열식 배열을 나타낸다. 궁가산 등 유명한 대산이 있고, 금사강(金沙江), 대도하(大渡河), 야룽강(雅砻江) 등 주요 하류가 있다. 설산, 고원, 협곡, 초원，자연풍경이 다채롭다. 삼림, 지하자원, 자연자원이 아주 풍부하다. 간쯔주 경내에는 풍부한 수력자원과 지열자원이 있다. 판다, 레드 판다, 들창코원숭이, 빠이춘루([白唇鹿]:중국특산의 양볼과 입 언저리의 털이 새하얀 사슴) 등 야생동물이 있다. 진귀한 중약재로는 천마, 동충하초, 패모, 당귀, 황기 등이 있다. 광산자원으로 금,은,동,철,몰리브덴,리튬,대리석,황강암 등이 있다. 간쯔주에는 궁가산 관광지, 해라구 관광지, 전만강(田湾河) 관광지, 무거춰(木格措) 관광지, 오수해(伍须海) 관광지, 이랑산(二郎山) 관광지, 타궁(塔公) 관광지, 노정교(泸定桥),더거인징위웬(德格印经院), 타궁사원(塔公寺),백리사(白利寺),리탕사(理塘寺) 등 풍경 명승고적이 있으며, 해라구(海螺沟)는 국가4A급 풍경명승구로, 근년에 국제1류 우수 관광지로 만들 것이며, 도성.아정(稻城.亚丁)은 최후의 샹그리라로 칭송되고 있다. 경내에 사원이 즐비하다. 캉딩(康定)의 포마산(跑马山), 무거춰(木格措)는 해.내외로 유명하다. 단바(丹巴)는 미인곡(美人谷)이라는 명성이 있다, 또한 “천조지국(千碉之国)”이라는 명칭도 있다. 노정철삭교(泸定铁索桥)는 중국혁명사에서 불후의 공훈을 세웠다. 더거인징위웬(德格印经院)은 티베트문화(藏文化)의 보고이다. 더거(德格), 스취(石渠), 써다(色达)는 거싸얼(格萨尔)의 고향이다. 타궁초원(塔公草原)은 관광객들이 아름다운 경치에 매혹되게 한다. 풍경이 아름답고, 경치가 사람을 미혹시키며, 관광객의 낙원이다. 작가 천윈허(陈运和)는 이에 기초하여 비로소 《캉딩정가(康定情歌)》,《캉딩,정가의 고향(康定，情歌的故乡)》 등 시문을 써냈다.\\n\\n;내강시 内江市\\n내강은 “천중의 허버이고 천남의 인후 이다”(川中枢纽，川南咽喉)는 명칭을 갖고 있어 한개의 진주가 중국대지에 깔려 있는듯 하다. 2012년 4월 26일 내강의 우선으로의 민생 공정()—“내강신성”(内江新城)은 정식으로 건설되었다. “내강신성”(内江新城)은 전통문화자원을 발굴하여 “청결의 내강”(清洁内江)을 만들어 (시용정결,市容整洁,규범유서,规范有序、환경우미,环境优美,공기청신,空气清新) “창통내강”(畅通内江) <인차창행,人车畅行,화물창류,货物畅流,요소창달要素畅达,내외창통,内外畅通>, ”산림내강”(森林内江),<성재림중,城在林中,로재녹중, 路在绿中,방재원중, 房在园中,인재경중,人在景中>로 3대 명함이 되었고 더욱 빨리 내강의 발전에 큰 기여를 할것이다.\\n\\n;수녕시 遂宁市\\n수녕은 중국 관음문화의 고향이고 선후로 “세계녹색의 도시”칭호를 얻었다. 중국 도시의 공익자선 7개별의 도시, 생태 시범구, 녹색경제 시범도시, 전국 녹화 모범 도시, 유통영역 현대물류 시범 도시, 국가 원림 도시, 중국 인거 환경범례상(中国人居环境范例奖),국가 위생도시, 중국 생태시, 중국 우수 여행도시, 중국 관음문화 고향, 전국 사회 치안 종합 치리 우수 도시(全国社会治安综合治理优秀市),곡예의 고향(曲艺之乡), 시주의 고향(诗酒之乡), 서예의 고향(书法之乡)이다 여행의 풍경지는 광덕사(广德寺), 령천사(灵泉寺), 중국사해(中国死海), 송자박물관(宋瓷博物馆), 탁통우물(卓筒井), 관음호 휴가구(观音湖度假区)등이 있다. 수녕의 미식을 말하자면 빈강로의 미식의 거리를 빼놓을수 없이 애기 걸이 이기도 하다. 한면으로는 미식을 즐기고 한면은 아름다운 경관을 보노라면 갈곳이 어디로 사라 졌듯이 상불케 하는 지역 이기도 하다. 이 거리는 중앙 상무구()의 상업 보행 거리와 쌍쌍이 제1차”사천성 특색 상업거리”로 칭호 받았다.\\n\\n;남충시 南充市\\n남충은”천북의 심장”(川北心脏)과 “천북의 중진”(川北重镇)의 명칭을 갖고 있으며 성도와 중경 3도시 함께 3성 정립(三城鼎立)태세를 형성 하고 있다. 남충은 풍부한 물산, 기후가온윤, 역사가 유구하여 인재들이 속출하며 인문이 훌률하면서 많이 모여 있고 환경이 아름다워 거주와 여행에 편리하다. 풍부한 자원,과학과 교육이 흥행, 구위가 우월(区位优越), 교통이 편리(交通便捷), 경제활약(经济活跃), 시장번영(市场繁荣),하여 가릉강(嘉陵江)변의 빛이 찬란한 명주로 불리고 온 세상에서 명성이 두두 알려 져있는 비단의 도시 오랫동안 높은 명성을 누리고 있는 과일의 고향, 선후로 중국 우수 여행 도사, 국가 원림도시등 명칭 세계삼국문화 연구 토론회()의 영구 회의지로 선정되었다. 남충은 중국 우수 여행 도사, 국가 원림도시,전국청결능원 시범도시(全国清洁能源示范城市), 춘추 이래 력대로 도(都),주(州), 군(郡), 부(府), 도(道)의 치소(治所)이며 해방초기 천북행서구(川北行署区)의 주재지이다.\\n\\n;광원시 广元市\\n광원은 삼국문화의 상세한 내력이 풍부하고 삼국문화가 한데 모인 지역이며 140여곳 삼국유지 유젹이 있고 삼국의 위촉(魏蜀)전쟁의 주 전쟁터와 제갈량이 6차로 기산에서 나온 주요통로이다. 광원은 풍부한 여행산품을 갖고 있다. 유명한 백화석각(白花石刻), 검문지팡이(剑门手杖), 근조(根雕), 진사걸담(真丝挂毯), 마유자수(麻柳刺绣), 사마지담(丝麻地毯), 사주수품(丝绸绣品), 검문수건(剑门毛巾), “여황의 고향” 올리브유(橄榄油)의 여러가지 산품등 여행 상품, 흑 버섯(黑木耳)이 있고 고사리(蕨根),화화(黄花), 향고,표고버섯(香菇), 죽손(竹荪), 더덕(沙参), 천마(天麻),림충(林仲)등 산진약재(山珍药材)가 있으며 또 창계설리苍溪雪梨(), 창계 키워(苍溪猕猴桃), 창계홍심과(苍溪红心果)조천산호두(朝天山核桃), 광원감유(广元柑柚),등 과일들이 있다. 광원소식 3봉의 꽃(广元小吃“三朵花”), 호두나무떡(核桃饼), 증량면(蒸凉面),쏸차이, 산채 콩꽃 밥(酸菜豆花饭)\\n\\n;달주시 达州市\\n달주는 고대때에 통주라고 칭하였다. 사천의 대외 개방의 “동대문”이며 지형 지세가 홍콩과 비슷 하여 력대로 상업이 번영하였고 부자와 상인들이 많이 모여 “작은 홍콩”(小香港)이라고 했다. 달주는 명산 대천, 호수와 강의 풍경, 화초 수목,비금주수(飞禽走兽)등 자연 풍경은 다채롭고 아름다워 명나라시기의 유명한 지리 학자 서하객(徐霞客)은 “서남의 기이한 명승”(西南奇胜)이라고 칭찬을 하였다. 주요 명승의 고적은 통주구의 신검원(神剑园),련화호(莲花湖), 용조탑(龙爪塔), 알운정(嘎云亭), 봉황산(凤凰山),우의 원진기념관(元稹纪念馆); 달주구의 석교 고진(石桥古镇), 진불산(真佛山), 태평채(太平寨), 철산산림공원(铁山森林公园); 개강현(开江县)의 패방(牌坊), 금산사(金山寺); 만원시(万源市)의 화악산(花萼山), 관음협(观音峡), 팔대산(八台山)과 만원보위전(万源保卫战)진렬관; 선한현(宣汉县)의 라가바 유적(罗家坝遗址), 백리협(百里峡), 왕위조(王维舟)기념관과 홍4방면군 제33군 기념비;거현(渠县) 성바유적城坝遗址), 토계한궐(土溪汉阙), 문묘(文庙), 삼회 문봉탑(三汇文峰塔), 대죽현의오봉산(大竹县的五峰山), 죽해공원(竹海公园)등이다.\\n\\n;낙산시 乐山市\\n낙산은 자연 자원이 풍부하여 “천하의 산수는 촉에서 보고 촉의 아름다움은 가주에 있다”(下山水之观在蜀，蜀之胜曰嘉州)는 아름다운 명칭을 갖고 있으며 국가5A급풍경구2곳, 4A급풍경구4곳, 국가급 풍경명승구, 자연보호구, 산림공원, 습지공원2곳, 지질공원, 광산공원 각1곳이 있다. 이미 25종의 광산자원이 탐사되어 알려져 있고 암염(), 린광()등 풍부한 자원과 전국에서 노(정)염의 주 생산지 이고 마변린광()의 저장량은 전국8대 린광에서 제4위로 된다.경내에는 가로 세로 흐르는 하천이 있고 민강()),대도하(),청의강(), 과 많고 많은 중소하류들이 있어 수능자원이론으로 묻힌 잠재량은 800만킬로와트이고 현재 전력 운행 장비는 332만 킬로 와트 당이다.\\n\\n;자공시 自贡市\\n자공은 “천부의 지국”(\"天府之国)---사천성 남부에 위치하고 있으며 ”풍요롤고 부유한곳은 역시 촉중이 제일이다.”(富庶甲于蜀中)와 “사천성에서 정화스러운 지역이다”(川省精华之地)하고 풍부한 역사문화를 지극히 담겨있다. 그리고 독특하고 우아한 인문경관과 자연경관, 그 특유한 풍채와 격운(格韵)으로 중국 도시속에 우똣 서있다. 또 천년의 염도(千载盐都)의 큰 영예와 “공룡의 고향” (恐龙之乡)이라고도 하고 남국의 등성(南国灯城)이라는 아름다운 이름을 갖고 있으며 산을 의지하고 물이 가까이 있어 유아한 환경으로 사람들께 좋은 느낌을 가져다 준다, “천년의 염도”(千年盐都),공룡의 고향”(恐龙之乡),남국의 등성(南国灯城)이라는 명성이 두루 알려져 있으며 “공룡(恐龙), 정염(井盐)과 등회(灯会)는 자공의 “3개의 대 절묘”(大三绝)이고 공선(龚扇), 날염(扎染)과 전지(剪纸)는 자공의 “3개의 소 절묘”(小三绝)이며 천년의 염도(千载盐都), “공룡의 고향” (恐龙之乡), 남국의 등성(南国灯城), 강씨 여사의 고향(江姐故里)등 아름다운 명칭으로 국내외에 이름을 알려 졌다. 자공의 등회”自贡灯会”는 국가 여행 관리국으로 부터”중국 민간 예술여행”(中国民间艺术游), “중국백성 생활여행”(中国百姓生活游) 선정되었고 대형 민속문화행사 자공 등회(自贡灯会)축제를 국내외 상대로 열어 국내외 1.5억의 여행객들을 받아 들었으며 “고품격의 예술”(高品味的艺术), “움직이는 문화 여행 자원”(流动的文化旅游资源), 민족 전통문화의 자호감(民族传统文化的骄傲) 이라고 도 한다.\\n\\n;노주시 泸州市\\n여행자원: 풍경 지점 풍경구:로주노교(泸州老窖)풍경구,황초(黄荆)풍경구, 태평고진(太平古镇),, 방산풍경구(方山景区), 납계천선동 풍경구(纳溪天仙洞景区), 합강불보 풍경구(合江佛宝景区), 합강요바 고진(合江尧坝古镇), 로현 옥섬 풍경구(泸县玉蟾山景区) 소식(): 사천 샤뱌샤브(火锅)는 장강과 타강의 엇갈리 곳 사천 남쪽의 중진(重镇)로주에서 시작되어 샤브샤브 업이 흥성 번창 하면서 많은 브랜드 샤브점(火锅店)을 만들어졌다. 물고기샤브(鱼火锅)는장강의 신선한 황랄정(黄辣丁), 사괴어(沙锅鱼), 반탕어(半汤鱼), 가상마랄(家常麻辣), 신선하고 맛있으며 그 화는 업어 사천 남의 풍미는 돌출 하다. 로주노교(泸州老窖), 로주 랑주(泸州郎酒), 로주 화주(泸州花酒), 선시의 간장(先市酱油), 호국의 진초(护国陈醋), 로주의 계원(泸州桂圆), 은침미(银针米), 합강 여지(合江荔枝), 로주 백떡(泸州白糕), 적아파(猪儿耙), 로주 황파(泸州黄粑), 로주량떡(泸州凉糕), 고린마랄계(古蔺麻辣鸡),은가파료조(殷家坡醪糟), 로주홍산(泸州红伞), 납계포당(纳溪泡糖), 백과계(白果鸡), 관음 월모계탕(观音月母鸡汤), 합강 고어(合江烤鱼), 로제화(卤蹄花).\\n광안시 广安市 광안은 개혁개방과 사회주의 현대화 건설 총설계사 등소평(邓小平)의 고향이다. 1998년 7월 31일 정식으로 광안시로 설립되었다. 광안시의 관할지역은 광안구(广安区), 전봉구(前锋区), 인수현(邻水县), 악지현(岳池县) 및 무승현(武胜县)과 화잉시(华蓥市)를 포함 되어 있다. 광안은 기후가 땃뜨하고 열량이 충족하며 우량이 풍유 하여서 공기의 습도 크고 일조가 적어 서리내리는 시기가 짧아 풍력이 매우 적다. 화잉시는 천중 구릉구에 위치 해있고 지표는 기복이 크지 않아 협곡이 가로 세로 분갈 되어 있다. 가릉강, 거강은 곡절 회환(曲折回环)하여 심절기함(深切基岩), 증폭곡류(增幅曲流)의 형식으로 남에서 장강에 흘러 든다. 화잉산맥의 동쪽에 있는 인수현(邻水县)은 사천동쪽 평행령곡구에 위치 되어 동라산(铜锣山), 명월산북쪽으로 뻗어 동쪽과 평행 분포되었으며 대홍하(大洪河), 어임하(御临河),북쪽에서 남으로 장강에 진입 한다. 광안 토종특산: 광안염피단, 광안송침차, 백시 유, 용안 유, 화잉산 산진, 고현 두부 간 등\\n\\n;량산주 凉山州\\n량산이족자치주는 우리나라에서 가장 큰 이족 거주지역이다. 경내에는 한족, 이족, 장족, 몽고족, 나서등 10여개의 세세대대로 거주한 민족이 있다. 전주는 1개시와 16개 현 으로 그중 목리(木里)는 장족 자치현이다. 첮 도시 서창시는 성곤철로(成昆铁路) 중단에 위치되어 있어 고대로 부터 운남과 동남아로 가는 “남방의 비단길” (南方丝绸之路) 에 중요한 마을이다. 여기의 겨울은 큰 추움이 없고 여름 철은 무덥지 않아 사계절이 봄과 같다. 평균기온은17℃ 로써 봄의 도시 곤명 (평균기온 14℃)같은 아름다움을 나타 내여 “만가지 천가지 시들지 않는 꽃과 겨울은 따뜻하고 여름은 시원한 사계절이 모두 다 봄이다.” (万紫千红花不谢，冬暖夏凉四时春)는 이름이 있다. 주의 소재 도시 서창시는 안녕하(安宁河) 유역에 위치 되어 있다. 해발이 비교적 높아 하늘은 깨끗하고 청량하며 영롱하고 투명한 달은 반짝반짝 빛난다 하여 “달의 성” (月城)라는 아름다운 명칭을 지니고 있으며 또 세계적으로 이름난 중국 항공항천(航 空航天) 도시이다. 다채롭게 화려하고 아름다운 여행자원. 량산의 자연 풍경은 수려하고 아름 다우며 자연, 인문경관은 각지역에 널리 분포되어 있다. 별다른 특색의 민족 민속풍습은 사천성 여행자원 중 가장 풍부한 하나 지역이다. 대표적인 경치구역160개 경치점은 여행관광과 개발 가치가 아주 좋은 곳이다. 지금의 로고호, 공해---라계산은 2개의 국가급 풍경 명승구 이고 마호, 이해, (彝海) 용주산(龙肘山)---선인호는 3개 성급 풍경 명승지이며 이해 즉 홍군 장정시기(长征时期) 유백승(刘伯承) 원수와 이족 두령 소엽단(小叶丹)이 동맹을 체결한 유적지 이기도 하다. 미고 대풍정(美姑大风定) 국가급 자연 보호구와 면녕야륵등 성급 자연 보호구가 있으며 현대의 새 과학 경관인 서창위성 발사센터가 있다. 청아 하고 유야한 노산(泸山),신기한 토지와 산림, 대자연의 공모산, 백만 무의 비행기로 파종한 산림, 전국에서 유일하게 이족 역사문화를 전시한 량산 이족 노예사회 박물관이 있고 성급 역사 문화의 명도시 서창, 회리, 종교성지 영산사, 목리대사, 그리고 로고호 모쉐인 풍습, 독특한 특색을 갖고 있는 이족 제사절 큰 행사, 관혼상제(婚丧嫁娶) 등 민속민풍, 전국의 4대 비림중 하나인 서창 지진 비림(地震碑林), 춘추전국 대석묘(春秋战国大石墓), 박십와흑암화(博什瓦黑岩画), 대천석각(大箐石刻),당송탑루(唐宋塔楼), 명청묘우(明清庙宇), 등등이 있다. 이족의 아름답고 뛰여 난 식기와 타타육(砣砣肉)은 극히 매력적인 민족 문화의 자원이다. 량산은 하나의 다 민족 지구이며 각 민족의 유구한 역사와 고박한 풍속은 사람들의 마음을 움직인다. 이족, 장족, 보이족, 리수족 등 10여개 민족의 세세대대로 거주한 생활습관과 풍속이 풍부하고 다채롭다. 이족의 타타육(砣砣肉),간간주(杆杆酒)장족의수유차(酥油茶) 모쉐인의”소리마주”(苏里玛酒)는 별다른 풍미 이고 이족의 “화파절” (火把节),회족의”고엘방 절” (古尔邦节), 리수족의”우왕회” (牛王会), 보이족의”6월6” (六月六)행사는 아주 흥성 흥성하였다. 대량산 지구의 “필모문화”(毕摩文化) 환상적이고 변화 무쌍 하며 이족의 옷차림, 아름답고 절묘한 노래와 춤; 이족의 “신부 업기”(背新娘),모쉐인의 “아주”(阿注)혼인은 별다른 흥취를 가져다 준다.\\n\\n;아바주 阿坝州\\n아바주(阿坝州)는 산 좋고 맑은 물, 길고 넓은 초원, 우뚯하고 줄줄한 설봉, 가로 세로 된 하천, 그 성대하고 드높은 기세, 넓고 광대 하면서 깊숙히 그윽함으로 함께 모여져 있다. 여기는 지형이 복잡하며 골짜기와 산곡이 교차되어 있고 다양한 기후로 인해 독특한 지리환경으로 구성됐다. 세계에서 이미 볼수 없는 동식물 자원들이 보류되어 있다. 례로 팬더(熊猫), 공동나무(珙桐) 등 살아있는 화석(活化石): 공업 문명중 찾아 볼수 없는 보류되어 있는 조용하고 고요하며 고박 수려한 자연경관, 례를 들면 구채구, 황룡등 세계자연유산이다. 세계여행 전문가들은 아바주를 세계 생태여행중의 가장 우수한 목적지로 칭하였다. 카메라를 들고 그 촬영하는 매 한장의 사진은 아름답고 이쁜 엽서라고 할 수 있다. 아바주는 사천성의 두번째로 큰 장족 지구와 우리나라 강족의 주요 거주지구 로써 2011년 2개 국가5A급 풍경구(国家5A级风景区), 8개의 4A급 풍경구(4A级风景区)를 건립하였고 구채구는 전국에서 처음으로 “지혜의 경치구” (智慧景区)되면서 성공적으로 102개의 정품 여행 촌과 마을을 구성하였다. 지진 유적여행, 민속 문화여행, 시골여행등은 급속히 발전 하면서 종합적인 마케팅의 실제적인 효율이 보였고 여행시장의 규범화와 서비스 품질은 날이 가면 갈수록 높아져 전역에 백가지 꽃이 함께 피는 보기좋은 분위기를 형성 시켰다. 높은 수준의”중국 사천 국제 문화 여행 축제”(中国四川国际文化旅游节)등 중대한 행사를 통하여 전면적으로 일류의 경치구, 일류의 품위, 일류의 관리와 일류의 성과를 새롭게 건설하였다.'"
      ]
     },
     "execution_count": 63,
     "metadata": {},
     "output_type": "execute_result"
    }
   ],
   "source": [
    "long_txt[0]"
   ]
  },
  {
   "cell_type": "code",
   "execution_count": 64,
   "id": "49b7456c-5c7b-4aba-8047-b697eafa8668",
   "metadata": {},
   "outputs": [
    {
     "data": {
      "text/plain": [
       "':참고 문헌 목록은 제1차 세계 대전의 서지 문서를 참조하십시오.\\n \\n* title=American Armies and Battlefields in Europe: A History, Guide, and Reference Book|publisher=US Government Printing Office|year=1938|url=http://www.secstate.wa.gov/history/ww1/maps.aspx|oclc=59803706|author=American Battle Monuments Commission\\n* title=Army Art of World War I|publisher=United States Army Center of Military History: Smithsonian Institution, National Museum of American History|year=1993|url=http://www.secstate.wa.gov/history/publications_detail.aspx?p=28|oclc=28608539|author1=\\n* last=Bade|first=Klaus J|last2=Brown|first2=Allison (tr.)|title=Migration in European History|series=The making of Europe|location=Oxford|publisher=Blackwell|year=2003|isbn=0-631-18939-4|oclc=52695573 (translated from the German)\\n* last=Baker|first=Kevin|title=Stabbed in the Back! The past and future of a right-wing myth|periodical=Harper\\'s Magazine|date=June 2006\\n* last=Balakian|first=Peter|title=The Burning Tigris: The Armenian Genocide and America\\'s Response|location=New York|publisher=HarperCollins|year=2003|isbn=978-0-06-019840-4|oclc=56822108\\n* last=Ball|first=Alan M|title=And Now My Soul Is Hardened: Abandoned Children in Soviet Russia, 1918–1930|location=Berkeley|publisher=University of California Press|year=1996|isbn=978-0-520-20694-6, reviewed in   (via Highbeam.com)\\n* last=Bass|first=Gary Jonathan|title=Stay the Hand of Vengeance: The Politics of War Crimes Tribunals|publisher=Princeton University Press|location=Princeton, New Jersey|year=2002|pages=424pp|isbn=0-691-09278-8|oclc=248021790\\n* last=Blair|first=Dale|title=No Quarter: Unlawful Killing and Surrender in the Australian War Experience, 1915–1918|year=2005|isbn=1-74027-291-9|oclc=62514621|publisher=Ginninderra Press|location=Charnwood, Australia\\n* last=Brands|first=Henry William|author-link=H. W. Brands|title=T. R.: The Last Romantic|location=New York|publisher=Basic Books|year=1997|isbn=0-465-06958-4|oclc=36954615\\n* last1=Brown|first1=Judith M.|authorlink=Judith M. Brown|year=1994|title=Modern India: The Origins of an Asian Democracy|location=Oxford and New York |publisher=Oxford University Press|isbn=0-19-873113-2\\n* last=Chickering|first=Rodger|title=Imperial Germany and the Great War, 1914–1918|location=Cambridge|publisher=Cambridge University Press|year=2004|isbn=0-521-83908-4|oclc=55523473\\n* last=Clark|first=Charles Upson|title=Bessarabia, Russia and Roumania on the Black Sea|url=http://depts.washington.edu/cartah/text_archive/clark/meta_pag.shtml|publisher=Dodd, Mead|location=New York|year=1927|oclc=150789848\\n* last=Cockfield|first=Jamie H|year=1997|title=With snow on their boots : The tragic odyssey of the Russian Expeditionary Force in France during World War 1|publisher=Palgrave Macmillan|isbn=0-312-22082-0\\n* last=Conlon|first=Joseph M|url=http://entomology.montana.edu/historybug/TYPHUS-Conlon.pdf|format=PDF|title=The historical impact of epidemic typhus|publisher=Montana State University|accessdate=21 April 2009\\n* last=Cook|first=Tim|title=The politics of surrender: Canadian soldiers and the killing of prisoners in the First World War|journal=The Journal of Military History|volume=70|issue=3|year=2006|pages=637–665|doi=10.1353/jmh.2006.0158\\n* last=Cross|first=Wilbur L|title=Zeppelins of World War I|publisher=Paragon Press|location=New York|year=1991|isbn=978-1-55778-382-0|oclc=22860189\\n* last=Djokić|first=Dejan|title=Yugoslavism : histories of a failed idea, 1918–1992|location=London|publisher=Hurst|year=2003|oclc=51093251\\n* last=Doughty|first=Robert A.|year=2005|url=http://books.google.com/books?id=vZRmHkdGk44C|title=Pyrrhic victory: French strategy and operations in the Great War|isbn=978-0-674-01880-8|publisher=Harvard University Press\\n* last=Duffy|first=Michael|url=http://www.firstworldwar.com/battles/somme.htm|title=Somme|publisher=First World War.com|accessdate=25 February 2007|isbn=0-297-84689-2\\n* last=Dupuy|first=R. Ernest and Trevor N.|title=The Harper\\'s Encyclopedia of Military History, 4th Edition|publisher=Harper Collins Publishers|year=1993|isbn=978-0-06-270056-8\\n* Encyclopaedia Britannica (12th ed. 1922) comprises the 11th edition plus three new volumes 30-31-32 that cover events since 1911 with very thorough coverage of the war as well as every country and colony. partly online and list of article titles\\n** full text of vol 30 ABBE to ENGLISH HISTORY online free\\n** scans of each page of vol 30-31-32\\n* last=Evans|first=David|series=Teach yourself|title=The First World War|location=London|publisher=Hodder Arnold|year=2004|isbn=0-340-88489-4|oclc=224332259\\n* last=Evans|first=Leslie|title=Future of Iraq, Israel-Palestine Conflict, and Central Asia Weighed at International Conference|url=http://www.international.ucla.edu/article.asp?parentid=24920|publisher=UCLA International Institute|date=27 May 2005|accessdate=30 December 2008\\n* last=Falls|first=Cyril Bentham|authorlink=Cyril Falls|year=1960|title=The First World War|publisher=Longmans|location=London|oclc=460327352|isbn=1-84342-272-7\\n* last=Farwell|first=Byron|authorlink=Byron Farwell|year=1989|title=The Great War in Africa, 1914–1918|publisher=W.W. Norton|isbn=978-0-393-30564-7\\n* last=Ferguson|first=Niall|author-link=Niall Ferguson|title=The Pity of War|year=1999|publisher=Basic Books|location=New York|isbn=0-465-05711-X|oclc=41124439|pages=563pp\\n* last=Ferguson|first=Niall|title=The War of the World: Twentieth-Century Conflict and the Descent of the West|location=New York|publisher=Penguin Press|year=2006|isbn=1-59420-100-5\\n* last=Fortescue|first=Granville Roland|author-link=Granville Roland Fortescue|title=London in Gloom over Gallipoli; Captain Fortescue in Book and Ashmead-Bartlett in Lecture Declare Campaign Lost |work=New York Times |date=28 October 1915|url=http://query.nytimes.com/gst/abstract.html?res=9907E3DE1E38E633A2575BC2A9669D946496D6CF\\n*  \\n* last=Fromkin|first=David|author-link=David Fromkin|title=A Peace to End All Peace: The Fall of the Ottoman Empire and the Creation of the Modern Middle East|publisher=Owl Books|location=New York|year=2001|page=119|isbn=0-8050-6884-8|oclc=53814831\\n* last=Fromkin|first=David|title=Europe\\'s Last Summer: Who Started the Great War in 1914?|year=2004|publisher=Alfred A. Knopf|location=New York|isbn=0-375-41156-9|oclc=53937943\\n* last=Gelvin|first=James L|author-link=James L. Gelvin|title=The Israel-Palestine Conflict: One Hundred Years of War|location=Cambridge|publisher=Cambridge University Press|year=2005|isbn=0-521-85289-7|oclc=59879560\\n* last=Grant|first=R.G.|title=Battle: A Visual Journey Through 5,000 Years of Combat|publisher=DK Publishing|year=2005|isbn=978-0-7566-5578-5\\n* last=Gray|first=Randal|last2=Argyle|first2=Christopher|year=1990|title=Chronicle of the First World War|location=New York|publisher=Facts on File|isbn=978-0-8160-2595-4|oclc=19398100\\n* last=Gilbert|first=Martin|title=First World War|publisher=Stoddart Publishing|year=1994|isbn=978-0-7737-2848-6 \\n* last=Gilbert|first=Martin|author-link=Martin Gilbert|title=The First World War: A Complete History|publisher=Owl Books|location=Clearwater, Florida|year=2004|page=306|isbn=0-8050-7617-4|oclc=34792651\\n* last=Goodspeed|first=Donald James|title=The German Wars 1914–1945|place=New York|publisher=Random House; Bonanza|year=1985|isbn=978-0-517-46790-9\\n* last=Gray|first=Randal|title=Kaiserschlacht 1918: the final German offensive|publisher=Osprey|year=1991|isbn=978-1-85532-157-1\\n* last=Green|first=John Frederick Norman|title=Obituary: Albert Ernest Kitson|publisher=Geological Society|journal=Geological Society Quarterly Journal|volume=94|year=1938\\n* last=Halpern|first=Paul G|title=A Naval History of World War I|publisher=Routledge|location=New York|year=1995|isbn=1-85728-498-4|oclc=60281302\\n* last=Harris|first=J. P.|title=Douglas Haig and the First World War|publisher=CUP|location=Cambridge|edition=2009|year=2008|isbn=978-0-521-89802-7\\n* last=Hartcup|first=Guy|author-link=Guy Hartcup|title=The War of Invention; Scientific Developments, 1914–18|publisher=Brassey\\'s Defence Publishers|year=1988|isbn=0-08-033591-8 \\n* last=Havighurst|first=Alfred F|title=Britain in transition: the twentieth century|edition=4|publisher=University of Chicago Press|year=1985|isbn=978-0-226-31971-1 \\n* last=Heller|first=Charles E|title=Chemical warfare in World War I : the American experience, 1917–1918|location=Fort Leavenworth, Kansas|publisher=Combat Studies Institute|year=1984|url=http://www-cgsc.army.mil/carl/resources/csi/Heller/HELLER.asp|oclc=123244486\\n* last=Heyman|first=Neil M|title=World War I|series=Guides to historic events of the twentieth century|publisher=Greenwood Press|location=Westport, Connecticut|year=1997|isbn=0-313-29880-7|oclc=36292837\\n* last=Hickey|first=Michael|series=The First World War|volume=4|title=The Mediterranean Front 1914–1923|location=New York|publisher=Routledge|year=2003|pages=60–65|isbn=0-415-96844-5|oclc=52375688\\n* last=Hinterhoff|first=Eugene|title=The Campaign in Armenia|work=Marshall Cavendish Illustrated Encyclopedia of World War I|editor-last=Young|editor-first=Peter|volume=ii|publisher=Marshall Cavendish|year=1984|location=New York|isbn=0-86307-181-3\\n* last=Hooker|first=Richard|year=1996|title=The Ottomans|url=http://www.wsu.edu/~dee/OTTOMAN/OTTOMAN1.HTM|publisher=Washington State University|accessdate=30 December 2008|archiveurl=https://web.archive.org/web/19991008042702/http://www.wsu.edu/~dee/OTTOMAN/OTTOMAN1.HTM|archivedate=1999-10-08|url-status=dead\\n* last1=Horne |first1=John |last2=Kramer |first2=Alan |title=German Atrocities, 1914: A History of Denial |publisher=Yale University Press |year=2001 |oclc=47181922\\n* last=Hovannisian|first=Richard G.|authorlink=Richard G. Hovannisian|title=Armenia on the Road to Independence, 1918|publisher=University of California Press|location=Berkeley|year=1967|isbn=0-520-00574-0\\n* last=Hull|first=Isabel Virginia|author-link=Isabel Virginia Hull|title=Absolute destruction: military culture and the practices of war in Imperial Germany|publisher=Cornell University Press|year=2006|isbn=978-0-8014-7293-0\\n* last=Humphries|first=Mark Osborne|title=Vimy Ridge: A Canadian Reassessment|editor-last=Hayes|editor-first=Geoffrey|editor2-last=Iarocci|editor2-first=Andrew|editor3-last=Bechthold|editor3-first=Mike|publisher=Wilfrid Laurier University Press|location=Waterloo|year=2007|pages=65–85|url=http://books.google.ca/books?id=Pf5y7sehRwAC&lpg=PP1&dq=Vimy%20Ridge%3A%20A%20Canadian%20Reassessment&pg=PA66#v=onepage&q&f=true|isbn=0-88920-508-6\\n* last=Inglis|first=David|url=http://summit.sfu.ca/system/files/iritems1/6687/b17448906.pdf|format=PDF|title=Vimy Ridge: 1917–1992, A Canadian Myth over Seventy Five Years|publisher=Simon Fraser University|location=Burnaby|year=1995\\n* last1=Isaac|first1=Jad|last2=Hosh|first2=Leonardo|title=Roots of the Water Conflict in the Middle East|url=http://www.oranim.ac.il/courses/meast/water/Roots+of+the+Water+Conflict+in+the+Middle+East.htm|archiveurl=https://web.archive.org/web/20060928053605/http://www.oranim.ac.il/courses/meast/water/Roots+of+the+Water+Conflict+in+the+Middle+East.htm|archivedate=2006-09-28|date=1992|location=University of Waterloo|access-date=2014-07-13\\n* last=Jenkins|first=Burris A|title=Facing the Hindenburg Line|publisher=BiblioBazaar|year=2009|isbn=978-1-110-81238-7 \\n* last=Johnson|first=James Edgar|author-link=Johnnie Johnson (RAF officer)|title=Full Circle: The Story of Air Fighting|year=2001|isbn=0-304-35860-6|oclc=45991828|publisher=Cassell|location=London\\n* last=Jones|first=Howard|title=Crucible of Power: A History of US Foreign Relations Since 1897|publisher=Scholarly Resources Books|location=Wilmington, Delaware|year=2001|isbn=0-8420-2918-4|oclc=46640675\\n* last=Kaplan|first=Robert D|title=Syria: Identity Crisis|url=http://www.theatlantic.com/doc/199302/kaplan|periodical=The Atlantic|date=February 1993|accessdate=30 December 2008\\n* last=Karp|first=Walter|title=The Politics of War|year=1979|edition=1st|isbn=0-06-012265-X|oclc=4593327 , Wilson\\'s maneuvering US into war\\n* last=Keegan|first=John|author-link=John Keegan|title=The First World War|publisher=Hutchinson|year=1998|isbn=0-09-180178-8, general military history\\n* last=Keene|first=Jennifer D|title=World War I|series=Daily Life Through History Series|publisher=Greenwood Press|location=Westport, Connecticut|year=2006|page=5|isbn=0-313-33181-2|oclc=70883191\\n* last=Kernek|first=Sterling|date=December 1970|title=The British Government\\'s Reactions to President Wilson\\'s \\'Peace\\' Note of December 1916|journal=The Historical Journal|volume=13|issue=4|jstor=2637713|pages=721–766|doi=10.1017/S0018246X00009481 \\n* last=Kitchen|first=Martin|title=Europe Between the Wars|location=New York|publisher=Longman|year=2000|origyear=1980|isbn=0-582-41869-0|oclc=247285240\\n* editor-last=Knobler|editor-first=Stacey L|title=The Threat of Pandemic Influenza: Are We Ready? Workshop Summary|year=2005|location=Washington DC|publisher=National Academies Press|isbn=0-309-09504-2|oclc=57422232|url=http://www.nap.edu/books/0309095042/html/7.html\\n* last=Kurlander|first=Eric|year=2006|title=Steffen Bruendel. Volksgemeinschaft oder Volksstaat: Die \"Ideen von 1914\" und die Neuordnung Deutschlands im Ersten Weltkrieg|url=http://www.h-net.org/reviews/showrev.cgi?path=101921145898314|publisher=H-net|format=Book review|accessdate=17 November 2009\\n* editor1-last=Lehmann|editor1-first=Hartmut|editor2-last=van der Veer|editor2-first=Peter|title=Nation and religion: perspectives on Europe and Asia|publisher=Princeton University Press|location=Princeton, New Jersey|year=1999|isbn=0-691-01232-6|oclc=39727826\\n* last=Lewy|first=Guenter|title=The Armenian Massacres in Ottoman Turkey: A Disputed Genocide|location=Salt Lake City, Utah|publisher=University of Utah Press|year=2005|isbn=0-87480-849-9|oclc=61262401\\n* last=Love|first=Dave|date=1996-05|title=The Second Battle of Ypres, April 1915|journal=Sabretasche|volume=26|issue=4|url=http://www.worldwar1.com/sf2ypres.htm\\n* last=Lyons|first=Michael J|title=World War I: A Short History|edition=2nd|publisher=Prentice Hall|year=1999|isbn=0-13-020551-6\\n* last=Ludendorff|first=Erich|authorlink=Erich Ludendorff|title=My War Memories, 1914–1918|oclc=60104290|year=1919  also published as   (original title Meine Kriegserinnerungen, 1914–1918)\\n* last=Magliveras|first=Konstantinos D|year=1999|title=Exclusion from Participation in International Organisations: The Law and Practice behind Member States\\' Expulsion and Suspension of Membership|publisher=Martinus Nijhoff Publishers|isbn=90-411-1239-1\\n* last=Martel|first=Gordon|year=2003|title=The Origins of the First World War|publisher=Pearson Longman, Harlow\\n* last=Mawdsley|first=Evan|year=2008|title=The Russian Civil War|edition=Edinburgh|publisher=Birlinn location|isbn=1-84341-041-9|ref=harv\\n* last=McLellan|first=Edwin N|url=http://www.ibiblio.org/hyperwar/AMH/XX/WWI/USMC/USMC-WWI.html#XIV|title=The United States Marine Corps in the World War\\n* last=Meyer|first=Gerald J|year=2006|title=A World Undone: The Story of the Great War 1914 to 1918|publisher=Random House|isbn=978-0-553-80354-9\\n* last1=Millett|first1=Allan Reed|last2=Murray|first2=Williamson|title=Military Effectiveness|location=Boston|publisher=Allen Unwin|year=1988|isbn=0-04-445053-2|oclc=220072268\\n* last=Moon|first=John Ellis van Courtland|title=United States Chemical Warfare Policy in World War II: A Captive of Coalition Policy?|journal=The Journal of Military History|volume=60|issue=3|date=July 1996|pages=495–511|doi=10.2307/2944522|publisher=Society for Military History|jstor=2944522\\n* last=Morton|first=Desmond|title=Silent Battle: Canadian Prisoners of War in Germany, 1914–1919|year=1992|location=Toronto|publisher=Lester Publishing|isbn=1-895555-17-5|oclc=29565680\\n* last=Mosier|first=John|title=Myth of the Great War: How the Germans Won the Battles and How the Americans Saved the Allies|year=2001|publisher=Harper Collins|location=New York|isbn=0-06-019676-9|chapter=Germany and the Development of Combined Arms Tactics\\n* last=Muller|first=Jerry Z|title=Us and Them\\xa0– The Enduring Power of Ethnic Nationalism|periodical=Foreign Affairs|publisher=Council on Foreign Relations|url=http://www.foreignaffairs.com/20080301faessay87203/jerry-z-muller/us-and-them.html|date=March–April 2008|accessdate=30 December 2008\\n* last=Neiberg|first=Michael S|title=Fighting the Great War: A Global History|location=Cambridge, Mass|publisher=Harvard University Press|year=2005|isbn=0-674-01696-3|oclc=56592292\\n* last=Nicholson|first=Gerald WL|title=Canadian Expeditionary Force, 1914–1919: Official History of the Canadian Army in the First World War|year=1962|edition=1st|location=Ottawa|publisher=Queens Printer and Controller of Stationary|oclc=2317262|url=http://www.censol.ca/research/greatwar/nicholson/index.htm|archiveurl=https://web.archive.org/web/20070516162359/http://www.censol.ca/research/greatwar/nicholson/index.htm|accessdate=2007-05-16|archivedate=2007-05-16\\n* last=Northedge|first=FS|year=1986|title=The League of Nations: Its Life and Times, 1920–1946|publisher=Holmes & Meier|location=New York|isbn=0-7185-1316-9\\n* url=http://net.lib.byu.edu/estu/wwi/comment/Italy/Page04.htm|first=Thomas Nelson|last=Page|title=Italy and the World War|at=Chapter XI|publisher=Brigham Young University cites \"Cf. articles signed XXX in La Revue de Deux Mondes, 1 and 15 March 1920\"\\n* last=Painter|first=David S.|authorlink=David S. Painter|year=2012|title=Oil and the American Century|url=http://jah.oxfordjournals.org/content/99/1/24.full.pdf|journal=The Journal of American History|volume=99|issue=1|pages=24–39|doi=10.1093/jahist/jas073\\n* last1=Phillimore|first1=George Grenville|last2=Bellot|first2=Hugh HL|title=Treatment of Prisoners of War|journal=Transactions of the Grotius Society|volume=5|year=1919|pages=47–64|oclc=43267276\\n* last=Pitt|first=Barrie|title=1918: The Last Act|location=Barnsley|publisher=Pen and Sword|isbn=0-85052-974-3|oclc=56468232|year=2003\\n* last=Price|first=Alfred|title=Aircraft versus Submarine: the Evolution of the Anti-submarine Aircraft, 1912 to 1980|publisher=Jane\\'s Publishing|location=London|year=1980|isbn=0-7106-0008-9|oclc=10324173 Deals with technical developments, including the first dipping hydrophones\\n* last=Prior|first=Robin|year=1999|title=The First World War|location=London|publisher=Cassell |isbn=0-304-35256-X\\n* last=Raudzens|first=George|title=War-Winning Weapons: The Measurement of Technological Determinism in Military History|journal=The Journal of Military History|volume=54|issue=4|date=October 1990|pages=403–434|doi=10.2307/1986064|publisher=Society for Military History|jstor=1986064 \\n* last=Repington|first=Charles à Court|authorlink=Charles à Court Repington|title=The First World War, 1914–1918|year=1920|volume=2|publisher=Constable|location=London|url=http://www.archive.org/details/firstworldwar19102repiuoft|isbn=1-113-19764-1\\n* last=Rickard|first=J|date=5 March 2001|url=http://www.historyofwar.org/articles/people_ludendorff.html |title=Erich von Ludendorff, 1865–1937, German General |work=Military History Encyclopedia on the Web |publisher=HistoryOfWar.org|accessdate=6 February 2008\\n* last=Rickard|first=J|date=27 August 2007|title=The Ludendorff Offensives, 21 March-18 July 1918|url=http://www.historyofwar.org/scripts/fluffy/fcp.pl?words=20+July+1918&d=/battles_ludendorff.html \\n* last=Roden|first=Mike|url=http://www.aftermathww1.com/lostgen.asp|title=The Lost Generation\\xa0– myth and reality|work=Aftermath\\xa0– when the boys came home|accessdate=6 November 2009\\n* last=Saadi|first=Abdul-Ilah|title=Dreaming of Greater Syria|publisher=Al Jazeera|url=http://english.aljazeera.net/focus/arabunity/2008/02/2008525183842614205.html|accessdate=17 November 2009\\n* last=Sachar|first=Howard Morley|title=The emergence of the Middle East, 1914–1924|publisher=Allen Lane|year=1970|oclc=153103197|isbn=0-7139-0158-6 \\n* last=Salibi|first=Kamal Suleiman|year=1993|publisher=I.B. Tauris|chapter=How it all began\\xa0– A concise history of Lebanon|title=A House of Many Mansions\\xa0– the history of Lebanon reconsidered |url=http://almashriq.hiof.no/lebanon/900/902/Kamal-Salibi/ |isbn=1-85043-091-8 |oclc=224705916\\n* last=Schindler|first=J|title=Steamrollered in Galicia: The Austro-Hungarian Army and the Brusilov Offensive, 1916|journal=War in History|volume=10|issue=1|year=2003|pages=27–59|doi=10.1191/0968344503wh260oa\\n* last=Shanafelt|first=Gary W|title=The secret enemy: Austria-Hungary and the German alliance, 1914–1918|year=1985|publisher=East European Monographs|isbn=978-0-88033-080-0\\n* last1=Shapiro|first1=Fred R|last2=Epstein|first2=Joseph|title=The Yale Book of Quotations|publisher=Yale University Press|year=2006|isbn=0-300-10798-6\\n* last=Souter |first=Gavin |title=Lion & Kangaroo: the initiation of Australia |year=2000|publisher=Text Publishing |location=Melbourne |oclc=222801639 \\n* last=Sisemore|first=James D|year=2003 |url=http://cgsc.cdmhost.com/cdm4/item_viewer.php?CISOROOT=/p4013coll2&CISOPTR=113 |title=The Russo-Japanese War, Lessons Not Learned |publisher=US Army Command and General Staff College \\n* last=Smele|first=Jonathan|title=War and Revolution in Russia 1914–1921|url=http://www.bbc.co.uk/history/worldwars/wwone/eastern_front_01.shtml|publisher=BBC|work=World Wars in-depth|accessdate=12 November 2009|archiveurl=https://www.webcitation.org/635RR9gbC?url=http://www.bbc.co.uk/history/worldwars/wwone/eastern_front_01.shtml|archivedate=2011-11-10\\n* last=Speed|first=Richard B, III|title=Prisoners, Diplomats and the Great War: A Study in the Diplomacy of Captivity|year=1990|location=New York|publisher=Greenwood Press|isbn=0-313-26729-4|oclc=20694547 \\n* last=Stevenson|first=David|author-link=David Stevenson (historian)|title=Armaments and the Coming of War: Europe, 1904–1914|year=1996|location=New York|publisher=Oxford University Press|isbn=0-19-820208-3|oclc=33079190 \\n* last=Stevenson|first=David|title=Cataclysm: The First World War as Political Tragedy |year=2004 |pages=560pp |isbn=0-465-08184-3 |oclc=54001282 |publisher=Basic Books|location=New York\\n* last=Strachan|first=Hew|authorlink=Hew Strachan|title=The First World War: Volume I: To Arms|year=2003|location=New York|publisher=Viking|isbn=0-670-03295-6|oclc=53075929 \\n* last=Taylor|first=Alan John Percivale|author-link=A.J.P. Taylor|title=The First World War: An Illustrated History|publisher=Hamish Hamilton|year=1963|isbn=0-399-50260-2|oclc=2054370 \\n* last=Taylor|first=Alan John Percivale|title=The First World War and its aftermath, 1914–1919|location=London|publisher=Folio Society|oclc=49988231|year=1998|series=Century of Conflict, 1848–1948\\n* last=Taylor|first=John M|title=Audacious Cruise of the Emden|journal=The Quarterly Journal of Military History|volume=19|issue=4|date=2007 |pages=38–47|issn=0899-3718|doi=10.1353/jmh.2007.0331|doi_brokendate=2010-07-26 \\n* last=Terraine |first=John |title=Ordeal of Victory |year=1963 |publisher=J. B. Lippincott |location=Philadelphia |pages=508pp |oclc=1345833 |isbn=0-09-068120-7\\n* last=Tschanz|first=David W|url=http://www.entomology.montana.edu/historybug/WWI/TEF.htm|title=Typhus fever on the Eastern front in World War I|publisher=Montana State University|accessdate=12 November 2009\\n* last=Tuchman|first=Barbara Wertheim|title=Zimmermann Telegram|location=New York|publisher=Macmillan|year=1966|edition=2nd|isbn=0-02-620320-0|oclc=233392415\\n* last=Tucker|first=Spencer C|last2=Roberts|first2=Priscilla Mary|title=Encyclopedia of World War I|location=Santa Barbara|publisher=ABC-Clio|year=2005|isbn=1-85109-420-2|oclc=61247250\\n* last=Tucker|first=Spencer C|last2=Wood|first2=Laura Matysek|last3=Murphy|first3=Justin D|title=The European powers in the First World War: an encyclopedia|publisher=Taylor & Francis|year=1999|isbn=978-0-8153-3351-7\\n* last=von der Porten|first=Edward P|title=German Navy in World War II|location=New York|publisher=T. Y. Crowell|year=1969|oclc=164543865|isbn=0-213-17961-X\\n* last=Westwell|first=Ian|title=World War I Day by Day|publisher=MBI Publishing|location=St. Paul, Minnesota|year=2004|pages=192pp|isbn=0-7603-1937-5|oclc=57533366\\n* last=Wilgus|first=William John|title=Transporting the A. E. F. in Western Europe, 1917–1919|location=New York|publisher=Columbia University Press|year=1931|oclc=1161730\\n* last=Willmott|first=H.P.|year=2003|title=World War I|location=New York|publisher=Dorling Kindersley|isbn=0-7894-9627-5|oclc=52541937\\n* last=Winegard|first=Timothy|title=Here at Vimy: A Retrospective\\xa0– The 90th Anniversary of the Battle of Vimy Ridge|journal=Canadian Military Journal|volume=8|issue=2|url=http://www.journal.forces.gc.ca/vo8/no2/winegard-eng.asp\\n* last=Winter|first=Denis|title=The First of the Few: Fighter Pilots of the First World War|year=1983|publisher=Penguin|isbn=978-0-14-005256-5\\n* last=Wohl|first=Robert|title=The Generation of 1914|edition=3|year=1979|publisher=Harvard University Press|isbn=978-0-674-34466-2\\n* last=Zieger|first=Robert H|title=America\\'s Great War: World War I and the American experience|publisher=Rowman & Littlefield|location=Lanham, Maryland|year=2001|page=50|isbn=0-8476-9645-6\\n* periodical=The Economist|title=History in brief (Israel)|date=28 July 2005|url=http://www.economist.com/node/4221793|accessdate=30 December 2008|author=\\n* author=Israeli Foreign Ministry|title=Ottoman Rule|publisher=Jewish Virtual Library|url=http://www.jewishvirtuallibrary.org/jsource/History/Ottoman.html|accessdate=30 December 2008'"
      ]
     },
     "execution_count": 64,
     "metadata": {},
     "output_type": "execute_result"
    }
   ],
   "source": [
    "long_txt[10]"
   ]
  },
  {
   "cell_type": "code",
   "execution_count": 65,
   "id": "74d850fb-498e-45e8-9a8f-0ba9c5630f66",
   "metadata": {},
   "outputs": [
    {
     "data": {
      "text/plain": [
       "'1948년 8월 15일, 대한민국 정부가 수립되었다.\\n\\n이 시기에는 좌익과 우익 간의 대립이 극에 달하여 정부 수립 직전인 1948년 4월에는 단정단선론에 반대하는 남로당 김달삼의 주도 하에 제주 4·3 사건이 발생됐고, 같은 해 10월에는 제주 4.3 사건 진압을 명령 받은 국군 제14연대가 남로당 김지회, 지창수를 중심으로 반란을 일으킨 여수·순천 사건이 발생되었다. 그 이전부터 공산진영과 비공산진영 간의 갈등과 무력출동은 잦았지만, 공산당이 동족을 대상으로 여수·순천 사건이라는 대규모 군사반란까지 일으키자 모두가 충격을 받았다. 이승만 정부는 좌우익 간의 갈등을 극복하고 사회질서를 확립한다는 명분으로 반공주의 정책을 내세웠다. 그리고 1948년 12월 1일에는 국헌을 위배하여 정부를 참칭하거나 국가를 변란할 목적으로 단체를 구성하는 등 국가안보를 위태롭게 하는 각종의 행위를 처벌할 목적으로 국가보안법을 제정하였다\\n\\n이러한 가운데 1948년 8월 19일 반민족행위처벌법 초안이 국회에 상정되자 국회 내의 공기는 찬반 양론으로 대립하였다. 반민족행위처벌법 국회 통과시 타격을 면치 못할 한민당은 \\'동 법안(반민족행위처벌법)이 필요는 하나 민중의 혼란을 초래할 우려가 있고, 또 동 법안은 너무나 추상적이니 법제위원회로 회부하자\\'는 의견을 냈다 1948년 8월 23일 한국민주당의 당수 김성수는 친일파·민족반역자 숙청을 강경히 주장하는 의원들에게 회견을 청하여 친일파 문제를 광범하게 취급할 것이 아니라 범위를 좁게 취급할 것을 요청했다 1948년 8월 26일 반민족행위처벌법이 국회에서 논의되기 시작하자 한국민주당에 매월 20만 원 정도를 제공하던 친일재벌 金모씨는 돌연 동 법안을 완화 또는 무능화하도록 공작하는 자금으로서 2천만 원이라는 거액을 한국민주당에 제공하였다 1948년 8월 27일 신익희 국회의장이 반민족행위가 있는 정부위원들의 임명을 승인하자 이에 반발하여 반민특위 전원이 사임하는 사태가 벌어졌다. \\n\\n1948년 9월 22일 제헌 국회는 반민족행위처벌법을 제정하였다. 1949년 1월 5일, 반민족행위특별조사위원회(반민특위)가 본격적으로 사무를 개시하였다. 그러나 1949년 5월 국회 프락치 사건이 발생하자 이승만 정부는 노익환, 서용길 등 반민특위 위원과 독립운동가 출신 국회 부의장 김약수를 비롯한 국회의원 13명을 구속하였다. 이 때 구속된 의원들 다수가 반민특위에서 활동하거나 반정부 성향의 소장파 의원들이었기 때문에 논란이 되었다. 체포된 이들은 서대문형무소에 수감되어 있다가 6.25 전쟁 와중 북한군에 의해 납북되었다. 1949년 6월 6일에는 친일경찰들이 반민특위 소속 특별경찰대를 습격하였다. 1949년 7월 6일 이인은 반민특위법 공소시효를 1950년 6월 20일에서 1949년 8월 말일까지로 단축하는 반민법 개정안을 제출하였고, 이는 재석의원 136명 가운데 찬성 74표, 반대 9표로 가결되었다. 이에 위원장 김상덕을 비롯한 반민특위원들이 일제히 사임하였다. 1949년 7월 14일, 반민특위는 우여곡절 끝에 이인을 위원장, 송필만을 부위원장으로 선출하여 활동을 재개하였다. 반민족행위처벌법이 제정된 뒤 폐지될 때까지의 친일파의 처벌 상황을 보면, 처음엔 반민족행위자 7천여명을 조사대상으로 파악해 놓고 있었으나 실제로는 688명만을 조사하여 그 가운데 599명의 혐의자를 특별검찰부로 송치했고, 특별재판부는 송치된 599명 가운데 293명을 기소하고 306명을 불기소처분했다. 기소된 293명 가운데 특별재판부의 판결을 받은 사람은 78명이었다. 그리하여 임시특별부의 판결을 받은 1명을 합쳐 79명이 유죄판결을 받았다. 그러나 이들 가운데 실형을 선고받은 사람은 10명뿐이었다. 이인은 \"반민특위는 한마디로 해서 용두사미였다\"고 회고하였다.  1949년 10월 4일, 반민특위·특별검찰부·특별재판부가 모두 해체되었다.\\n\\n반민특위 실패의 일차적인 원인은 이승만 정부의 방해와 친일세력의 이념공세였다. 그러나 반민특위에도 문제가 있었다. 반민특위·특별검찰부·특별재판부 내에 친일파가 일부 있어서 큰 방해가 되었고, 본인은 친일파가 아니더라도 직간접적으로 가까운 친일파를 봐주는 경우도 있었다. 친일반민족행위와 무관한 사람들에 대해 주거침입, 감금, 폭행을 했다가 고소 당하기도 했다.  가짜 특별조사위원이 돌아다니기도 하고,   회계비리도 있었고,  반민특위 부위원장 김상돈이 과실치사 및 암매장 범죄를 지어 자질을 의심 받은 경우도 있었다.   게다가 반민특위·특별검찰부·특별재판부 간의 관계도 나빠 마찰이 잦아서 반민특위에 대한 정부와 친일세력의 공격을 자초하였다. \\n\\n1948년 12월 12일 유엔은 총회 결의 195(III)호(The problem of the independence of Korea)에서, 대한민국 정부(the Government of the Republic of Korea)가 \"한반도에서 유엔 임시위원단의 감시와 통제 아래 대다수 주민의 자유로운 의사에 의해 선거가 치러진 한반도에서 유일하게 그러한 합법 정부\"임을 결의하였다.\\n\\n1948년 초 남한 단독 총선거와 남북협상 문제로 인해 틀어졌던 민족진영 3영수(이승만·김구·김규식)의 관계는 유엔 총회 결의 제195호 이후 점차 회복되기 시작했다. 1948년 12월 15일 민족진영 3영수의 합작운동이 태동하였다.  1949년 1월 1일 김규식이 신년인사차 경무대의 이승만을 방문하였다.  1949년 1월 7일 이승만은 기자의 \"유엔위원단의 내한을 계기로 민족진영 단결, 특히 3영수 합작공작이 진행되고 있다 하는데 어느 정도 진척을 보고 있는가?\"라는 질문에 다음과 같이 답변하였다. \"나는 민족진영이 합작되지 못한 것으로는 보지 않는다. 自初에 총선거와 정부수립에 이의를 부친 몇 단체들이 있어 안으로서는 민간에 의혹을 주고 밖으로서는 혼란한 상태를 표시하였으나 지금에 이르러서는 문제가 다 충분히 해결되니 만큼 아무리 장애를 부치려는 분들이 있을지라도 많은 손해를 끼칠 수 없을 것이요, 필경은 그분들의 입장만 곤란하여 질 것이다. 그리고 3영수합작문제에 있어서는 전에도 말한 바 있었지만 나 한 사람의 사정으로는 두 분 인도자에게 조금도 간격이 없고 다만 합작 여부는 그 주장하는 의도가 공개적으로 합의되어야 할 것이니 서로의 의도가 다 같은지 아닌지는 민중의 공정한 판단을 따라야 할 것이다. 새로 오는 유엔위원단에 대해서도 전과 같이 좌파니 중간이니 우익이니 혼돈해 놓고 다 동일한 대우를 받을 수는 없을 것이다. 이는 정부가 서서 정당히 인정된 후에는 유엔대표단도 전과 같이 모호한 태도를 취할 수 없을 것이요, 그런 분이 있다면 유엔 공식결정과 모순되며 독립국가의 권위에 손실을 주는 것이니 그런 사람도 없으려니와 있다면 정부로서도 이에 대한 적당한 방법이 있을 것이며, 또 한인 중에서라도 누구나 정부에 반대되는 태도로 외국인과 연락하는 일은 절대로 없어야 할 것이다.\"  그리고 1949년 5월 19일 민족진영 3영수(이승만·김구·김규식)의 재결합이 가시화되었다.  1949년 5월 20일 김구는 \"과거 우리들의 노력방법에 있어서 약간의 차이가 있었던 것은 사실이나 시간과 공간은 차차로 이러한 차이를 해소하고 합일점으로 도달케 할 것을 의심하지 않는 바이다. (중략) 대통령과 金박사와는 앞으로도 종종 만날 기회가 있을 것으로 믿는다\"라고 말하였다. \\n\\n그러나 1949년 6월 26일, 김구가 안두희에 의해 피살되었다. 이승만은 이날 저녁 9시가 넘어서 서울중앙방송국 방송을 통하여 애도방송을 하였다.  이승만은 7월 4일 경교장에 조문을 하였다. 김구의 장례식은 국민장으로 치러졌다.\\n\\n김구의 사망으로 인해 남북통일에 앞선 민족진영 3영수 이승만·김구·김규식의 재결합은 실패했고, 반민특위는 친일청산의 정신적 지주를 잃었다.  암살의 배후에 대한 서로 간의 추궁이 이어졌으며 민족진영은 끝내 재결합하지 못하였다. 김구 서거 후 한국독립당은 와해되기 시작했고, 김규식 세력은 1950년 6.25 전쟁 때 그가 납북 당하면서 와해되기 시작했다. 결국 그 즈음으로 하여 대한민국의 주류 세력으로는 개화파 및 임시 정부 우익의 정통성을 잇는 계보(보수정당)와 한민당을 전신으로 하는 계보(민주당계 정당)만이 남아 현대의 양당구도를 갖추기 시작하였다. \\n\\n1949년 6월 21일, 이승만 정부는 농민들의 농지 및 토지개혁에 대한 목소리에 부응하여 농지개혁법을 제정하였다. 1948년 내각 구성 당시 이승만이 김성수의 천거를 무시했던 일에 더하여 농지개혁법까지 제정되자 한민당은 분노하여 반이승만 노선으로 완전히 갈아탔다. 한편 농지개혁법으로 인해 일제시대의 식민지 지주제가 사라졌고, 대토지 소유를 해체하고 자작농을 육성한 덕분에 산업 자본주의 발전을 가로막는 낡은 요소는 사라지고 지주 대신 자본가가 새로운 경제 주역으로 급성장하였다. 자기 땅을 일구게 된 농가에서는 높은 교육 수준을 갖춘 미래의 노동자들이 배출됐다.\\n\\n1949년 6월 29일 미군이 유엔 총회 결의(1948. 12. 12)에 따라 500여 명의 군사고문단만 남기고 완전 철수하였다. 이승만 정부는 미국이 한반도의 전략적 가치를 낮게 보고 외면하기 시작하자 한반도문제에 대한 관심을 일으키기 위해 북진통일론을 꺼내 들어 대미도발을 하였다. 그러나 미국 중앙정보국(CIA)은 소련과 북한이 설마 유엔을 상대로 전쟁을 일으킬 거라고 판단하지 않았다.\\n\\n1949년 12월 31일, 이승만 정부는 교육의기회균등, 6년간무상의무교육실시, 교육이념으로서의홍익인간명시, 학생의인격과개성존중, 교육의중립성, 교원의신분보장을 내용으로 하는 교육법을 제정하였다.\\n\\n1950년 6월 7일부터 19일까지 북한은 유엔에 협조하는 척하면서 \\'평화통일 호소문\\'을 발표하거나, 김삼룡, 이주하와 조만식의 교환을 제의하거나, 전조선 입법기관 설립(즉 국회통합)을 제의하였다. 그런데 이 주장이 있은 1주일 뒤 북한의 남침이 시작됨으로써 이 모든 제의가 위장평화공세였음이 드러났다.\\n 1950년 6월 25일 새벽 4시에 북한의 기습 남침으로 6.25 전쟁이 시작되었다. 전쟁은 한반도와 한국민들에게 엄청난 피해를 안겨 주었다. 그러나 1950년 3월 10일부터 집행되기 시작한 농지개혁법으로 인해 남한에 공산주의가 스며드는 것까진 막을 수 있었다.\\n\\n훗날 역사수정주의 학자들은 6.25 전쟁의 원인에 대해 내란확전설, 남침유도설, 북침설 등의 가설을 내놓으며 사실왜곡과 역사조작을 일삼았다 그러나 6.25 전쟁은 김일성이 이오시프 스탈린과 중화인민공화국 마오쩌둥의 지원을 약속 받고 저지른 것이며, 이는 대한민국과 미국의 문서 및 공개된 구 소련 비밀문서를 통해 이미 증명되었다. 소련 공산당의 니키타 흐루쇼프 前서기장은 그의 회고록에서 한국 전쟁은 김일성의 계획과 스탈린의 승인으로 시작되었다는 점을 밝혔다. 1994년 러시아를 방문한 김영삼 대통령에게 보리스 옐친 대통령이 제공한 6·25 전쟁 관련 비밀문서에는 \"김일성의 요청을 스탈린이 승인함으로써 전쟁이 시작되었다\"는 내용이 명시되어 있다.  남침유도설을 제기한 브루스 커밍스는 2013년 6월 20일 자신의 주장을 스스로 철회하기도 하였다. \\n\\n1950년 5월 30일 제2대 국회의원 선거에서 김구, 김규식 계열의 남북협상파와 무소속 계열의 후보가 대거 당선되었고, 6.25 전쟁 중인 1951년 발생한 국민방위군 사건과 거창 양민 학살 사건 등으로 인해 이승만 정권은 지지 기반이 약화되어갔다. 국회는 이승만 정부의 실정에 대한 책임을 물으며 기부터 주장하던 내각책임제(의원내각제) 개헌을 다시금 강력히 밀어부쳤다. 1951년 3월 14일 내각제개헌안에 대한 국회 무기명 투표 결과 재석 179인 중 찬성 79, 반대 33, 기권 66, 무효 1표로 부결되었지만, 대통령 선거는 간선제였기 때문에 재선가도에 차질이 생겼다.  대립 속에서 이승만은 1951년 12월 17일 자유당을 결성하고 발췌 개헌을 강행하면서 한민당(민주국민당)과 연을 끊었다. 자유당은 보수주의·반공주의·권위주의·일민주의를 이념으로 삼았으며, 장택상·이범석·장면·배은희·이기붕·함태영·이갑성·백성욱 등이 주요 간부였다.\\n\\n1952년 1월 18일, 이승만은 평화선(이승만 라인)을 선포하여 독도를 확실하게 지켰다. 그래서 당시 제1당이었던 한민당과 함께 반민특위를 무력화한 일이나 친일 경력이 있는 인사를 등용한 일 때문에 막연히 친일적인 대통령이라고 호도 당하는 것과는 정반대로, 일본어 위키백과에서는 이승만을 \"1910년 일한병합 이후 일관된 반일・민족독립운동가이며, 1948년 7월 20일에 정식으로 설립한 한국의 초대 대통령으로서 늘 강경한 대일 외교를 하고 있었다\"고 평가하고 있다. \\n\\n1952년 1~2월 국민방위군 사건과 거창 양민 학살 사건에 대한 미흡한 대처로 인해 이승만 정부는 민심을 잃었다. 국회로부터 재선될 가능성이 희박해진 이승만은 대통령 직선제 개헌안을 꺼내들었다. 친이승만측과 반이승만측의 갈등이 극심해졌다.\\n\\n1952년 5월 19일 국회가 권력을 남용하여 민주국민당 소속 살인범 서민호를 석방결의로 풀어줘버리자, 1952년 5월 25일 이승만 정부가 비상계엄을 선포하여 반대세력을 헌병대에 연행하여 보복한 소위 부산 정치 파동이 벌였다. 1952년 6월 25일 민주국민당은 이에 대한 보복으로 이승만 암살을 시도하였으나 실패하였다. 미수에 그치긴 했지만 정치살인까지 자행되자 민주국민당 내에 분열이 생겼고 반이승만측의 기세는 완전히 꺾였다.\\n\\n1952년 7월 4일 오후 2시, 15명의 발췌개헌안 반대파가 국회에 불출석 하였다.  오후 6시 30분에 이르러서 개헌파 65의원들은 정치의 책임을 논함보다도 □□급을 고하는 현실의 타개에 다른 도리가 없었음인가 드디어 □□수를 피하여 뜻을 굽히고 말았다.  한때는 이승만 대통령의 소환설에 대하여 개헌결의로써 항쟁하던 국회였고 국무원책임제 개헌안에는 123명의 연서를 하여 기세를 보이던 국회였건만 강력한 동화작용과 핍박한 □□에는 ‘시일’을 기다릴 수 없었던 것이다 형세가 이에 이르게 되매 아침부터 국회 金의장실에서 숙의를 거듭하고 있던 개헌파(민국·무소속·자유원내파) 65의원들은 하오 6시 반 동 발췌조항에 동의하지 않을 수 없는 단계에 도달하게 되자 그 순간은 눈물을 흘렸다 그러나 일단 양보한 뒤에는 동안이 발표될 때까지 명랑한 기분으로 아무 조건 없이 깨끗하게 통과시킨 데 대하여는 만장이 감복하고 있었다 오후 8시, 군경들은 무력충돌에 대비해 국회의사당을 포위하였다. 의석정수 210석 중 166명이 출석한 가운데 기립투표 결과 찬성 163표, 반대 0표, 기권 3표로 발췌개헌안이 통과되었고,  7월 7일 공포하였다. 비상계엄은 7월 28일 해제되었다. 이승만은 서민호에 대한 사형선고를 재심하라고 명령했다.  이로써 대한민국에 최초로 대통령 직선제가 도입되었으며, 대한민국 국민은 처음으로 국민투표를 통해 대통령을 뽑게 됐다     \\n\\n1952년 8월 5일 직접선거제로 실시된 제2대 대통령 선거에서 이승만이 재선되었다.\\n 한국 전쟁이 2년 이상 장기화되고 중국과 소련의 개입으로 전선이 고착화하자 미국에서는 \\'무의미한 전쟁, 질질 끌지 말고 휴전협정 맺고 빨리 끝내자\\'라는 분위기가 형성되어 소련 및 중공과 휴전을 논의하기 시작하였다. 이에 이승만은 1952년 3월 분단 상태에서의 휴전은 한국에 대한 \"사형선고\"나 다름없다고 주장하며, \"민족국가로 생존하기 위해 단독으로라도 계속해 싸워 나갈 것\"이라고 강조했다. 이승만이 북진통일론을 들고 나오자 미국 아이젠하워 행정부는 \\'휴전협정 체결 이후에 한미상호방위조약 협상을 시작하자\\'고 하였다. 그러나 이승만은 휴전이 일단 성사되면 자신의 대미 협상력이 현저히 약화될 것이라는 점을 인식하고, 휴전협정 체결 이후가 아닌 체결 이전에 \\'한국이 공격당할 경우 미국이 도와주러 올 것\\'이라는 점을 명시할 것을 요구했다. 이를 위해 이승만은 미국에 북진통일론을 계속 주장하는 한편, 1953년 6월 18일 약 25,000명의 반공 포로를 직권 석방시켰다. 반공 포로 석방은 휴전 체제에 대한 중대한 도전이었으며, 휴전 문제에 대해 한국의 협조를 원했던 미국을 매우 곤혹스럽게 했다. 이 조치에 크게 놀란 미국은 이승만을 \\'약속 위반자\\'라고 비난했고 \\'이승만을 제거해야 한다\\'는 건의안이 나오기도 했다. 이승만은 휴전협정에 앞서 상호방위조약을 체결해주지 않으면 단독으로라도 북진을 하겠다고 선언했으며, 이에 미국은 상호방위조약을 맺는 대신 휴전에 응할 것을 제시하였다. 그리하여 1953년 7월 27일 휴전협정이 체결되었고, 1953년 10월 1일에는 한미상호방위조약이 체결되었다.  이 조약을 발판으로 대한민국은 경제개발에 집중할 수 있게 되어 훗날 한강의 기적을 이뤘다.\\n\\n한국 전쟁에서 대한민국 국민 100만명 이상, 국군 28만여 명이 학살 당했고, 국민 30만여 명, 국군 70만여 명이 부상을 입었고, 수많은 국민들이 납북 당했으며(일부는 스스로 월북), 남한 내 공업 기반 절반과 국부의 1/4이 손실되었다. 유엔군 규모로 따지면 사상자 규모는 400만여 명에 달하였다.이승만 정부는 1954년부터 문해교육 정책, 문맹퇴치 5개년 사업, 초등 의무교육완성 6개년계획 등을 진행하여 1945년 78%였던 문맹률을 1958년 4.1%로 급감시켰고,  총 학령아동의 취학률은 1957년 90%를 넘겼고, 1959년에는 96% 목표를 달성하였다. \\n\\n1954년 4월 20일, 제1차 교육과정이 제정되었다. 최초로 우리 손으로 만든 국가수준 교육과정 체제였으며, 미국의 진보주의 교육사조와 신교육운동의 영향을 받았다. 제1차 교육과정은 전쟁으로 파괴된 국가를 재건하기 위해 현실생활을 개선하고 향상시킬 사회 개선의 의지를 강조하였다. 또한 반공교육, 도의교육, 실업교육을 강조하였고 특별활동시간을 최초로 배정하였다. \\n\\n1954년 5월 20일, 이승만은 본인의 종신 집권을 가능하게 하기 위하여 제2차 개헌안(사사오입 개헌)을 통과시켰고, 이에 김영삼은 \\'이 당은 안 되겠다\\' 결심하고 동지들을 모아 10명과 함께 자유당을 탈당하여 민주당(1955)에 합류하였다. 이 개헌을 토대로 이승만은 1956년 대통령 선거에서 당선되어 3선 대통령의 뜻을 이루었고, 자유당은 집권 연장의 뜻을 이루었다. 그러나 이 사건 이후 자유당 내 양심적 의원들이 탈당하면서 점차 당의 정당성과 위력이 붕괴되어 갔다. 반대로 야당세력은 호헌동지회를 설립하면서 한데 뭉쳐 강력한 야당으로 발전하게 되었다.\\n\\n1955년 제네바에서 \\'원자력의 평화적 이용\\'에 관한 국제회의가 개최되면서 국내에 원자력이 처음 소개되었다. 이때 세 명의 과학자가 참가하였고, 이듬해 문교부 기술교육국 산하에 원자력과를 설치하였다. 원자력의 필요성을 느낀 이승만은 원자력요원의 양성을 지원하였고, 1차적으로 네 명의 원자력연수생들을 미국 알곤국립연구소에 파견하였다. 동시에 장기적인 원자력 인력양성을 위하여 1958년 4월 한양대학교에 40명 정원으로 원자력공학과를 신설하였고, 이듬해 서울대학교에서 20명을 모집하였다. \\n\\n1956년 5월 13일 유엔 한국 위원회 대표 전원이 선거 감시 차 각 지방에 파견되었다. 1956년 5월 15일 직접 선거로 실시된 제3대 대통령 선거에서 이승만이 재선(3선)되었으며, 제4대 부통령 선거에서는 장면이 당선되었다. 이 선거는 6.25 전쟁의 결과로 대한민국으로 편입된 수복지구 유권자들이 참여한 첫 선거이기도 했다. 1956년 8월 15일 제3차 이승만 정부가 출범하였다.\\n\\n1958년 1월 1일 국회는 협상선거법을 통과시켰다. 협상선거법은 자유당과 민주당의 이해가 절충된 법안이었다. 언론 규제 조항에 대해서는 위헌이라는 시비가 있었지만, 민주당이 이를 묵인함으로써 개정될 수 있었다. 협상선거법의 언론 규제 조항 삽입은 자유당이 본격적으로 부정선거를 기획할 수 있도록 기초를 제공했으며, 언론과 국민의 기본권이 규제를 당하게 되는 결과를 낳았다. 자유당과 민주당은 협상선거법에 따라 실시된 선거에서 의도한 대로 압도적 의석을 차지했고, 무소속과 군소정당은 크게 타격을 입었다. \\n\\n1950년대 대한민국의 경제 발전은 주로 미국의 무상원조로 이루어졌고, 그만큼 대한민국의 경제정책은 원조 공여국이었던 미국의 목표대로 추진되는 측면이 컸다. 이승만 정부는 중공업 중심의 성장정책을 요구했으나, 미국은 한국을 일본 공산품시장으로 위치지우기 위해 안정정책을 추진하였다. 그런데 1955년부터 베트남 전쟁이 시작되고 확대되기 시작하자 미국의 원조자금은 베트남을 향했다. 이와 동시에 대한민국에 대한 미국의 무상원조가 유상차관의 형태로 바뀌었는데, 이는 대한민국 경제에 불황을 초래했지만 한편으론 대한민국 경제정책에 대한 미국의 간섭이 줄어들었다. 1957년 미국은 개발차관기금(Development Loan Fund)을 설치하여 대한민국 정부, 기업과 개인 사업자가 미국으로부터 낮은 이자로 대출을 받을 수 있게 하였고, 이에 이승만 정부는 1959년 3월 부흥부 산하에 있던 산업개발위원회에서 경제 개발 3개년 계획(1960~1962)을 완성했다. 시장 경제 원칙 하에서도 국가가 개입하여 사회기반시설을 조성하고 중공업 중심의 자립경제체제를 확립할 것을 주요 목표로 삼았다. 그러나 1960년 4.19 혁명으로 계획은 전면 중단되고, 제2공화국에서 경제 개발 5개년 계획으로 재수립된다.\\n\\n1960년 3.15 부정선거를 계기로 4.19 혁명이 일어나고 4월 26일에 이승만은 대통령직에서 하야하였다. 동시에 자유당도 와해되고 민주당(1955) 주도로 허정 과도 정부가 수립되었다.\\n\\n이 당시 민주당(1955)의 구파와 신파는 내내 갈등을 빚었다. 한국민주당·민주국민당 때부터 활동해온 구파와 자유당·무소속·흥사단 출신으로 민주당(1955) 창당 때 반독재 기치 아래 합류한 신파는 당권 경쟁, 대선 후보 선출, 개헌 문제 등 중요한 문제마다 치열한 대립을 보였다. 1960년 7월 29일에 실시된 제5대 국회의원 선거에서는 공천 문제를 두고 내홍이 심해져, 상당수 지역구에서 결국 공천을 받지 못한 후보가 독자 출마해 결국 두 파벌의 후보가 둘 다 출마할 정도였다. 1961년 2월 20일, 민주당 구파는 결국 민주당(1955)을 탈당하고 신민당을 창당하였다.'"
      ]
     },
     "execution_count": 65,
     "metadata": {},
     "output_type": "execute_result"
    }
   ],
   "source": [
    "long_txt[20]"
   ]
  },
  {
   "cell_type": "markdown",
   "id": "82cc1ac0-8049-44ad-ade2-7882c406cf1d",
   "metadata": {},
   "source": [
    "## Explore Texts - Tokenize"
   ]
  },
  {
   "cell_type": "code",
   "execution_count": 66,
   "id": "65404f87-dde5-4185-bc73-4a19c5ff6f38",
   "metadata": {},
   "outputs": [
    {
     "name": "stderr",
     "output_type": "stream",
     "text": [
      "100%|██████████| 60613/60613 [01:37<00:00, 624.16it/s]"
     ]
    },
    {
     "name": "stdout",
     "output_type": "stream",
     "text": [
      "Number of [UNK] included : 5012/60613\n"
     ]
    },
    {
     "name": "stderr",
     "output_type": "stream",
     "text": [
      "\n"
     ]
    }
   ],
   "source": [
    "num_unk = 0\n",
    "for txt in tqdm(wiki_df['text']):\n",
    "    encoded = tokenizer(txt)['input_ids']\n",
    "    if 3 in encoded:\n",
    "        num_unk += 1\n",
    "        continue\n",
    "print(f\"Number of [UNK] included : {num_unk}/{len(wiki_df)}\")"
   ]
  },
  {
   "cell_type": "markdown",
   "id": "d3f778e3-fac6-4b77-a1d7-479f1c9b38b8",
   "metadata": {},
   "source": [
    "### Documents를 preprocess 하는 방식은 retrieval과 mrc에서 모두 동일해야함\n",
    "### -> '\\n' 제거 등과 같은 공통 전처리 전략 필요"
   ]
  },
  {
   "cell_type": "code",
   "execution_count": 49,
   "id": "f4e82077-7bed-4d99-8bf1-f60a58632a0b",
   "metadata": {},
   "outputs": [],
   "source": [
    "def simple_preprocess(txt):\n",
    "    txt = re.sub(\"[(\\n)\\]\", \"\", txt)\n",
    "    txt = ' '.join(txt.split())\n",
    "    return txt"
   ]
  },
  {
   "cell_type": "code",
   "execution_count": 50,
   "id": "921377a1-9767-4b2d-a772-b4f3e8a3acbc",
   "metadata": {},
   "outputs": [
    {
     "ename": "error",
     "evalue": "unterminated character set at position 0 (line 1, column 1)",
     "output_type": "error",
     "traceback": [
      "\u001b[0;31m---------------------------------------------------------------------------\u001b[0m",
      "\u001b[0;31merror\u001b[0m                                     Traceback (most recent call last)",
      "\u001b[0;32m<ipython-input-50-2a096e1d4a5e>\u001b[0m in \u001b[0;36m<module>\u001b[0;34m\u001b[0m\n\u001b[0;32m----> 1\u001b[0;31m \u001b[0msimple_preprocess\u001b[0m\u001b[0;34m(\u001b[0m\u001b[0mlong_txt\u001b[0m\u001b[0;34m[\u001b[0m\u001b[0;36m20\u001b[0m\u001b[0;34m]\u001b[0m\u001b[0;34m)\u001b[0m\u001b[0;34m\u001b[0m\u001b[0;34m\u001b[0m\u001b[0m\n\u001b[0m",
      "\u001b[0;32m<ipython-input-49-c57ca5b55525>\u001b[0m in \u001b[0;36msimple_preprocess\u001b[0;34m(txt)\u001b[0m\n\u001b[1;32m      1\u001b[0m \u001b[0;32mdef\u001b[0m \u001b[0msimple_preprocess\u001b[0m\u001b[0;34m(\u001b[0m\u001b[0mtxt\u001b[0m\u001b[0;34m)\u001b[0m\u001b[0;34m:\u001b[0m\u001b[0;34m\u001b[0m\u001b[0;34m\u001b[0m\u001b[0m\n\u001b[0;32m----> 2\u001b[0;31m     \u001b[0mtxt\u001b[0m \u001b[0;34m=\u001b[0m \u001b[0mre\u001b[0m\u001b[0;34m.\u001b[0m\u001b[0msub\u001b[0m\u001b[0;34m(\u001b[0m\u001b[0;34m\"[(\\n)\\]\"\u001b[0m\u001b[0;34m,\u001b[0m \u001b[0;34m\"\"\u001b[0m\u001b[0;34m,\u001b[0m \u001b[0mtxt\u001b[0m\u001b[0;34m)\u001b[0m\u001b[0;34m\u001b[0m\u001b[0;34m\u001b[0m\u001b[0m\n\u001b[0m\u001b[1;32m      3\u001b[0m     \u001b[0mtxt\u001b[0m \u001b[0;34m=\u001b[0m \u001b[0;34m' '\u001b[0m\u001b[0;34m.\u001b[0m\u001b[0mjoin\u001b[0m\u001b[0;34m(\u001b[0m\u001b[0mtxt\u001b[0m\u001b[0;34m.\u001b[0m\u001b[0msplit\u001b[0m\u001b[0;34m(\u001b[0m\u001b[0;34m)\u001b[0m\u001b[0;34m)\u001b[0m\u001b[0;34m\u001b[0m\u001b[0;34m\u001b[0m\u001b[0m\n\u001b[1;32m      4\u001b[0m     \u001b[0;32mreturn\u001b[0m \u001b[0mtxt\u001b[0m\u001b[0;34m\u001b[0m\u001b[0;34m\u001b[0m\u001b[0m\n",
      "\u001b[0;32m/opt/conda/lib/python3.8/re.py\u001b[0m in \u001b[0;36msub\u001b[0;34m(pattern, repl, string, count, flags)\u001b[0m\n\u001b[1;32m    208\u001b[0m     \u001b[0ma\u001b[0m \u001b[0mcallable\u001b[0m\u001b[0;34m,\u001b[0m \u001b[0mit\u001b[0m\u001b[0;31m'\u001b[0m\u001b[0ms\u001b[0m \u001b[0mpassed\u001b[0m \u001b[0mthe\u001b[0m \u001b[0mMatch\u001b[0m \u001b[0mobject\u001b[0m \u001b[0;32mand\u001b[0m \u001b[0mmust\u001b[0m \u001b[0;32mreturn\u001b[0m\u001b[0;34m\u001b[0m\u001b[0;34m\u001b[0m\u001b[0m\n\u001b[1;32m    209\u001b[0m     a replacement string to be used.\"\"\"\n\u001b[0;32m--> 210\u001b[0;31m     \u001b[0;32mreturn\u001b[0m \u001b[0m_compile\u001b[0m\u001b[0;34m(\u001b[0m\u001b[0mpattern\u001b[0m\u001b[0;34m,\u001b[0m \u001b[0mflags\u001b[0m\u001b[0;34m)\u001b[0m\u001b[0;34m.\u001b[0m\u001b[0msub\u001b[0m\u001b[0;34m(\u001b[0m\u001b[0mrepl\u001b[0m\u001b[0;34m,\u001b[0m \u001b[0mstring\u001b[0m\u001b[0;34m,\u001b[0m \u001b[0mcount\u001b[0m\u001b[0;34m)\u001b[0m\u001b[0;34m\u001b[0m\u001b[0;34m\u001b[0m\u001b[0m\n\u001b[0m\u001b[1;32m    211\u001b[0m \u001b[0;34m\u001b[0m\u001b[0m\n\u001b[1;32m    212\u001b[0m \u001b[0;32mdef\u001b[0m \u001b[0msubn\u001b[0m\u001b[0;34m(\u001b[0m\u001b[0mpattern\u001b[0m\u001b[0;34m,\u001b[0m \u001b[0mrepl\u001b[0m\u001b[0;34m,\u001b[0m \u001b[0mstring\u001b[0m\u001b[0;34m,\u001b[0m \u001b[0mcount\u001b[0m\u001b[0;34m=\u001b[0m\u001b[0;36m0\u001b[0m\u001b[0;34m,\u001b[0m \u001b[0mflags\u001b[0m\u001b[0;34m=\u001b[0m\u001b[0;36m0\u001b[0m\u001b[0;34m)\u001b[0m\u001b[0;34m:\u001b[0m\u001b[0;34m\u001b[0m\u001b[0;34m\u001b[0m\u001b[0m\n",
      "\u001b[0;32m/opt/conda/lib/python3.8/re.py\u001b[0m in \u001b[0;36m_compile\u001b[0;34m(pattern, flags)\u001b[0m\n\u001b[1;32m    302\u001b[0m     \u001b[0;32mif\u001b[0m \u001b[0;32mnot\u001b[0m \u001b[0msre_compile\u001b[0m\u001b[0;34m.\u001b[0m\u001b[0misstring\u001b[0m\u001b[0;34m(\u001b[0m\u001b[0mpattern\u001b[0m\u001b[0;34m)\u001b[0m\u001b[0;34m:\u001b[0m\u001b[0;34m\u001b[0m\u001b[0;34m\u001b[0m\u001b[0m\n\u001b[1;32m    303\u001b[0m         \u001b[0;32mraise\u001b[0m \u001b[0mTypeError\u001b[0m\u001b[0;34m(\u001b[0m\u001b[0;34m\"first argument must be string or compiled pattern\"\u001b[0m\u001b[0;34m)\u001b[0m\u001b[0;34m\u001b[0m\u001b[0;34m\u001b[0m\u001b[0m\n\u001b[0;32m--> 304\u001b[0;31m     \u001b[0mp\u001b[0m \u001b[0;34m=\u001b[0m \u001b[0msre_compile\u001b[0m\u001b[0;34m.\u001b[0m\u001b[0mcompile\u001b[0m\u001b[0;34m(\u001b[0m\u001b[0mpattern\u001b[0m\u001b[0;34m,\u001b[0m \u001b[0mflags\u001b[0m\u001b[0;34m)\u001b[0m\u001b[0;34m\u001b[0m\u001b[0;34m\u001b[0m\u001b[0m\n\u001b[0m\u001b[1;32m    305\u001b[0m     \u001b[0;32mif\u001b[0m \u001b[0;32mnot\u001b[0m \u001b[0;34m(\u001b[0m\u001b[0mflags\u001b[0m \u001b[0;34m&\u001b[0m \u001b[0mDEBUG\u001b[0m\u001b[0;34m)\u001b[0m\u001b[0;34m:\u001b[0m\u001b[0;34m\u001b[0m\u001b[0;34m\u001b[0m\u001b[0m\n\u001b[1;32m    306\u001b[0m         \u001b[0;32mif\u001b[0m \u001b[0mlen\u001b[0m\u001b[0;34m(\u001b[0m\u001b[0m_cache\u001b[0m\u001b[0;34m)\u001b[0m \u001b[0;34m>=\u001b[0m \u001b[0m_MAXCACHE\u001b[0m\u001b[0;34m:\u001b[0m\u001b[0;34m\u001b[0m\u001b[0;34m\u001b[0m\u001b[0m\n",
      "\u001b[0;32m/opt/conda/lib/python3.8/sre_compile.py\u001b[0m in \u001b[0;36mcompile\u001b[0;34m(p, flags)\u001b[0m\n\u001b[1;32m    762\u001b[0m     \u001b[0;32mif\u001b[0m \u001b[0misstring\u001b[0m\u001b[0;34m(\u001b[0m\u001b[0mp\u001b[0m\u001b[0;34m)\u001b[0m\u001b[0;34m:\u001b[0m\u001b[0;34m\u001b[0m\u001b[0;34m\u001b[0m\u001b[0m\n\u001b[1;32m    763\u001b[0m         \u001b[0mpattern\u001b[0m \u001b[0;34m=\u001b[0m \u001b[0mp\u001b[0m\u001b[0;34m\u001b[0m\u001b[0;34m\u001b[0m\u001b[0m\n\u001b[0;32m--> 764\u001b[0;31m         \u001b[0mp\u001b[0m \u001b[0;34m=\u001b[0m \u001b[0msre_parse\u001b[0m\u001b[0;34m.\u001b[0m\u001b[0mparse\u001b[0m\u001b[0;34m(\u001b[0m\u001b[0mp\u001b[0m\u001b[0;34m,\u001b[0m \u001b[0mflags\u001b[0m\u001b[0;34m)\u001b[0m\u001b[0;34m\u001b[0m\u001b[0;34m\u001b[0m\u001b[0m\n\u001b[0m\u001b[1;32m    765\u001b[0m     \u001b[0;32melse\u001b[0m\u001b[0;34m:\u001b[0m\u001b[0;34m\u001b[0m\u001b[0;34m\u001b[0m\u001b[0m\n\u001b[1;32m    766\u001b[0m         \u001b[0mpattern\u001b[0m \u001b[0;34m=\u001b[0m \u001b[0;32mNone\u001b[0m\u001b[0;34m\u001b[0m\u001b[0;34m\u001b[0m\u001b[0m\n",
      "\u001b[0;32m/opt/conda/lib/python3.8/sre_parse.py\u001b[0m in \u001b[0;36mparse\u001b[0;34m(str, flags, state)\u001b[0m\n\u001b[1;32m    946\u001b[0m \u001b[0;34m\u001b[0m\u001b[0m\n\u001b[1;32m    947\u001b[0m     \u001b[0;32mtry\u001b[0m\u001b[0;34m:\u001b[0m\u001b[0;34m\u001b[0m\u001b[0;34m\u001b[0m\u001b[0m\n\u001b[0;32m--> 948\u001b[0;31m         \u001b[0mp\u001b[0m \u001b[0;34m=\u001b[0m \u001b[0m_parse_sub\u001b[0m\u001b[0;34m(\u001b[0m\u001b[0msource\u001b[0m\u001b[0;34m,\u001b[0m \u001b[0mstate\u001b[0m\u001b[0;34m,\u001b[0m \u001b[0mflags\u001b[0m \u001b[0;34m&\u001b[0m \u001b[0mSRE_FLAG_VERBOSE\u001b[0m\u001b[0;34m,\u001b[0m \u001b[0;36m0\u001b[0m\u001b[0;34m)\u001b[0m\u001b[0;34m\u001b[0m\u001b[0;34m\u001b[0m\u001b[0m\n\u001b[0m\u001b[1;32m    949\u001b[0m     \u001b[0;32mexcept\u001b[0m \u001b[0mVerbose\u001b[0m\u001b[0;34m:\u001b[0m\u001b[0;34m\u001b[0m\u001b[0;34m\u001b[0m\u001b[0m\n\u001b[1;32m    950\u001b[0m         \u001b[0;31m# the VERBOSE flag was switched on inside the pattern.  to be\u001b[0m\u001b[0;34m\u001b[0m\u001b[0;34m\u001b[0m\u001b[0;34m\u001b[0m\u001b[0m\n",
      "\u001b[0;32m/opt/conda/lib/python3.8/sre_parse.py\u001b[0m in \u001b[0;36m_parse_sub\u001b[0;34m(source, state, verbose, nested)\u001b[0m\n\u001b[1;32m    441\u001b[0m     \u001b[0mstart\u001b[0m \u001b[0;34m=\u001b[0m \u001b[0msource\u001b[0m\u001b[0;34m.\u001b[0m\u001b[0mtell\u001b[0m\u001b[0;34m(\u001b[0m\u001b[0;34m)\u001b[0m\u001b[0;34m\u001b[0m\u001b[0;34m\u001b[0m\u001b[0m\n\u001b[1;32m    442\u001b[0m     \u001b[0;32mwhile\u001b[0m \u001b[0;32mTrue\u001b[0m\u001b[0;34m:\u001b[0m\u001b[0;34m\u001b[0m\u001b[0;34m\u001b[0m\u001b[0m\n\u001b[0;32m--> 443\u001b[0;31m         itemsappend(_parse(source, state, verbose, nested + 1,\n\u001b[0m\u001b[1;32m    444\u001b[0m                            not nested and not items))\n\u001b[1;32m    445\u001b[0m         \u001b[0;32mif\u001b[0m \u001b[0;32mnot\u001b[0m \u001b[0msourcematch\u001b[0m\u001b[0;34m(\u001b[0m\u001b[0;34m\"|\"\u001b[0m\u001b[0;34m)\u001b[0m\u001b[0;34m:\u001b[0m\u001b[0;34m\u001b[0m\u001b[0;34m\u001b[0m\u001b[0m\n",
      "\u001b[0;32m/opt/conda/lib/python3.8/sre_parse.py\u001b[0m in \u001b[0;36m_parse\u001b[0;34m(source, state, verbose, nested, first)\u001b[0m\n\u001b[1;32m    547\u001b[0m                 \u001b[0mthis\u001b[0m \u001b[0;34m=\u001b[0m \u001b[0msourceget\u001b[0m\u001b[0;34m(\u001b[0m\u001b[0;34m)\u001b[0m\u001b[0;34m\u001b[0m\u001b[0;34m\u001b[0m\u001b[0m\n\u001b[1;32m    548\u001b[0m                 \u001b[0;32mif\u001b[0m \u001b[0mthis\u001b[0m \u001b[0;32mis\u001b[0m \u001b[0;32mNone\u001b[0m\u001b[0;34m:\u001b[0m\u001b[0;34m\u001b[0m\u001b[0;34m\u001b[0m\u001b[0m\n\u001b[0;32m--> 549\u001b[0;31m                     raise source.error(\"unterminated character set\",\n\u001b[0m\u001b[1;32m    550\u001b[0m                                        source.tell() - here)\n\u001b[1;32m    551\u001b[0m                 \u001b[0;32mif\u001b[0m \u001b[0mthis\u001b[0m \u001b[0;34m==\u001b[0m \u001b[0;34m\"]\"\u001b[0m \u001b[0;32mand\u001b[0m \u001b[0mset\u001b[0m\u001b[0;34m:\u001b[0m\u001b[0;34m\u001b[0m\u001b[0;34m\u001b[0m\u001b[0m\n",
      "\u001b[0;31merror\u001b[0m: unterminated character set at position 0 (line 1, column 1)"
     ]
    }
   ],
   "source": [
    "simple_preprocess(long_txt[20])"
   ]
  },
  {
   "cell_type": "code",
   "execution_count": null,
   "id": "ec76f7e8-1eaa-4430-a899-6f4f01cb3b18",
   "metadata": {},
   "outputs": [],
   "source": []
  }
 ],
 "metadata": {
  "kernelspec": {
   "display_name": "Python 3 (ipykernel)",
   "language": "python",
   "name": "python3"
  },
  "language_info": {
   "codemirror_mode": {
    "name": "ipython",
    "version": 3
   },
   "file_extension": ".py",
   "mimetype": "text/x-python",
   "name": "python",
   "nbconvert_exporter": "python",
   "pygments_lexer": "ipython3",
   "version": "3.8.5"
  }
 },
 "nbformat": 4,
 "nbformat_minor": 5
}
