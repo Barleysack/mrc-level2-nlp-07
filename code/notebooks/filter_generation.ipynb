{
 "cells": [
  {
   "cell_type": "code",
   "execution_count": 1,
   "id": "e3b0512e-0f00-4c18-87f8-5430324de1fc",
   "metadata": {},
   "outputs": [],
   "source": [
    "import json\n",
    "import pandas as pd\n",
    "\n",
    "with open('./mixing_bowl/no1.json', 'r') as f:\n",
    "    json_data1 = json.load(f)\n",
    "print(json_data1['mrc-0-000114'])\n",
    "\n",
    "with open('./mixing_bowl/no2.json', 'r') as f:\n",
    "    json_data2 = json.load(f)\n",
    "print(json_data2['mrc-0-000114'])\n",
    "\n",
    "for k in json_data1.keys():\n",
    "    if json_data1[k] != json_data2[k]:\n",
    "        print(k, json_data1[k], '|', json_data2[k])\n",
    "\n",
    "\n",
    "for k in json_data1.keys():\n",
    "    check = 0\n",
    "    data1 = json_data1[k]\n",
    "    data2 = json_data2[k]\n",
    "\n",
    "    if data1 in data2 and len(data1) <= len(data2):\n",
    "        check = 1\n",
    "    elif data2 in data1 and len(data1) >= len(data2):\n",
    "        check = 2\n",
    "    if check == 1:\n",
    "        json_data1[k] = data1\n",
    "    elif check == 2:\n",
    "        json_data1[k] = data2\n",
    "\n",
    "\n",
    "with open(\"/opt/ml/code/mixing_bowl/result.json\",'w') as make_file:\n",
    "    json.dump(json_data1,make_file,indent=\"\\t\",ensure_ascii=False)"
   ]
  }
 ],
 "metadata": {
  "kernelspec": {
   "display_name": "Python 3 (ipykernel)",
   "language": "python",
   "name": "python3"
  },
  "language_info": {
   "codemirror_mode": {
    "name": "ipython",
    "version": 3
   },
   "file_extension": ".py",
   "mimetype": "text/x-python",
   "name": "python",
   "nbconvert_exporter": "python",
   "pygments_lexer": "ipython3",
   "version": "3.8.5"
  }
 },
 "nbformat": 4,
 "nbformat_minor": 5
}
