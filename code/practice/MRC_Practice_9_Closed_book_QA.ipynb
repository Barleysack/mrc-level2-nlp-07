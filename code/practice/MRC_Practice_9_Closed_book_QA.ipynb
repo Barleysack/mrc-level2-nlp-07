{
 "cells": [
  {
   "cell_type": "markdown",
   "metadata": {
    "id": "8UQ-bp0nasm9"
   },
   "source": [
    "# 9강) Closed book Question Answering 을 수행해보기"
   ]
  },
  {
   "cell_type": "markdown",
   "metadata": {
    "id": "XJBWriScLCOq"
   },
   "source": [
    "## Natural Questions \n",
    "\n",
    "[Natural Questions (NQ)](https://ai.google.com/research/NaturalQuestions) \n",
    "\n",
    "Natural Questions 는 open-domain QA 에서 자주 사용되는 데이터셋입니다. 현재 datasets 패키지에선 natural questions 를 제대로 받을 수 없으므로, 따로 전처리된 natural questions 데이터셋을 다운받도록 하겠습니다.\n"
   ]
  },
  {
   "cell_type": "markdown",
   "metadata": {
    "id": "PXBV_cGgXb5c"
   },
   "source": [
    "## Requirements"
   ]
  },
  {
   "cell_type": "code",
   "execution_count": 1,
   "metadata": {
    "colab": {
     "base_uri": "https://localhost:8080/"
    },
    "id": "ytiWJaRhN_kL",
    "outputId": "dee5c77f-0e47-4466-8722-1e207f45c295"
   },
   "outputs": [
    {
     "name": "stderr",
     "output_type": "stream",
     "text": [
      "--2021-10-19 12:08:23--  https://docs.google.com/uc?export=download&confirm=&id=1wK5Q7R294ejOXyumcL7UbN231Si0cl15\n",
      "Resolving docs.google.com (docs.google.com)... 142.251.42.174, 2404:6800:4004:826::200e\n",
      "Connecting to docs.google.com (docs.google.com)|142.251.42.174|:443... connected.\n",
      "HTTP request sent, awaiting response... 302 Moved Temporarily\n",
      "Location: https://doc-0g-0k-docs.googleusercontent.com/docs/securesc/ui3fhelsgjhq4ipo6k4q7ufh9dgfqqt7/not3rff9t52s59mpvum3ni3burld85uf/1634645250000/10000090644219567406/15823624227004783883Z/1wK5Q7R294ejOXyumcL7UbN231Si0cl15?e=download [following]\n",
      "--2021-10-19 12:08:24--  https://doc-0g-0k-docs.googleusercontent.com/docs/securesc/ui3fhelsgjhq4ipo6k4q7ufh9dgfqqt7/not3rff9t52s59mpvum3ni3burld85uf/1634645250000/10000090644219567406/15823624227004783883Z/1wK5Q7R294ejOXyumcL7UbN231Si0cl15?e=download\n",
      "Resolving doc-0g-0k-docs.googleusercontent.com (doc-0g-0k-docs.googleusercontent.com)... 142.251.42.161, 2404:6800:4004:826::2001\n",
      "Connecting to doc-0g-0k-docs.googleusercontent.com (doc-0g-0k-docs.googleusercontent.com)|142.251.42.161|:443... connected.\n",
      "HTTP request sent, awaiting response... 302 Found\n",
      "Location: https://docs.google.com/nonceSigner?nonce=l1aa7v4me5trk&continue=https://doc-0g-0k-docs.googleusercontent.com/docs/securesc/ui3fhelsgjhq4ipo6k4q7ufh9dgfqqt7/not3rff9t52s59mpvum3ni3burld85uf/1634645250000/10000090644219567406/15823624227004783883Z/1wK5Q7R294ejOXyumcL7UbN231Si0cl15?e%3Ddownload&hash=kha0i5c4og5rlm2o8mtn7f1p0sejvoi8 [following]\n",
      "--2021-10-19 12:08:25--  https://docs.google.com/nonceSigner?nonce=l1aa7v4me5trk&continue=https://doc-0g-0k-docs.googleusercontent.com/docs/securesc/ui3fhelsgjhq4ipo6k4q7ufh9dgfqqt7/not3rff9t52s59mpvum3ni3burld85uf/1634645250000/10000090644219567406/15823624227004783883Z/1wK5Q7R294ejOXyumcL7UbN231Si0cl15?e%3Ddownload&hash=kha0i5c4og5rlm2o8mtn7f1p0sejvoi8\n",
      "Connecting to docs.google.com (docs.google.com)|142.251.42.174|:443... connected.\n",
      "HTTP request sent, awaiting response... 302 Found\n",
      "Location: https://doc-0g-0k-docs.googleusercontent.com/docs/securesc/ui3fhelsgjhq4ipo6k4q7ufh9dgfqqt7/not3rff9t52s59mpvum3ni3burld85uf/1634645250000/10000090644219567406/15823624227004783883Z/1wK5Q7R294ejOXyumcL7UbN231Si0cl15?e=download&nonce=l1aa7v4me5trk&user=15823624227004783883Z&hash=mvtcfq1ep9d8671fdb2habirv9j12ika [following]\n",
      "--2021-10-19 12:08:25--  https://doc-0g-0k-docs.googleusercontent.com/docs/securesc/ui3fhelsgjhq4ipo6k4q7ufh9dgfqqt7/not3rff9t52s59mpvum3ni3burld85uf/1634645250000/10000090644219567406/15823624227004783883Z/1wK5Q7R294ejOXyumcL7UbN231Si0cl15?e=download&nonce=l1aa7v4me5trk&user=15823624227004783883Z&hash=mvtcfq1ep9d8671fdb2habirv9j12ika\n",
      "Connecting to doc-0g-0k-docs.googleusercontent.com (doc-0g-0k-docs.googleusercontent.com)|142.251.42.161|:443... connected.\n",
      "HTTP request sent, awaiting response... 200 OK\n",
      "Length: 7112342 (6.8M) [text/tab-separated-values]\n",
      "Saving to: ‘data_nq-train.tsv’\n",
      "\n",
      "     0K .......... .......... .......... .......... ..........  0%  855K 8s\n",
      "    50K .......... .......... .......... .......... ..........  1% 1.11M 7s\n",
      "   100K .......... .......... .......... .......... ..........  2% 3.14M 5s\n",
      "   150K .......... .......... .......... .......... ..........  2% 2.77M 5s\n",
      "   200K .......... .......... .......... .......... ..........  3% 3.66M 4s\n",
      "   250K .......... .......... .......... .......... ..........  4% 4.51M 4s\n",
      "   300K .......... .......... .......... .......... ..........  5% 6.73M 3s\n",
      "   350K .......... .......... .......... .......... ..........  5% 8.84M 3s\n",
      "   400K .......... .......... .......... .......... ..........  6% 8.58M 3s\n",
      "   450K .......... .......... .......... .......... ..........  7% 9.09M 2s\n",
      "   500K .......... .......... .......... .......... ..........  7% 6.95M 2s\n",
      "   550K .......... .......... .......... .......... ..........  8% 13.0M 2s\n",
      "   600K .......... .......... .......... .......... ..........  9% 9.71M 2s\n",
      "   650K .......... .......... .......... .......... .......... 10% 12.3M 2s\n",
      "   700K .......... .......... .......... .......... .......... 10% 8.20M 2s\n",
      "   750K .......... .......... .......... .......... .......... 11% 13.8M 2s\n",
      "   800K .......... .......... .......... .......... .......... 12% 23.9M 2s\n",
      "   850K .......... .......... .......... .......... .......... 12% 24.1M 1s\n",
      "   900K .......... .......... .......... .......... .......... 13% 23.7M 1s\n",
      "   950K .......... .......... .......... .......... .......... 14% 21.3M 1s\n",
      "  1000K .......... .......... .......... .......... .......... 15% 24.7M 1s\n",
      "  1050K .......... .......... .......... .......... .......... 15% 18.2M 1s\n",
      "  1100K .......... .......... .......... .......... .......... 16% 23.7M 1s\n",
      "  1150K .......... .......... .......... .......... .......... 17% 20.8M 1s\n",
      "  1200K .......... .......... .......... .......... .......... 17% 25.8M 1s\n",
      "  1250K .......... .......... .......... .......... .......... 18% 26.9M 1s\n",
      "  1300K .......... .......... .......... .......... .......... 19% 19.9M 1s\n",
      "  1350K .......... .......... .......... .......... .......... 20% 34.5M 1s\n",
      "  1400K .......... .......... .......... .......... .......... 20% 29.0M 1s\n",
      "  1450K .......... .......... .......... .......... .......... 21% 22.4M 1s\n",
      "  1500K .......... .......... .......... .......... .......... 22% 33.5M 1s\n",
      "  1550K .......... .......... .......... .......... .......... 23% 21.2M 1s\n",
      "  1600K .......... .......... .......... .......... .......... 23% 43.2M 1s\n",
      "  1650K .......... .......... .......... .......... .......... 24% 26.0M 1s\n",
      "  1700K .......... .......... .......... .......... .......... 25% 56.2M 1s\n",
      "  1750K .......... .......... .......... .......... .......... 25% 26.6M 1s\n",
      "  1800K .......... .......... .......... .......... .......... 26% 50.0M 1s\n",
      "  1850K .......... .......... .......... .......... .......... 27% 23.4M 1s\n",
      "  1900K .......... .......... .......... .......... .......... 28% 30.8M 1s\n",
      "  1950K .......... .......... .......... .......... .......... 28% 24.0M 1s\n",
      "  2000K .......... .......... .......... .......... .......... 29% 61.0M 1s\n",
      "  2050K .......... .......... .......... .......... .......... 30% 57.1M 1s\n",
      "  2100K .......... .......... .......... .......... .......... 30% 55.0M 1s\n",
      "  2150K .......... .......... .......... .......... .......... 31% 16.0M 1s\n",
      "  2200K .......... .......... .......... .......... .......... 32% 64.3M 1s\n",
      "  2250K .......... .......... .......... .......... .......... 33% 61.8M 1s\n",
      "  2300K .......... .......... .......... .......... .......... 33% 68.4M 1s\n",
      "  2350K .......... .......... .......... .......... .......... 34% 64.0M 1s\n",
      "  2400K .......... .......... .......... .......... .......... 35% 37.4M 0s\n",
      "  2450K .......... .......... .......... .......... .......... 35% 45.9M 0s\n",
      "  2500K .......... .......... .......... .......... .......... 36% 51.2M 0s\n",
      "  2550K .......... .......... .......... .......... .......... 37% 38.0M 0s\n",
      "  2600K .......... .......... .......... .......... .......... 38% 25.1M 0s\n",
      "  2650K .......... .......... .......... .......... .......... 38% 78.7M 0s\n",
      "  2700K .......... .......... .......... .......... .......... 39%  129M 0s\n",
      "  2750K .......... .......... .......... .......... .......... 40%  123M 0s\n",
      "  2800K .......... .......... .......... .......... .......... 41% 59.9M 0s\n",
      "  2850K .......... .......... .......... .......... .......... 41% 24.1M 0s\n",
      "  2900K .......... .......... .......... .......... .......... 42% 39.4M 0s\n",
      "  2950K .......... .......... .......... .......... .......... 43% 74.9M 0s\n",
      "  3000K .......... .......... .......... .......... .......... 43% 95.4M 0s\n",
      "  3050K .......... .......... .......... .......... .......... 44% 92.0M 0s\n",
      "  3100K .......... .......... .......... .......... .......... 45% 59.5M 0s\n",
      "  3150K .......... .......... .......... .......... .......... 46% 74.3M 0s\n",
      "  3200K .......... .......... .......... .......... .......... 46% 77.1M 0s\n",
      "  3250K .......... .......... .......... .......... .......... 47%  104M 0s\n",
      "  3300K .......... .......... .......... .......... .......... 48%  102M 0s\n",
      "  3350K .......... .......... .......... .......... .......... 48% 73.0M 0s\n",
      "  3400K .......... .......... .......... .......... .......... 49% 70.6M 0s\n",
      "  3450K .......... .......... .......... .......... .......... 50% 91.2M 0s\n",
      "  3500K .......... .......... .......... .......... .......... 51% 28.2M 0s\n",
      "  3550K .......... .......... .......... .......... .......... 51% 75.0M 0s\n",
      "  3600K .......... .......... .......... .......... .......... 52% 95.0M 0s\n",
      "  3650K .......... .......... .......... .......... .......... 53% 76.3M 0s\n",
      "  3700K .......... .......... .......... .......... .......... 53%  112M 0s\n",
      "  3750K .......... .......... .......... .......... .......... 54% 85.6M 0s\n",
      "  3800K .......... .......... .......... .......... .......... 55% 85.9M 0s\n",
      "  3850K .......... .......... .......... .......... .......... 56% 88.1M 0s\n",
      "  3900K .......... .......... .......... .......... .......... 56% 53.0M 0s\n",
      "  3950K .......... .......... .......... .......... .......... 57%  164M 0s\n",
      "  4000K .......... .......... .......... .......... .......... 58% 62.3M 0s\n",
      "  4050K .......... .......... .......... .......... .......... 59% 39.0M 0s\n",
      "  4100K .......... .......... .......... .......... .......... 59% 79.5M 0s\n",
      "  4150K .......... .......... .......... .......... .......... 60%  118M 0s\n",
      "  4200K .......... .......... .......... .......... .......... 61%  143M 0s\n",
      "  4250K .......... .......... .......... .......... .......... 61% 76.7M 0s\n",
      "  4300K .......... .......... .......... .......... .......... 62% 90.1M 0s\n",
      "  4350K .......... .......... .......... .......... .......... 63%  113M 0s\n",
      "  4400K .......... .......... .......... .......... .......... 64% 31.5M 0s\n",
      "  4450K .......... .......... .......... .......... .......... 64% 39.1M 0s\n",
      "  4500K .......... .......... .......... .......... .......... 65% 77.0M 0s\n",
      "  4550K .......... .......... .......... .......... .......... 66%  150M 0s\n",
      "  4600K .......... .......... .......... .......... .......... 66%  110M 0s\n",
      "  4650K .......... .......... .......... .......... .......... 67% 91.8M 0s\n",
      "  4700K .......... .......... .......... .......... .......... 68%  106M 0s\n",
      "  4750K .......... .......... .......... .......... .......... 69%  139M 0s\n",
      "  4800K .......... .......... .......... .......... .......... 69%  155M 0s\n",
      "  4850K .......... .......... .......... .......... .......... 70% 90.9M 0s\n",
      "  4900K .......... .......... .......... .......... .......... 71%  111M 0s\n",
      "  4950K .......... .......... .......... .......... .......... 71%  117M 0s\n",
      "  5000K .......... .......... .......... .......... .......... 72%  142M 0s\n",
      "  5050K .......... .......... .......... .......... .......... 73%  118M 0s\n",
      "  5100K .......... .......... .......... .......... .......... 74%  113M 0s\n",
      "  5150K .......... .......... .......... .......... .......... 74%  133M 0s\n",
      "  5200K .......... .......... .......... .......... .......... 75%  120M 0s\n",
      "  5250K .......... .......... .......... .......... .......... 76%  134M 0s\n",
      "  5300K .......... .......... .......... .......... .......... 77%  129M 0s\n",
      "  5350K .......... .......... .......... .......... .......... 77%  115M 0s\n",
      "  5400K .......... .......... .......... .......... .......... 78%  146M 0s\n",
      "  5450K .......... .......... .......... .......... .......... 79% 80.3M 0s\n",
      "  5500K .......... .......... .......... .......... .......... 79%  175M 0s\n",
      "  5550K .......... .......... .......... .......... .......... 80% 86.6M 0s\n",
      "  5600K .......... .......... .......... .......... .......... 81% 74.2M 0s\n",
      "  5650K .......... .......... .......... .......... .......... 82%  105M 0s\n",
      "  5700K .......... .......... .......... .......... .......... 82% 71.4M 0s\n",
      "  5750K .......... .......... .......... .......... .......... 83% 50.6M 0s\n",
      "  5800K .......... .......... .......... .......... .......... 84%  118M 0s\n",
      "  5850K .......... .......... .......... .......... .......... 84%  117M 0s\n",
      "  5900K .......... .......... .......... .......... .......... 85%  143M 0s\n",
      "  5950K .......... .......... .......... .......... .......... 86%  139M 0s\n",
      "  6000K .......... .......... .......... .......... .......... 87%  150M 0s\n",
      "  6050K .......... .......... .......... .......... .......... 87%  126M 0s\n",
      "  6100K .......... .......... .......... .......... .......... 88%  147M 0s\n",
      "  6150K .......... .......... .......... .......... .......... 89%  145M 0s\n",
      "  6200K .......... .......... .......... .......... .......... 89%  184M 0s\n",
      "  6250K .......... .......... .......... .......... .......... 90%  173M 0s\n",
      "  6300K .......... .......... .......... .......... .......... 91% 42.2M 0s\n",
      "  6350K .......... .......... .......... .......... .......... 92% 51.6M 0s\n",
      "  6400K .......... .......... .......... .......... .......... 92%  143M 0s\n",
      "  6450K .......... .......... .......... .......... .......... 93%  190M 0s\n",
      "  6500K .......... .......... .......... .......... .......... 94%  139M 0s\n",
      "  6550K .......... .......... .......... .......... .......... 95%  126M 0s\n",
      "  6600K .......... .......... .......... .......... .......... 95%  141M 0s\n",
      "  6650K .......... .......... .......... .......... .......... 96%  199M 0s\n",
      "  6700K .......... .......... .......... .......... .......... 97%  137M 0s\n",
      "  6750K .......... .......... .......... .......... .......... 97%  141M 0s\n",
      "  6800K .......... .......... .......... .......... .......... 98%  149M 0s\n",
      "  6850K .......... .......... .......... .......... .......... 99%  201M 0s\n",
      "  6900K .......... .......... .......... .......... .....     100%  205M=0.3s\n",
      "\n",
      "2021-10-19 12:08:26 (21.1 MB/s) - ‘data_nq-train.tsv’ saved [7112342/7112342]\n",
      "\n",
      "--2021-10-19 12:08:28--  https://docs.google.com/uc?export=download&confirm=&id=1Ii_wNVpam2wZ5wYebqAqwPHi6g0Ayg9l\n",
      "Resolving docs.google.com (docs.google.com)... 142.251.42.174, 2404:6800:4004:826::200e\n",
      "Connecting to docs.google.com (docs.google.com)|142.251.42.174|:443... connected.\n",
      "HTTP request sent, awaiting response... 302 Moved Temporarily\n",
      "Location: https://doc-0o-2k-docs.googleusercontent.com/docs/securesc/lj4f1ubd0ha7jehbqsdfn9vvjnom50gq/a4s5o4vcnnlrve0q1cr07i1ef3odspub/1634645250000/10000090644219567406/00745871253030228737Z/1Ii_wNVpam2wZ5wYebqAqwPHi6g0Ayg9l?e=download [following]\n",
      "--2021-10-19 12:08:28--  https://doc-0o-2k-docs.googleusercontent.com/docs/securesc/lj4f1ubd0ha7jehbqsdfn9vvjnom50gq/a4s5o4vcnnlrve0q1cr07i1ef3odspub/1634645250000/10000090644219567406/00745871253030228737Z/1Ii_wNVpam2wZ5wYebqAqwPHi6g0Ayg9l?e=download\n",
      "Resolving doc-0o-2k-docs.googleusercontent.com (doc-0o-2k-docs.googleusercontent.com)... 142.251.42.161, 2404:6800:4004:826::2001\n",
      "Connecting to doc-0o-2k-docs.googleusercontent.com (doc-0o-2k-docs.googleusercontent.com)|142.251.42.161|:443... connected.\n",
      "HTTP request sent, awaiting response... 302 Found\n",
      "Location: https://docs.google.com/nonceSigner?nonce=fd2e1pu7ol9vg&continue=https://doc-0o-2k-docs.googleusercontent.com/docs/securesc/lj4f1ubd0ha7jehbqsdfn9vvjnom50gq/a4s5o4vcnnlrve0q1cr07i1ef3odspub/1634645250000/10000090644219567406/00745871253030228737Z/1Ii_wNVpam2wZ5wYebqAqwPHi6g0Ayg9l?e%3Ddownload&hash=irrg2gkvcd434innvrdkhkev3ge59ik0 [following]\n",
      "--2021-10-19 12:08:29--  https://docs.google.com/nonceSigner?nonce=fd2e1pu7ol9vg&continue=https://doc-0o-2k-docs.googleusercontent.com/docs/securesc/lj4f1ubd0ha7jehbqsdfn9vvjnom50gq/a4s5o4vcnnlrve0q1cr07i1ef3odspub/1634645250000/10000090644219567406/00745871253030228737Z/1Ii_wNVpam2wZ5wYebqAqwPHi6g0Ayg9l?e%3Ddownload&hash=irrg2gkvcd434innvrdkhkev3ge59ik0\n",
      "Connecting to docs.google.com (docs.google.com)|142.251.42.174|:443... connected.\n",
      "HTTP request sent, awaiting response... 302 Found\n",
      "Location: https://doc-0o-2k-docs.googleusercontent.com/docs/securesc/lj4f1ubd0ha7jehbqsdfn9vvjnom50gq/a4s5o4vcnnlrve0q1cr07i1ef3odspub/1634645250000/10000090644219567406/00745871253030228737Z/1Ii_wNVpam2wZ5wYebqAqwPHi6g0Ayg9l?e=download&nonce=fd2e1pu7ol9vg&user=00745871253030228737Z&hash=ekdsenkm2kudlgrbnm1s7ai9uhcp72gu [following]\n",
      "--2021-10-19 12:08:29--  https://doc-0o-2k-docs.googleusercontent.com/docs/securesc/lj4f1ubd0ha7jehbqsdfn9vvjnom50gq/a4s5o4vcnnlrve0q1cr07i1ef3odspub/1634645250000/10000090644219567406/00745871253030228737Z/1Ii_wNVpam2wZ5wYebqAqwPHi6g0Ayg9l?e=download&nonce=fd2e1pu7ol9vg&user=00745871253030228737Z&hash=ekdsenkm2kudlgrbnm1s7ai9uhcp72gu\n",
      "Connecting to doc-0o-2k-docs.googleusercontent.com (doc-0o-2k-docs.googleusercontent.com)|142.251.42.161|:443... connected.\n",
      "HTTP request sent, awaiting response... 200 OK\n",
      "Length: 179403 (175K) [text/tab-separated-values]\n",
      "Saving to: ‘data_nq-validation.tsv’\n",
      "\n",
      "     0K .......... .......... .......... .......... .......... 28%  777K 0s\n",
      "    50K .......... .......... .......... .......... .......... 57% 1.14M 0s\n",
      "   100K .......... .......... .......... .......... .......... 85% 2.86M 0s\n",
      "   150K .......... .......... .....                           100% 2.60M=0.1s\n",
      "\n",
      "2021-10-19 12:08:29 (1.28 MB/s) - ‘data_nq-validation.tsv’ saved [179403/179403]\n",
      "\n"
     ]
    }
   ],
   "source": [
    "%%bash\n",
    "# install packages\n",
    "pip install datasets==1.4.1 > /dev/null 2>&1 # execute command in silence\n",
    "pip install transformers==4.4.1 > /dev/null 2>&1\n",
    "pip install tqdm==4.41.1 > /dev/null 2>&1\n",
    "pip install apache_beam > /dev/null 2>&1 # for trivia or nq datasets, just in case\n",
    "# download natural qusetion datasets \n",
    "wget --load-cookies /tmp/cookies.txt \"https://docs.google.com/uc?export=download&confirm=$(wget --quiet --save-cookies /tmp/cookies.txt --keep-session-cookies --no-check-certificate 'https://docs.google.com/uc?export=download&id=1wK5Q7R294ejOXyumcL7UbN231Si0cl15' -O- | sed -rn 's/.*confirm=([0-9A-Za-z_]+).*/\\1\\n/p')&id=1wK5Q7R294ejOXyumcL7UbN231Si0cl15\" -O data_nq-train.tsv && rm -rf /tmp/cookies.txt \n",
    "wget --load-cookies /tmp/cookies.txt \"https://docs.google.com/uc?export=download&confirm=$(wget --quiet --save-cookies /tmp/cookies.txt --keep-session-cookies --no-check-certificate 'https://docs.google.com/uc?export=download&id=1Ii_wNVpam2wZ5wYebqAqwPHi6g0Ayg9l' -O- | sed -rn 's/.*confirm=([0-9A-Za-z_]+).*/\\1\\n/p')&id=1Ii_wNVpam2wZ5wYebqAqwPHi6g0Ayg9l\" -O data_nq-validation.tsv && rm -rf /tmp/cookies.txt "
   ]
  },
  {
   "cell_type": "markdown",
   "metadata": {
    "id": "Fyl7WpPXksbu"
   },
   "source": [
    "## 데이터 불러오기"
   ]
  },
  {
   "cell_type": "code",
   "execution_count": 2,
   "metadata": {
    "id": "SGHVHyIMOHmv"
   },
   "outputs": [],
   "source": [
    "import os\n",
    "from tqdm.auto import tqdm, trange\n",
    "import argparse\n",
    "import random\n",
    "import numpy as np\n",
    "\n",
    "from datasets import load_metric, Dataset"
   ]
  },
  {
   "cell_type": "code",
   "execution_count": 3,
   "metadata": {
    "id": "ooXz0uFwbiQ0"
   },
   "outputs": [],
   "source": [
    "DATA_DIR = \"./\"\n",
    "nq_tsv_path = {\n",
    "    \"train\": os.path.join(DATA_DIR, \"data_nq-train.tsv\"),\n",
    "    \"valid\": os.path.join(DATA_DIR, \"data_nq-validation.tsv\")\n",
    "}"
   ]
  },
  {
   "cell_type": "code",
   "execution_count": 4,
   "metadata": {
    "id": "Xzm-GjiwjFc8"
   },
   "outputs": [],
   "source": [
    "import pandas as pd\n",
    "train_df = pd.read_csv(filepath_or_buffer=nq_tsv_path['train'], sep='\\t',\n",
    "                 header=None)\n",
    "train_df = train_df.rename(columns = {train_df.columns[0]: 'question', train_df.columns[1]: 'answer'}).dropna()\n",
    "train_ds = Dataset.from_pandas(train_df)\n",
    "\n",
    "valid_df = pd.read_csv(filepath_or_buffer=nq_tsv_path['valid'], sep='\\t',\n",
    "                 header=None)\n",
    "valid_df = valid_df.rename(columns = {valid_df.columns[0]: 'question', valid_df.columns[1]: 'answer'}).dropna()\n",
    "valid_ds = Dataset.from_pandas(valid_df)"
   ]
  },
  {
   "cell_type": "code",
   "execution_count": 5,
   "metadata": {
    "id": "MnpY_eVUWL3x"
   },
   "outputs": [],
   "source": [
    "import re\n",
    "def nq_preprocessor(ex):\n",
    "  def normalize_text(text):\n",
    "    \"\"\"Lowercase and remove quotes from a string.\"\"\"\n",
    "    text = text.lower()\n",
    "    text = re.sub(\"'(.*)'\", r\"\\1\", text)\n",
    "    return text\n",
    "\n",
    "  def to_inputs_and_targets(ex):\n",
    "    \"\"\"Map {\"question\": ..., \"answer\": ...}->{\"inputs\": ..., \"targets\": ...}.\"\"\"\n",
    "    return {\n",
    "        \"inputs\":\n",
    "             \"\".join(\n",
    "                 [\"natural question: \", normalize_text(ex[\"question\"])]),\n",
    "        \"targets\": normalize_text(ex[\"answer\"])\n",
    "    }\n",
    "  return to_inputs_and_targets(ex)"
   ]
  },
  {
   "cell_type": "code",
   "execution_count": 6,
   "metadata": {
    "colab": {
     "base_uri": "https://localhost:8080/",
     "height": 247,
     "referenced_widgets": [
      "383f09b17dc648419bf79edb15aa757a",
      "7092fea881a647a5ae93774509e9e307",
      "1c0490367de346268ec788fa013b7145",
      "22957b91be6544908196bbba55dc16fc",
      "987005cd28494c619390168d6bc00981",
      "2ecb834f58c84271ab00fca12d21f849",
      "271c41e21b1140228f9d7904dc549d14",
      "effebdef214748b3b4691bfa985bab5a",
      "74e33721155641298bd860a2333500ae",
      "b08060b39104482e98aaa72ea482588a",
      "ea2712d6af5549d0a15a7a7375389ad1",
      "0799a0af1d8e4b8da8aedaf7f937014b",
      "9cd0870c83e5424b8c302c2d60381865",
      "4d885159df36440daedd78420baaa85f",
      "81128a4747044d96b1954b7febc8dd32",
      "729e2358eb47426c8fe3c36f13e6729b",
      "324769400a5b4d07bbca82a47180b92d",
      "a6443cc951ee4ee1b34bbcb4af632a34",
      "2c89d302af62402685b75fa2fe08a0e3",
      "90d96ab775e143c98950224b5b5eecc6",
      "47238385d5304198a930433c88ae5354",
      "cb51a8d061354bf18a9ee258aff8a80b",
      "8d24e291aef64d9881aafb32d6876264",
      "6f2b61fe45ae4e01bd25887251c0f7f5",
      "e995cb02ac4b49a9af1b430796809318",
      "fa130cd943b2437dad9b38d16ae15fa1",
      "a8b56f9b23fb4a7696992d55eb7e4d58",
      "2c0d66780f784081a8b8d4369a0398fb",
      "a27a4d40c79146769933db51eb5689e2",
      "ce37197ea17f472497f1cf63e98bed17",
      "541ea78fbd8b4a698ddc6891344ff72b",
      "e3ac7221b48040ed96e011fb2e69ba70"
     ]
    },
    "id": "FPFMu_TcnUVq",
    "outputId": "8677a6ea-859d-443f-96a3-f26d2133fef9"
   },
   "outputs": [
    {
     "name": "stdout",
     "output_type": "stream",
     "text": [
      "  "
     ]
    },
    {
     "data": {
      "application/vnd.jupyter.widget-view+json": {
       "model_id": "27973a19e6db4c90ad9b6c3868d9bb47",
       "version_major": 2,
       "version_minor": 0
      },
      "text/plain": [
       "HBox(children=(FloatProgress(value=0.0, description='#0', max=12010.0, style=ProgressStyle(description_width='…"
      ]
     },
     "metadata": {},
     "output_type": "display_data"
    },
    {
     "name": "stdout",
     "output_type": "stream",
     "text": [
      " "
     ]
    },
    {
     "data": {
      "application/vnd.jupyter.widget-view+json": {
       "model_id": "affe16b63fc2494bbda50e856c6bb4ab",
       "version_major": 2,
       "version_minor": 0
      },
      "text/plain": [
       "HBox(children=(FloatProgress(value=0.0, description='#1', max=12010.0, style=ProgressStyle(description_width='…"
      ]
     },
     "metadata": {},
     "output_type": "display_data"
    },
    {
     "data": {
      "application/vnd.jupyter.widget-view+json": {
       "model_id": "d753b48c63334b94a60c834e5b0e911d",
       "version_major": 2,
       "version_minor": 0
      },
      "text/plain": [
       "HBox(children=(FloatProgress(value=0.0, description='#2', max=12009.0, style=ProgressStyle(description_width='…"
      ]
     },
     "metadata": {},
     "output_type": "display_data"
    },
    {
     "name": "stdout",
     "output_type": "stream",
     "text": [
      "  "
     ]
    },
    {
     "data": {
      "application/vnd.jupyter.widget-view+json": {
       "model_id": "2ac2aa86f3fd4ebfb9a8257a2d027e06",
       "version_major": 2,
       "version_minor": 0
      },
      "text/plain": [
       "HBox(children=(FloatProgress(value=0.0, description='#4', max=12009.0, style=ProgressStyle(description_width='…"
      ]
     },
     "metadata": {},
     "output_type": "display_data"
    },
    {
     "data": {
      "application/vnd.jupyter.widget-view+json": {
       "model_id": "38aaa7d9faf84d778166dd1e6e7b12ca",
       "version_major": 2,
       "version_minor": 0
      },
      "text/plain": [
       "HBox(children=(FloatProgress(value=0.0, description='#3', max=12009.0, style=ProgressStyle(description_width='…"
      ]
     },
     "metadata": {},
     "output_type": "display_data"
    },
    {
     "name": "stdout",
     "output_type": "stream",
     "text": [
      " "
     ]
    },
    {
     "data": {
      "application/vnd.jupyter.widget-view+json": {
       "model_id": "81c93536a24f41318a2750ef665873af",
       "version_major": 2,
       "version_minor": 0
      },
      "text/plain": [
       "HBox(children=(FloatProgress(value=0.0, description='#5', max=12009.0, style=ProgressStyle(description_width='…"
      ]
     },
     "metadata": {},
     "output_type": "display_data"
    },
    {
     "name": "stdout",
     "output_type": "stream",
     "text": [
      "  "
     ]
    },
    {
     "data": {
      "application/vnd.jupyter.widget-view+json": {
       "model_id": "12a22083a3184809b55a57882e5551b8",
       "version_major": 2,
       "version_minor": 0
      },
      "text/plain": [
       "HBox(children=(FloatProgress(value=0.0, description='#6', max=12009.0, style=ProgressStyle(description_width='…"
      ]
     },
     "metadata": {},
     "output_type": "display_data"
    },
    {
     "data": {
      "application/vnd.jupyter.widget-view+json": {
       "model_id": "aa8279d68146432faabdac072b6d9e93",
       "version_major": 2,
       "version_minor": 0
      },
      "text/plain": [
       "HBox(children=(FloatProgress(value=0.0, description='#7', max=12009.0, style=ProgressStyle(description_width='…"
      ]
     },
     "metadata": {},
     "output_type": "display_data"
    },
    {
     "name": "stdout",
     "output_type": "stream",
     "text": [
      "\n",
      "\n",
      "\n",
      "\n",
      "\n",
      "\n",
      "\n",
      "\n",
      "        "
     ]
    },
    {
     "data": {
      "application/vnd.jupyter.widget-view+json": {
       "model_id": "79b7ca466e2f4bd3b8b55f0122d99f35",
       "version_major": 2,
       "version_minor": 0
      },
      "text/plain": [
       "HBox(children=(FloatProgress(value=0.0, description='#1', max=287.0, style=ProgressStyle(description_width='in…"
      ]
     },
     "metadata": {},
     "output_type": "display_data"
    },
    {
     "data": {
      "application/vnd.jupyter.widget-view+json": {
       "model_id": "8397a2b95786480a920bdbc00846bde4",
       "version_major": 2,
       "version_minor": 0
      },
      "text/plain": [
       "HBox(children=(FloatProgress(value=0.0, description='#0', max=287.0, style=ProgressStyle(description_width='in…"
      ]
     },
     "metadata": {},
     "output_type": "display_data"
    },
    {
     "data": {
      "application/vnd.jupyter.widget-view+json": {
       "model_id": "51405107047343039ea882bfaf6f2064",
       "version_major": 2,
       "version_minor": 0
      },
      "text/plain": [
       "HBox(children=(FloatProgress(value=0.0, description='#2', max=287.0, style=ProgressStyle(description_width='in…"
      ]
     },
     "metadata": {},
     "output_type": "display_data"
    },
    {
     "data": {
      "application/vnd.jupyter.widget-view+json": {
       "model_id": "6e5935f65e1f439d84d351f8f77172b1",
       "version_major": 2,
       "version_minor": 0
      },
      "text/plain": [
       "HBox(children=(FloatProgress(value=0.0, description='#3', max=287.0, style=ProgressStyle(description_width='in…"
      ]
     },
     "metadata": {},
     "output_type": "display_data"
    },
    {
     "data": {
      "application/vnd.jupyter.widget-view+json": {
       "model_id": "40da2622eef64be2abd0ae5c90c13753",
       "version_major": 2,
       "version_minor": 0
      },
      "text/plain": [
       "HBox(children=(FloatProgress(value=0.0, description='#6', max=287.0, style=ProgressStyle(description_width='in…"
      ]
     },
     "metadata": {},
     "output_type": "display_data"
    },
    {
     "data": {
      "application/vnd.jupyter.widget-view+json": {
       "model_id": "a66797e49f5d45dea6bb6a87cb4c74bc",
       "version_major": 2,
       "version_minor": 0
      },
      "text/plain": [
       "HBox(children=(FloatProgress(value=0.0, description='#7', max=286.0, style=ProgressStyle(description_width='in…"
      ]
     },
     "metadata": {},
     "output_type": "display_data"
    },
    {
     "data": {
      "application/vnd.jupyter.widget-view+json": {
       "model_id": "4a5bb527d0754973b104095470dd540a",
       "version_major": 2,
       "version_minor": 0
      },
      "text/plain": [
       "HBox(children=(FloatProgress(value=0.0, description='#5', max=287.0, style=ProgressStyle(description_width='in…"
      ]
     },
     "metadata": {},
     "output_type": "display_data"
    },
    {
     "data": {
      "application/vnd.jupyter.widget-view+json": {
       "model_id": "347cab2917394f2c9f9bd66d18323e80",
       "version_major": 2,
       "version_minor": 0
      },
      "text/plain": [
       "HBox(children=(FloatProgress(value=0.0, description='#4', max=287.0, style=ProgressStyle(description_width='in…"
      ]
     },
     "metadata": {},
     "output_type": "display_data"
    },
    {
     "name": "stdout",
     "output_type": "stream",
     "text": [
      "\n",
      "\n",
      "\n",
      "\n",
      "\n",
      "\n",
      "\n",
      "\n"
     ]
    }
   ],
   "source": [
    "import multiprocessing as mp\n",
    "cpus = mp.cpu_count()\n",
    "train_ds = train_ds.map(lambda x: nq_preprocessor(x), num_proc=cpus).remove_columns(['question', 'answer'])\n",
    "valid_ds = valid_ds.map(lambda x: nq_preprocessor(x), num_proc=cpus).remove_columns(['question', 'answer'])"
   ]
  },
  {
   "cell_type": "code",
   "execution_count": 7,
   "metadata": {
    "id": "VcVIlBtlqqAX"
   },
   "outputs": [],
   "source": [
    "# Choose small samples as our dataset \n",
    "sample_idx = np.random.choice(range(len(train_ds)), 4) \n",
    "training_dataset = train_ds[sample_idx]"
   ]
  },
  {
   "cell_type": "markdown",
   "metadata": {
    "id": "wfn53GMiljHv"
   },
   "source": [
    "## 훈련"
   ]
  },
  {
   "cell_type": "code",
   "execution_count": 8,
   "metadata": {
    "id": "qxv5P-bYmDub"
   },
   "outputs": [],
   "source": [
    "import torch\n",
    "import torch.nn.functional as F\n",
    "\n",
    "from transformers import (AutoTokenizer, \n",
    "                          AutoModelForSeq2SeqLM, \n",
    "                          AdamW, \n",
    "                          TrainingArguments, \n",
    "                          get_linear_schedule_with_warmup)"
   ]
  },
  {
   "cell_type": "code",
   "execution_count": 9,
   "metadata": {
    "id": "1it3rd3Hml1I"
   },
   "outputs": [],
   "source": [
    "args = TrainingArguments(\n",
    "    output_dir=\"seq2seq_models/bart_nq\",\n",
    "    evaluation_strategy=\"epoch\",\n",
    "    save_strategy=\"epoch\",\n",
    "    learning_rate=2e-5,\n",
    "    per_device_train_batch_size=2,\n",
    "    per_device_eval_batch_size=2,\n",
    "    num_train_epochs=2,\n",
    "    weight_decay=0.01,\n",
    "    gradient_accumulation_steps=2\n",
    ")"
   ]
  },
  {
   "cell_type": "code",
   "execution_count": 10,
   "metadata": {
    "colab": {
     "base_uri": "https://localhost:8080/"
    },
    "id": "TewtazDUsMQz",
    "outputId": "e944f974-4494-473f-d456-f29d54dfcc87"
   },
   "outputs": [
    {
     "data": {
      "text/plain": [
       "device(type='cuda', index=0)"
      ]
     },
     "execution_count": 10,
     "metadata": {},
     "output_type": "execute_result"
    }
   ],
   "source": [
    "args.device"
   ]
  },
  {
   "cell_type": "code",
   "execution_count": 11,
   "metadata": {
    "colab": {
     "base_uri": "https://localhost:8080/",
     "height": 323,
     "referenced_widgets": [
      "6b8aea4495da4dd7af4fc6b0825881e6",
      "85072ab4c8e842eaa21f4bb84dae58ff",
      "47e6f94f98284896a8f784ce4079393d",
      "86f0355e085a4022ab9904dbc63e1a11",
      "a01786a12bc34f0bb09202f58aca57fb",
      "b7d3a82e9d084518b970906f250f8c6c",
      "79910a86feed468caaa938128700e636",
      "d65c2a0991a84eadb11db93c427d9924",
      "f2f911b367b14390bed55be348f105f8",
      "8fca6f9c0c69405bb51f7db56b61f0a3",
      "11609bcd0a424dcfb66a60d633f811d6",
      "2b10dba0b4de4a52abb69e43e35c7e41",
      "edf67fffc7234b98af520c3e48dfc3e3",
      "c34783c709994d38ab25c0a43bfe4c75",
      "b4d820e14c724739a26d725e0758e35b",
      "636412a9555e483d816622c1a17f27f5",
      "b7f610051bc04f0bae84d022159ff5fc",
      "d3fe9001e6f04196be50cd12dfc58b75",
      "15b1562fe2c042d89e083b0dacc13bcb",
      "c5b78750d6eb4635a04081cea0a75587",
      "03c50033e51a4bf9ae300c15dd4e55c6",
      "5662f41d17c94a629a12f5c2d327900a",
      "0c81c16a95b545e1b142fe23010d711b",
      "85fd0968cd9147b08f17ab48d378e4c6",
      "902a0137147b42bca7bf73483e7e85f8",
      "374300ce6c1943d2b5483774fcb2e279",
      "bb47ada255e34e8484124bfccf08daea",
      "e6c2040b056a427b879f28f6d1063818",
      "09b7cb8fd72a4b8ab4bcd070391136fc",
      "2f608a356e254c46a664f351c5ead926",
      "6f455c0486064c268bf20136757faa3d",
      "ff3c25f503f24bc59075ca373e56f28a",
      "e33cf377d13549518e3b356ea9102c25",
      "aa4f205cfcef457092412c4a4ba2458a",
      "ad0911a5b949402d91bfd4ff34d9b1bf",
      "9810049a656d46e3ac64be1f343d0f0b",
      "4783f9223f7f4d24816bdeddbc223360",
      "04e8dd101d4d496d97c6de13dc44bb79",
      "aa7e71a7ba554c17a4f2016faadbf9e2",
      "d126b808c3f54b2faafd4d64dab98371",
      "26f183d9268f4df184eefd2584725944",
      "edb52d9428e2435a953cfda948a609ff",
      "48e7dc83d240453ab55f3a9187347ddb",
      "69ea602b9c644bdf8f852877da5ad63c",
      "ef01a85b83ee4b948f37940ced5a1725",
      "e2e39ae28c8c49b2a2204c9554b0f339",
      "3e0ad1d852b5438bb6c2d6f4d76596dc",
      "d11aabf58d3a4eb0873bfcb3d651c02b"
     ]
    },
    "id": "6FjnDmBrmA4R",
    "outputId": "77c18383-5a76-4b26-f250-c0d0e9f97c6b"
   },
   "outputs": [
    {
     "data": {
      "application/vnd.jupyter.widget-view+json": {
       "model_id": "2fd17c192c9d41c2bd4d80f3a4dd74de",
       "version_major": 2,
       "version_minor": 0
      },
      "text/plain": [
       "HBox(children=(FloatProgress(value=0.0, description='Downloading', max=1600.0, style=ProgressStyle(description…"
      ]
     },
     "metadata": {},
     "output_type": "display_data"
    },
    {
     "name": "stdout",
     "output_type": "stream",
     "text": [
      "\n"
     ]
    },
    {
     "data": {
      "application/vnd.jupyter.widget-view+json": {
       "model_id": "a8f8b8359361442c9a135862b0394723",
       "version_major": 2,
       "version_minor": 0
      },
      "text/plain": [
       "HBox(children=(FloatProgress(value=0.0, description='Downloading', max=898822.0, style=ProgressStyle(descripti…"
      ]
     },
     "metadata": {},
     "output_type": "display_data"
    },
    {
     "name": "stdout",
     "output_type": "stream",
     "text": [
      "\n"
     ]
    },
    {
     "data": {
      "application/vnd.jupyter.widget-view+json": {
       "model_id": "fd87442fc86e481891a29591f34bd27c",
       "version_major": 2,
       "version_minor": 0
      },
      "text/plain": [
       "HBox(children=(FloatProgress(value=0.0, description='Downloading', max=456318.0, style=ProgressStyle(descripti…"
      ]
     },
     "metadata": {},
     "output_type": "display_data"
    },
    {
     "name": "stdout",
     "output_type": "stream",
     "text": [
      "\n"
     ]
    },
    {
     "data": {
      "application/vnd.jupyter.widget-view+json": {
       "model_id": "65b6fdfa2420497982c1dd058fc77813",
       "version_major": 2,
       "version_minor": 0
      },
      "text/plain": [
       "HBox(children=(FloatProgress(value=0.0, description='Downloading', max=1355863.0, style=ProgressStyle(descript…"
      ]
     },
     "metadata": {},
     "output_type": "display_data"
    },
    {
     "name": "stdout",
     "output_type": "stream",
     "text": [
      "\n"
     ]
    },
    {
     "data": {
      "application/vnd.jupyter.widget-view+json": {
       "model_id": "4099d3fcaa1f46de9da039341ecacb18",
       "version_major": 2,
       "version_minor": 0
      },
      "text/plain": [
       "HBox(children=(FloatProgress(value=0.0, description='Downloading', max=26.0, style=ProgressStyle(description_w…"
      ]
     },
     "metadata": {},
     "output_type": "display_data"
    },
    {
     "name": "stdout",
     "output_type": "stream",
     "text": [
      "\n"
     ]
    },
    {
     "data": {
      "application/vnd.jupyter.widget-view+json": {
       "model_id": "f41ac56bfdf149fea540ca278a9cee4c",
       "version_major": 2,
       "version_minor": 0
      },
      "text/plain": [
       "HBox(children=(FloatProgress(value=0.0, description='Downloading', max=1018571383.0, style=ProgressStyle(descr…"
      ]
     },
     "metadata": {},
     "output_type": "display_data"
    },
    {
     "name": "stdout",
     "output_type": "stream",
     "text": [
      "\n"
     ]
    }
   ],
   "source": [
    "# load pre-trained model on cuda (if available)\n",
    "model_checkpoint = \"facebook/bart-large\" \n",
    "\n",
    "tokenizer = AutoTokenizer.from_pretrained(model_checkpoint)\n",
    "model = AutoModelForSeq2SeqLM.from_pretrained(model_checkpoint).to(args.device) # BartForConditionalGeneration"
   ]
  },
  {
   "cell_type": "code",
   "execution_count": 12,
   "metadata": {
    "colab": {
     "base_uri": "https://localhost:8080/"
    },
    "id": "Vlnxy4fZuZpE",
    "outputId": "76fb8456-32c4-48ce-ad83-cbc67a8676b5"
   },
   "outputs": [
    {
     "name": "stdout",
     "output_type": "stream",
     "text": [
      "Tue Oct 19 12:11:08 2021       \n",
      "+-----------------------------------------------------------------------------+\n",
      "| NVIDIA-SMI 450.80.02    Driver Version: 450.80.02    CUDA Version: 11.0     |\n",
      "|-------------------------------+----------------------+----------------------+\n",
      "| GPU  Name        Persistence-M| Bus-Id        Disp.A | Volatile Uncorr. ECC |\n",
      "| Fan  Temp  Perf  Pwr:Usage/Cap|         Memory-Usage | GPU-Util  Compute M. |\n",
      "|                               |                      |               MIG M. |\n",
      "|===============================+======================+======================|\n",
      "|   0  Tesla V100-PCIE...  On   | 00000000:00:05.0 Off |                  Off |\n",
      "| N/A   45C    P0    45W / 250W |  13170MiB / 32510MiB |      0%      Default |\n",
      "|                               |                      |                  N/A |\n",
      "+-------------------------------+----------------------+----------------------+\n",
      "                                                                               \n",
      "+-----------------------------------------------------------------------------+\n",
      "| Processes:                                                                  |\n",
      "|  GPU   GI   CI        PID   Type   Process name                  GPU Memory |\n",
      "|        ID   ID                                                   Usage      |\n",
      "|=============================================================================|\n",
      "+-----------------------------------------------------------------------------+\n"
     ]
    }
   ],
   "source": [
    "!nvidia-smi"
   ]
  },
  {
   "cell_type": "code",
   "execution_count": 13,
   "metadata": {
    "id": "BGzeTO5QmhI5"
   },
   "outputs": [],
   "source": [
    "torch.manual_seed(2021)\n",
    "torch.cuda.manual_seed(2021)\n",
    "np.random.seed(2021)\n",
    "random.seed(2021)"
   ]
  },
  {
   "cell_type": "code",
   "execution_count": 14,
   "metadata": {
    "id": "WjKHkrDrJLhZ"
   },
   "outputs": [],
   "source": [
    "from torch.utils.data import (DataLoader, RandomSampler, TensorDataset)\n",
    "max_len = 128 # to reduce memory per sample! \n",
    "q_seqs = tokenizer(training_dataset['inputs'], padding=\"max_length\", max_length=max_len, truncation=True, return_tensors='pt')\n",
    "a_seqs = tokenizer(training_dataset['targets'], padding=\"max_length\", max_length=max_len, truncation=True, return_tensors='pt')\n",
    "train_dataset = TensorDataset(q_seqs['input_ids'], q_seqs['attention_mask'],\n",
    "                        a_seqs['input_ids'], a_seqs['attention_mask'], )"
   ]
  },
  {
   "cell_type": "code",
   "execution_count": 15,
   "metadata": {
    "id": "tVgT-ny2KPpK"
   },
   "outputs": [],
   "source": [
    "# Optimizer\n",
    "no_decay = ['bias', 'LayerNorm.weight']\n",
    "optimizer_grouped_parameters = [\n",
    "    {'params': [p for n, p in model.named_parameters() if not any(nd in n for nd in no_decay)], 'weight_decay': args.weight_decay},\n",
    "    {'params': [p for n, p in model.named_parameters() if any(nd in n for nd in no_decay)], 'weight_decay': 0.0},\n",
    "    ]\n",
    "optimizer = AdamW(optimizer_grouped_parameters, lr=args.learning_rate, eps=args.adam_epsilon)"
   ]
  },
  {
   "cell_type": "code",
   "execution_count": 16,
   "metadata": {
    "id": "7axtTrtyli2H"
   },
   "outputs": [],
   "source": [
    "def train(args, dataset, model, optimizer):\n",
    "    # Dataloader\n",
    "    train_sampler = RandomSampler(dataset)\n",
    "    \n",
    "    train_dataloader = DataLoader(dataset, batch_size=args.per_device_train_batch_size,\n",
    "                                  sampler=train_sampler, )\n",
    "\n",
    "    t_total = len(train_dataloader) // args.gradient_accumulation_steps * args.num_train_epochs\n",
    "    scheduler = get_linear_schedule_with_warmup(optimizer, num_warmup_steps=args.warmup_steps, num_training_steps=t_total)\n",
    "\n",
    "    # 훈련 시작 \n",
    "    global_step = 0\n",
    "\n",
    "    model.zero_grad()\n",
    "\n",
    "    train_iterator = trange(int(args.num_train_epochs), desc=\"Epoch\")\n",
    "\n",
    "    for _ in train_iterator:\n",
    "        epoch_iterator = tqdm(train_dataloader, desc=\"Iteration\")\n",
    "\n",
    "        for step, batch in enumerate(epoch_iterator):\n",
    "            model.train()\n",
    "\n",
    "            q_ids, q_mask, a_ids, a_mask = batch\n",
    "            # 레이블 구하기 - answer의 0번째를 제외한 나머지  \n",
    "            lm_labels = a_ids[:, 1:].contiguous().clone()\n",
    "            lm_labels[a_mask[:, 1:].contiguous() == 0] = -100\n",
    "\n",
    "            # decoder_input_ids 는 원래 주어지지 않아도 모델이 자동으으 계산합니다 \n",
    "            model_inputs = {\n",
    "                \"input_ids\": q_ids.cuda(),\n",
    "                \"attention_mask\": q_mask.cuda(),\n",
    "                \"decoder_input_ids\": a_ids[:, :-1].contiguous().cuda(),\n",
    "                \"labels\": lm_labels.cuda(),\n",
    "            }\n",
    "\n",
    "            outputs = model(**model_inputs)  # (batch_size, emb_dim)\n",
    "            loss = outputs[0]\n",
    "                \n",
    "            loss.backward()\n",
    "\n",
    "            optimizer.step()\n",
    "            scheduler.step()  # 학습률을 조정하는 스케쥴러 \n",
    "            model.zero_grad()\n",
    "            global_step += 1\n",
    "\n",
    "            # save model\n",
    "            model.save_pretrained(args.output_dir)\n",
    "\n",
    "    return model"
   ]
  },
  {
   "cell_type": "code",
   "execution_count": 17,
   "metadata": {
    "colab": {
     "base_uri": "https://localhost:8080/",
     "height": 170,
     "referenced_widgets": [
      "c8796d01ac1243c3b3b6810896fa688f",
      "bba9e92aa5ee4bbaa04e2d0f6a9b5249",
      "cd6c90fc47d848958c0c695ce4d730cc",
      "82d76ae9ba04419f9b78c47be1b60128",
      "56d98f41378b4f4e8cd7489cb2175058",
      "b56556e048a34fca989756b93ed620e8",
      "4462fe09cf1b4f7393795585fc9944d6",
      "7f58526d9aab4607817d1cbcf99cf601",
      "93b8c176c521461bbcfdba82f381dd4e",
      "65918bcbc8e548129127df3b0daf2530",
      "aa38f8ae132d47d38ff7acc443d93879",
      "2a97fa89fc784df2a035b5fb9cb17e0e",
      "594939f5f4a743f4a85c170184652227",
      "f634169ca7e84bfd9b9d853d0afdf81f",
      "f970d54f9a2647409a4b96e843c54353",
      "dd13408ab45a440c98766a0c4677cb82",
      "37a55d79e9db4c4cac196e8fcb430e8d",
      "853910fb4cab4391abbc5a3910873e2b",
      "404a19df18a142469060b60be9c7a39d",
      "c23c2c50af6a4696968ed06b6dcf0e01",
      "6f75885aedfc4c2f83ca894834d2c1a9",
      "eb13487f711f49a1b089f31dc9f6f690",
      "a433b72f66e24add8d1bce056cf55783",
      "a6e11c404bae4168bf6ce0493e08cb63"
     ]
    },
    "id": "jWAPobbhKXCU",
    "outputId": "55eb44c8-ede0-413a-b321-ddff6b4c1113"
   },
   "outputs": [
    {
     "data": {
      "application/vnd.jupyter.widget-view+json": {
       "model_id": "d22495fbdd174944948886cafe836ea6",
       "version_major": 2,
       "version_minor": 0
      },
      "text/plain": [
       "HBox(children=(FloatProgress(value=0.0, description='Epoch', max=2.0, style=ProgressStyle(description_width='i…"
      ]
     },
     "metadata": {},
     "output_type": "display_data"
    },
    {
     "data": {
      "application/vnd.jupyter.widget-view+json": {
       "model_id": "7564ae5e11c6420f81f48f6ca386cd62",
       "version_major": 2,
       "version_minor": 0
      },
      "text/plain": [
       "HBox(children=(FloatProgress(value=0.0, description='Iteration', max=2.0, style=ProgressStyle(description_widt…"
      ]
     },
     "metadata": {},
     "output_type": "display_data"
    },
    {
     "name": "stdout",
     "output_type": "stream",
     "text": [
      "\n"
     ]
    },
    {
     "data": {
      "application/vnd.jupyter.widget-view+json": {
       "model_id": "59c290884ed94781815d8982b01ed5ae",
       "version_major": 2,
       "version_minor": 0
      },
      "text/plain": [
       "HBox(children=(FloatProgress(value=0.0, description='Iteration', max=2.0, style=ProgressStyle(description_widt…"
      ]
     },
     "metadata": {},
     "output_type": "display_data"
    },
    {
     "name": "stdout",
     "output_type": "stream",
     "text": [
      "\n",
      "\n"
     ]
    }
   ],
   "source": [
    "model = train(args, train_dataset, model, optimizer)"
   ]
  },
  {
   "cell_type": "markdown",
   "metadata": {
    "id": "1J22B6ejOMC7"
   },
   "source": [
    "## 미리 학습된 모델로 테스트 해보기\n"
   ]
  },
  {
   "cell_type": "code",
   "execution_count": 21,
   "metadata": {
    "colab": {
     "base_uri": "https://localhost:8080/"
    },
    "id": "-uKrDGqPMGcd",
    "outputId": "9d62f4bd-c389-4404-fd6e-a507938a23d9"
   },
   "outputs": [
    {
     "name": "stdout",
     "output_type": "stream",
     "text": [
      "--2021-10-19 12:14:55--  https://docs.google.com/uc?export=download&confirm=JSDX&id=1gCgeJIPiMeM0pmFq3toEm91QhUEwdc4H\n",
      "Resolving docs.google.com (docs.google.com)... 142.251.42.174, 2404:6800:4004:826::200e\n",
      "Connecting to docs.google.com (docs.google.com)|142.251.42.174|:443... connected.\n",
      "HTTP request sent, awaiting response... 302 Moved Temporarily\n",
      "Location: https://doc-14-38-docs.googleusercontent.com/docs/securesc/ji6h14jo8s0b6s0q9sbcln3m9vm1jci4/n4pgpvhn22i9dmptb4ldudlur665f677/1634645625000/10000090644219567406/00532301595650756060Z/1gCgeJIPiMeM0pmFq3toEm91QhUEwdc4H?e=download [following]\n",
      "--2021-10-19 12:14:56--  https://doc-14-38-docs.googleusercontent.com/docs/securesc/ji6h14jo8s0b6s0q9sbcln3m9vm1jci4/n4pgpvhn22i9dmptb4ldudlur665f677/1634645625000/10000090644219567406/00532301595650756060Z/1gCgeJIPiMeM0pmFq3toEm91QhUEwdc4H?e=download\n",
      "Resolving doc-14-38-docs.googleusercontent.com (doc-14-38-docs.googleusercontent.com)... 142.251.42.161, 2404:6800:4004:826::2001\n",
      "Connecting to doc-14-38-docs.googleusercontent.com (doc-14-38-docs.googleusercontent.com)|142.251.42.161|:443... connected.\n",
      "HTTP request sent, awaiting response... 302 Found\n",
      "Location: https://docs.google.com/nonceSigner?nonce=9k9lg9hkfg088&continue=https://doc-14-38-docs.googleusercontent.com/docs/securesc/ji6h14jo8s0b6s0q9sbcln3m9vm1jci4/n4pgpvhn22i9dmptb4ldudlur665f677/1634645625000/10000090644219567406/00532301595650756060Z/1gCgeJIPiMeM0pmFq3toEm91QhUEwdc4H?e%3Ddownload&hash=9sjabpl7c7s4hg23ulb6lkbknvaqg61q [following]\n",
      "--2021-10-19 12:14:56--  https://docs.google.com/nonceSigner?nonce=9k9lg9hkfg088&continue=https://doc-14-38-docs.googleusercontent.com/docs/securesc/ji6h14jo8s0b6s0q9sbcln3m9vm1jci4/n4pgpvhn22i9dmptb4ldudlur665f677/1634645625000/10000090644219567406/00532301595650756060Z/1gCgeJIPiMeM0pmFq3toEm91QhUEwdc4H?e%3Ddownload&hash=9sjabpl7c7s4hg23ulb6lkbknvaqg61q\n",
      "Connecting to docs.google.com (docs.google.com)|142.251.42.174|:443... connected.\n",
      "HTTP request sent, awaiting response... 302 Found\n",
      "Location: https://doc-14-38-docs.googleusercontent.com/docs/securesc/ji6h14jo8s0b6s0q9sbcln3m9vm1jci4/n4pgpvhn22i9dmptb4ldudlur665f677/1634645625000/10000090644219567406/00532301595650756060Z/1gCgeJIPiMeM0pmFq3toEm91QhUEwdc4H?e=download&nonce=9k9lg9hkfg088&user=00532301595650756060Z&hash=7h106fkp5phcjbcv3agap6tm3qhov4sr [following]\n",
      "--2021-10-19 12:14:57--  https://doc-14-38-docs.googleusercontent.com/docs/securesc/ji6h14jo8s0b6s0q9sbcln3m9vm1jci4/n4pgpvhn22i9dmptb4ldudlur665f677/1634645625000/10000090644219567406/00532301595650756060Z/1gCgeJIPiMeM0pmFq3toEm91QhUEwdc4H?e=download&nonce=9k9lg9hkfg088&user=00532301595650756060Z&hash=7h106fkp5phcjbcv3agap6tm3qhov4sr\n",
      "Connecting to doc-14-38-docs.googleusercontent.com (doc-14-38-docs.googleusercontent.com)|142.251.42.161|:443... connected.\n",
      "HTTP request sent, awaiting response... 200 OK\n",
      "Length: 3067017575 (2.9G) [application/gzip]\n",
      "Saving to: ‘bart_nq.tar.gz’\n",
      "\n",
      "bart_nq.tar.gz      100%[===================>]   2.86G  87.3MB/s    in 35s     \n",
      "\n",
      "2021-10-19 12:15:32 (84.4 MB/s) - ‘bart_nq.tar.gz’ saved [3067017575/3067017575]\n",
      "\n"
     ]
    }
   ],
   "source": [
    "# 1. 미리 학습해둔 encoder file 다운로드 \n",
    "!wget --load-cookies /tmp/cookies.txt \"https://docs.google.com/uc?export=download&confirm=$(wget --quiet --save-cookies /tmp/cookies.txt --keep-session-cookies --no-check-certificate 'https://docs.google.com/uc?export=download&id=1gCgeJIPiMeM0pmFq3toEm91QhUEwdc4H' -O- | sed -rn 's/.*confirm=([0-9A-Za-z_]+).*/\\1\\n/p')&id=1gCgeJIPiMeM0pmFq3toEm91QhUEwdc4H\" -O bart_nq.tar.gz && rm -rf /tmp/cookies.txt\n",
    "# 2. the .tar.gz file 압축해제 \n",
    "!mkdir ./seq2seq_models/ && tar -xf bart_nq.tar.gz -C ./seq2seq_models/\n",
    "\n",
    "# 3. 직접 학습해보기 \n",
    "#!wget --load-cookies /tmp/cookies.txt \"https://docs.google.com/uc?export=download&confirm=$(wget --quiet --save-cookies /tmp/cookies.txt --keep-session-cookies --no-check-certificate 'https://docs.google.com/uc?export=download&id=1KkzY0cAyVe-c-ur4b-xZ3BYqnA7MzVt4' -O- | sed -rn 's/.*confirm=([0-9A-Za-z_]+).*/\\1\\n/p')&id=1KkzY0cAyVe-c-ur4b-xZ3BYqnA7MzVt4\" -O train_clqa_trainer.py && rm -rf /tmp/cookies.txt\n",
    "#!python train_clqa_trainer.py"
   ]
  },
  {
   "cell_type": "code",
   "execution_count": 22,
   "metadata": {
    "id": "rpinHevIQyar"
   },
   "outputs": [],
   "source": [
    "# args.output_dir 이 우리가 모델을 저장해둔 위치  \n",
    "output_dir = \"./seq2seq_models/bart_nq/checkpoint-12010/\"\n",
    "model = AutoModelForSeq2SeqLM.from_pretrained(output_dir).cuda()"
   ]
  },
  {
   "cell_type": "markdown",
   "metadata": {
    "id": "ltqV5HvaXKVh"
   },
   "source": [
    "generate() 메서드를 활용한 텍스트 생성"
   ]
  },
  {
   "cell_type": "code",
   "execution_count": 23,
   "metadata": {
    "id": "3v1dxgLoyCNM"
   },
   "outputs": [],
   "source": [
    "def qa_s2s_generate(\n",
    "    model_inputs,\n",
    "    qa_s2s_model,\n",
    "    qa_s2s_tokenizer,\n",
    "    num_answers=1,\n",
    "    num_beams=2,\n",
    "    min_len=1,\n",
    "    max_len=64,\n",
    "    do_sample=False,\n",
    "    temp=1.0,\n",
    "    top_p=None,\n",
    "    top_k=None,\n",
    "):\n",
    "    n_beams = num_answers if num_beams is None else max(num_beams, num_answers)\n",
    "    generated_ids = qa_s2s_model.generate(\n",
    "        input_ids=model_inputs[0],\n",
    "        attention_mask=model_inputs[1],\n",
    "        min_length=min_len,\n",
    "        max_length=max_len,\n",
    "        do_sample=do_sample,\n",
    "        early_stopping=True,\n",
    "        num_beams=1 if do_sample else n_beams,\n",
    "        temperature=temp,\n",
    "        top_k=top_k,\n",
    "        top_p=top_p,\n",
    "        eos_token_id=qa_s2s_tokenizer.eos_token_id,\n",
    "        no_repeat_ngram_size=3,\n",
    "        num_return_sequences=num_answers,\n",
    "        decoder_start_token_id=qa_s2s_tokenizer.bos_token_id,\n",
    "    )\n",
    "    return [qa_s2s_tokenizer.decode(ans_ids, skip_special_tokens=True).strip() for ans_ids in generated_ids]"
   ]
  },
  {
   "cell_type": "code",
   "execution_count": 24,
   "metadata": {
    "colab": {
     "base_uri": "https://localhost:8080/"
    },
    "id": "mc0fNX_HqNU4",
    "outputId": "37895ca9-6fa7-4300-9abb-827b4a989810"
   },
   "outputs": [
    {
     "name": "stdout",
     "output_type": "stream",
     "text": [
      "Input: natural question: when do the oakland raiders move to vegas?\n",
      "Target: scheduled to begin play as the las vegas raiders for the 2020 national football league (nfl) season (although a move to las vegas could happen as soon as 2019 with sam boyd stadium)\n",
      "Prediction: 2020\n",
      "\n",
      "Input: natural question: who sold the most records elvis or the beatles?\n",
      "Target: the beatles\n",
      "Prediction: The Beatles\n",
      "\n",
      "Input: natural question: who was the famous scientist that ran the research lab moseley went to in manchester?\n",
      "Target: sir ernest rutherford\n",
      "Prediction: Sir Robert Hutton\n",
      "\n",
      "Input: natural question: who sold out jesus for 30 pieces of silver?\n",
      "Target: judas iscariot\n",
      "Prediction: the British government\n",
      "\n"
     ]
    }
   ],
   "source": [
    "# Choose small samples as our dataset \n",
    "sample_idx = np.random.choice(range(len(valid_ds)), 4)\n",
    "validation_dataset = valid_ds[sample_idx]\n",
    "\n",
    "input_dict = tokenizer(validation_dataset['inputs'], padding=\"max_length\", max_length=max_len, truncation=True, return_tensors='pt')\n",
    "target_dict = tokenizer(validation_dataset['targets'], padding=\"max_length\", max_length=max_len, truncation=True, return_tensors='pt')\n",
    "valid_dataset = TensorDataset(input_dict['input_ids'], input_dict['attention_mask'], \n",
    "                              target_dict['input_ids']) # target 정보는 필요 없으나 모델 결과를 확인하기 위해 넣음\n",
    "valid_dataloader = DataLoader(valid_dataset, batch_size=args.per_device_eval_batch_size)\n",
    "\n",
    "\n",
    "for step, batch in enumerate(valid_dataloader):\n",
    "    model.eval()\n",
    "    \n",
    "    if torch.cuda.is_available():\n",
    "        batch = tuple(t.cuda() for t in batch)\n",
    "\n",
    "    inputs = [input.strip() for input in tokenizer.batch_decode(batch[0], skip_special_tokens=True, clean_up_tokenization_spaces=True)]\n",
    "    targets = [target.strip() for target in tokenizer.batch_decode(batch[2], skip_special_tokens=True, clean_up_tokenization_spaces=True)]\n",
    "    \n",
    "    results = qa_s2s_generate(batch, model, tokenizer)\n",
    "\n",
    "    for inp, tgt, pred in zip(inputs, targets, results):\n",
    "        print(\"Input:\", inp)\n",
    "        print(\"Target:\", tgt)\n",
    "        print(\"Prediction:\", pred)\n",
    "        print()"
   ]
  },
  {
   "cell_type": "code",
   "execution_count": null,
   "metadata": {
    "id": "cpMdMqPrStPa"
   },
   "outputs": [],
   "source": []
  }
 ],
 "metadata": {
  "accelerator": "GPU",
  "colab": {
   "collapsed_sections": [],
   "name": "MRC Practice 9 - Closed book QA.ipynb",
   "provenance": []
  },
  "kernelspec": {
   "display_name": "Python 3 (ipykernel)",
   "language": "python",
   "name": "python3"
  },
  "language_info": {
   "codemirror_mode": {
    "name": "ipython",
    "version": 3
   },
   "file_extension": ".py",
   "mimetype": "text/x-python",
   "name": "python",
   "nbconvert_exporter": "python",
   "pygments_lexer": "ipython3",
   "version": "3.8.5"
  },
  "widgets": {
   "application/vnd.jupyter.widget-state+json": {
    "03c50033e51a4bf9ae300c15dd4e55c6": {
     "model_module": "@jupyter-widgets/controls",
     "model_module_version": "1.5.0",
     "model_name": "ProgressStyleModel",
     "state": {
      "_model_module": "@jupyter-widgets/controls",
      "_model_module_version": "1.5.0",
      "_model_name": "ProgressStyleModel",
      "_view_count": null,
      "_view_module": "@jupyter-widgets/base",
      "_view_module_version": "1.2.0",
      "_view_name": "StyleView",
      "bar_color": null,
      "description_width": "initial"
     }
    },
    "04e8dd101d4d496d97c6de13dc44bb79": {
     "model_module": "@jupyter-widgets/base",
     "model_module_version": "1.2.0",
     "model_name": "LayoutModel",
     "state": {
      "_model_module": "@jupyter-widgets/base",
      "_model_module_version": "1.2.0",
      "_model_name": "LayoutModel",
      "_view_count": null,
      "_view_module": "@jupyter-widgets/base",
      "_view_module_version": "1.2.0",
      "_view_name": "LayoutView",
      "align_content": null,
      "align_items": null,
      "align_self": null,
      "border": null,
      "bottom": null,
      "display": null,
      "flex": null,
      "flex_flow": null,
      "grid_area": null,
      "grid_auto_columns": null,
      "grid_auto_flow": null,
      "grid_auto_rows": null,
      "grid_column": null,
      "grid_gap": null,
      "grid_row": null,
      "grid_template_areas": null,
      "grid_template_columns": null,
      "grid_template_rows": null,
      "height": null,
      "justify_content": null,
      "justify_items": null,
      "left": null,
      "margin": null,
      "max_height": null,
      "max_width": null,
      "min_height": null,
      "min_width": null,
      "object_fit": null,
      "object_position": null,
      "order": null,
      "overflow": null,
      "overflow_x": null,
      "overflow_y": null,
      "padding": null,
      "right": null,
      "top": null,
      "visibility": null,
      "width": null
     }
    },
    "0799a0af1d8e4b8da8aedaf7f937014b": {
     "model_module": "@jupyter-widgets/controls",
     "model_module_version": "1.5.0",
     "model_name": "HTMLModel",
     "state": {
      "_dom_classes": [],
      "_model_module": "@jupyter-widgets/controls",
      "_model_module_version": "1.5.0",
      "_model_name": "HTMLModel",
      "_view_count": null,
      "_view_module": "@jupyter-widgets/controls",
      "_view_module_version": "1.5.0",
      "_view_name": "HTMLView",
      "description": "",
      "description_tooltip": null,
      "layout": "IPY_MODEL_729e2358eb47426c8fe3c36f13e6729b",
      "placeholder": "​",
      "style": "IPY_MODEL_81128a4747044d96b1954b7febc8dd32",
      "value": " 48037/48037 [00:20&lt;00:00, 2321.22ex/s]"
     }
    },
    "09b7cb8fd72a4b8ab4bcd070391136fc": {
     "model_module": "@jupyter-widgets/controls",
     "model_module_version": "1.5.0",
     "model_name": "ProgressStyleModel",
     "state": {
      "_model_module": "@jupyter-widgets/controls",
      "_model_module_version": "1.5.0",
      "_model_name": "ProgressStyleModel",
      "_view_count": null,
      "_view_module": "@jupyter-widgets/base",
      "_view_module_version": "1.2.0",
      "_view_name": "StyleView",
      "bar_color": null,
      "description_width": "initial"
     }
    },
    "0c81c16a95b545e1b142fe23010d711b": {
     "model_module": "@jupyter-widgets/controls",
     "model_module_version": "1.5.0",
     "model_name": "DescriptionStyleModel",
     "state": {
      "_model_module": "@jupyter-widgets/controls",
      "_model_module_version": "1.5.0",
      "_model_name": "DescriptionStyleModel",
      "_view_count": null,
      "_view_module": "@jupyter-widgets/base",
      "_view_module_version": "1.2.0",
      "_view_name": "StyleView",
      "description_width": ""
     }
    },
    "11609bcd0a424dcfb66a60d633f811d6": {
     "model_module": "@jupyter-widgets/controls",
     "model_module_version": "1.5.0",
     "model_name": "FloatProgressModel",
     "state": {
      "_dom_classes": [],
      "_model_module": "@jupyter-widgets/controls",
      "_model_module_version": "1.5.0",
      "_model_name": "FloatProgressModel",
      "_view_count": null,
      "_view_module": "@jupyter-widgets/controls",
      "_view_module_version": "1.5.0",
      "_view_name": "ProgressView",
      "bar_style": "success",
      "description": "Downloading: 100%",
      "description_tooltip": null,
      "layout": "IPY_MODEL_c34783c709994d38ab25c0a43bfe4c75",
      "max": 898822,
      "min": 0,
      "orientation": "horizontal",
      "style": "IPY_MODEL_edf67fffc7234b98af520c3e48dfc3e3",
      "value": 898822
     }
    },
    "15b1562fe2c042d89e083b0dacc13bcb": {
     "model_module": "@jupyter-widgets/controls",
     "model_module_version": "1.5.0",
     "model_name": "FloatProgressModel",
     "state": {
      "_dom_classes": [],
      "_model_module": "@jupyter-widgets/controls",
      "_model_module_version": "1.5.0",
      "_model_name": "FloatProgressModel",
      "_view_count": null,
      "_view_module": "@jupyter-widgets/controls",
      "_view_module_version": "1.5.0",
      "_view_name": "ProgressView",
      "bar_style": "success",
      "description": "Downloading: 100%",
      "description_tooltip": null,
      "layout": "IPY_MODEL_5662f41d17c94a629a12f5c2d327900a",
      "max": 456318,
      "min": 0,
      "orientation": "horizontal",
      "style": "IPY_MODEL_03c50033e51a4bf9ae300c15dd4e55c6",
      "value": 456318
     }
    },
    "1c0490367de346268ec788fa013b7145": {
     "model_module": "@jupyter-widgets/controls",
     "model_module_version": "1.5.0",
     "model_name": "FloatProgressModel",
     "state": {
      "_dom_classes": [],
      "_model_module": "@jupyter-widgets/controls",
      "_model_module_version": "1.5.0",
      "_model_name": "FloatProgressModel",
      "_view_count": null,
      "_view_module": "@jupyter-widgets/controls",
      "_view_module_version": "1.5.0",
      "_view_name": "ProgressView",
      "bar_style": "success",
      "description": "#1: 100%",
      "description_tooltip": null,
      "layout": "IPY_MODEL_2ecb834f58c84271ab00fca12d21f849",
      "max": 48037,
      "min": 0,
      "orientation": "horizontal",
      "style": "IPY_MODEL_987005cd28494c619390168d6bc00981",
      "value": 48037
     }
    },
    "22957b91be6544908196bbba55dc16fc": {
     "model_module": "@jupyter-widgets/controls",
     "model_module_version": "1.5.0",
     "model_name": "HTMLModel",
     "state": {
      "_dom_classes": [],
      "_model_module": "@jupyter-widgets/controls",
      "_model_module_version": "1.5.0",
      "_model_name": "HTMLModel",
      "_view_count": null,
      "_view_module": "@jupyter-widgets/controls",
      "_view_module_version": "1.5.0",
      "_view_name": "HTMLView",
      "description": "",
      "description_tooltip": null,
      "layout": "IPY_MODEL_effebdef214748b3b4691bfa985bab5a",
      "placeholder": "​",
      "style": "IPY_MODEL_271c41e21b1140228f9d7904dc549d14",
      "value": " 48037/48037 [00:20&lt;00:00, 2349.89ex/s]"
     }
    },
    "26f183d9268f4df184eefd2584725944": {
     "model_module": "@jupyter-widgets/controls",
     "model_module_version": "1.5.0",
     "model_name": "HBoxModel",
     "state": {
      "_dom_classes": [],
      "_model_module": "@jupyter-widgets/controls",
      "_model_module_version": "1.5.0",
      "_model_name": "HBoxModel",
      "_view_count": null,
      "_view_module": "@jupyter-widgets/controls",
      "_view_module_version": "1.5.0",
      "_view_name": "HBoxView",
      "box_style": "",
      "children": [
       "IPY_MODEL_48e7dc83d240453ab55f3a9187347ddb",
       "IPY_MODEL_69ea602b9c644bdf8f852877da5ad63c"
      ],
      "layout": "IPY_MODEL_edb52d9428e2435a953cfda948a609ff"
     }
    },
    "271c41e21b1140228f9d7904dc549d14": {
     "model_module": "@jupyter-widgets/controls",
     "model_module_version": "1.5.0",
     "model_name": "DescriptionStyleModel",
     "state": {
      "_model_module": "@jupyter-widgets/controls",
      "_model_module_version": "1.5.0",
      "_model_name": "DescriptionStyleModel",
      "_view_count": null,
      "_view_module": "@jupyter-widgets/base",
      "_view_module_version": "1.2.0",
      "_view_name": "StyleView",
      "description_width": ""
     }
    },
    "2a97fa89fc784df2a035b5fb9cb17e0e": {
     "model_module": "@jupyter-widgets/controls",
     "model_module_version": "1.5.0",
     "model_name": "HTMLModel",
     "state": {
      "_dom_classes": [],
      "_model_module": "@jupyter-widgets/controls",
      "_model_module_version": "1.5.0",
      "_model_name": "HTMLModel",
      "_view_count": null,
      "_view_module": "@jupyter-widgets/controls",
      "_view_module_version": "1.5.0",
      "_view_name": "HTMLView",
      "description": "",
      "description_tooltip": null,
      "layout": "IPY_MODEL_dd13408ab45a440c98766a0c4677cb82",
      "placeholder": "​",
      "style": "IPY_MODEL_f970d54f9a2647409a4b96e843c54353",
      "value": " 2/2 [00:49&lt;00:00, 24.70s/it]"
     }
    },
    "2b10dba0b4de4a52abb69e43e35c7e41": {
     "model_module": "@jupyter-widgets/controls",
     "model_module_version": "1.5.0",
     "model_name": "HTMLModel",
     "state": {
      "_dom_classes": [],
      "_model_module": "@jupyter-widgets/controls",
      "_model_module_version": "1.5.0",
      "_model_name": "HTMLModel",
      "_view_count": null,
      "_view_module": "@jupyter-widgets/controls",
      "_view_module_version": "1.5.0",
      "_view_name": "HTMLView",
      "description": "",
      "description_tooltip": null,
      "layout": "IPY_MODEL_636412a9555e483d816622c1a17f27f5",
      "placeholder": "​",
      "style": "IPY_MODEL_b4d820e14c724739a26d725e0758e35b",
      "value": " 899k/899k [00:00&lt;00:00, 12.9MB/s]"
     }
    },
    "2c0d66780f784081a8b8d4369a0398fb": {
     "model_module": "@jupyter-widgets/controls",
     "model_module_version": "1.5.0",
     "model_name": "HTMLModel",
     "state": {
      "_dom_classes": [],
      "_model_module": "@jupyter-widgets/controls",
      "_model_module_version": "1.5.0",
      "_model_name": "HTMLModel",
      "_view_count": null,
      "_view_module": "@jupyter-widgets/controls",
      "_view_module_version": "1.5.0",
      "_view_name": "HTMLView",
      "description": "",
      "description_tooltip": null,
      "layout": "IPY_MODEL_e3ac7221b48040ed96e011fb2e69ba70",
      "placeholder": "​",
      "style": "IPY_MODEL_541ea78fbd8b4a698ddc6891344ff72b",
      "value": " 1147/1147 [00:04&lt;00:00, 278.60ex/s]"
     }
    },
    "2c89d302af62402685b75fa2fe08a0e3": {
     "model_module": "@jupyter-widgets/controls",
     "model_module_version": "1.5.0",
     "model_name": "FloatProgressModel",
     "state": {
      "_dom_classes": [],
      "_model_module": "@jupyter-widgets/controls",
      "_model_module_version": "1.5.0",
      "_model_name": "FloatProgressModel",
      "_view_count": null,
      "_view_module": "@jupyter-widgets/controls",
      "_view_module_version": "1.5.0",
      "_view_name": "ProgressView",
      "bar_style": "success",
      "description": "#0: 100%",
      "description_tooltip": null,
      "layout": "IPY_MODEL_cb51a8d061354bf18a9ee258aff8a80b",
      "max": 1148,
      "min": 0,
      "orientation": "horizontal",
      "style": "IPY_MODEL_47238385d5304198a930433c88ae5354",
      "value": 1148
     }
    },
    "2ecb834f58c84271ab00fca12d21f849": {
     "model_module": "@jupyter-widgets/base",
     "model_module_version": "1.2.0",
     "model_name": "LayoutModel",
     "state": {
      "_model_module": "@jupyter-widgets/base",
      "_model_module_version": "1.2.0",
      "_model_name": "LayoutModel",
      "_view_count": null,
      "_view_module": "@jupyter-widgets/base",
      "_view_module_version": "1.2.0",
      "_view_name": "LayoutView",
      "align_content": null,
      "align_items": null,
      "align_self": null,
      "border": null,
      "bottom": null,
      "display": null,
      "flex": null,
      "flex_flow": null,
      "grid_area": null,
      "grid_auto_columns": null,
      "grid_auto_flow": null,
      "grid_auto_rows": null,
      "grid_column": null,
      "grid_gap": null,
      "grid_row": null,
      "grid_template_areas": null,
      "grid_template_columns": null,
      "grid_template_rows": null,
      "height": null,
      "justify_content": null,
      "justify_items": null,
      "left": null,
      "margin": null,
      "max_height": null,
      "max_width": null,
      "min_height": null,
      "min_width": null,
      "object_fit": null,
      "object_position": null,
      "order": null,
      "overflow": null,
      "overflow_x": null,
      "overflow_y": null,
      "padding": null,
      "right": null,
      "top": null,
      "visibility": null,
      "width": null
     }
    },
    "2f608a356e254c46a664f351c5ead926": {
     "model_module": "@jupyter-widgets/base",
     "model_module_version": "1.2.0",
     "model_name": "LayoutModel",
     "state": {
      "_model_module": "@jupyter-widgets/base",
      "_model_module_version": "1.2.0",
      "_model_name": "LayoutModel",
      "_view_count": null,
      "_view_module": "@jupyter-widgets/base",
      "_view_module_version": "1.2.0",
      "_view_name": "LayoutView",
      "align_content": null,
      "align_items": null,
      "align_self": null,
      "border": null,
      "bottom": null,
      "display": null,
      "flex": null,
      "flex_flow": null,
      "grid_area": null,
      "grid_auto_columns": null,
      "grid_auto_flow": null,
      "grid_auto_rows": null,
      "grid_column": null,
      "grid_gap": null,
      "grid_row": null,
      "grid_template_areas": null,
      "grid_template_columns": null,
      "grid_template_rows": null,
      "height": null,
      "justify_content": null,
      "justify_items": null,
      "left": null,
      "margin": null,
      "max_height": null,
      "max_width": null,
      "min_height": null,
      "min_width": null,
      "object_fit": null,
      "object_position": null,
      "order": null,
      "overflow": null,
      "overflow_x": null,
      "overflow_y": null,
      "padding": null,
      "right": null,
      "top": null,
      "visibility": null,
      "width": null
     }
    },
    "324769400a5b4d07bbca82a47180b92d": {
     "model_module": "@jupyter-widgets/controls",
     "model_module_version": "1.5.0",
     "model_name": "HBoxModel",
     "state": {
      "_dom_classes": [],
      "_model_module": "@jupyter-widgets/controls",
      "_model_module_version": "1.5.0",
      "_model_name": "HBoxModel",
      "_view_count": null,
      "_view_module": "@jupyter-widgets/controls",
      "_view_module_version": "1.5.0",
      "_view_name": "HBoxView",
      "box_style": "",
      "children": [
       "IPY_MODEL_2c89d302af62402685b75fa2fe08a0e3",
       "IPY_MODEL_90d96ab775e143c98950224b5b5eecc6"
      ],
      "layout": "IPY_MODEL_a6443cc951ee4ee1b34bbcb4af632a34"
     }
    },
    "374300ce6c1943d2b5483774fcb2e279": {
     "model_module": "@jupyter-widgets/base",
     "model_module_version": "1.2.0",
     "model_name": "LayoutModel",
     "state": {
      "_model_module": "@jupyter-widgets/base",
      "_model_module_version": "1.2.0",
      "_model_name": "LayoutModel",
      "_view_count": null,
      "_view_module": "@jupyter-widgets/base",
      "_view_module_version": "1.2.0",
      "_view_name": "LayoutView",
      "align_content": null,
      "align_items": null,
      "align_self": null,
      "border": null,
      "bottom": null,
      "display": null,
      "flex": null,
      "flex_flow": null,
      "grid_area": null,
      "grid_auto_columns": null,
      "grid_auto_flow": null,
      "grid_auto_rows": null,
      "grid_column": null,
      "grid_gap": null,
      "grid_row": null,
      "grid_template_areas": null,
      "grid_template_columns": null,
      "grid_template_rows": null,
      "height": null,
      "justify_content": null,
      "justify_items": null,
      "left": null,
      "margin": null,
      "max_height": null,
      "max_width": null,
      "min_height": null,
      "min_width": null,
      "object_fit": null,
      "object_position": null,
      "order": null,
      "overflow": null,
      "overflow_x": null,
      "overflow_y": null,
      "padding": null,
      "right": null,
      "top": null,
      "visibility": null,
      "width": null
     }
    },
    "37a55d79e9db4c4cac196e8fcb430e8d": {
     "model_module": "@jupyter-widgets/controls",
     "model_module_version": "1.5.0",
     "model_name": "HBoxModel",
     "state": {
      "_dom_classes": [],
      "_model_module": "@jupyter-widgets/controls",
      "_model_module_version": "1.5.0",
      "_model_name": "HBoxModel",
      "_view_count": null,
      "_view_module": "@jupyter-widgets/controls",
      "_view_module_version": "1.5.0",
      "_view_name": "HBoxView",
      "box_style": "",
      "children": [
       "IPY_MODEL_404a19df18a142469060b60be9c7a39d",
       "IPY_MODEL_c23c2c50af6a4696968ed06b6dcf0e01"
      ],
      "layout": "IPY_MODEL_853910fb4cab4391abbc5a3910873e2b"
     }
    },
    "383f09b17dc648419bf79edb15aa757a": {
     "model_module": "@jupyter-widgets/controls",
     "model_module_version": "1.5.0",
     "model_name": "HBoxModel",
     "state": {
      "_dom_classes": [],
      "_model_module": "@jupyter-widgets/controls",
      "_model_module_version": "1.5.0",
      "_model_name": "HBoxModel",
      "_view_count": null,
      "_view_module": "@jupyter-widgets/controls",
      "_view_module_version": "1.5.0",
      "_view_name": "HBoxView",
      "box_style": "",
      "children": [
       "IPY_MODEL_1c0490367de346268ec788fa013b7145",
       "IPY_MODEL_22957b91be6544908196bbba55dc16fc"
      ],
      "layout": "IPY_MODEL_7092fea881a647a5ae93774509e9e307"
     }
    },
    "3e0ad1d852b5438bb6c2d6f4d76596dc": {
     "model_module": "@jupyter-widgets/controls",
     "model_module_version": "1.5.0",
     "model_name": "DescriptionStyleModel",
     "state": {
      "_model_module": "@jupyter-widgets/controls",
      "_model_module_version": "1.5.0",
      "_model_name": "DescriptionStyleModel",
      "_view_count": null,
      "_view_module": "@jupyter-widgets/base",
      "_view_module_version": "1.2.0",
      "_view_name": "StyleView",
      "description_width": ""
     }
    },
    "404a19df18a142469060b60be9c7a39d": {
     "model_module": "@jupyter-widgets/controls",
     "model_module_version": "1.5.0",
     "model_name": "FloatProgressModel",
     "state": {
      "_dom_classes": [],
      "_model_module": "@jupyter-widgets/controls",
      "_model_module_version": "1.5.0",
      "_model_name": "FloatProgressModel",
      "_view_count": null,
      "_view_module": "@jupyter-widgets/controls",
      "_view_module_version": "1.5.0",
      "_view_name": "ProgressView",
      "bar_style": "success",
      "description": "Iteration: 100%",
      "description_tooltip": null,
      "layout": "IPY_MODEL_eb13487f711f49a1b089f31dc9f6f690",
      "max": 2,
      "min": 0,
      "orientation": "horizontal",
      "style": "IPY_MODEL_6f75885aedfc4c2f83ca894834d2c1a9",
      "value": 2
     }
    },
    "4462fe09cf1b4f7393795585fc9944d6": {
     "model_module": "@jupyter-widgets/controls",
     "model_module_version": "1.5.0",
     "model_name": "DescriptionStyleModel",
     "state": {
      "_model_module": "@jupyter-widgets/controls",
      "_model_module_version": "1.5.0",
      "_model_name": "DescriptionStyleModel",
      "_view_count": null,
      "_view_module": "@jupyter-widgets/base",
      "_view_module_version": "1.2.0",
      "_view_name": "StyleView",
      "description_width": ""
     }
    },
    "47238385d5304198a930433c88ae5354": {
     "model_module": "@jupyter-widgets/controls",
     "model_module_version": "1.5.0",
     "model_name": "ProgressStyleModel",
     "state": {
      "_model_module": "@jupyter-widgets/controls",
      "_model_module_version": "1.5.0",
      "_model_name": "ProgressStyleModel",
      "_view_count": null,
      "_view_module": "@jupyter-widgets/base",
      "_view_module_version": "1.2.0",
      "_view_name": "StyleView",
      "bar_color": null,
      "description_width": "initial"
     }
    },
    "4783f9223f7f4d24816bdeddbc223360": {
     "model_module": "@jupyter-widgets/controls",
     "model_module_version": "1.5.0",
     "model_name": "ProgressStyleModel",
     "state": {
      "_model_module": "@jupyter-widgets/controls",
      "_model_module_version": "1.5.0",
      "_model_name": "ProgressStyleModel",
      "_view_count": null,
      "_view_module": "@jupyter-widgets/base",
      "_view_module_version": "1.2.0",
      "_view_name": "StyleView",
      "bar_color": null,
      "description_width": "initial"
     }
    },
    "47e6f94f98284896a8f784ce4079393d": {
     "model_module": "@jupyter-widgets/controls",
     "model_module_version": "1.5.0",
     "model_name": "FloatProgressModel",
     "state": {
      "_dom_classes": [],
      "_model_module": "@jupyter-widgets/controls",
      "_model_module_version": "1.5.0",
      "_model_name": "FloatProgressModel",
      "_view_count": null,
      "_view_module": "@jupyter-widgets/controls",
      "_view_module_version": "1.5.0",
      "_view_name": "ProgressView",
      "bar_style": "success",
      "description": "Downloading: 100%",
      "description_tooltip": null,
      "layout": "IPY_MODEL_b7d3a82e9d084518b970906f250f8c6c",
      "max": 1525,
      "min": 0,
      "orientation": "horizontal",
      "style": "IPY_MODEL_a01786a12bc34f0bb09202f58aca57fb",
      "value": 1525
     }
    },
    "48e7dc83d240453ab55f3a9187347ddb": {
     "model_module": "@jupyter-widgets/controls",
     "model_module_version": "1.5.0",
     "model_name": "FloatProgressModel",
     "state": {
      "_dom_classes": [],
      "_model_module": "@jupyter-widgets/controls",
      "_model_module_version": "1.5.0",
      "_model_name": "FloatProgressModel",
      "_view_count": null,
      "_view_module": "@jupyter-widgets/controls",
      "_view_module_version": "1.5.0",
      "_view_name": "ProgressView",
      "bar_style": "success",
      "description": "Downloading: 100%",
      "description_tooltip": null,
      "layout": "IPY_MODEL_e2e39ae28c8c49b2a2204c9554b0f339",
      "max": 1018571383,
      "min": 0,
      "orientation": "horizontal",
      "style": "IPY_MODEL_ef01a85b83ee4b948f37940ced5a1725",
      "value": 1018571383
     }
    },
    "4d885159df36440daedd78420baaa85f": {
     "model_module": "@jupyter-widgets/base",
     "model_module_version": "1.2.0",
     "model_name": "LayoutModel",
     "state": {
      "_model_module": "@jupyter-widgets/base",
      "_model_module_version": "1.2.0",
      "_model_name": "LayoutModel",
      "_view_count": null,
      "_view_module": "@jupyter-widgets/base",
      "_view_module_version": "1.2.0",
      "_view_name": "LayoutView",
      "align_content": null,
      "align_items": null,
      "align_self": null,
      "border": null,
      "bottom": null,
      "display": null,
      "flex": null,
      "flex_flow": null,
      "grid_area": null,
      "grid_auto_columns": null,
      "grid_auto_flow": null,
      "grid_auto_rows": null,
      "grid_column": null,
      "grid_gap": null,
      "grid_row": null,
      "grid_template_areas": null,
      "grid_template_columns": null,
      "grid_template_rows": null,
      "height": null,
      "justify_content": null,
      "justify_items": null,
      "left": null,
      "margin": null,
      "max_height": null,
      "max_width": null,
      "min_height": null,
      "min_width": null,
      "object_fit": null,
      "object_position": null,
      "order": null,
      "overflow": null,
      "overflow_x": null,
      "overflow_y": null,
      "padding": null,
      "right": null,
      "top": null,
      "visibility": null,
      "width": null
     }
    },
    "541ea78fbd8b4a698ddc6891344ff72b": {
     "model_module": "@jupyter-widgets/controls",
     "model_module_version": "1.5.0",
     "model_name": "DescriptionStyleModel",
     "state": {
      "_model_module": "@jupyter-widgets/controls",
      "_model_module_version": "1.5.0",
      "_model_name": "DescriptionStyleModel",
      "_view_count": null,
      "_view_module": "@jupyter-widgets/base",
      "_view_module_version": "1.2.0",
      "_view_name": "StyleView",
      "description_width": ""
     }
    },
    "5662f41d17c94a629a12f5c2d327900a": {
     "model_module": "@jupyter-widgets/base",
     "model_module_version": "1.2.0",
     "model_name": "LayoutModel",
     "state": {
      "_model_module": "@jupyter-widgets/base",
      "_model_module_version": "1.2.0",
      "_model_name": "LayoutModel",
      "_view_count": null,
      "_view_module": "@jupyter-widgets/base",
      "_view_module_version": "1.2.0",
      "_view_name": "LayoutView",
      "align_content": null,
      "align_items": null,
      "align_self": null,
      "border": null,
      "bottom": null,
      "display": null,
      "flex": null,
      "flex_flow": null,
      "grid_area": null,
      "grid_auto_columns": null,
      "grid_auto_flow": null,
      "grid_auto_rows": null,
      "grid_column": null,
      "grid_gap": null,
      "grid_row": null,
      "grid_template_areas": null,
      "grid_template_columns": null,
      "grid_template_rows": null,
      "height": null,
      "justify_content": null,
      "justify_items": null,
      "left": null,
      "margin": null,
      "max_height": null,
      "max_width": null,
      "min_height": null,
      "min_width": null,
      "object_fit": null,
      "object_position": null,
      "order": null,
      "overflow": null,
      "overflow_x": null,
      "overflow_y": null,
      "padding": null,
      "right": null,
      "top": null,
      "visibility": null,
      "width": null
     }
    },
    "56d98f41378b4f4e8cd7489cb2175058": {
     "model_module": "@jupyter-widgets/controls",
     "model_module_version": "1.5.0",
     "model_name": "ProgressStyleModel",
     "state": {
      "_model_module": "@jupyter-widgets/controls",
      "_model_module_version": "1.5.0",
      "_model_name": "ProgressStyleModel",
      "_view_count": null,
      "_view_module": "@jupyter-widgets/base",
      "_view_module_version": "1.2.0",
      "_view_name": "StyleView",
      "bar_color": null,
      "description_width": "initial"
     }
    },
    "594939f5f4a743f4a85c170184652227": {
     "model_module": "@jupyter-widgets/controls",
     "model_module_version": "1.5.0",
     "model_name": "ProgressStyleModel",
     "state": {
      "_model_module": "@jupyter-widgets/controls",
      "_model_module_version": "1.5.0",
      "_model_name": "ProgressStyleModel",
      "_view_count": null,
      "_view_module": "@jupyter-widgets/base",
      "_view_module_version": "1.2.0",
      "_view_name": "StyleView",
      "bar_color": null,
      "description_width": "initial"
     }
    },
    "636412a9555e483d816622c1a17f27f5": {
     "model_module": "@jupyter-widgets/base",
     "model_module_version": "1.2.0",
     "model_name": "LayoutModel",
     "state": {
      "_model_module": "@jupyter-widgets/base",
      "_model_module_version": "1.2.0",
      "_model_name": "LayoutModel",
      "_view_count": null,
      "_view_module": "@jupyter-widgets/base",
      "_view_module_version": "1.2.0",
      "_view_name": "LayoutView",
      "align_content": null,
      "align_items": null,
      "align_self": null,
      "border": null,
      "bottom": null,
      "display": null,
      "flex": null,
      "flex_flow": null,
      "grid_area": null,
      "grid_auto_columns": null,
      "grid_auto_flow": null,
      "grid_auto_rows": null,
      "grid_column": null,
      "grid_gap": null,
      "grid_row": null,
      "grid_template_areas": null,
      "grid_template_columns": null,
      "grid_template_rows": null,
      "height": null,
      "justify_content": null,
      "justify_items": null,
      "left": null,
      "margin": null,
      "max_height": null,
      "max_width": null,
      "min_height": null,
      "min_width": null,
      "object_fit": null,
      "object_position": null,
      "order": null,
      "overflow": null,
      "overflow_x": null,
      "overflow_y": null,
      "padding": null,
      "right": null,
      "top": null,
      "visibility": null,
      "width": null
     }
    },
    "65918bcbc8e548129127df3b0daf2530": {
     "model_module": "@jupyter-widgets/base",
     "model_module_version": "1.2.0",
     "model_name": "LayoutModel",
     "state": {
      "_model_module": "@jupyter-widgets/base",
      "_model_module_version": "1.2.0",
      "_model_name": "LayoutModel",
      "_view_count": null,
      "_view_module": "@jupyter-widgets/base",
      "_view_module_version": "1.2.0",
      "_view_name": "LayoutView",
      "align_content": null,
      "align_items": null,
      "align_self": null,
      "border": null,
      "bottom": null,
      "display": null,
      "flex": null,
      "flex_flow": null,
      "grid_area": null,
      "grid_auto_columns": null,
      "grid_auto_flow": null,
      "grid_auto_rows": null,
      "grid_column": null,
      "grid_gap": null,
      "grid_row": null,
      "grid_template_areas": null,
      "grid_template_columns": null,
      "grid_template_rows": null,
      "height": null,
      "justify_content": null,
      "justify_items": null,
      "left": null,
      "margin": null,
      "max_height": null,
      "max_width": null,
      "min_height": null,
      "min_width": null,
      "object_fit": null,
      "object_position": null,
      "order": null,
      "overflow": null,
      "overflow_x": null,
      "overflow_y": null,
      "padding": null,
      "right": null,
      "top": null,
      "visibility": null,
      "width": null
     }
    },
    "69ea602b9c644bdf8f852877da5ad63c": {
     "model_module": "@jupyter-widgets/controls",
     "model_module_version": "1.5.0",
     "model_name": "HTMLModel",
     "state": {
      "_dom_classes": [],
      "_model_module": "@jupyter-widgets/controls",
      "_model_module_version": "1.5.0",
      "_model_name": "HTMLModel",
      "_view_count": null,
      "_view_module": "@jupyter-widgets/controls",
      "_view_module_version": "1.5.0",
      "_view_name": "HTMLView",
      "description": "",
      "description_tooltip": null,
      "layout": "IPY_MODEL_d11aabf58d3a4eb0873bfcb3d651c02b",
      "placeholder": "​",
      "style": "IPY_MODEL_3e0ad1d852b5438bb6c2d6f4d76596dc",
      "value": " 1.02G/1.02G [00:37&lt;00:00, 27.2MB/s]"
     }
    },
    "6b8aea4495da4dd7af4fc6b0825881e6": {
     "model_module": "@jupyter-widgets/controls",
     "model_module_version": "1.5.0",
     "model_name": "HBoxModel",
     "state": {
      "_dom_classes": [],
      "_model_module": "@jupyter-widgets/controls",
      "_model_module_version": "1.5.0",
      "_model_name": "HBoxModel",
      "_view_count": null,
      "_view_module": "@jupyter-widgets/controls",
      "_view_module_version": "1.5.0",
      "_view_name": "HBoxView",
      "box_style": "",
      "children": [
       "IPY_MODEL_47e6f94f98284896a8f784ce4079393d",
       "IPY_MODEL_86f0355e085a4022ab9904dbc63e1a11"
      ],
      "layout": "IPY_MODEL_85072ab4c8e842eaa21f4bb84dae58ff"
     }
    },
    "6f2b61fe45ae4e01bd25887251c0f7f5": {
     "model_module": "@jupyter-widgets/base",
     "model_module_version": "1.2.0",
     "model_name": "LayoutModel",
     "state": {
      "_model_module": "@jupyter-widgets/base",
      "_model_module_version": "1.2.0",
      "_model_name": "LayoutModel",
      "_view_count": null,
      "_view_module": "@jupyter-widgets/base",
      "_view_module_version": "1.2.0",
      "_view_name": "LayoutView",
      "align_content": null,
      "align_items": null,
      "align_self": null,
      "border": null,
      "bottom": null,
      "display": null,
      "flex": null,
      "flex_flow": null,
      "grid_area": null,
      "grid_auto_columns": null,
      "grid_auto_flow": null,
      "grid_auto_rows": null,
      "grid_column": null,
      "grid_gap": null,
      "grid_row": null,
      "grid_template_areas": null,
      "grid_template_columns": null,
      "grid_template_rows": null,
      "height": null,
      "justify_content": null,
      "justify_items": null,
      "left": null,
      "margin": null,
      "max_height": null,
      "max_width": null,
      "min_height": null,
      "min_width": null,
      "object_fit": null,
      "object_position": null,
      "order": null,
      "overflow": null,
      "overflow_x": null,
      "overflow_y": null,
      "padding": null,
      "right": null,
      "top": null,
      "visibility": null,
      "width": null
     }
    },
    "6f455c0486064c268bf20136757faa3d": {
     "model_module": "@jupyter-widgets/controls",
     "model_module_version": "1.5.0",
     "model_name": "DescriptionStyleModel",
     "state": {
      "_model_module": "@jupyter-widgets/controls",
      "_model_module_version": "1.5.0",
      "_model_name": "DescriptionStyleModel",
      "_view_count": null,
      "_view_module": "@jupyter-widgets/base",
      "_view_module_version": "1.2.0",
      "_view_name": "StyleView",
      "description_width": ""
     }
    },
    "6f75885aedfc4c2f83ca894834d2c1a9": {
     "model_module": "@jupyter-widgets/controls",
     "model_module_version": "1.5.0",
     "model_name": "ProgressStyleModel",
     "state": {
      "_model_module": "@jupyter-widgets/controls",
      "_model_module_version": "1.5.0",
      "_model_name": "ProgressStyleModel",
      "_view_count": null,
      "_view_module": "@jupyter-widgets/base",
      "_view_module_version": "1.2.0",
      "_view_name": "StyleView",
      "bar_color": null,
      "description_width": "initial"
     }
    },
    "7092fea881a647a5ae93774509e9e307": {
     "model_module": "@jupyter-widgets/base",
     "model_module_version": "1.2.0",
     "model_name": "LayoutModel",
     "state": {
      "_model_module": "@jupyter-widgets/base",
      "_model_module_version": "1.2.0",
      "_model_name": "LayoutModel",
      "_view_count": null,
      "_view_module": "@jupyter-widgets/base",
      "_view_module_version": "1.2.0",
      "_view_name": "LayoutView",
      "align_content": null,
      "align_items": null,
      "align_self": null,
      "border": null,
      "bottom": null,
      "display": null,
      "flex": null,
      "flex_flow": null,
      "grid_area": null,
      "grid_auto_columns": null,
      "grid_auto_flow": null,
      "grid_auto_rows": null,
      "grid_column": null,
      "grid_gap": null,
      "grid_row": null,
      "grid_template_areas": null,
      "grid_template_columns": null,
      "grid_template_rows": null,
      "height": null,
      "justify_content": null,
      "justify_items": null,
      "left": null,
      "margin": null,
      "max_height": null,
      "max_width": null,
      "min_height": null,
      "min_width": null,
      "object_fit": null,
      "object_position": null,
      "order": null,
      "overflow": null,
      "overflow_x": null,
      "overflow_y": null,
      "padding": null,
      "right": null,
      "top": null,
      "visibility": null,
      "width": null
     }
    },
    "729e2358eb47426c8fe3c36f13e6729b": {
     "model_module": "@jupyter-widgets/base",
     "model_module_version": "1.2.0",
     "model_name": "LayoutModel",
     "state": {
      "_model_module": "@jupyter-widgets/base",
      "_model_module_version": "1.2.0",
      "_model_name": "LayoutModel",
      "_view_count": null,
      "_view_module": "@jupyter-widgets/base",
      "_view_module_version": "1.2.0",
      "_view_name": "LayoutView",
      "align_content": null,
      "align_items": null,
      "align_self": null,
      "border": null,
      "bottom": null,
      "display": null,
      "flex": null,
      "flex_flow": null,
      "grid_area": null,
      "grid_auto_columns": null,
      "grid_auto_flow": null,
      "grid_auto_rows": null,
      "grid_column": null,
      "grid_gap": null,
      "grid_row": null,
      "grid_template_areas": null,
      "grid_template_columns": null,
      "grid_template_rows": null,
      "height": null,
      "justify_content": null,
      "justify_items": null,
      "left": null,
      "margin": null,
      "max_height": null,
      "max_width": null,
      "min_height": null,
      "min_width": null,
      "object_fit": null,
      "object_position": null,
      "order": null,
      "overflow": null,
      "overflow_x": null,
      "overflow_y": null,
      "padding": null,
      "right": null,
      "top": null,
      "visibility": null,
      "width": null
     }
    },
    "74e33721155641298bd860a2333500ae": {
     "model_module": "@jupyter-widgets/controls",
     "model_module_version": "1.5.0",
     "model_name": "HBoxModel",
     "state": {
      "_dom_classes": [],
      "_model_module": "@jupyter-widgets/controls",
      "_model_module_version": "1.5.0",
      "_model_name": "HBoxModel",
      "_view_count": null,
      "_view_module": "@jupyter-widgets/controls",
      "_view_module_version": "1.5.0",
      "_view_name": "HBoxView",
      "box_style": "",
      "children": [
       "IPY_MODEL_ea2712d6af5549d0a15a7a7375389ad1",
       "IPY_MODEL_0799a0af1d8e4b8da8aedaf7f937014b"
      ],
      "layout": "IPY_MODEL_b08060b39104482e98aaa72ea482588a"
     }
    },
    "79910a86feed468caaa938128700e636": {
     "model_module": "@jupyter-widgets/controls",
     "model_module_version": "1.5.0",
     "model_name": "DescriptionStyleModel",
     "state": {
      "_model_module": "@jupyter-widgets/controls",
      "_model_module_version": "1.5.0",
      "_model_name": "DescriptionStyleModel",
      "_view_count": null,
      "_view_module": "@jupyter-widgets/base",
      "_view_module_version": "1.2.0",
      "_view_name": "StyleView",
      "description_width": ""
     }
    },
    "7f58526d9aab4607817d1cbcf99cf601": {
     "model_module": "@jupyter-widgets/base",
     "model_module_version": "1.2.0",
     "model_name": "LayoutModel",
     "state": {
      "_model_module": "@jupyter-widgets/base",
      "_model_module_version": "1.2.0",
      "_model_name": "LayoutModel",
      "_view_count": null,
      "_view_module": "@jupyter-widgets/base",
      "_view_module_version": "1.2.0",
      "_view_name": "LayoutView",
      "align_content": null,
      "align_items": null,
      "align_self": null,
      "border": null,
      "bottom": null,
      "display": null,
      "flex": null,
      "flex_flow": null,
      "grid_area": null,
      "grid_auto_columns": null,
      "grid_auto_flow": null,
      "grid_auto_rows": null,
      "grid_column": null,
      "grid_gap": null,
      "grid_row": null,
      "grid_template_areas": null,
      "grid_template_columns": null,
      "grid_template_rows": null,
      "height": null,
      "justify_content": null,
      "justify_items": null,
      "left": null,
      "margin": null,
      "max_height": null,
      "max_width": null,
      "min_height": null,
      "min_width": null,
      "object_fit": null,
      "object_position": null,
      "order": null,
      "overflow": null,
      "overflow_x": null,
      "overflow_y": null,
      "padding": null,
      "right": null,
      "top": null,
      "visibility": null,
      "width": null
     }
    },
    "81128a4747044d96b1954b7febc8dd32": {
     "model_module": "@jupyter-widgets/controls",
     "model_module_version": "1.5.0",
     "model_name": "DescriptionStyleModel",
     "state": {
      "_model_module": "@jupyter-widgets/controls",
      "_model_module_version": "1.5.0",
      "_model_name": "DescriptionStyleModel",
      "_view_count": null,
      "_view_module": "@jupyter-widgets/base",
      "_view_module_version": "1.2.0",
      "_view_name": "StyleView",
      "description_width": ""
     }
    },
    "82d76ae9ba04419f9b78c47be1b60128": {
     "model_module": "@jupyter-widgets/controls",
     "model_module_version": "1.5.0",
     "model_name": "HTMLModel",
     "state": {
      "_dom_classes": [],
      "_model_module": "@jupyter-widgets/controls",
      "_model_module_version": "1.5.0",
      "_model_name": "HTMLModel",
      "_view_count": null,
      "_view_module": "@jupyter-widgets/controls",
      "_view_module_version": "1.5.0",
      "_view_name": "HTMLView",
      "description": "",
      "description_tooltip": null,
      "layout": "IPY_MODEL_7f58526d9aab4607817d1cbcf99cf601",
      "placeholder": "​",
      "style": "IPY_MODEL_4462fe09cf1b4f7393795585fc9944d6",
      "value": " 2/2 [02:11&lt;00:00, 65.73s/it]"
     }
    },
    "85072ab4c8e842eaa21f4bb84dae58ff": {
     "model_module": "@jupyter-widgets/base",
     "model_module_version": "1.2.0",
     "model_name": "LayoutModel",
     "state": {
      "_model_module": "@jupyter-widgets/base",
      "_model_module_version": "1.2.0",
      "_model_name": "LayoutModel",
      "_view_count": null,
      "_view_module": "@jupyter-widgets/base",
      "_view_module_version": "1.2.0",
      "_view_name": "LayoutView",
      "align_content": null,
      "align_items": null,
      "align_self": null,
      "border": null,
      "bottom": null,
      "display": null,
      "flex": null,
      "flex_flow": null,
      "grid_area": null,
      "grid_auto_columns": null,
      "grid_auto_flow": null,
      "grid_auto_rows": null,
      "grid_column": null,
      "grid_gap": null,
      "grid_row": null,
      "grid_template_areas": null,
      "grid_template_columns": null,
      "grid_template_rows": null,
      "height": null,
      "justify_content": null,
      "justify_items": null,
      "left": null,
      "margin": null,
      "max_height": null,
      "max_width": null,
      "min_height": null,
      "min_width": null,
      "object_fit": null,
      "object_position": null,
      "order": null,
      "overflow": null,
      "overflow_x": null,
      "overflow_y": null,
      "padding": null,
      "right": null,
      "top": null,
      "visibility": null,
      "width": null
     }
    },
    "853910fb4cab4391abbc5a3910873e2b": {
     "model_module": "@jupyter-widgets/base",
     "model_module_version": "1.2.0",
     "model_name": "LayoutModel",
     "state": {
      "_model_module": "@jupyter-widgets/base",
      "_model_module_version": "1.2.0",
      "_model_name": "LayoutModel",
      "_view_count": null,
      "_view_module": "@jupyter-widgets/base",
      "_view_module_version": "1.2.0",
      "_view_name": "LayoutView",
      "align_content": null,
      "align_items": null,
      "align_self": null,
      "border": null,
      "bottom": null,
      "display": null,
      "flex": null,
      "flex_flow": null,
      "grid_area": null,
      "grid_auto_columns": null,
      "grid_auto_flow": null,
      "grid_auto_rows": null,
      "grid_column": null,
      "grid_gap": null,
      "grid_row": null,
      "grid_template_areas": null,
      "grid_template_columns": null,
      "grid_template_rows": null,
      "height": null,
      "justify_content": null,
      "justify_items": null,
      "left": null,
      "margin": null,
      "max_height": null,
      "max_width": null,
      "min_height": null,
      "min_width": null,
      "object_fit": null,
      "object_position": null,
      "order": null,
      "overflow": null,
      "overflow_x": null,
      "overflow_y": null,
      "padding": null,
      "right": null,
      "top": null,
      "visibility": null,
      "width": null
     }
    },
    "85fd0968cd9147b08f17ab48d378e4c6": {
     "model_module": "@jupyter-widgets/base",
     "model_module_version": "1.2.0",
     "model_name": "LayoutModel",
     "state": {
      "_model_module": "@jupyter-widgets/base",
      "_model_module_version": "1.2.0",
      "_model_name": "LayoutModel",
      "_view_count": null,
      "_view_module": "@jupyter-widgets/base",
      "_view_module_version": "1.2.0",
      "_view_name": "LayoutView",
      "align_content": null,
      "align_items": null,
      "align_self": null,
      "border": null,
      "bottom": null,
      "display": null,
      "flex": null,
      "flex_flow": null,
      "grid_area": null,
      "grid_auto_columns": null,
      "grid_auto_flow": null,
      "grid_auto_rows": null,
      "grid_column": null,
      "grid_gap": null,
      "grid_row": null,
      "grid_template_areas": null,
      "grid_template_columns": null,
      "grid_template_rows": null,
      "height": null,
      "justify_content": null,
      "justify_items": null,
      "left": null,
      "margin": null,
      "max_height": null,
      "max_width": null,
      "min_height": null,
      "min_width": null,
      "object_fit": null,
      "object_position": null,
      "order": null,
      "overflow": null,
      "overflow_x": null,
      "overflow_y": null,
      "padding": null,
      "right": null,
      "top": null,
      "visibility": null,
      "width": null
     }
    },
    "86f0355e085a4022ab9904dbc63e1a11": {
     "model_module": "@jupyter-widgets/controls",
     "model_module_version": "1.5.0",
     "model_name": "HTMLModel",
     "state": {
      "_dom_classes": [],
      "_model_module": "@jupyter-widgets/controls",
      "_model_module_version": "1.5.0",
      "_model_name": "HTMLModel",
      "_view_count": null,
      "_view_module": "@jupyter-widgets/controls",
      "_view_module_version": "1.5.0",
      "_view_name": "HTMLView",
      "description": "",
      "description_tooltip": null,
      "layout": "IPY_MODEL_d65c2a0991a84eadb11db93c427d9924",
      "placeholder": "​",
      "style": "IPY_MODEL_79910a86feed468caaa938128700e636",
      "value": " 1.52k/1.52k [00:00&lt;00:00, 14.2kB/s]"
     }
    },
    "8d24e291aef64d9881aafb32d6876264": {
     "model_module": "@jupyter-widgets/controls",
     "model_module_version": "1.5.0",
     "model_name": "DescriptionStyleModel",
     "state": {
      "_model_module": "@jupyter-widgets/controls",
      "_model_module_version": "1.5.0",
      "_model_name": "DescriptionStyleModel",
      "_view_count": null,
      "_view_module": "@jupyter-widgets/base",
      "_view_module_version": "1.2.0",
      "_view_name": "StyleView",
      "description_width": ""
     }
    },
    "8fca6f9c0c69405bb51f7db56b61f0a3": {
     "model_module": "@jupyter-widgets/base",
     "model_module_version": "1.2.0",
     "model_name": "LayoutModel",
     "state": {
      "_model_module": "@jupyter-widgets/base",
      "_model_module_version": "1.2.0",
      "_model_name": "LayoutModel",
      "_view_count": null,
      "_view_module": "@jupyter-widgets/base",
      "_view_module_version": "1.2.0",
      "_view_name": "LayoutView",
      "align_content": null,
      "align_items": null,
      "align_self": null,
      "border": null,
      "bottom": null,
      "display": null,
      "flex": null,
      "flex_flow": null,
      "grid_area": null,
      "grid_auto_columns": null,
      "grid_auto_flow": null,
      "grid_auto_rows": null,
      "grid_column": null,
      "grid_gap": null,
      "grid_row": null,
      "grid_template_areas": null,
      "grid_template_columns": null,
      "grid_template_rows": null,
      "height": null,
      "justify_content": null,
      "justify_items": null,
      "left": null,
      "margin": null,
      "max_height": null,
      "max_width": null,
      "min_height": null,
      "min_width": null,
      "object_fit": null,
      "object_position": null,
      "order": null,
      "overflow": null,
      "overflow_x": null,
      "overflow_y": null,
      "padding": null,
      "right": null,
      "top": null,
      "visibility": null,
      "width": null
     }
    },
    "902a0137147b42bca7bf73483e7e85f8": {
     "model_module": "@jupyter-widgets/controls",
     "model_module_version": "1.5.0",
     "model_name": "HBoxModel",
     "state": {
      "_dom_classes": [],
      "_model_module": "@jupyter-widgets/controls",
      "_model_module_version": "1.5.0",
      "_model_name": "HBoxModel",
      "_view_count": null,
      "_view_module": "@jupyter-widgets/controls",
      "_view_module_version": "1.5.0",
      "_view_name": "HBoxView",
      "box_style": "",
      "children": [
       "IPY_MODEL_bb47ada255e34e8484124bfccf08daea",
       "IPY_MODEL_e6c2040b056a427b879f28f6d1063818"
      ],
      "layout": "IPY_MODEL_374300ce6c1943d2b5483774fcb2e279"
     }
    },
    "90d96ab775e143c98950224b5b5eecc6": {
     "model_module": "@jupyter-widgets/controls",
     "model_module_version": "1.5.0",
     "model_name": "HTMLModel",
     "state": {
      "_dom_classes": [],
      "_model_module": "@jupyter-widgets/controls",
      "_model_module_version": "1.5.0",
      "_model_name": "HTMLModel",
      "_view_count": null,
      "_view_module": "@jupyter-widgets/controls",
      "_view_module_version": "1.5.0",
      "_view_name": "HTMLView",
      "description": "",
      "description_tooltip": null,
      "layout": "IPY_MODEL_6f2b61fe45ae4e01bd25887251c0f7f5",
      "placeholder": "​",
      "style": "IPY_MODEL_8d24e291aef64d9881aafb32d6876264",
      "value": " 1148/1148 [00:04&lt;00:00, 281.81ex/s]"
     }
    },
    "93b8c176c521461bbcfdba82f381dd4e": {
     "model_module": "@jupyter-widgets/controls",
     "model_module_version": "1.5.0",
     "model_name": "HBoxModel",
     "state": {
      "_dom_classes": [],
      "_model_module": "@jupyter-widgets/controls",
      "_model_module_version": "1.5.0",
      "_model_name": "HBoxModel",
      "_view_count": null,
      "_view_module": "@jupyter-widgets/controls",
      "_view_module_version": "1.5.0",
      "_view_name": "HBoxView",
      "box_style": "",
      "children": [
       "IPY_MODEL_aa38f8ae132d47d38ff7acc443d93879",
       "IPY_MODEL_2a97fa89fc784df2a035b5fb9cb17e0e"
      ],
      "layout": "IPY_MODEL_65918bcbc8e548129127df3b0daf2530"
     }
    },
    "9810049a656d46e3ac64be1f343d0f0b": {
     "model_module": "@jupyter-widgets/controls",
     "model_module_version": "1.5.0",
     "model_name": "HTMLModel",
     "state": {
      "_dom_classes": [],
      "_model_module": "@jupyter-widgets/controls",
      "_model_module_version": "1.5.0",
      "_model_name": "HTMLModel",
      "_view_count": null,
      "_view_module": "@jupyter-widgets/controls",
      "_view_module_version": "1.5.0",
      "_view_name": "HTMLView",
      "description": "",
      "description_tooltip": null,
      "layout": "IPY_MODEL_d126b808c3f54b2faafd4d64dab98371",
      "placeholder": "​",
      "style": "IPY_MODEL_aa7e71a7ba554c17a4f2016faadbf9e2",
      "value": " 26.0/26.0 [00:37&lt;00:00, 1.46s/B]"
     }
    },
    "987005cd28494c619390168d6bc00981": {
     "model_module": "@jupyter-widgets/controls",
     "model_module_version": "1.5.0",
     "model_name": "ProgressStyleModel",
     "state": {
      "_model_module": "@jupyter-widgets/controls",
      "_model_module_version": "1.5.0",
      "_model_name": "ProgressStyleModel",
      "_view_count": null,
      "_view_module": "@jupyter-widgets/base",
      "_view_module_version": "1.2.0",
      "_view_name": "StyleView",
      "bar_color": null,
      "description_width": "initial"
     }
    },
    "9cd0870c83e5424b8c302c2d60381865": {
     "model_module": "@jupyter-widgets/controls",
     "model_module_version": "1.5.0",
     "model_name": "ProgressStyleModel",
     "state": {
      "_model_module": "@jupyter-widgets/controls",
      "_model_module_version": "1.5.0",
      "_model_name": "ProgressStyleModel",
      "_view_count": null,
      "_view_module": "@jupyter-widgets/base",
      "_view_module_version": "1.2.0",
      "_view_name": "StyleView",
      "bar_color": null,
      "description_width": "initial"
     }
    },
    "a01786a12bc34f0bb09202f58aca57fb": {
     "model_module": "@jupyter-widgets/controls",
     "model_module_version": "1.5.0",
     "model_name": "ProgressStyleModel",
     "state": {
      "_model_module": "@jupyter-widgets/controls",
      "_model_module_version": "1.5.0",
      "_model_name": "ProgressStyleModel",
      "_view_count": null,
      "_view_module": "@jupyter-widgets/base",
      "_view_module_version": "1.2.0",
      "_view_name": "StyleView",
      "bar_color": null,
      "description_width": "initial"
     }
    },
    "a27a4d40c79146769933db51eb5689e2": {
     "model_module": "@jupyter-widgets/controls",
     "model_module_version": "1.5.0",
     "model_name": "ProgressStyleModel",
     "state": {
      "_model_module": "@jupyter-widgets/controls",
      "_model_module_version": "1.5.0",
      "_model_name": "ProgressStyleModel",
      "_view_count": null,
      "_view_module": "@jupyter-widgets/base",
      "_view_module_version": "1.2.0",
      "_view_name": "StyleView",
      "bar_color": null,
      "description_width": "initial"
     }
    },
    "a433b72f66e24add8d1bce056cf55783": {
     "model_module": "@jupyter-widgets/controls",
     "model_module_version": "1.5.0",
     "model_name": "DescriptionStyleModel",
     "state": {
      "_model_module": "@jupyter-widgets/controls",
      "_model_module_version": "1.5.0",
      "_model_name": "DescriptionStyleModel",
      "_view_count": null,
      "_view_module": "@jupyter-widgets/base",
      "_view_module_version": "1.2.0",
      "_view_name": "StyleView",
      "description_width": ""
     }
    },
    "a6443cc951ee4ee1b34bbcb4af632a34": {
     "model_module": "@jupyter-widgets/base",
     "model_module_version": "1.2.0",
     "model_name": "LayoutModel",
     "state": {
      "_model_module": "@jupyter-widgets/base",
      "_model_module_version": "1.2.0",
      "_model_name": "LayoutModel",
      "_view_count": null,
      "_view_module": "@jupyter-widgets/base",
      "_view_module_version": "1.2.0",
      "_view_name": "LayoutView",
      "align_content": null,
      "align_items": null,
      "align_self": null,
      "border": null,
      "bottom": null,
      "display": null,
      "flex": null,
      "flex_flow": null,
      "grid_area": null,
      "grid_auto_columns": null,
      "grid_auto_flow": null,
      "grid_auto_rows": null,
      "grid_column": null,
      "grid_gap": null,
      "grid_row": null,
      "grid_template_areas": null,
      "grid_template_columns": null,
      "grid_template_rows": null,
      "height": null,
      "justify_content": null,
      "justify_items": null,
      "left": null,
      "margin": null,
      "max_height": null,
      "max_width": null,
      "min_height": null,
      "min_width": null,
      "object_fit": null,
      "object_position": null,
      "order": null,
      "overflow": null,
      "overflow_x": null,
      "overflow_y": null,
      "padding": null,
      "right": null,
      "top": null,
      "visibility": null,
      "width": null
     }
    },
    "a6e11c404bae4168bf6ce0493e08cb63": {
     "model_module": "@jupyter-widgets/base",
     "model_module_version": "1.2.0",
     "model_name": "LayoutModel",
     "state": {
      "_model_module": "@jupyter-widgets/base",
      "_model_module_version": "1.2.0",
      "_model_name": "LayoutModel",
      "_view_count": null,
      "_view_module": "@jupyter-widgets/base",
      "_view_module_version": "1.2.0",
      "_view_name": "LayoutView",
      "align_content": null,
      "align_items": null,
      "align_self": null,
      "border": null,
      "bottom": null,
      "display": null,
      "flex": null,
      "flex_flow": null,
      "grid_area": null,
      "grid_auto_columns": null,
      "grid_auto_flow": null,
      "grid_auto_rows": null,
      "grid_column": null,
      "grid_gap": null,
      "grid_row": null,
      "grid_template_areas": null,
      "grid_template_columns": null,
      "grid_template_rows": null,
      "height": null,
      "justify_content": null,
      "justify_items": null,
      "left": null,
      "margin": null,
      "max_height": null,
      "max_width": null,
      "min_height": null,
      "min_width": null,
      "object_fit": null,
      "object_position": null,
      "order": null,
      "overflow": null,
      "overflow_x": null,
      "overflow_y": null,
      "padding": null,
      "right": null,
      "top": null,
      "visibility": null,
      "width": null
     }
    },
    "a8b56f9b23fb4a7696992d55eb7e4d58": {
     "model_module": "@jupyter-widgets/controls",
     "model_module_version": "1.5.0",
     "model_name": "FloatProgressModel",
     "state": {
      "_dom_classes": [],
      "_model_module": "@jupyter-widgets/controls",
      "_model_module_version": "1.5.0",
      "_model_name": "FloatProgressModel",
      "_view_count": null,
      "_view_module": "@jupyter-widgets/controls",
      "_view_module_version": "1.5.0",
      "_view_name": "ProgressView",
      "bar_style": "success",
      "description": "#1: 100%",
      "description_tooltip": null,
      "layout": "IPY_MODEL_ce37197ea17f472497f1cf63e98bed17",
      "max": 1147,
      "min": 0,
      "orientation": "horizontal",
      "style": "IPY_MODEL_a27a4d40c79146769933db51eb5689e2",
      "value": 1147
     }
    },
    "aa38f8ae132d47d38ff7acc443d93879": {
     "model_module": "@jupyter-widgets/controls",
     "model_module_version": "1.5.0",
     "model_name": "FloatProgressModel",
     "state": {
      "_dom_classes": [],
      "_model_module": "@jupyter-widgets/controls",
      "_model_module_version": "1.5.0",
      "_model_name": "FloatProgressModel",
      "_view_count": null,
      "_view_module": "@jupyter-widgets/controls",
      "_view_module_version": "1.5.0",
      "_view_name": "ProgressView",
      "bar_style": "success",
      "description": "Iteration: 100%",
      "description_tooltip": null,
      "layout": "IPY_MODEL_f634169ca7e84bfd9b9d853d0afdf81f",
      "max": 2,
      "min": 0,
      "orientation": "horizontal",
      "style": "IPY_MODEL_594939f5f4a743f4a85c170184652227",
      "value": 2
     }
    },
    "aa4f205cfcef457092412c4a4ba2458a": {
     "model_module": "@jupyter-widgets/base",
     "model_module_version": "1.2.0",
     "model_name": "LayoutModel",
     "state": {
      "_model_module": "@jupyter-widgets/base",
      "_model_module_version": "1.2.0",
      "_model_name": "LayoutModel",
      "_view_count": null,
      "_view_module": "@jupyter-widgets/base",
      "_view_module_version": "1.2.0",
      "_view_name": "LayoutView",
      "align_content": null,
      "align_items": null,
      "align_self": null,
      "border": null,
      "bottom": null,
      "display": null,
      "flex": null,
      "flex_flow": null,
      "grid_area": null,
      "grid_auto_columns": null,
      "grid_auto_flow": null,
      "grid_auto_rows": null,
      "grid_column": null,
      "grid_gap": null,
      "grid_row": null,
      "grid_template_areas": null,
      "grid_template_columns": null,
      "grid_template_rows": null,
      "height": null,
      "justify_content": null,
      "justify_items": null,
      "left": null,
      "margin": null,
      "max_height": null,
      "max_width": null,
      "min_height": null,
      "min_width": null,
      "object_fit": null,
      "object_position": null,
      "order": null,
      "overflow": null,
      "overflow_x": null,
      "overflow_y": null,
      "padding": null,
      "right": null,
      "top": null,
      "visibility": null,
      "width": null
     }
    },
    "aa7e71a7ba554c17a4f2016faadbf9e2": {
     "model_module": "@jupyter-widgets/controls",
     "model_module_version": "1.5.0",
     "model_name": "DescriptionStyleModel",
     "state": {
      "_model_module": "@jupyter-widgets/controls",
      "_model_module_version": "1.5.0",
      "_model_name": "DescriptionStyleModel",
      "_view_count": null,
      "_view_module": "@jupyter-widgets/base",
      "_view_module_version": "1.2.0",
      "_view_name": "StyleView",
      "description_width": ""
     }
    },
    "ad0911a5b949402d91bfd4ff34d9b1bf": {
     "model_module": "@jupyter-widgets/controls",
     "model_module_version": "1.5.0",
     "model_name": "FloatProgressModel",
     "state": {
      "_dom_classes": [],
      "_model_module": "@jupyter-widgets/controls",
      "_model_module_version": "1.5.0",
      "_model_name": "FloatProgressModel",
      "_view_count": null,
      "_view_module": "@jupyter-widgets/controls",
      "_view_module_version": "1.5.0",
      "_view_name": "ProgressView",
      "bar_style": "success",
      "description": "Downloading: 100%",
      "description_tooltip": null,
      "layout": "IPY_MODEL_04e8dd101d4d496d97c6de13dc44bb79",
      "max": 26,
      "min": 0,
      "orientation": "horizontal",
      "style": "IPY_MODEL_4783f9223f7f4d24816bdeddbc223360",
      "value": 26
     }
    },
    "b08060b39104482e98aaa72ea482588a": {
     "model_module": "@jupyter-widgets/base",
     "model_module_version": "1.2.0",
     "model_name": "LayoutModel",
     "state": {
      "_model_module": "@jupyter-widgets/base",
      "_model_module_version": "1.2.0",
      "_model_name": "LayoutModel",
      "_view_count": null,
      "_view_module": "@jupyter-widgets/base",
      "_view_module_version": "1.2.0",
      "_view_name": "LayoutView",
      "align_content": null,
      "align_items": null,
      "align_self": null,
      "border": null,
      "bottom": null,
      "display": null,
      "flex": null,
      "flex_flow": null,
      "grid_area": null,
      "grid_auto_columns": null,
      "grid_auto_flow": null,
      "grid_auto_rows": null,
      "grid_column": null,
      "grid_gap": null,
      "grid_row": null,
      "grid_template_areas": null,
      "grid_template_columns": null,
      "grid_template_rows": null,
      "height": null,
      "justify_content": null,
      "justify_items": null,
      "left": null,
      "margin": null,
      "max_height": null,
      "max_width": null,
      "min_height": null,
      "min_width": null,
      "object_fit": null,
      "object_position": null,
      "order": null,
      "overflow": null,
      "overflow_x": null,
      "overflow_y": null,
      "padding": null,
      "right": null,
      "top": null,
      "visibility": null,
      "width": null
     }
    },
    "b4d820e14c724739a26d725e0758e35b": {
     "model_module": "@jupyter-widgets/controls",
     "model_module_version": "1.5.0",
     "model_name": "DescriptionStyleModel",
     "state": {
      "_model_module": "@jupyter-widgets/controls",
      "_model_module_version": "1.5.0",
      "_model_name": "DescriptionStyleModel",
      "_view_count": null,
      "_view_module": "@jupyter-widgets/base",
      "_view_module_version": "1.2.0",
      "_view_name": "StyleView",
      "description_width": ""
     }
    },
    "b56556e048a34fca989756b93ed620e8": {
     "model_module": "@jupyter-widgets/base",
     "model_module_version": "1.2.0",
     "model_name": "LayoutModel",
     "state": {
      "_model_module": "@jupyter-widgets/base",
      "_model_module_version": "1.2.0",
      "_model_name": "LayoutModel",
      "_view_count": null,
      "_view_module": "@jupyter-widgets/base",
      "_view_module_version": "1.2.0",
      "_view_name": "LayoutView",
      "align_content": null,
      "align_items": null,
      "align_self": null,
      "border": null,
      "bottom": null,
      "display": null,
      "flex": null,
      "flex_flow": null,
      "grid_area": null,
      "grid_auto_columns": null,
      "grid_auto_flow": null,
      "grid_auto_rows": null,
      "grid_column": null,
      "grid_gap": null,
      "grid_row": null,
      "grid_template_areas": null,
      "grid_template_columns": null,
      "grid_template_rows": null,
      "height": null,
      "justify_content": null,
      "justify_items": null,
      "left": null,
      "margin": null,
      "max_height": null,
      "max_width": null,
      "min_height": null,
      "min_width": null,
      "object_fit": null,
      "object_position": null,
      "order": null,
      "overflow": null,
      "overflow_x": null,
      "overflow_y": null,
      "padding": null,
      "right": null,
      "top": null,
      "visibility": null,
      "width": null
     }
    },
    "b7d3a82e9d084518b970906f250f8c6c": {
     "model_module": "@jupyter-widgets/base",
     "model_module_version": "1.2.0",
     "model_name": "LayoutModel",
     "state": {
      "_model_module": "@jupyter-widgets/base",
      "_model_module_version": "1.2.0",
      "_model_name": "LayoutModel",
      "_view_count": null,
      "_view_module": "@jupyter-widgets/base",
      "_view_module_version": "1.2.0",
      "_view_name": "LayoutView",
      "align_content": null,
      "align_items": null,
      "align_self": null,
      "border": null,
      "bottom": null,
      "display": null,
      "flex": null,
      "flex_flow": null,
      "grid_area": null,
      "grid_auto_columns": null,
      "grid_auto_flow": null,
      "grid_auto_rows": null,
      "grid_column": null,
      "grid_gap": null,
      "grid_row": null,
      "grid_template_areas": null,
      "grid_template_columns": null,
      "grid_template_rows": null,
      "height": null,
      "justify_content": null,
      "justify_items": null,
      "left": null,
      "margin": null,
      "max_height": null,
      "max_width": null,
      "min_height": null,
      "min_width": null,
      "object_fit": null,
      "object_position": null,
      "order": null,
      "overflow": null,
      "overflow_x": null,
      "overflow_y": null,
      "padding": null,
      "right": null,
      "top": null,
      "visibility": null,
      "width": null
     }
    },
    "b7f610051bc04f0bae84d022159ff5fc": {
     "model_module": "@jupyter-widgets/controls",
     "model_module_version": "1.5.0",
     "model_name": "HBoxModel",
     "state": {
      "_dom_classes": [],
      "_model_module": "@jupyter-widgets/controls",
      "_model_module_version": "1.5.0",
      "_model_name": "HBoxModel",
      "_view_count": null,
      "_view_module": "@jupyter-widgets/controls",
      "_view_module_version": "1.5.0",
      "_view_name": "HBoxView",
      "box_style": "",
      "children": [
       "IPY_MODEL_15b1562fe2c042d89e083b0dacc13bcb",
       "IPY_MODEL_c5b78750d6eb4635a04081cea0a75587"
      ],
      "layout": "IPY_MODEL_d3fe9001e6f04196be50cd12dfc58b75"
     }
    },
    "bb47ada255e34e8484124bfccf08daea": {
     "model_module": "@jupyter-widgets/controls",
     "model_module_version": "1.5.0",
     "model_name": "FloatProgressModel",
     "state": {
      "_dom_classes": [],
      "_model_module": "@jupyter-widgets/controls",
      "_model_module_version": "1.5.0",
      "_model_name": "FloatProgressModel",
      "_view_count": null,
      "_view_module": "@jupyter-widgets/controls",
      "_view_module_version": "1.5.0",
      "_view_name": "ProgressView",
      "bar_style": "success",
      "description": "Downloading: 100%",
      "description_tooltip": null,
      "layout": "IPY_MODEL_2f608a356e254c46a664f351c5ead926",
      "max": 1355863,
      "min": 0,
      "orientation": "horizontal",
      "style": "IPY_MODEL_09b7cb8fd72a4b8ab4bcd070391136fc",
      "value": 1355863
     }
    },
    "bba9e92aa5ee4bbaa04e2d0f6a9b5249": {
     "model_module": "@jupyter-widgets/base",
     "model_module_version": "1.2.0",
     "model_name": "LayoutModel",
     "state": {
      "_model_module": "@jupyter-widgets/base",
      "_model_module_version": "1.2.0",
      "_model_name": "LayoutModel",
      "_view_count": null,
      "_view_module": "@jupyter-widgets/base",
      "_view_module_version": "1.2.0",
      "_view_name": "LayoutView",
      "align_content": null,
      "align_items": null,
      "align_self": null,
      "border": null,
      "bottom": null,
      "display": null,
      "flex": null,
      "flex_flow": null,
      "grid_area": null,
      "grid_auto_columns": null,
      "grid_auto_flow": null,
      "grid_auto_rows": null,
      "grid_column": null,
      "grid_gap": null,
      "grid_row": null,
      "grid_template_areas": null,
      "grid_template_columns": null,
      "grid_template_rows": null,
      "height": null,
      "justify_content": null,
      "justify_items": null,
      "left": null,
      "margin": null,
      "max_height": null,
      "max_width": null,
      "min_height": null,
      "min_width": null,
      "object_fit": null,
      "object_position": null,
      "order": null,
      "overflow": null,
      "overflow_x": null,
      "overflow_y": null,
      "padding": null,
      "right": null,
      "top": null,
      "visibility": null,
      "width": null
     }
    },
    "c23c2c50af6a4696968ed06b6dcf0e01": {
     "model_module": "@jupyter-widgets/controls",
     "model_module_version": "1.5.0",
     "model_name": "HTMLModel",
     "state": {
      "_dom_classes": [],
      "_model_module": "@jupyter-widgets/controls",
      "_model_module_version": "1.5.0",
      "_model_name": "HTMLModel",
      "_view_count": null,
      "_view_module": "@jupyter-widgets/controls",
      "_view_module_version": "1.5.0",
      "_view_name": "HTMLView",
      "description": "",
      "description_tooltip": null,
      "layout": "IPY_MODEL_a6e11c404bae4168bf6ce0493e08cb63",
      "placeholder": "​",
      "style": "IPY_MODEL_a433b72f66e24add8d1bce056cf55783",
      "value": " 2/2 [05:20&lt;00:00, 160.40s/it]"
     }
    },
    "c34783c709994d38ab25c0a43bfe4c75": {
     "model_module": "@jupyter-widgets/base",
     "model_module_version": "1.2.0",
     "model_name": "LayoutModel",
     "state": {
      "_model_module": "@jupyter-widgets/base",
      "_model_module_version": "1.2.0",
      "_model_name": "LayoutModel",
      "_view_count": null,
      "_view_module": "@jupyter-widgets/base",
      "_view_module_version": "1.2.0",
      "_view_name": "LayoutView",
      "align_content": null,
      "align_items": null,
      "align_self": null,
      "border": null,
      "bottom": null,
      "display": null,
      "flex": null,
      "flex_flow": null,
      "grid_area": null,
      "grid_auto_columns": null,
      "grid_auto_flow": null,
      "grid_auto_rows": null,
      "grid_column": null,
      "grid_gap": null,
      "grid_row": null,
      "grid_template_areas": null,
      "grid_template_columns": null,
      "grid_template_rows": null,
      "height": null,
      "justify_content": null,
      "justify_items": null,
      "left": null,
      "margin": null,
      "max_height": null,
      "max_width": null,
      "min_height": null,
      "min_width": null,
      "object_fit": null,
      "object_position": null,
      "order": null,
      "overflow": null,
      "overflow_x": null,
      "overflow_y": null,
      "padding": null,
      "right": null,
      "top": null,
      "visibility": null,
      "width": null
     }
    },
    "c5b78750d6eb4635a04081cea0a75587": {
     "model_module": "@jupyter-widgets/controls",
     "model_module_version": "1.5.0",
     "model_name": "HTMLModel",
     "state": {
      "_dom_classes": [],
      "_model_module": "@jupyter-widgets/controls",
      "_model_module_version": "1.5.0",
      "_model_name": "HTMLModel",
      "_view_count": null,
      "_view_module": "@jupyter-widgets/controls",
      "_view_module_version": "1.5.0",
      "_view_name": "HTMLView",
      "description": "",
      "description_tooltip": null,
      "layout": "IPY_MODEL_85fd0968cd9147b08f17ab48d378e4c6",
      "placeholder": "​",
      "style": "IPY_MODEL_0c81c16a95b545e1b142fe23010d711b",
      "value": " 456k/456k [00:00&lt;00:00, 1.63MB/s]"
     }
    },
    "c8796d01ac1243c3b3b6810896fa688f": {
     "model_module": "@jupyter-widgets/controls",
     "model_module_version": "1.5.0",
     "model_name": "HBoxModel",
     "state": {
      "_dom_classes": [],
      "_model_module": "@jupyter-widgets/controls",
      "_model_module_version": "1.5.0",
      "_model_name": "HBoxModel",
      "_view_count": null,
      "_view_module": "@jupyter-widgets/controls",
      "_view_module_version": "1.5.0",
      "_view_name": "HBoxView",
      "box_style": "",
      "children": [
       "IPY_MODEL_cd6c90fc47d848958c0c695ce4d730cc",
       "IPY_MODEL_82d76ae9ba04419f9b78c47be1b60128"
      ],
      "layout": "IPY_MODEL_bba9e92aa5ee4bbaa04e2d0f6a9b5249"
     }
    },
    "cb51a8d061354bf18a9ee258aff8a80b": {
     "model_module": "@jupyter-widgets/base",
     "model_module_version": "1.2.0",
     "model_name": "LayoutModel",
     "state": {
      "_model_module": "@jupyter-widgets/base",
      "_model_module_version": "1.2.0",
      "_model_name": "LayoutModel",
      "_view_count": null,
      "_view_module": "@jupyter-widgets/base",
      "_view_module_version": "1.2.0",
      "_view_name": "LayoutView",
      "align_content": null,
      "align_items": null,
      "align_self": null,
      "border": null,
      "bottom": null,
      "display": null,
      "flex": null,
      "flex_flow": null,
      "grid_area": null,
      "grid_auto_columns": null,
      "grid_auto_flow": null,
      "grid_auto_rows": null,
      "grid_column": null,
      "grid_gap": null,
      "grid_row": null,
      "grid_template_areas": null,
      "grid_template_columns": null,
      "grid_template_rows": null,
      "height": null,
      "justify_content": null,
      "justify_items": null,
      "left": null,
      "margin": null,
      "max_height": null,
      "max_width": null,
      "min_height": null,
      "min_width": null,
      "object_fit": null,
      "object_position": null,
      "order": null,
      "overflow": null,
      "overflow_x": null,
      "overflow_y": null,
      "padding": null,
      "right": null,
      "top": null,
      "visibility": null,
      "width": null
     }
    },
    "cd6c90fc47d848958c0c695ce4d730cc": {
     "model_module": "@jupyter-widgets/controls",
     "model_module_version": "1.5.0",
     "model_name": "FloatProgressModel",
     "state": {
      "_dom_classes": [],
      "_model_module": "@jupyter-widgets/controls",
      "_model_module_version": "1.5.0",
      "_model_name": "FloatProgressModel",
      "_view_count": null,
      "_view_module": "@jupyter-widgets/controls",
      "_view_module_version": "1.5.0",
      "_view_name": "ProgressView",
      "bar_style": "success",
      "description": "Epoch: 100%",
      "description_tooltip": null,
      "layout": "IPY_MODEL_b56556e048a34fca989756b93ed620e8",
      "max": 2,
      "min": 0,
      "orientation": "horizontal",
      "style": "IPY_MODEL_56d98f41378b4f4e8cd7489cb2175058",
      "value": 2
     }
    },
    "ce37197ea17f472497f1cf63e98bed17": {
     "model_module": "@jupyter-widgets/base",
     "model_module_version": "1.2.0",
     "model_name": "LayoutModel",
     "state": {
      "_model_module": "@jupyter-widgets/base",
      "_model_module_version": "1.2.0",
      "_model_name": "LayoutModel",
      "_view_count": null,
      "_view_module": "@jupyter-widgets/base",
      "_view_module_version": "1.2.0",
      "_view_name": "LayoutView",
      "align_content": null,
      "align_items": null,
      "align_self": null,
      "border": null,
      "bottom": null,
      "display": null,
      "flex": null,
      "flex_flow": null,
      "grid_area": null,
      "grid_auto_columns": null,
      "grid_auto_flow": null,
      "grid_auto_rows": null,
      "grid_column": null,
      "grid_gap": null,
      "grid_row": null,
      "grid_template_areas": null,
      "grid_template_columns": null,
      "grid_template_rows": null,
      "height": null,
      "justify_content": null,
      "justify_items": null,
      "left": null,
      "margin": null,
      "max_height": null,
      "max_width": null,
      "min_height": null,
      "min_width": null,
      "object_fit": null,
      "object_position": null,
      "order": null,
      "overflow": null,
      "overflow_x": null,
      "overflow_y": null,
      "padding": null,
      "right": null,
      "top": null,
      "visibility": null,
      "width": null
     }
    },
    "d11aabf58d3a4eb0873bfcb3d651c02b": {
     "model_module": "@jupyter-widgets/base",
     "model_module_version": "1.2.0",
     "model_name": "LayoutModel",
     "state": {
      "_model_module": "@jupyter-widgets/base",
      "_model_module_version": "1.2.0",
      "_model_name": "LayoutModel",
      "_view_count": null,
      "_view_module": "@jupyter-widgets/base",
      "_view_module_version": "1.2.0",
      "_view_name": "LayoutView",
      "align_content": null,
      "align_items": null,
      "align_self": null,
      "border": null,
      "bottom": null,
      "display": null,
      "flex": null,
      "flex_flow": null,
      "grid_area": null,
      "grid_auto_columns": null,
      "grid_auto_flow": null,
      "grid_auto_rows": null,
      "grid_column": null,
      "grid_gap": null,
      "grid_row": null,
      "grid_template_areas": null,
      "grid_template_columns": null,
      "grid_template_rows": null,
      "height": null,
      "justify_content": null,
      "justify_items": null,
      "left": null,
      "margin": null,
      "max_height": null,
      "max_width": null,
      "min_height": null,
      "min_width": null,
      "object_fit": null,
      "object_position": null,
      "order": null,
      "overflow": null,
      "overflow_x": null,
      "overflow_y": null,
      "padding": null,
      "right": null,
      "top": null,
      "visibility": null,
      "width": null
     }
    },
    "d126b808c3f54b2faafd4d64dab98371": {
     "model_module": "@jupyter-widgets/base",
     "model_module_version": "1.2.0",
     "model_name": "LayoutModel",
     "state": {
      "_model_module": "@jupyter-widgets/base",
      "_model_module_version": "1.2.0",
      "_model_name": "LayoutModel",
      "_view_count": null,
      "_view_module": "@jupyter-widgets/base",
      "_view_module_version": "1.2.0",
      "_view_name": "LayoutView",
      "align_content": null,
      "align_items": null,
      "align_self": null,
      "border": null,
      "bottom": null,
      "display": null,
      "flex": null,
      "flex_flow": null,
      "grid_area": null,
      "grid_auto_columns": null,
      "grid_auto_flow": null,
      "grid_auto_rows": null,
      "grid_column": null,
      "grid_gap": null,
      "grid_row": null,
      "grid_template_areas": null,
      "grid_template_columns": null,
      "grid_template_rows": null,
      "height": null,
      "justify_content": null,
      "justify_items": null,
      "left": null,
      "margin": null,
      "max_height": null,
      "max_width": null,
      "min_height": null,
      "min_width": null,
      "object_fit": null,
      "object_position": null,
      "order": null,
      "overflow": null,
      "overflow_x": null,
      "overflow_y": null,
      "padding": null,
      "right": null,
      "top": null,
      "visibility": null,
      "width": null
     }
    },
    "d3fe9001e6f04196be50cd12dfc58b75": {
     "model_module": "@jupyter-widgets/base",
     "model_module_version": "1.2.0",
     "model_name": "LayoutModel",
     "state": {
      "_model_module": "@jupyter-widgets/base",
      "_model_module_version": "1.2.0",
      "_model_name": "LayoutModel",
      "_view_count": null,
      "_view_module": "@jupyter-widgets/base",
      "_view_module_version": "1.2.0",
      "_view_name": "LayoutView",
      "align_content": null,
      "align_items": null,
      "align_self": null,
      "border": null,
      "bottom": null,
      "display": null,
      "flex": null,
      "flex_flow": null,
      "grid_area": null,
      "grid_auto_columns": null,
      "grid_auto_flow": null,
      "grid_auto_rows": null,
      "grid_column": null,
      "grid_gap": null,
      "grid_row": null,
      "grid_template_areas": null,
      "grid_template_columns": null,
      "grid_template_rows": null,
      "height": null,
      "justify_content": null,
      "justify_items": null,
      "left": null,
      "margin": null,
      "max_height": null,
      "max_width": null,
      "min_height": null,
      "min_width": null,
      "object_fit": null,
      "object_position": null,
      "order": null,
      "overflow": null,
      "overflow_x": null,
      "overflow_y": null,
      "padding": null,
      "right": null,
      "top": null,
      "visibility": null,
      "width": null
     }
    },
    "d65c2a0991a84eadb11db93c427d9924": {
     "model_module": "@jupyter-widgets/base",
     "model_module_version": "1.2.0",
     "model_name": "LayoutModel",
     "state": {
      "_model_module": "@jupyter-widgets/base",
      "_model_module_version": "1.2.0",
      "_model_name": "LayoutModel",
      "_view_count": null,
      "_view_module": "@jupyter-widgets/base",
      "_view_module_version": "1.2.0",
      "_view_name": "LayoutView",
      "align_content": null,
      "align_items": null,
      "align_self": null,
      "border": null,
      "bottom": null,
      "display": null,
      "flex": null,
      "flex_flow": null,
      "grid_area": null,
      "grid_auto_columns": null,
      "grid_auto_flow": null,
      "grid_auto_rows": null,
      "grid_column": null,
      "grid_gap": null,
      "grid_row": null,
      "grid_template_areas": null,
      "grid_template_columns": null,
      "grid_template_rows": null,
      "height": null,
      "justify_content": null,
      "justify_items": null,
      "left": null,
      "margin": null,
      "max_height": null,
      "max_width": null,
      "min_height": null,
      "min_width": null,
      "object_fit": null,
      "object_position": null,
      "order": null,
      "overflow": null,
      "overflow_x": null,
      "overflow_y": null,
      "padding": null,
      "right": null,
      "top": null,
      "visibility": null,
      "width": null
     }
    },
    "dd13408ab45a440c98766a0c4677cb82": {
     "model_module": "@jupyter-widgets/base",
     "model_module_version": "1.2.0",
     "model_name": "LayoutModel",
     "state": {
      "_model_module": "@jupyter-widgets/base",
      "_model_module_version": "1.2.0",
      "_model_name": "LayoutModel",
      "_view_count": null,
      "_view_module": "@jupyter-widgets/base",
      "_view_module_version": "1.2.0",
      "_view_name": "LayoutView",
      "align_content": null,
      "align_items": null,
      "align_self": null,
      "border": null,
      "bottom": null,
      "display": null,
      "flex": null,
      "flex_flow": null,
      "grid_area": null,
      "grid_auto_columns": null,
      "grid_auto_flow": null,
      "grid_auto_rows": null,
      "grid_column": null,
      "grid_gap": null,
      "grid_row": null,
      "grid_template_areas": null,
      "grid_template_columns": null,
      "grid_template_rows": null,
      "height": null,
      "justify_content": null,
      "justify_items": null,
      "left": null,
      "margin": null,
      "max_height": null,
      "max_width": null,
      "min_height": null,
      "min_width": null,
      "object_fit": null,
      "object_position": null,
      "order": null,
      "overflow": null,
      "overflow_x": null,
      "overflow_y": null,
      "padding": null,
      "right": null,
      "top": null,
      "visibility": null,
      "width": null
     }
    },
    "e2e39ae28c8c49b2a2204c9554b0f339": {
     "model_module": "@jupyter-widgets/base",
     "model_module_version": "1.2.0",
     "model_name": "LayoutModel",
     "state": {
      "_model_module": "@jupyter-widgets/base",
      "_model_module_version": "1.2.0",
      "_model_name": "LayoutModel",
      "_view_count": null,
      "_view_module": "@jupyter-widgets/base",
      "_view_module_version": "1.2.0",
      "_view_name": "LayoutView",
      "align_content": null,
      "align_items": null,
      "align_self": null,
      "border": null,
      "bottom": null,
      "display": null,
      "flex": null,
      "flex_flow": null,
      "grid_area": null,
      "grid_auto_columns": null,
      "grid_auto_flow": null,
      "grid_auto_rows": null,
      "grid_column": null,
      "grid_gap": null,
      "grid_row": null,
      "grid_template_areas": null,
      "grid_template_columns": null,
      "grid_template_rows": null,
      "height": null,
      "justify_content": null,
      "justify_items": null,
      "left": null,
      "margin": null,
      "max_height": null,
      "max_width": null,
      "min_height": null,
      "min_width": null,
      "object_fit": null,
      "object_position": null,
      "order": null,
      "overflow": null,
      "overflow_x": null,
      "overflow_y": null,
      "padding": null,
      "right": null,
      "top": null,
      "visibility": null,
      "width": null
     }
    },
    "e33cf377d13549518e3b356ea9102c25": {
     "model_module": "@jupyter-widgets/controls",
     "model_module_version": "1.5.0",
     "model_name": "HBoxModel",
     "state": {
      "_dom_classes": [],
      "_model_module": "@jupyter-widgets/controls",
      "_model_module_version": "1.5.0",
      "_model_name": "HBoxModel",
      "_view_count": null,
      "_view_module": "@jupyter-widgets/controls",
      "_view_module_version": "1.5.0",
      "_view_name": "HBoxView",
      "box_style": "",
      "children": [
       "IPY_MODEL_ad0911a5b949402d91bfd4ff34d9b1bf",
       "IPY_MODEL_9810049a656d46e3ac64be1f343d0f0b"
      ],
      "layout": "IPY_MODEL_aa4f205cfcef457092412c4a4ba2458a"
     }
    },
    "e3ac7221b48040ed96e011fb2e69ba70": {
     "model_module": "@jupyter-widgets/base",
     "model_module_version": "1.2.0",
     "model_name": "LayoutModel",
     "state": {
      "_model_module": "@jupyter-widgets/base",
      "_model_module_version": "1.2.0",
      "_model_name": "LayoutModel",
      "_view_count": null,
      "_view_module": "@jupyter-widgets/base",
      "_view_module_version": "1.2.0",
      "_view_name": "LayoutView",
      "align_content": null,
      "align_items": null,
      "align_self": null,
      "border": null,
      "bottom": null,
      "display": null,
      "flex": null,
      "flex_flow": null,
      "grid_area": null,
      "grid_auto_columns": null,
      "grid_auto_flow": null,
      "grid_auto_rows": null,
      "grid_column": null,
      "grid_gap": null,
      "grid_row": null,
      "grid_template_areas": null,
      "grid_template_columns": null,
      "grid_template_rows": null,
      "height": null,
      "justify_content": null,
      "justify_items": null,
      "left": null,
      "margin": null,
      "max_height": null,
      "max_width": null,
      "min_height": null,
      "min_width": null,
      "object_fit": null,
      "object_position": null,
      "order": null,
      "overflow": null,
      "overflow_x": null,
      "overflow_y": null,
      "padding": null,
      "right": null,
      "top": null,
      "visibility": null,
      "width": null
     }
    },
    "e6c2040b056a427b879f28f6d1063818": {
     "model_module": "@jupyter-widgets/controls",
     "model_module_version": "1.5.0",
     "model_name": "HTMLModel",
     "state": {
      "_dom_classes": [],
      "_model_module": "@jupyter-widgets/controls",
      "_model_module_version": "1.5.0",
      "_model_name": "HTMLModel",
      "_view_count": null,
      "_view_module": "@jupyter-widgets/controls",
      "_view_module_version": "1.5.0",
      "_view_name": "HTMLView",
      "description": "",
      "description_tooltip": null,
      "layout": "IPY_MODEL_ff3c25f503f24bc59075ca373e56f28a",
      "placeholder": "​",
      "style": "IPY_MODEL_6f455c0486064c268bf20136757faa3d",
      "value": " 1.36M/1.36M [00:00&lt;00:00, 8.70MB/s]"
     }
    },
    "e995cb02ac4b49a9af1b430796809318": {
     "model_module": "@jupyter-widgets/controls",
     "model_module_version": "1.5.0",
     "model_name": "HBoxModel",
     "state": {
      "_dom_classes": [],
      "_model_module": "@jupyter-widgets/controls",
      "_model_module_version": "1.5.0",
      "_model_name": "HBoxModel",
      "_view_count": null,
      "_view_module": "@jupyter-widgets/controls",
      "_view_module_version": "1.5.0",
      "_view_name": "HBoxView",
      "box_style": "",
      "children": [
       "IPY_MODEL_a8b56f9b23fb4a7696992d55eb7e4d58",
       "IPY_MODEL_2c0d66780f784081a8b8d4369a0398fb"
      ],
      "layout": "IPY_MODEL_fa130cd943b2437dad9b38d16ae15fa1"
     }
    },
    "ea2712d6af5549d0a15a7a7375389ad1": {
     "model_module": "@jupyter-widgets/controls",
     "model_module_version": "1.5.0",
     "model_name": "FloatProgressModel",
     "state": {
      "_dom_classes": [],
      "_model_module": "@jupyter-widgets/controls",
      "_model_module_version": "1.5.0",
      "_model_name": "FloatProgressModel",
      "_view_count": null,
      "_view_module": "@jupyter-widgets/controls",
      "_view_module_version": "1.5.0",
      "_view_name": "ProgressView",
      "bar_style": "success",
      "description": "#0: 100%",
      "description_tooltip": null,
      "layout": "IPY_MODEL_4d885159df36440daedd78420baaa85f",
      "max": 48037,
      "min": 0,
      "orientation": "horizontal",
      "style": "IPY_MODEL_9cd0870c83e5424b8c302c2d60381865",
      "value": 48037
     }
    },
    "eb13487f711f49a1b089f31dc9f6f690": {
     "model_module": "@jupyter-widgets/base",
     "model_module_version": "1.2.0",
     "model_name": "LayoutModel",
     "state": {
      "_model_module": "@jupyter-widgets/base",
      "_model_module_version": "1.2.0",
      "_model_name": "LayoutModel",
      "_view_count": null,
      "_view_module": "@jupyter-widgets/base",
      "_view_module_version": "1.2.0",
      "_view_name": "LayoutView",
      "align_content": null,
      "align_items": null,
      "align_self": null,
      "border": null,
      "bottom": null,
      "display": null,
      "flex": null,
      "flex_flow": null,
      "grid_area": null,
      "grid_auto_columns": null,
      "grid_auto_flow": null,
      "grid_auto_rows": null,
      "grid_column": null,
      "grid_gap": null,
      "grid_row": null,
      "grid_template_areas": null,
      "grid_template_columns": null,
      "grid_template_rows": null,
      "height": null,
      "justify_content": null,
      "justify_items": null,
      "left": null,
      "margin": null,
      "max_height": null,
      "max_width": null,
      "min_height": null,
      "min_width": null,
      "object_fit": null,
      "object_position": null,
      "order": null,
      "overflow": null,
      "overflow_x": null,
      "overflow_y": null,
      "padding": null,
      "right": null,
      "top": null,
      "visibility": null,
      "width": null
     }
    },
    "edb52d9428e2435a953cfda948a609ff": {
     "model_module": "@jupyter-widgets/base",
     "model_module_version": "1.2.0",
     "model_name": "LayoutModel",
     "state": {
      "_model_module": "@jupyter-widgets/base",
      "_model_module_version": "1.2.0",
      "_model_name": "LayoutModel",
      "_view_count": null,
      "_view_module": "@jupyter-widgets/base",
      "_view_module_version": "1.2.0",
      "_view_name": "LayoutView",
      "align_content": null,
      "align_items": null,
      "align_self": null,
      "border": null,
      "bottom": null,
      "display": null,
      "flex": null,
      "flex_flow": null,
      "grid_area": null,
      "grid_auto_columns": null,
      "grid_auto_flow": null,
      "grid_auto_rows": null,
      "grid_column": null,
      "grid_gap": null,
      "grid_row": null,
      "grid_template_areas": null,
      "grid_template_columns": null,
      "grid_template_rows": null,
      "height": null,
      "justify_content": null,
      "justify_items": null,
      "left": null,
      "margin": null,
      "max_height": null,
      "max_width": null,
      "min_height": null,
      "min_width": null,
      "object_fit": null,
      "object_position": null,
      "order": null,
      "overflow": null,
      "overflow_x": null,
      "overflow_y": null,
      "padding": null,
      "right": null,
      "top": null,
      "visibility": null,
      "width": null
     }
    },
    "edf67fffc7234b98af520c3e48dfc3e3": {
     "model_module": "@jupyter-widgets/controls",
     "model_module_version": "1.5.0",
     "model_name": "ProgressStyleModel",
     "state": {
      "_model_module": "@jupyter-widgets/controls",
      "_model_module_version": "1.5.0",
      "_model_name": "ProgressStyleModel",
      "_view_count": null,
      "_view_module": "@jupyter-widgets/base",
      "_view_module_version": "1.2.0",
      "_view_name": "StyleView",
      "bar_color": null,
      "description_width": "initial"
     }
    },
    "ef01a85b83ee4b948f37940ced5a1725": {
     "model_module": "@jupyter-widgets/controls",
     "model_module_version": "1.5.0",
     "model_name": "ProgressStyleModel",
     "state": {
      "_model_module": "@jupyter-widgets/controls",
      "_model_module_version": "1.5.0",
      "_model_name": "ProgressStyleModel",
      "_view_count": null,
      "_view_module": "@jupyter-widgets/base",
      "_view_module_version": "1.2.0",
      "_view_name": "StyleView",
      "bar_color": null,
      "description_width": "initial"
     }
    },
    "effebdef214748b3b4691bfa985bab5a": {
     "model_module": "@jupyter-widgets/base",
     "model_module_version": "1.2.0",
     "model_name": "LayoutModel",
     "state": {
      "_model_module": "@jupyter-widgets/base",
      "_model_module_version": "1.2.0",
      "_model_name": "LayoutModel",
      "_view_count": null,
      "_view_module": "@jupyter-widgets/base",
      "_view_module_version": "1.2.0",
      "_view_name": "LayoutView",
      "align_content": null,
      "align_items": null,
      "align_self": null,
      "border": null,
      "bottom": null,
      "display": null,
      "flex": null,
      "flex_flow": null,
      "grid_area": null,
      "grid_auto_columns": null,
      "grid_auto_flow": null,
      "grid_auto_rows": null,
      "grid_column": null,
      "grid_gap": null,
      "grid_row": null,
      "grid_template_areas": null,
      "grid_template_columns": null,
      "grid_template_rows": null,
      "height": null,
      "justify_content": null,
      "justify_items": null,
      "left": null,
      "margin": null,
      "max_height": null,
      "max_width": null,
      "min_height": null,
      "min_width": null,
      "object_fit": null,
      "object_position": null,
      "order": null,
      "overflow": null,
      "overflow_x": null,
      "overflow_y": null,
      "padding": null,
      "right": null,
      "top": null,
      "visibility": null,
      "width": null
     }
    },
    "f2f911b367b14390bed55be348f105f8": {
     "model_module": "@jupyter-widgets/controls",
     "model_module_version": "1.5.0",
     "model_name": "HBoxModel",
     "state": {
      "_dom_classes": [],
      "_model_module": "@jupyter-widgets/controls",
      "_model_module_version": "1.5.0",
      "_model_name": "HBoxModel",
      "_view_count": null,
      "_view_module": "@jupyter-widgets/controls",
      "_view_module_version": "1.5.0",
      "_view_name": "HBoxView",
      "box_style": "",
      "children": [
       "IPY_MODEL_11609bcd0a424dcfb66a60d633f811d6",
       "IPY_MODEL_2b10dba0b4de4a52abb69e43e35c7e41"
      ],
      "layout": "IPY_MODEL_8fca6f9c0c69405bb51f7db56b61f0a3"
     }
    },
    "f634169ca7e84bfd9b9d853d0afdf81f": {
     "model_module": "@jupyter-widgets/base",
     "model_module_version": "1.2.0",
     "model_name": "LayoutModel",
     "state": {
      "_model_module": "@jupyter-widgets/base",
      "_model_module_version": "1.2.0",
      "_model_name": "LayoutModel",
      "_view_count": null,
      "_view_module": "@jupyter-widgets/base",
      "_view_module_version": "1.2.0",
      "_view_name": "LayoutView",
      "align_content": null,
      "align_items": null,
      "align_self": null,
      "border": null,
      "bottom": null,
      "display": null,
      "flex": null,
      "flex_flow": null,
      "grid_area": null,
      "grid_auto_columns": null,
      "grid_auto_flow": null,
      "grid_auto_rows": null,
      "grid_column": null,
      "grid_gap": null,
      "grid_row": null,
      "grid_template_areas": null,
      "grid_template_columns": null,
      "grid_template_rows": null,
      "height": null,
      "justify_content": null,
      "justify_items": null,
      "left": null,
      "margin": null,
      "max_height": null,
      "max_width": null,
      "min_height": null,
      "min_width": null,
      "object_fit": null,
      "object_position": null,
      "order": null,
      "overflow": null,
      "overflow_x": null,
      "overflow_y": null,
      "padding": null,
      "right": null,
      "top": null,
      "visibility": null,
      "width": null
     }
    },
    "f970d54f9a2647409a4b96e843c54353": {
     "model_module": "@jupyter-widgets/controls",
     "model_module_version": "1.5.0",
     "model_name": "DescriptionStyleModel",
     "state": {
      "_model_module": "@jupyter-widgets/controls",
      "_model_module_version": "1.5.0",
      "_model_name": "DescriptionStyleModel",
      "_view_count": null,
      "_view_module": "@jupyter-widgets/base",
      "_view_module_version": "1.2.0",
      "_view_name": "StyleView",
      "description_width": ""
     }
    },
    "fa130cd943b2437dad9b38d16ae15fa1": {
     "model_module": "@jupyter-widgets/base",
     "model_module_version": "1.2.0",
     "model_name": "LayoutModel",
     "state": {
      "_model_module": "@jupyter-widgets/base",
      "_model_module_version": "1.2.0",
      "_model_name": "LayoutModel",
      "_view_count": null,
      "_view_module": "@jupyter-widgets/base",
      "_view_module_version": "1.2.0",
      "_view_name": "LayoutView",
      "align_content": null,
      "align_items": null,
      "align_self": null,
      "border": null,
      "bottom": null,
      "display": null,
      "flex": null,
      "flex_flow": null,
      "grid_area": null,
      "grid_auto_columns": null,
      "grid_auto_flow": null,
      "grid_auto_rows": null,
      "grid_column": null,
      "grid_gap": null,
      "grid_row": null,
      "grid_template_areas": null,
      "grid_template_columns": null,
      "grid_template_rows": null,
      "height": null,
      "justify_content": null,
      "justify_items": null,
      "left": null,
      "margin": null,
      "max_height": null,
      "max_width": null,
      "min_height": null,
      "min_width": null,
      "object_fit": null,
      "object_position": null,
      "order": null,
      "overflow": null,
      "overflow_x": null,
      "overflow_y": null,
      "padding": null,
      "right": null,
      "top": null,
      "visibility": null,
      "width": null
     }
    },
    "ff3c25f503f24bc59075ca373e56f28a": {
     "model_module": "@jupyter-widgets/base",
     "model_module_version": "1.2.0",
     "model_name": "LayoutModel",
     "state": {
      "_model_module": "@jupyter-widgets/base",
      "_model_module_version": "1.2.0",
      "_model_name": "LayoutModel",
      "_view_count": null,
      "_view_module": "@jupyter-widgets/base",
      "_view_module_version": "1.2.0",
      "_view_name": "LayoutView",
      "align_content": null,
      "align_items": null,
      "align_self": null,
      "border": null,
      "bottom": null,
      "display": null,
      "flex": null,
      "flex_flow": null,
      "grid_area": null,
      "grid_auto_columns": null,
      "grid_auto_flow": null,
      "grid_auto_rows": null,
      "grid_column": null,
      "grid_gap": null,
      "grid_row": null,
      "grid_template_areas": null,
      "grid_template_columns": null,
      "grid_template_rows": null,
      "height": null,
      "justify_content": null,
      "justify_items": null,
      "left": null,
      "margin": null,
      "max_height": null,
      "max_width": null,
      "min_height": null,
      "min_width": null,
      "object_fit": null,
      "object_position": null,
      "order": null,
      "overflow": null,
      "overflow_x": null,
      "overflow_y": null,
      "padding": null,
      "right": null,
      "top": null,
      "visibility": null,
      "width": null
     }
    }
   }
  }
 },
 "nbformat": 4,
 "nbformat_minor": 4
}
