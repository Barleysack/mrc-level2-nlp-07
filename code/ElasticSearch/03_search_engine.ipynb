{
 "cells": [
  {
   "cell_type": "markdown",
   "metadata": {},
   "source": [
    "# Simple Search Engine\n",
    "Elasticsearch와 mysql을 결합한 검색엔진을 만들어보겠습니다.\n",
    "____"
   ]
  },
  {
   "cell_type": "code",
   "execution_count": 1,
   "metadata": {},
   "outputs": [],
   "source": [
    "import pandas as pd\n",
    "df = pd.read_csv(\"movie_doc.csv\",sep=\"\\t\")"
   ]
  },
  {
   "cell_type": "code",
   "execution_count": 2,
   "metadata": {},
   "outputs": [
    {
     "data": {
      "text/html": [
       "<div>\n",
       "<style scoped>\n",
       "    .dataframe tbody tr th:only-of-type {\n",
       "        vertical-align: middle;\n",
       "    }\n",
       "\n",
       "    .dataframe tbody tr th {\n",
       "        vertical-align: top;\n",
       "    }\n",
       "\n",
       "    .dataframe thead th {\n",
       "        text-align: right;\n",
       "    }\n",
       "</style>\n",
       "<table border=\"1\" class=\"dataframe\">\n",
       "  <thead>\n",
       "    <tr style=\"text-align: right;\">\n",
       "      <th></th>\n",
       "      <th>id</th>\n",
       "      <th>title</th>\n",
       "      <th>story</th>\n",
       "      <th>gender</th>\n",
       "      <th>link</th>\n",
       "      <th>image</th>\n",
       "    </tr>\n",
       "  </thead>\n",
       "  <tbody>\n",
       "    <tr>\n",
       "      <th>0</th>\n",
       "      <td>0</td>\n",
       "      <td>인비저블 게스트</td>\n",
       "      <td>의문의 습격으로 살해 당한 ‘로라’ ‘아드리안’은 연인의 죽음에 절망하고, 범인은 ...</td>\n",
       "      <td>N</td>\n",
       "      <td>https://movie.naver.com/movie/bi/mi/basic.nhn?...</td>\n",
       "      <td>https://movie-phinf.pstatic.net/20170828_179/1...</td>\n",
       "    </tr>\n",
       "    <tr>\n",
       "      <th>1</th>\n",
       "      <td>1</td>\n",
       "      <td>나, 다니엘 블레이크</td>\n",
       "      <td>평생을 성실하게 목수로 살아가던 다니엘은 지병인 심장병이 악화되어 일을 계속 해나갈...</td>\n",
       "      <td>F</td>\n",
       "      <td>https://movie.naver.com/movie/bi/mi/basic.nhn?...</td>\n",
       "      <td>https://movie-phinf.pstatic.net/20161117_246/1...</td>\n",
       "    </tr>\n",
       "    <tr>\n",
       "      <th>2</th>\n",
       "      <td>2</td>\n",
       "      <td>국가부도의 날</td>\n",
       "      <td>1997년, 대한민국 최고의 경제 호황을 믿어 의심치 않았던 그때, 곧 엄청난 경제...</td>\n",
       "      <td>M</td>\n",
       "      <td>https://movie.naver.com/movie/bi/mi/basic.nhn?...</td>\n",
       "      <td>https://movie-phinf.pstatic.net/20181105_232/1...</td>\n",
       "    </tr>\n",
       "    <tr>\n",
       "      <th>3</th>\n",
       "      <td>3</td>\n",
       "      <td>당갈</td>\n",
       "      <td>전직 레슬링 선수였던 ‘마하비르 싱 포갓(아미르 칸)’은 아버지의 반대로 금메달의 ...</td>\n",
       "      <td>F</td>\n",
       "      <td>https://movie.naver.com/movie/bi/mi/basic.nhn?...</td>\n",
       "      <td>https://movie-phinf.pstatic.net/20180329_2/152...</td>\n",
       "    </tr>\n",
       "    <tr>\n",
       "      <th>4</th>\n",
       "      <td>4</td>\n",
       "      <td>스파이더맨: 파 프롬 홈</td>\n",
       "      <td>‘엔드게임’ 이후 변화된 세상, 스파이더맨 ‘피터 파커’는 학교 친구들과 유럽 여행...</td>\n",
       "      <td>M</td>\n",
       "      <td>https://movie.naver.com/movie/bi/mi/basic.nhn?...</td>\n",
       "      <td>https://movie-phinf.pstatic.net/20190527_181/1...</td>\n",
       "    </tr>\n",
       "  </tbody>\n",
       "</table>\n",
       "</div>"
      ],
      "text/plain": [
       "   id          title                                              story  \\\n",
       "0   0       인비저블 게스트  의문의 습격으로 살해 당한 ‘로라’ ‘아드리안’은 연인의 죽음에 절망하고, 범인은 ...   \n",
       "1   1    나, 다니엘 블레이크  평생을 성실하게 목수로 살아가던 다니엘은 지병인 심장병이 악화되어 일을 계속 해나갈...   \n",
       "2   2        국가부도의 날  1997년, 대한민국 최고의 경제 호황을 믿어 의심치 않았던 그때, 곧 엄청난 경제...   \n",
       "3   3             당갈  전직 레슬링 선수였던 ‘마하비르 싱 포갓(아미르 칸)’은 아버지의 반대로 금메달의 ...   \n",
       "4   4  스파이더맨: 파 프롬 홈  ‘엔드게임’ 이후 변화된 세상, 스파이더맨 ‘피터 파커’는 학교 친구들과 유럽 여행...   \n",
       "\n",
       "  gender                                               link  \\\n",
       "0      N  https://movie.naver.com/movie/bi/mi/basic.nhn?...   \n",
       "1      F  https://movie.naver.com/movie/bi/mi/basic.nhn?...   \n",
       "2      M  https://movie.naver.com/movie/bi/mi/basic.nhn?...   \n",
       "3      F  https://movie.naver.com/movie/bi/mi/basic.nhn?...   \n",
       "4      M  https://movie.naver.com/movie/bi/mi/basic.nhn?...   \n",
       "\n",
       "                                               image  \n",
       "0  https://movie-phinf.pstatic.net/20170828_179/1...  \n",
       "1  https://movie-phinf.pstatic.net/20161117_246/1...  \n",
       "2  https://movie-phinf.pstatic.net/20181105_232/1...  \n",
       "3  https://movie-phinf.pstatic.net/20180329_2/152...  \n",
       "4  https://movie-phinf.pstatic.net/20190527_181/1...  "
      ]
     },
     "execution_count": 2,
     "metadata": {},
     "output_type": "execute_result"
    }
   ],
   "source": [
    "df.head()"
   ]
  },
  {
   "cell_type": "markdown",
   "metadata": {},
   "source": [
    "## 2. MySQL에 데이터 적재"
   ]
  },
  {
   "cell_type": "code",
   "execution_count": 3,
   "metadata": {},
   "outputs": [],
   "source": [
    "# import mysql.connector\n",
    "\n",
    "\n",
    "# HOST = \"localhost\"\n",
    "# USER = \"root\"\n",
    "# PASSWORD = \"Boost111@\"\n",
    "# mydb = mysql.connector.connect(\n",
    "#   host=HOST,\n",
    "#   user=USER,\n",
    "#   password=PASSWORD,\n",
    "#   database=\"movie_db\"\n",
    "# )\n",
    "\n",
    "# mycursor = mydb.cursor()\n"
   ]
  },
  {
   "cell_type": "code",
   "execution_count": 4,
   "metadata": {},
   "outputs": [],
   "source": [
    "# sql = \"SELECT * FROM movie\"\n",
    "# mycursor = mydb.cursor(dictionary=True)\n",
    "# mycursor.execute(sql)\n",
    "\n",
    "\n",
    "# myresult = mycursor.fetchall()\n",
    "# for x in myresult:\n",
    "#     print(x)\n",
    "#     break"
   ]
  },
  {
   "cell_type": "markdown",
   "metadata": {},
   "source": [
    "## 3. ElasticSearch에 데이터 인덱싱"
   ]
  },
  {
   "cell_type": "code",
   "execution_count": 5,
   "metadata": {},
   "outputs": [],
   "source": [
    "from elasticsearch import Elasticsearch, helpers\n"
   ]
  },
  {
   "cell_type": "code",
   "execution_count": 6,
   "metadata": {},
   "outputs": [],
   "source": [
    "import pprint  \n",
    "INDEX_NAME = \"movie_index\"\n",
    "\n",
    "\n",
    "INDEX_SETTINGS = {\n",
    "  \"settings\" : {\n",
    "    \"index\":{\n",
    "      \"analysis\":{\n",
    "        \"analyzer\":{\n",
    "          \"korean\":{\n",
    "            \"type\":\"custom\",\n",
    "            \"tokenizer\":\"nori_tokenizer\",\n",
    "            \"filter\": [ \"shingle\" ]\n",
    "          }\n",
    "        }\n",
    "      }\n",
    "    }\n",
    "  },\n",
    "  \"mappings\": {\n",
    "\n",
    "      \"properties\" : {\n",
    "        \"story\" : {\n",
    "          \"type\" : \"text\",\n",
    "          \"analyzer\": \"korean\"\n",
    "        },\n",
    "        \"title\" : {\n",
    "          \"type\" : \"text\",\n",
    "          \"analyzer\": \"korean\"\n",
    "        }\n",
    "      }\n",
    "\n",
    "  }\n",
    "}\n"
   ]
  },
  {
   "cell_type": "code",
   "execution_count": 7,
   "metadata": {},
   "outputs": [],
   "source": [
    "\n",
    "\n",
    "try:\n",
    "    es.transport.close()\n",
    "except:\n",
    "    pass\n",
    "es = Elasticsearch()\n",
    "\n"
   ]
  },
  {
   "cell_type": "code",
   "execution_count": 8,
   "metadata": {},
   "outputs": [
    {
     "name": "stderr",
     "output_type": "stream",
     "text": [
      "<ipython-input-8-b31c6028f9a8>:1: DeprecationWarning: Using positional arguments for APIs is deprecated and will be disabled in 8.0.0. Instead use only keyword arguments for all APIs. See https://github.com/elastic/elasticsearch-py/issues/1698 for more information\n",
      "  if es.indices.exists(INDEX_NAME):\n",
      "/opt/conda/lib/python3.8/site-packages/elasticsearch/connection/base.py:209: ElasticsearchWarning: Elasticsearch built-in security features are not enabled. Without authentication, your cluster could be accessible to anyone. See https://www.elastic.co/guide/en/elasticsearch/reference/7.15/security-minimal-setup.html to enable security.\n",
      "  warnings.warn(message, category=ElasticsearchWarning)\n",
      "<ipython-input-8-b31c6028f9a8>:3: DeprecationWarning: The 'body' parameter is deprecated for the 'create' API and will be removed in a future version. Instead use API parameters directly. See https://github.com/elastic/elasticsearch-py/issues/1698 for more information\n",
      "  es.indices.create(index=INDEX_NAME, body=INDEX_SETTINGS)\n"
     ]
    },
    {
     "data": {
      "text/plain": [
       "{'acknowledged': True, 'shards_acknowledged': True, 'index': 'movie_index'}"
      ]
     },
     "execution_count": 8,
     "metadata": {},
     "output_type": "execute_result"
    }
   ],
   "source": [
    "if es.indices.exists(INDEX_NAME):\n",
    "    es.indices.delete(index=INDEX_NAME)\n",
    "es.indices.create(index=INDEX_NAME, body=INDEX_SETTINGS)"
   ]
  },
  {
   "cell_type": "code",
   "execution_count": 10,
   "metadata": {},
   "outputs": [],
   "source": [
    "# movies = [\n",
    "#     {\n",
    "#         \"_index\": INDEX_NAME,\n",
    "#         \"_id\" : doc['id'],\n",
    "#         \"_source\": {\n",
    "#             \"title\": doc['title'],\n",
    "#             \"story\": doc['story'],\n",
    "#         }\n",
    "#     }\n",
    "#     for doc in myresult\n",
    "# ]\n",
    "\n",
    "# movies[:10]"
   ]
  },
  {
   "cell_type": "code",
   "execution_count": 11,
   "metadata": {},
   "outputs": [
    {
     "name": "stdout",
     "output_type": "stream",
     "text": [
      "\n",
      "ERROR: name 'movies' is not defined\n"
     ]
    }
   ],
   "source": [
    "try:\n",
    "    response = helpers.bulk(es, movies)\n",
    "    print (\"\\nRESPONSE:\", response)\n",
    "except Exception as e:\n",
    "    print(\"\\nERROR:\", e)"
   ]
  },
  {
   "cell_type": "code",
   "execution_count": 13,
   "metadata": {},
   "outputs": [],
   "source": [
    "# doc = es.get(index=INDEX_NAME, id=1)\n",
    "# pprint.pprint(doc)"
   ]
  },
  {
   "cell_type": "markdown",
   "metadata": {},
   "source": [
    "## 4. ElasticSearch에서 검색후, 검색결과를 MySQL에서 재 검색"
   ]
  },
  {
   "cell_type": "code",
   "execution_count": 14,
   "metadata": {},
   "outputs": [],
   "source": [
    "query=\"은퇴한 킬러\"\n",
    "res = es.search(index=INDEX_NAME, q=query)\n",
    "for hit in res['hits']['hits']:\n",
    "    print(\"Doc ID: %3r  Score: %5.2f\" % (hit['_id'], hit['_score']))\n",
    "    print(\"Title: {}\".format(hit['_source']['title']))\n",
    "    print(\"줄거리: {}\".format(hit['_source']['story']))\n"
   ]
  },
  {
   "cell_type": "code",
   "execution_count": 15,
   "metadata": {},
   "outputs": [
    {
     "ename": "IndexError",
     "evalue": "list index out of range",
     "output_type": "error",
     "traceback": [
      "\u001b[0;31m---------------------------------------------------------------------------\u001b[0m",
      "\u001b[0;31mIndexError\u001b[0m                                Traceback (most recent call last)",
      "\u001b[0;32m<ipython-input-15-237bd500639d>\u001b[0m in \u001b[0;36m<module>\u001b[0;34m\u001b[0m\n\u001b[0;32m----> 1\u001b[0;31m \u001b[0mmovie_id\u001b[0m \u001b[0;34m=\u001b[0m \u001b[0mres\u001b[0m\u001b[0;34m[\u001b[0m\u001b[0;34m'hits'\u001b[0m\u001b[0;34m]\u001b[0m\u001b[0;34m[\u001b[0m\u001b[0;34m'hits'\u001b[0m\u001b[0;34m]\u001b[0m\u001b[0;34m[\u001b[0m\u001b[0;36m0\u001b[0m\u001b[0;34m]\u001b[0m\u001b[0;34m[\u001b[0m\u001b[0;34m\"_id\"\u001b[0m\u001b[0;34m]\u001b[0m\u001b[0;34m\u001b[0m\u001b[0;34m\u001b[0m\u001b[0m\n\u001b[0m",
      "\u001b[0;31mIndexError\u001b[0m: list index out of range"
     ]
    }
   ],
   "source": [
    "movie_id = res['hits']['hits'][0][\"_id\"]"
   ]
  },
  {
   "cell_type": "code",
   "execution_count": 16,
   "metadata": {},
   "outputs": [
    {
     "ename": "NameError",
     "evalue": "name 'movie_id' is not defined",
     "output_type": "error",
     "traceback": [
      "\u001b[0;31m---------------------------------------------------------------------------\u001b[0m",
      "\u001b[0;31mNameError\u001b[0m                                 Traceback (most recent call last)",
      "\u001b[0;32m<ipython-input-16-3765870c146c>\u001b[0m in \u001b[0;36m<module>\u001b[0;34m\u001b[0m\n\u001b[0;32m----> 1\u001b[0;31m \u001b[0msql\u001b[0m \u001b[0;34m=\u001b[0m \u001b[0;34m\"SELECT * FROM movie WHERE id = {}\"\u001b[0m\u001b[0;34m.\u001b[0m\u001b[0mformat\u001b[0m\u001b[0;34m(\u001b[0m\u001b[0mmovie_id\u001b[0m\u001b[0;34m)\u001b[0m\u001b[0;34m\u001b[0m\u001b[0;34m\u001b[0m\u001b[0m\n\u001b[0m\u001b[1;32m      2\u001b[0m \u001b[0mmycursor\u001b[0m \u001b[0;34m=\u001b[0m \u001b[0mmydb\u001b[0m\u001b[0;34m.\u001b[0m\u001b[0mcursor\u001b[0m\u001b[0;34m(\u001b[0m\u001b[0mdictionary\u001b[0m\u001b[0;34m=\u001b[0m\u001b[0;32mTrue\u001b[0m\u001b[0;34m)\u001b[0m\u001b[0;34m\u001b[0m\u001b[0;34m\u001b[0m\u001b[0m\n\u001b[1;32m      3\u001b[0m \u001b[0mmycursor\u001b[0m\u001b[0;34m.\u001b[0m\u001b[0mexecute\u001b[0m\u001b[0;34m(\u001b[0m\u001b[0msql\u001b[0m\u001b[0;34m)\u001b[0m\u001b[0;34m\u001b[0m\u001b[0;34m\u001b[0m\u001b[0m\n\u001b[1;32m      4\u001b[0m \u001b[0;34m\u001b[0m\u001b[0m\n\u001b[1;32m      5\u001b[0m \u001b[0;34m\u001b[0m\u001b[0m\n",
      "\u001b[0;31mNameError\u001b[0m: name 'movie_id' is not defined"
     ]
    }
   ],
   "source": [
    "sql = \"SELECT * FROM movie WHERE id = {}\".format(movie_id)\n",
    "mycursor = mydb.cursor(dictionary=True)\n",
    "mycursor.execute(sql)\n",
    "\n",
    "\n",
    "myresult = mycursor.fetchall()\n",
    "for x in myresult:\n",
    "    print(x)"
   ]
  },
  {
   "cell_type": "code",
   "execution_count": null,
   "metadata": {},
   "outputs": [],
   "source": [
    "#쿼리---> 엘라스틱서치 --> MySQL"
   ]
  }
 ],
 "metadata": {
  "kernelspec": {
   "display_name": "Python 3 (ipykernel)",
   "language": "python",
   "name": "python3"
  },
  "language_info": {
   "codemirror_mode": {
    "name": "ipython",
    "version": 3
   },
   "file_extension": ".py",
   "mimetype": "text/x-python",
   "name": "python",
   "nbconvert_exporter": "python",
   "pygments_lexer": "ipython3",
   "version": "3.8.5"
  }
 },
 "nbformat": 4,
 "nbformat_minor": 4
}
