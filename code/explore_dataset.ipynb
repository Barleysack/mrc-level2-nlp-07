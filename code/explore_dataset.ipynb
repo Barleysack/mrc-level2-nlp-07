{
 "cells": [
  {
   "cell_type": "code",
   "execution_count": 1,
   "id": "28bc0834-2bf4-4a9b-8270-65f754b8d6d2",
   "metadata": {},
   "outputs": [],
   "source": [
    "from datasets import load_from_disk\n",
    "import pandas as pd\n",
    "\n",
    "from matplotlib import pyplot as plt\n",
    "import seaborn as sns\n",
    "\n",
    "from tqdm import tqdm\n",
    "\n",
    "from transformers import AutoTokenizer"
   ]
  },
  {
   "cell_type": "code",
   "execution_count": 2,
   "id": "c9e4d4ba-0267-4fec-8c58-ac7bf08c5354",
   "metadata": {},
   "outputs": [
    {
     "data": {
      "application/vnd.jupyter.widget-view+json": {
       "model_id": "76108d964f844237b0f38855494dc129",
       "version_major": 2,
       "version_minor": 0
      },
      "text/plain": [
       "HBox(children=(FloatProgress(value=0.0, description='Downloading', max=512.0, style=ProgressStyle(description_…"
      ]
     },
     "metadata": {},
     "output_type": "display_data"
    },
    {
     "name": "stdout",
     "output_type": "stream",
     "text": [
      "\n"
     ]
    },
    {
     "data": {
      "application/vnd.jupyter.widget-view+json": {
       "model_id": "a97626b2732c489181ffcf94892ac330",
       "version_major": 2,
       "version_minor": 0
      },
      "text/plain": [
       "HBox(children=(FloatProgress(value=0.0, description='Downloading', max=5069051.0, style=ProgressStyle(descript…"
      ]
     },
     "metadata": {},
     "output_type": "display_data"
    },
    {
     "name": "stdout",
     "output_type": "stream",
     "text": [
      "\n"
     ]
    },
    {
     "data": {
      "application/vnd.jupyter.widget-view+json": {
       "model_id": "85d7297f5dd04f17a81337d59ecf5afd",
       "version_major": 2,
       "version_minor": 0
      },
      "text/plain": [
       "HBox(children=(FloatProgress(value=0.0, description='Downloading', max=9096718.0, style=ProgressStyle(descript…"
      ]
     },
     "metadata": {},
     "output_type": "display_data"
    },
    {
     "name": "stdout",
     "output_type": "stream",
     "text": [
      "\n"
     ]
    }
   ],
   "source": [
    "# model_name = \"klue/bert-base\"\n",
    "model_name = \"xlm-roberta-base\"\n",
    "tokenizer = AutoTokenizer.from_pretrained(model_name)"
   ]
  },
  {
   "cell_type": "code",
   "execution_count": 3,
   "id": "afc4fa63-eb50-4cf0-8ef8-9e9d019711ef",
   "metadata": {},
   "outputs": [
    {
     "data": {
      "text/plain": [
       "9"
      ]
     },
     "execution_count": 3,
     "metadata": {},
     "output_type": "execute_result"
    }
   ],
   "source": [
    "len(tokenizer(\"나는 밥을 먹는다.\")['input_ids'])"
   ]
  },
  {
   "cell_type": "code",
   "execution_count": 4,
   "id": "72907ed1-2f3c-49cd-a177-f44c817748fa",
   "metadata": {},
   "outputs": [
    {
     "name": "stderr",
     "output_type": "stream",
     "text": [
      "Token indices sequence length is longer than the specified maximum sequence length for this model (717 > 512). Running this sequence through the model will result in indexing errors\n"
     ]
    },
    {
     "data": {
      "text/plain": [
       "717"
      ]
     },
     "execution_count": 4,
     "metadata": {},
     "output_type": "execute_result"
    }
   ],
   "source": [
    "len(tokenizer(\"\"\"그의 죽음으로 좌우합작위원회는 구심점을 잃게 된다. 제2차 미소공위는 추진하던 중 이후 중재자가 없어지자 극좌,극우 양극단 세력의 갈등이 표출하였고, 끝내 미국-소련의 입장만 확인한 채 1947년 10월에 제2차 미소공위는 완전히 결렬되어 미국이 한반도 문제를 UN으로 이관함으로써 좌우합작위원회는 1947년 12월에 공식 해체된다. 결국, '통일임시정부' 수립을 위한 좌우합작운동은 좌절되어 실패로 끝났고 한반도는 '남한 내 단독정부 수립'안이 확정되기에 이르렀다.\\n\\n1947년 7월 19일 여운형이 피습,절명하여 암살되었을 당시 갑작스런 그의 죽음은 많은 사람들에게 커다란 충격을 주었다. 1947년 8월 3일 광화문 인민당사 앞에서 발인식이 거행되었다. 그의 영결식은 인민장으로 치러졌다. \\n\\n영결식에 약 60여만명의 수많은 추모인파가 몰렸다고 한다. 이는 광복 이후 최다 인파가 모인 것인데, 민중들이 슬픔에 동참하기 위해 자발적으로 흰 옷을 입어서 서울시내가 하얗게 뒤덮였다고 한다. 영구는 결식장인 서울운동장(동대문운동장)으로 향해 서서히 갔고, 장례 행렬은 11시 40분에 서울운동장에 도착하여 영결식이 치러졌다. 서울 운동장에서 베를린 올림픽 마라톤 금메달리스트 손기정과 역도선수 김성집 등 체육인들이 그의 관을 운구하였다. \\n\\n그의 시신은 포르말린으로 방부처리되어 쇠로 만들어진 관에 안치되었다. 통일이 되는 날에 다시 장사를 지내기 위함이었다. 그가 죽자 미 군정장관 하지가 육각수은관을 미국에서 특별 주문해 가져왔다고 한다.\\n\\n 여운형의 묘소는 서울시 강북구 우이동에 안치되었으며 강북구 수유동에서 멀지 않은 솔밭공원 근처에 있다. 한 때 1961년 5.16 군사정변 직후 우이동 묘소 땅이 채윤혁 개인에게 불하받게 되어 여운형 시신이 오갈 데 없는 딱한 처지에 놓인 적이 있었다. 당시 국회의원이던 여운형의 동생 여운홍이 법적으로 어떻게 해볼 길이 없으니 대통령 박정희한테 직접 문제를 해결해달라고 부탁했다. 이에 대해 박정희는 \"그 분 사상이 어떤지는 모르겠지만 독립운동을 했다는 것 자체만으로도 높이 평가할 만 하다.\"면서 좋게 해결해주었다고 한다. 그리고, 1965년 7월 19일에 공식적인 추모식이 열렸다\\n1990년 조선민주주의인민공화국으로부터 조국통일상이 추서되었다.\\n\\n2007년 항일독립운동가단체 협의회로부터 신간회창립80주년을 기념하는 민족공동체 상이 추서되었다. 양평군에서는 생가 복원사업을 진행하고 있다.\\n\\n2005년 서울특별시 종로구 계동에 여운형집 터 표석이 설치되었다.\"\"\")['input_ids'])"
   ]
  },
  {
   "cell_type": "markdown",
   "id": "e7353b0e-fc35-4854-a298-3b65393aeec8",
   "metadata": {},
   "source": [
    "# Explore TrainDataset"
   ]
  },
  {
   "cell_type": "code",
   "execution_count": 5,
   "id": "44c23f9e-2a68-41c5-b8cc-51027697ad5e",
   "metadata": {},
   "outputs": [
    {
     "data": {
      "text/plain": [
       "DatasetDict({\n",
       "    train: Dataset({\n",
       "        features: ['__index_level_0__', 'answers', 'context', 'document_id', 'id', 'question', 'title'],\n",
       "        num_rows: 3952\n",
       "    })\n",
       "    validation: Dataset({\n",
       "        features: ['__index_level_0__', 'answers', 'context', 'document_id', 'id', 'question', 'title'],\n",
       "        num_rows: 240\n",
       "    })\n",
       "})"
      ]
     },
     "execution_count": 5,
     "metadata": {},
     "output_type": "execute_result"
    }
   ],
   "source": [
    "dataset = load_from_disk(\"../data/train_dataset/\")\n",
    "dataset"
   ]
  },
  {
   "cell_type": "code",
   "execution_count": 6,
   "id": "e4b60a38-afcb-4cb2-b267-b54f612aa90e",
   "metadata": {},
   "outputs": [
    {
     "data": {
      "text/plain": [
       "Dataset({\n",
       "    features: ['__index_level_0__', 'answers', 'context', 'document_id', 'id', 'question', 'title'],\n",
       "    num_rows: 3952\n",
       "})"
      ]
     },
     "execution_count": 6,
     "metadata": {},
     "output_type": "execute_result"
    }
   ],
   "source": [
    "dataset['train']"
   ]
  },
  {
   "cell_type": "code",
   "execution_count": 7,
   "id": "baf53cb0-bdd4-408d-992f-459253123465",
   "metadata": {},
   "outputs": [],
   "source": [
    "def read_dataset(dataset, idx, mode):\n",
    "    IDX = idx\n",
    "    features = dataset[mode].features\n",
    "    for feature in features:\n",
    "        print(\"*\"*50, feature, \"*\"*50)\n",
    "        print(dataset[mode][IDX][feature])"
   ]
  },
  {
   "cell_type": "code",
   "execution_count": 8,
   "id": "832135ec-ff02-4d1f-9e14-a6a41121717d",
   "metadata": {},
   "outputs": [
    {
     "name": "stdout",
     "output_type": "stream",
     "text": [
      "************************************************** __index_level_0__ **************************************************\n",
      "1081\n",
      "************************************************** answers **************************************************\n",
      "{'answer_start': [947], 'text': ['대통령 박정희']}\n",
      "************************************************** context **************************************************\n",
      "그의 죽음으로 좌우합작위원회는 구심점을 잃게 된다. 제2차 미소공위는 추진하던 중 이후 중재자가 없어지자 극좌,극우 양극단 세력의 갈등이 표출하였고, 끝내 미국-소련의 입장만 확인한 채 1947년 10월에 제2차 미소공위는 완전히 결렬되어 미국이 한반도 문제를 UN으로 이관함으로써 좌우합작위원회는 1947년 12월에 공식 해체된다. 결국, '통일임시정부' 수립을 위한 좌우합작운동은 좌절되어 실패로 끝났고 한반도는 '남한 내 단독정부 수립'안이 확정되기에 이르렀다.\\n\\n1947년 7월 19일 여운형이 피습,절명하여 암살되었을 당시 갑작스런 그의 죽음은 많은 사람들에게 커다란 충격을 주었다. 1947년 8월 3일 광화문 인민당사 앞에서 발인식이 거행되었다. 그의 영결식은 인민장으로 치러졌다. \\n\\n영결식에 약 60여만명의 수많은 추모인파가 몰렸다고 한다. 이는 광복 이후 최다 인파가 모인 것인데, 민중들이 슬픔에 동참하기 위해 자발적으로 흰 옷을 입어서 서울시내가 하얗게 뒤덮였다고 한다. 영구는 결식장인 서울운동장(동대문운동장)으로 향해 서서히 갔고, 장례 행렬은 11시 40분에 서울운동장에 도착하여 영결식이 치러졌다. 서울 운동장에서 베를린 올림픽 마라톤 금메달리스트 손기정과 역도선수 김성집 등 체육인들이 그의 관을 운구하였다. \\n\\n그의 시신은 포르말린으로 방부처리되어 쇠로 만들어진 관에 안치되었다. 통일이 되는 날에 다시 장사를 지내기 위함이었다. 그가 죽자 미 군정장관 하지가 육각수은관을 미국에서 특별 주문해 가져왔다고 한다.\\n\\n 여운형의 묘소는 서울시 강북구 우이동에 안치되었으며 강북구 수유동에서 멀지 않은 솔밭공원 근처에 있다. 한 때 1961년 5.16 군사정변 직후 우이동 묘소 땅이 채윤혁 개인에게 불하받게 되어 여운형 시신이 오갈 데 없는 딱한 처지에 놓인 적이 있었다. 당시 국회의원이던 여운형의 동생 여운홍이 법적으로 어떻게 해볼 길이 없으니 대통령 박정희한테 직접 문제를 해결해달라고 부탁했다. 이에 대해 박정희는 \"그 분 사상이 어떤지는 모르겠지만 독립운동을 했다는 것 자체만으로도 높이 평가할 만 하다.\"면서 좋게 해결해주었다고 한다. 그리고, 1965년 7월 19일에 공식적인 추모식이 열렸다\\n1990년 조선민주주의인민공화국으로부터 조국통일상이 추서되었다.\\n\\n2007년 항일독립운동가단체 협의회로부터 신간회창립80주년을 기념하는 민족공동체 상이 추서되었다. 양평군에서는 생가 복원사업을 진행하고 있다.\\n\\n2005년 서울특별시 종로구 계동에 여운형집 터 표석이 설치되었다.\n",
      "************************************************** document_id **************************************************\n",
      "5609\n",
      "************************************************** id **************************************************\n",
      "mrc-0-001657\n",
      "************************************************** question **************************************************\n",
      "여운홍이 도움을 청한 사람은?\n",
      "************************************************** title **************************************************\n",
      "여운형\n"
     ]
    }
   ],
   "source": [
    "read_dataset(dataset, 100, \"train\")"
   ]
  },
  {
   "cell_type": "code",
   "execution_count": 9,
   "id": "b33d9de5-004e-4647-834d-3133b8f6b81c",
   "metadata": {},
   "outputs": [
    {
     "name": "stdout",
     "output_type": "stream",
     "text": [
      "************************************************** __index_level_0__ **************************************************\n",
      "240\n",
      "************************************************** answers **************************************************\n",
      "{'answer_start': [191], 'text': ['수녀']}\n",
      "************************************************** context **************************************************\n",
      "캐서린 스윈포드는 원래 캐서린 드 로애로 태어났다. 그녀의 아버지는 \"파옹\"으로 알려진 질 드 로애였다. 파옹 드 로애는 원래 에노 출신으로 에드워드3세의 왕비 필리파의 수행원으로 잉글랜드에 왔으며, 후에 기사 작위와 영지를 얻는다. 어머니에 대해서는 알려진바가 없다. 형제로는 오빠이자 후에 흑태자 에드워드의 측근으로 일한 월터 드 로애와 수녀가 된 언니 엘리자베스 드 로애와 \"캔터베리 이야기\"로 유명한 초서의 부인이 된 동생 필리파 드 로애가 있다.\\n캐서린은 휴 스윈포드경과 결혼했고 그와의 사이에 적어도 네명의 아이를 낳았다.\\n랭카스터 공작 부인이었던 랭카스터의 블랜치가 죽은 3년후 그의 정부가 되었고 오래도록 랭카스터 공작의 정부로 남았다.\\n랭카스터 공작 곤트의 존의 두 번째 부인이 죽자, 그는 정식으로 캐서린과 결혼했다. 랭카스터 공작부인이 된 후 왕국에서 서열 2위의 여성으로 중요한 행사에서 중요한 임무를 수행했으며, 의붓아들인 볼링블룩의 헨리가 헨리 4세로 즉위한후 그녀는 국왕의 어머니로 대접받았다.\n",
      "************************************************** document_id **************************************************\n",
      "27095\n",
      "************************************************** id **************************************************\n",
      "mrc-0-000355\n",
      "************************************************** question **************************************************\n",
      "캐서린 스윈포드의 언니의 직업은?\n",
      "************************************************** title **************************************************\n",
      "캐서린 스윈포드\n"
     ]
    }
   ],
   "source": [
    "read_dataset(dataset, 100, \"validation\")"
   ]
  },
  {
   "cell_type": "code",
   "execution_count": 10,
   "id": "8fd6d368-5a7b-4238-88b2-07422b979589",
   "metadata": {},
   "outputs": [
    {
     "name": "stderr",
     "output_type": "stream",
     "text": [
      "100%|██████████| 3952/3952 [00:00<00:00, 10687.92it/s]\n"
     ]
    },
    {
     "data": {
      "text/html": [
       "<div>\n",
       "<style scoped>\n",
       "    .dataframe tbody tr th:only-of-type {\n",
       "        vertical-align: middle;\n",
       "    }\n",
       "\n",
       "    .dataframe tbody tr th {\n",
       "        vertical-align: top;\n",
       "    }\n",
       "\n",
       "    .dataframe thead th {\n",
       "        text-align: right;\n",
       "    }\n",
       "</style>\n",
       "<table border=\"1\" class=\"dataframe\">\n",
       "  <thead>\n",
       "    <tr style=\"text-align: right;\">\n",
       "      <th></th>\n",
       "      <th>index_level</th>\n",
       "      <th>answers</th>\n",
       "      <th>context</th>\n",
       "      <th>document_id</th>\n",
       "      <th>mrc_id</th>\n",
       "      <th>question</th>\n",
       "      <th>title</th>\n",
       "    </tr>\n",
       "  </thead>\n",
       "  <tbody>\n",
       "    <tr>\n",
       "      <th>0</th>\n",
       "      <td>42</td>\n",
       "      <td>{'answer_start': [235], 'text': ['하원']}</td>\n",
       "      <td>미국 상의원 또는 미국 상원(United States Senate)은 양원제인 미국...</td>\n",
       "      <td>18293</td>\n",
       "      <td>mrc-1-000067</td>\n",
       "      <td>대통령을 포함한 미국의 행정부 견제권을 갖는 국가 기관은?</td>\n",
       "      <td>미국 상원</td>\n",
       "    </tr>\n",
       "    <tr>\n",
       "      <th>1</th>\n",
       "      <td>2873</td>\n",
       "      <td>{'answer_start': [212], 'text': ['《경영의 실제》']}</td>\n",
       "      <td>'근대적 경영학' 또는 '고전적 경영학'에서 현대적 경영학으로 전환되는 시기는 19...</td>\n",
       "      <td>51638</td>\n",
       "      <td>mrc-0-004397</td>\n",
       "      <td>현대적 인사조직관리의 시발점이 된 책은?</td>\n",
       "      <td>인사조직관리</td>\n",
       "    </tr>\n",
       "    <tr>\n",
       "      <th>2</th>\n",
       "      <td>230</td>\n",
       "      <td>{'answer_start': [510], 'text': ['백성']}</td>\n",
       "      <td>강희제는 강화된 황권으로 거의 황제 중심의 독단적으로 나라를 이끌어 갔기에 자칫 전...</td>\n",
       "      <td>5028</td>\n",
       "      <td>mrc-1-000362</td>\n",
       "      <td>강희제가 1717년에 쓴 글은 누구를 위해 쓰여졌는가?</td>\n",
       "      <td>강희제</td>\n",
       "    </tr>\n",
       "    <tr>\n",
       "      <th>3</th>\n",
       "      <td>992</td>\n",
       "      <td>{'answer_start': [625], 'text': ['중국']}</td>\n",
       "      <td>불상을 모시기 위해 나무나 돌, 쇠 등을 깎아 일반적인 건축물보다 작은 규모로 만든...</td>\n",
       "      <td>34146</td>\n",
       "      <td>mrc-0-001510</td>\n",
       "      <td>11~12세기에 제작된 본존불은 보통 어떤 나라의 특징이 전파되었나요?</td>\n",
       "      <td>금동삼존불감</td>\n",
       "    </tr>\n",
       "    <tr>\n",
       "      <th>4</th>\n",
       "      <td>548</td>\n",
       "      <td>{'answer_start': [30], 'text': ['4개']}</td>\n",
       "      <td>동아대학교박물관에서 소장하고 있는 계사명 사리구는 총 4개의 용기로 구성된 조선후기...</td>\n",
       "      <td>47334</td>\n",
       "      <td>mrc-0-000823</td>\n",
       "      <td>명문이 적힌 유물을 구성하는 그릇의 총 개수는?</td>\n",
       "      <td>계사명 사리구</td>\n",
       "    </tr>\n",
       "  </tbody>\n",
       "</table>\n",
       "</div>"
      ],
      "text/plain": [
       "   index_level                                        answers  \\\n",
       "0           42        {'answer_start': [235], 'text': ['하원']}   \n",
       "1         2873  {'answer_start': [212], 'text': ['《경영의 실제》']}   \n",
       "2          230        {'answer_start': [510], 'text': ['백성']}   \n",
       "3          992        {'answer_start': [625], 'text': ['중국']}   \n",
       "4          548         {'answer_start': [30], 'text': ['4개']}   \n",
       "\n",
       "                                             context  document_id  \\\n",
       "0  미국 상의원 또는 미국 상원(United States Senate)은 양원제인 미국...        18293   \n",
       "1  '근대적 경영학' 또는 '고전적 경영학'에서 현대적 경영학으로 전환되는 시기는 19...        51638   \n",
       "2  강희제는 강화된 황권으로 거의 황제 중심의 독단적으로 나라를 이끌어 갔기에 자칫 전...         5028   \n",
       "3  불상을 모시기 위해 나무나 돌, 쇠 등을 깎아 일반적인 건축물보다 작은 규모로 만든...        34146   \n",
       "4  동아대학교박물관에서 소장하고 있는 계사명 사리구는 총 4개의 용기로 구성된 조선후기...        47334   \n",
       "\n",
       "         mrc_id                                 question    title  \n",
       "0  mrc-1-000067         대통령을 포함한 미국의 행정부 견제권을 갖는 국가 기관은?    미국 상원  \n",
       "1  mrc-0-004397                   현대적 인사조직관리의 시발점이 된 책은?   인사조직관리  \n",
       "2  mrc-1-000362           강희제가 1717년에 쓴 글은 누구를 위해 쓰여졌는가?      강희제  \n",
       "3  mrc-0-001510  11~12세기에 제작된 본존불은 보통 어떤 나라의 특징이 전파되었나요?   금동삼존불감  \n",
       "4  mrc-0-000823               명문이 적힌 유물을 구성하는 그릇의 총 개수는?  계사명 사리구  "
      ]
     },
     "execution_count": 10,
     "metadata": {},
     "output_type": "execute_result"
    }
   ],
   "source": [
    "index_level = []\n",
    "answers = []\n",
    "context = []\n",
    "document_id = []\n",
    "mrc_id = []\n",
    "question = []\n",
    "title = []\n",
    "\n",
    "for data in tqdm(dataset['train']):\n",
    "    index_level.append(data['__index_level_0__'])\n",
    "    answers.append(data['answers'])\n",
    "    context.append(data['context'])\n",
    "    document_id.append(data['document_id'])\n",
    "    mrc_id.append(data['id'])\n",
    "    question.append(data['question'])\n",
    "    title.append(data['title'])\n",
    "    \n",
    "train = pd.DataFrame({\"index_level\":index_level,\n",
    "                     \"answers\":answers,\n",
    "                     \"context\":context,\n",
    "                     \"document_id\":document_id,\n",
    "                     \"mrc_id\":mrc_id,\n",
    "                     \"question\":question,\n",
    "                     \"title\":title})\n",
    "train.head()"
   ]
  },
  {
   "cell_type": "code",
   "execution_count": 11,
   "id": "a596f83d-6687-474d-b3cd-df0e44988b60",
   "metadata": {},
   "outputs": [
    {
     "data": {
      "text/html": [
       "<div>\n",
       "<style scoped>\n",
       "    .dataframe tbody tr th:only-of-type {\n",
       "        vertical-align: middle;\n",
       "    }\n",
       "\n",
       "    .dataframe tbody tr th {\n",
       "        vertical-align: top;\n",
       "    }\n",
       "\n",
       "    .dataframe thead th {\n",
       "        text-align: right;\n",
       "    }\n",
       "</style>\n",
       "<table border=\"1\" class=\"dataframe\">\n",
       "  <thead>\n",
       "    <tr style=\"text-align: right;\">\n",
       "      <th></th>\n",
       "      <th>index_level</th>\n",
       "      <th>answers</th>\n",
       "      <th>context</th>\n",
       "      <th>document_id</th>\n",
       "      <th>mrc_id</th>\n",
       "      <th>question</th>\n",
       "      <th>title</th>\n",
       "      <th>answers_start</th>\n",
       "    </tr>\n",
       "  </thead>\n",
       "  <tbody>\n",
       "    <tr>\n",
       "      <th>0</th>\n",
       "      <td>42</td>\n",
       "      <td>하원</td>\n",
       "      <td>미국 상의원 또는 미국 상원(United States Senate)은 양원제인 미국...</td>\n",
       "      <td>18293</td>\n",
       "      <td>mrc-1-000067</td>\n",
       "      <td>대통령을 포함한 미국의 행정부 견제권을 갖는 국가 기관은?</td>\n",
       "      <td>미국 상원</td>\n",
       "      <td>235</td>\n",
       "    </tr>\n",
       "    <tr>\n",
       "      <th>1</th>\n",
       "      <td>2873</td>\n",
       "      <td>《경영의 실제》</td>\n",
       "      <td>'근대적 경영학' 또는 '고전적 경영학'에서 현대적 경영학으로 전환되는 시기는 19...</td>\n",
       "      <td>51638</td>\n",
       "      <td>mrc-0-004397</td>\n",
       "      <td>현대적 인사조직관리의 시발점이 된 책은?</td>\n",
       "      <td>인사조직관리</td>\n",
       "      <td>212</td>\n",
       "    </tr>\n",
       "    <tr>\n",
       "      <th>2</th>\n",
       "      <td>230</td>\n",
       "      <td>백성</td>\n",
       "      <td>강희제는 강화된 황권으로 거의 황제 중심의 독단적으로 나라를 이끌어 갔기에 자칫 전...</td>\n",
       "      <td>5028</td>\n",
       "      <td>mrc-1-000362</td>\n",
       "      <td>강희제가 1717년에 쓴 글은 누구를 위해 쓰여졌는가?</td>\n",
       "      <td>강희제</td>\n",
       "      <td>510</td>\n",
       "    </tr>\n",
       "    <tr>\n",
       "      <th>3</th>\n",
       "      <td>992</td>\n",
       "      <td>중국</td>\n",
       "      <td>불상을 모시기 위해 나무나 돌, 쇠 등을 깎아 일반적인 건축물보다 작은 규모로 만든...</td>\n",
       "      <td>34146</td>\n",
       "      <td>mrc-0-001510</td>\n",
       "      <td>11~12세기에 제작된 본존불은 보통 어떤 나라의 특징이 전파되었나요?</td>\n",
       "      <td>금동삼존불감</td>\n",
       "      <td>625</td>\n",
       "    </tr>\n",
       "    <tr>\n",
       "      <th>4</th>\n",
       "      <td>548</td>\n",
       "      <td>4개</td>\n",
       "      <td>동아대학교박물관에서 소장하고 있는 계사명 사리구는 총 4개의 용기로 구성된 조선후기...</td>\n",
       "      <td>47334</td>\n",
       "      <td>mrc-0-000823</td>\n",
       "      <td>명문이 적힌 유물을 구성하는 그릇의 총 개수는?</td>\n",
       "      <td>계사명 사리구</td>\n",
       "      <td>30</td>\n",
       "    </tr>\n",
       "  </tbody>\n",
       "</table>\n",
       "</div>"
      ],
      "text/plain": [
       "   index_level   answers                                            context  \\\n",
       "0           42        하원  미국 상의원 또는 미국 상원(United States Senate)은 양원제인 미국...   \n",
       "1         2873  《경영의 실제》  '근대적 경영학' 또는 '고전적 경영학'에서 현대적 경영학으로 전환되는 시기는 19...   \n",
       "2          230        백성  강희제는 강화된 황권으로 거의 황제 중심의 독단적으로 나라를 이끌어 갔기에 자칫 전...   \n",
       "3          992        중국  불상을 모시기 위해 나무나 돌, 쇠 등을 깎아 일반적인 건축물보다 작은 규모로 만든...   \n",
       "4          548        4개  동아대학교박물관에서 소장하고 있는 계사명 사리구는 총 4개의 용기로 구성된 조선후기...   \n",
       "\n",
       "   document_id        mrc_id                                 question  \\\n",
       "0        18293  mrc-1-000067         대통령을 포함한 미국의 행정부 견제권을 갖는 국가 기관은?   \n",
       "1        51638  mrc-0-004397                   현대적 인사조직관리의 시발점이 된 책은?   \n",
       "2         5028  mrc-1-000362           강희제가 1717년에 쓴 글은 누구를 위해 쓰여졌는가?   \n",
       "3        34146  mrc-0-001510  11~12세기에 제작된 본존불은 보통 어떤 나라의 특징이 전파되었나요?   \n",
       "4        47334  mrc-0-000823               명문이 적힌 유물을 구성하는 그릇의 총 개수는?   \n",
       "\n",
       "     title  answers_start  \n",
       "0    미국 상원            235  \n",
       "1   인사조직관리            212  \n",
       "2      강희제            510  \n",
       "3   금동삼존불감            625  \n",
       "4  계사명 사리구             30  "
      ]
     },
     "execution_count": 11,
     "metadata": {},
     "output_type": "execute_result"
    }
   ],
   "source": [
    "train['answers_start'] = [data['answer_start'][0] for data in train['answers']]\n",
    "train['answers'] = [data['text'][0] for data in train['answers']]\n",
    "train.head()"
   ]
  },
  {
   "cell_type": "markdown",
   "id": "a39f80b3-32f7-4a9b-96db-bc22d727df3d",
   "metadata": {},
   "source": [
    "### Train - context, question, answer 길이"
   ]
  },
  {
   "cell_type": "code",
   "execution_count": 12,
   "id": "e3c8a4bc-ae82-4024-818a-de117feac586",
   "metadata": {},
   "outputs": [],
   "source": [
    "len_context = [len(tokenizer(txt)['input_ids']) for txt in train['context']]\n",
    "len_question = [len(tokenizer(txt)['input_ids']) for txt in train['question']]\n",
    "len_answer = [len(tokenizer(txt)['input_ids']) for txt in train['answers']]"
   ]
  },
  {
   "cell_type": "code",
   "execution_count": 13,
   "id": "ca25e0ac-45b0-44b8-98e4-a69d8d2f8246",
   "metadata": {},
   "outputs": [],
   "source": [
    "# 길이 분포 확인용 함수\n",
    "def length_dist(dataset, desc):\n",
    "    sns.distplot(dataset, kde=True)\n",
    "    plt.ylabel(desc)\n",
    "    plt.show()\n",
    "    print(\"avg : \", sum(dataset)//len(dataset))\n",
    "    print(\"min : \", min(dataset))\n",
    "    print(\"max : \", max(dataset))"
   ]
  },
  {
   "cell_type": "code",
   "execution_count": 14,
   "id": "8529af97-52de-4d54-abad-56785c748ca9",
   "metadata": {},
   "outputs": [
    {
     "name": "stderr",
     "output_type": "stream",
     "text": [
      "/opt/conda/lib/python3.8/site-packages/seaborn/distributions.py:2619: FutureWarning: `distplot` is a deprecated function and will be removed in a future version. Please adapt your code to use either `displot` (a figure-level function with similar flexibility) or `histplot` (an axes-level function for histograms).\n",
      "  warnings.warn(msg, FutureWarning)\n"
     ]
    },
    {
     "data": {
      "image/png": "[encoded data removed]",
      "text/plain": [
       "<Figure size 432x288 with 1 Axes>"
      ]
     },
     "metadata": {
      "needs_background": "light"
     },
     "output_type": "display_data"
    },
    {
     "name": "stdout",
     "output_type": "stream",
     "text": [
      "avg :  542\n",
      "min :  255\n",
      "max :  1322\n"
     ]
    }
   ],
   "source": [
    "# context 길이 분포\n",
    "length_dist(len_context, \"Context Length\")"
   ]
  },
  {
   "cell_type": "code",
   "execution_count": 15,
   "id": "68b31e53-8f35-4634-bb52-3cf8fb1a0e71",
   "metadata": {},
   "outputs": [
    {
     "name": "stderr",
     "output_type": "stream",
     "text": [
      "/opt/conda/lib/python3.8/site-packages/seaborn/distributions.py:2619: FutureWarning: `distplot` is a deprecated function and will be removed in a future version. Please adapt your code to use either `displot` (a figure-level function with similar flexibility) or `histplot` (an axes-level function for histograms).\n",
      "  warnings.warn(msg, FutureWarning)\n"
     ]
    },
    {
     "data": {
      "image/png": "[encoded data removed]",
      "text/plain": [
       "<Figure size 432x288 with 1 Axes>"
      ]
     },
     "metadata": {
      "needs_background": "light"
     },
     "output_type": "display_data"
    },
    {
     "name": "stdout",
     "output_type": "stream",
     "text": [
      "avg :  19\n",
      "min :  8\n",
      "max :  43\n"
     ]
    }
   ],
   "source": [
    "# question 길이 분포\n",
    "length_dist(len_question, \"Query Length\")"
   ]
  },
  {
   "cell_type": "code",
   "execution_count": 16,
   "id": "f92d4609-8dff-4f37-bcc9-0dd72ff2e72a",
   "metadata": {},
   "outputs": [
    {
     "name": "stderr",
     "output_type": "stream",
     "text": [
      "/opt/conda/lib/python3.8/site-packages/seaborn/distributions.py:2619: FutureWarning: `distplot` is a deprecated function and will be removed in a future version. Please adapt your code to use either `displot` (a figure-level function with similar flexibility) or `histplot` (an axes-level function for histograms).\n",
      "  warnings.warn(msg, FutureWarning)\n"
     ]
    },
    {
     "data": {
      "image/png": "[encoded data removed]",
      "text/plain": [
       "<Figure size 432x288 with 1 Axes>"
      ]
     },
     "metadata": {
      "needs_background": "light"
     },
     "output_type": "display_data"
    },
    {
     "name": "stdout",
     "output_type": "stream",
     "text": [
      "avg :  6\n",
      "min :  3\n",
      "max :  44\n"
     ]
    }
   ],
   "source": [
    "# answer 길이 분포\n",
    "length_dist(len_answer, \"Answer Length\")"
   ]
  },
  {
   "cell_type": "markdown",
   "id": "4720634a-cd29-440c-9865-a2878ae53677",
   "metadata": {},
   "source": [
    "### Validation - context, question, answer 길이"
   ]
  },
  {
   "cell_type": "code",
   "execution_count": 17,
   "id": "bc6463c8-849b-4b77-8a51-740eb4a248be",
   "metadata": {},
   "outputs": [
    {
     "name": "stderr",
     "output_type": "stream",
     "text": [
      "100%|██████████| 240/240 [00:00<00:00, 10240.21it/s]\n"
     ]
    },
    {
     "data": {
      "text/html": [
       "<div>\n",
       "<style scoped>\n",
       "    .dataframe tbody tr th:only-of-type {\n",
       "        vertical-align: middle;\n",
       "    }\n",
       "\n",
       "    .dataframe tbody tr th {\n",
       "        vertical-align: top;\n",
       "    }\n",
       "\n",
       "    .dataframe thead th {\n",
       "        text-align: right;\n",
       "    }\n",
       "</style>\n",
       "<table border=\"1\" class=\"dataframe\">\n",
       "  <thead>\n",
       "    <tr style=\"text-align: right;\">\n",
       "      <th></th>\n",
       "      <th>index_level</th>\n",
       "      <th>answers</th>\n",
       "      <th>context</th>\n",
       "      <th>document_id</th>\n",
       "      <th>mrc_id</th>\n",
       "      <th>question</th>\n",
       "      <th>title</th>\n",
       "    </tr>\n",
       "  </thead>\n",
       "  <tbody>\n",
       "    <tr>\n",
       "      <th>0</th>\n",
       "      <td>2146</td>\n",
       "      <td>{'answer_start': [284], 'text': ['한보철강']}</td>\n",
       "      <td>순천여자고등학교 졸업, 1973년 이화여자대학교를 졸업하고 1975년 제17회 사법...</td>\n",
       "      <td>9027</td>\n",
       "      <td>mrc-0-003264</td>\n",
       "      <td>처음으로 부실 경영인에 대한 보상 선고를 받은 회사는?</td>\n",
       "      <td>전효숙</td>\n",
       "    </tr>\n",
       "    <tr>\n",
       "      <th>1</th>\n",
       "      <td>3106</td>\n",
       "      <td>{'answer_start': [146], 'text': ['1871년']}</td>\n",
       "      <td>요크 카운티 동쪽에 처음으로 여객 열차 운행이 시작한 시점은 1868년 토론토 &amp; ...</td>\n",
       "      <td>51765</td>\n",
       "      <td>mrc-0-004762</td>\n",
       "      <td>스카버러 남쪽과 코보콘그 마을의 철도 노선이 처음 연장된 연도는?</td>\n",
       "      <td>스토우빌선</td>\n",
       "    </tr>\n",
       "    <tr>\n",
       "      <th>2</th>\n",
       "      <td>1180</td>\n",
       "      <td>{'answer_start': [517], 'text': ['나뭇잎']}</td>\n",
       "      <td>촐라 정부\\n 촐라의 정부 체제는 전제군주제였으며,2001 촐라의 군주는 절대적인 ...</td>\n",
       "      <td>15694</td>\n",
       "      <td>mrc-1-001810</td>\n",
       "      <td>촌락에서 운영 위원 후보자 이름을 쓰기위해 사용된 것은?</td>\n",
       "      <td>촐라</td>\n",
       "    </tr>\n",
       "    <tr>\n",
       "      <th>3</th>\n",
       "      <td>141</td>\n",
       "      <td>{'answer_start': [1109], 'text': ['금대야']}</td>\n",
       "      <td>프랑스의 십자군 무훈시는 1099년 예루살렘 왕국의 통치자가 된 고드프루아 드 부용...</td>\n",
       "      <td>59536</td>\n",
       "      <td>mrc-1-000219</td>\n",
       "      <td>로타이르가 백조를 구하기 위해 사용한 것은?</td>\n",
       "      <td>백조 기사</td>\n",
       "    </tr>\n",
       "    <tr>\n",
       "      <th>4</th>\n",
       "      <td>184</td>\n",
       "      <td>{'answer_start': [386], 'text': ['수평적 관계']}</td>\n",
       "      <td>탈관료제화는 현대사회에서 관료제 성격이 약화되는 현상이다. 현대사회에서 관료제는 약...</td>\n",
       "      <td>32991</td>\n",
       "      <td>mrc-1-000285</td>\n",
       "      <td>의견을 자유롭게 나누는 것은 조직 내 어떤 관계에서 가능한가?</td>\n",
       "      <td>탈관료제화</td>\n",
       "    </tr>\n",
       "  </tbody>\n",
       "</table>\n",
       "</div>"
      ],
      "text/plain": [
       "   index_level                                      answers  \\\n",
       "0         2146    {'answer_start': [284], 'text': ['한보철강']}   \n",
       "1         3106   {'answer_start': [146], 'text': ['1871년']}   \n",
       "2         1180     {'answer_start': [517], 'text': ['나뭇잎']}   \n",
       "3          141    {'answer_start': [1109], 'text': ['금대야']}   \n",
       "4          184  {'answer_start': [386], 'text': ['수평적 관계']}   \n",
       "\n",
       "                                             context  document_id  \\\n",
       "0  순천여자고등학교 졸업, 1973년 이화여자대학교를 졸업하고 1975년 제17회 사법...         9027   \n",
       "1  요크 카운티 동쪽에 처음으로 여객 열차 운행이 시작한 시점은 1868년 토론토 & ...        51765   \n",
       "2  촐라 정부\\n 촐라의 정부 체제는 전제군주제였으며,2001 촐라의 군주는 절대적인 ...        15694   \n",
       "3  프랑스의 십자군 무훈시는 1099년 예루살렘 왕국의 통치자가 된 고드프루아 드 부용...        59536   \n",
       "4  탈관료제화는 현대사회에서 관료제 성격이 약화되는 현상이다. 현대사회에서 관료제는 약...        32991   \n",
       "\n",
       "         mrc_id                              question  title  \n",
       "0  mrc-0-003264        처음으로 부실 경영인에 대한 보상 선고를 받은 회사는?    전효숙  \n",
       "1  mrc-0-004762  스카버러 남쪽과 코보콘그 마을의 철도 노선이 처음 연장된 연도는?  스토우빌선  \n",
       "2  mrc-1-001810       촌락에서 운영 위원 후보자 이름을 쓰기위해 사용된 것은?     촐라  \n",
       "3  mrc-1-000219              로타이르가 백조를 구하기 위해 사용한 것은?  백조 기사  \n",
       "4  mrc-1-000285    의견을 자유롭게 나누는 것은 조직 내 어떤 관계에서 가능한가?  탈관료제화  "
      ]
     },
     "execution_count": 17,
     "metadata": {},
     "output_type": "execute_result"
    }
   ],
   "source": [
    "index_level = []\n",
    "answers = []\n",
    "context = []\n",
    "document_id = []\n",
    "mrc_id = []\n",
    "question = []\n",
    "title = []\n",
    "\n",
    "for data in tqdm(dataset['validation']):\n",
    "    index_level.append(data['__index_level_0__'])\n",
    "    answers.append(data['answers'])\n",
    "    context.append(data['context'])\n",
    "    document_id.append(data['document_id'])\n",
    "    mrc_id.append(data['id'])\n",
    "    question.append(data['question'])\n",
    "    title.append(data['title'])\n",
    "    \n",
    "valid = pd.DataFrame({\"index_level\":index_level,\n",
    "                     \"answers\":answers,\n",
    "                     \"context\":context,\n",
    "                     \"document_id\":document_id,\n",
    "                     \"mrc_id\":mrc_id,\n",
    "                     \"question\":question,\n",
    "                     \"title\":title})\n",
    "valid.head()"
   ]
  },
  {
   "cell_type": "code",
   "execution_count": 18,
   "id": "f94355a0-de7a-4723-af86-f085ae122dc0",
   "metadata": {},
   "outputs": [
    {
     "data": {
      "text/html": [
       "<div>\n",
       "<style scoped>\n",
       "    .dataframe tbody tr th:only-of-type {\n",
       "        vertical-align: middle;\n",
       "    }\n",
       "\n",
       "    .dataframe tbody tr th {\n",
       "        vertical-align: top;\n",
       "    }\n",
       "\n",
       "    .dataframe thead th {\n",
       "        text-align: right;\n",
       "    }\n",
       "</style>\n",
       "<table border=\"1\" class=\"dataframe\">\n",
       "  <thead>\n",
       "    <tr style=\"text-align: right;\">\n",
       "      <th></th>\n",
       "      <th>index_level</th>\n",
       "      <th>answers</th>\n",
       "      <th>context</th>\n",
       "      <th>document_id</th>\n",
       "      <th>mrc_id</th>\n",
       "      <th>question</th>\n",
       "      <th>title</th>\n",
       "      <th>answers_start</th>\n",
       "    </tr>\n",
       "  </thead>\n",
       "  <tbody>\n",
       "    <tr>\n",
       "      <th>0</th>\n",
       "      <td>2146</td>\n",
       "      <td>한보철강</td>\n",
       "      <td>순천여자고등학교 졸업, 1973년 이화여자대학교를 졸업하고 1975년 제17회 사법...</td>\n",
       "      <td>9027</td>\n",
       "      <td>mrc-0-003264</td>\n",
       "      <td>처음으로 부실 경영인에 대한 보상 선고를 받은 회사는?</td>\n",
       "      <td>전효숙</td>\n",
       "      <td>284</td>\n",
       "    </tr>\n",
       "    <tr>\n",
       "      <th>1</th>\n",
       "      <td>3106</td>\n",
       "      <td>1871년</td>\n",
       "      <td>요크 카운티 동쪽에 처음으로 여객 열차 운행이 시작한 시점은 1868년 토론토 &amp; ...</td>\n",
       "      <td>51765</td>\n",
       "      <td>mrc-0-004762</td>\n",
       "      <td>스카버러 남쪽과 코보콘그 마을의 철도 노선이 처음 연장된 연도는?</td>\n",
       "      <td>스토우빌선</td>\n",
       "      <td>146</td>\n",
       "    </tr>\n",
       "    <tr>\n",
       "      <th>2</th>\n",
       "      <td>1180</td>\n",
       "      <td>나뭇잎</td>\n",
       "      <td>촐라 정부\\n 촐라의 정부 체제는 전제군주제였으며,2001 촐라의 군주는 절대적인 ...</td>\n",
       "      <td>15694</td>\n",
       "      <td>mrc-1-001810</td>\n",
       "      <td>촌락에서 운영 위원 후보자 이름을 쓰기위해 사용된 것은?</td>\n",
       "      <td>촐라</td>\n",
       "      <td>517</td>\n",
       "    </tr>\n",
       "    <tr>\n",
       "      <th>3</th>\n",
       "      <td>141</td>\n",
       "      <td>금대야</td>\n",
       "      <td>프랑스의 십자군 무훈시는 1099년 예루살렘 왕국의 통치자가 된 고드프루아 드 부용...</td>\n",
       "      <td>59536</td>\n",
       "      <td>mrc-1-000219</td>\n",
       "      <td>로타이르가 백조를 구하기 위해 사용한 것은?</td>\n",
       "      <td>백조 기사</td>\n",
       "      <td>1109</td>\n",
       "    </tr>\n",
       "    <tr>\n",
       "      <th>4</th>\n",
       "      <td>184</td>\n",
       "      <td>수평적 관계</td>\n",
       "      <td>탈관료제화는 현대사회에서 관료제 성격이 약화되는 현상이다. 현대사회에서 관료제는 약...</td>\n",
       "      <td>32991</td>\n",
       "      <td>mrc-1-000285</td>\n",
       "      <td>의견을 자유롭게 나누는 것은 조직 내 어떤 관계에서 가능한가?</td>\n",
       "      <td>탈관료제화</td>\n",
       "      <td>386</td>\n",
       "    </tr>\n",
       "  </tbody>\n",
       "</table>\n",
       "</div>"
      ],
      "text/plain": [
       "   index_level answers                                            context  \\\n",
       "0         2146    한보철강  순천여자고등학교 졸업, 1973년 이화여자대학교를 졸업하고 1975년 제17회 사법...   \n",
       "1         3106   1871년  요크 카운티 동쪽에 처음으로 여객 열차 운행이 시작한 시점은 1868년 토론토 & ...   \n",
       "2         1180     나뭇잎  촐라 정부\\n 촐라의 정부 체제는 전제군주제였으며,2001 촐라의 군주는 절대적인 ...   \n",
       "3          141     금대야  프랑스의 십자군 무훈시는 1099년 예루살렘 왕국의 통치자가 된 고드프루아 드 부용...   \n",
       "4          184  수평적 관계  탈관료제화는 현대사회에서 관료제 성격이 약화되는 현상이다. 현대사회에서 관료제는 약...   \n",
       "\n",
       "   document_id        mrc_id                              question  title  \\\n",
       "0         9027  mrc-0-003264        처음으로 부실 경영인에 대한 보상 선고를 받은 회사는?    전효숙   \n",
       "1        51765  mrc-0-004762  스카버러 남쪽과 코보콘그 마을의 철도 노선이 처음 연장된 연도는?  스토우빌선   \n",
       "2        15694  mrc-1-001810       촌락에서 운영 위원 후보자 이름을 쓰기위해 사용된 것은?     촐라   \n",
       "3        59536  mrc-1-000219              로타이르가 백조를 구하기 위해 사용한 것은?  백조 기사   \n",
       "4        32991  mrc-1-000285    의견을 자유롭게 나누는 것은 조직 내 어떤 관계에서 가능한가?  탈관료제화   \n",
       "\n",
       "   answers_start  \n",
       "0            284  \n",
       "1            146  \n",
       "2            517  \n",
       "3           1109  \n",
       "4            386  "
      ]
     },
     "execution_count": 18,
     "metadata": {},
     "output_type": "execute_result"
    }
   ],
   "source": [
    "valid['answers_start'] = [data['answer_start'][0] for data in valid['answers']]\n",
    "valid['answers'] = [data['text'][0] for data in valid['answers']]\n",
    "valid.head()"
   ]
  },
  {
   "cell_type": "code",
   "execution_count": 19,
   "id": "c7e12c87-423e-4fd6-bdbd-0c0507fdb740",
   "metadata": {},
   "outputs": [],
   "source": [
    "val_len_context = [len(tokenizer(txt)['input_ids']) for txt in valid['context']]\n",
    "val_len_question = [len(tokenizer(txt)['input_ids']) for txt in valid['question']]\n",
    "val_len_answer = [len(tokenizer(txt)['input_ids']) for txt in valid['answers']]"
   ]
  },
  {
   "cell_type": "code",
   "execution_count": 20,
   "id": "8ad1e864-0040-475f-9aff-f368cc39fb80",
   "metadata": {},
   "outputs": [
    {
     "name": "stderr",
     "output_type": "stream",
     "text": [
      "/opt/conda/lib/python3.8/site-packages/seaborn/distributions.py:2619: FutureWarning: `distplot` is a deprecated function and will be removed in a future version. Please adapt your code to use either `displot` (a figure-level function with similar flexibility) or `histplot` (an axes-level function for histograms).\n",
      "  warnings.warn(msg, FutureWarning)\n"
     ]
    },
    {
     "data": {
      "image/png": "[encoded data removed]",
      "text/plain": [
       "<Figure size 432x288 with 1 Axes>"
      ]
     },
     "metadata": {
      "needs_background": "light"
     },
     "output_type": "display_data"
    },
    {
     "name": "stdout",
     "output_type": "stream",
     "text": [
      "avg :  540\n",
      "min :  264\n",
      "max :  1264\n"
     ]
    }
   ],
   "source": [
    "length_dist(val_len_context, \"Context Length\")"
   ]
  },
  {
   "cell_type": "code",
   "execution_count": 21,
   "id": "f2097294-b0be-4cc4-b88c-6288b1bbc365",
   "metadata": {},
   "outputs": [
    {
     "name": "stderr",
     "output_type": "stream",
     "text": [
      "/opt/conda/lib/python3.8/site-packages/seaborn/distributions.py:2619: FutureWarning: `distplot` is a deprecated function and will be removed in a future version. Please adapt your code to use either `displot` (a figure-level function with similar flexibility) or `histplot` (an axes-level function for histograms).\n",
      "  warnings.warn(msg, FutureWarning)\n"
     ]
    },
    {
     "data": {
      "image/png": "[encoded data removed]",
      "text/plain": [
       "<Figure size 432x288 with 1 Axes>"
      ]
     },
     "metadata": {
      "needs_background": "light"
     },
     "output_type": "display_data"
    },
    {
     "name": "stdout",
     "output_type": "stream",
     "text": [
      "avg :  19\n",
      "min :  8\n",
      "max :  43\n"
     ]
    }
   ],
   "source": [
    "length_dist(val_len_question, \"Question Length\")"
   ]
  },
  {
   "cell_type": "code",
   "execution_count": 22,
   "id": "18fde2e1-ce27-453b-a425-1617a9b7f880",
   "metadata": {},
   "outputs": [
    {
     "name": "stderr",
     "output_type": "stream",
     "text": [
      "/opt/conda/lib/python3.8/site-packages/seaborn/distributions.py:2619: FutureWarning: `distplot` is a deprecated function and will be removed in a future version. Please adapt your code to use either `displot` (a figure-level function with similar flexibility) or `histplot` (an axes-level function for histograms).\n",
      "  warnings.warn(msg, FutureWarning)\n"
     ]
    },
    {
     "data": {
      "image/png": "[encoded data removed]",
      "text/plain": [
       "<Figure size 432x288 with 1 Axes>"
      ]
     },
     "metadata": {
      "needs_background": "light"
     },
     "output_type": "display_data"
    },
    {
     "name": "stdout",
     "output_type": "stream",
     "text": [
      "avg :  7\n",
      "min :  3\n",
      "max :  47\n"
     ]
    }
   ],
   "source": [
    "length_dist(val_len_answer, \"Answer Length\")"
   ]
  },
  {
   "cell_type": "markdown",
   "id": "b5d05b4e-fac1-4b1b-a5c5-3d481c3563d5",
   "metadata": {},
   "source": [
    "### Train, Validation Dataset의 길이 분포는 context, question, answer에 대해서 거의 유사  \n",
    "### 단, max length 에 근접하는 text들의 경우 잘리지 않는지 관찰 필요\n",
    "### baseline : max_seq_len = 384(token), max_answer_length = 30(index)"
   ]
  },
  {
   "cell_type": "code",
   "execution_count": 23,
   "id": "7a2b395c-9c50-471f-99e8-458482ce1ea2",
   "metadata": {},
   "outputs": [
    {
     "name": "stdout",
     "output_type": "stream",
     "text": [
      "Ratio of Truncation - TrainDataset : 0.737\n",
      "Ratio of Truncation - ValidDataset : 0.729\n"
     ]
    }
   ],
   "source": [
    "# context에서 잘리는 비율\n",
    "train_long_idx = []\n",
    "valid_long_idx = []\n",
    "for i, length in enumerate(len_context):\n",
    "    if length >= 384:\n",
    "        train_long_idx.append(i)\n",
    "for i, length in enumerate(val_len_context):\n",
    "    if length >= 384:\n",
    "        valid_long_idx.append(i)\n",
    "print(\"Ratio of Truncation - TrainDataset : {:.3f}\".format(len(train_long_idx)/len(train)))\n",
    "print(\"Ratio of Truncation - ValidDataset : {:.3f}\".format(len(valid_long_idx)/len(valid)))"
   ]
  },
  {
   "cell_type": "code",
   "execution_count": 24,
   "id": "0abafe36-d019-42a4-be4a-3093ca811387",
   "metadata": {},
   "outputs": [
    {
     "name": "stdout",
     "output_type": "stream",
     "text": [
      "Ratio of Truncation - TrainDataset : 0.002\n",
      "Ratio of Truncation - ValidDataset : 0.004\n"
     ]
    }
   ],
   "source": [
    "# answer에서 잘리는 비율\n",
    "train_long_idx_ans = []\n",
    "valid_long_idx_ans = []\n",
    "for i, length in enumerate(len_answer):\n",
    "    if length >= 30:\n",
    "        train_long_idx_ans.append(i)\n",
    "for i, length in enumerate(val_len_answer):\n",
    "    if length >= 30:\n",
    "        valid_long_idx_ans.append(i)\n",
    "print(\"Ratio of Truncation - TrainDataset : {:.3f}\".format(len(train_long_idx_ans)/len(train)))\n",
    "print(\"Ratio of Truncation - ValidDataset : {:.3f}\".format(len(valid_long_idx_ans)/len(valid)))"
   ]
  },
  {
   "cell_type": "markdown",
   "id": "05a2b940-6f05-45c9-89cd-83cafdcaf3bb",
   "metadata": {},
   "source": [
    "위에서는 answer_length도 토큰기준으로 분석했으나 실제로는 index length 기준이고  \n",
    "토론 게시판에서 이를 넘는 비율이 1.6%라고 한다"
   ]
  },
  {
   "cell_type": "markdown",
   "id": "9fe91f61-b402-4dd7-8869-88074b18308a",
   "metadata": {},
   "source": [
    "### [UNK] 포함 context"
   ]
  },
  {
   "cell_type": "code",
   "execution_count": 25,
   "id": "5392547d-b4e1-4127-9997-851b12a2b051",
   "metadata": {},
   "outputs": [
    {
     "name": "stdout",
     "output_type": "stream",
     "text": [
      "[0, 6, 3, 2]\n",
      "<s> <unk></s>\n",
      "<unk>\n"
     ]
    }
   ],
   "source": [
    "print(tokenizer(\"뗴\")[\"input_ids\"])\n",
    "print(tokenizer.decode(tokenizer(\"뗴\")[\"input_ids\"]))\n",
    "# [UNK] 해당 input_id == 1\n",
    "print(tokenizer.decode([3]))"
   ]
  },
  {
   "cell_type": "code",
   "execution_count": 26,
   "id": "fad8cd74-f351-4830-9a03-97614cdba81f",
   "metadata": {},
   "outputs": [],
   "source": [
    "def has_unk(contexts):\n",
    "    unk_ids = []\n",
    "    unk_context = []\n",
    "    for i, context in tqdm(enumerate(contexts)):\n",
    "        encoded = tokenizer(context)['input_ids']\n",
    "        if 3 in encoded:\n",
    "            unk_ids.append(i)\n",
    "            unk_context.append(context)\n",
    "            continue\n",
    "    return unk_ids, unk_context"
   ]
  },
  {
   "cell_type": "code",
   "execution_count": 27,
   "id": "ce1128eb-5f07-4308-b5e3-7a4aa0f40ee4",
   "metadata": {
    "tags": []
   },
   "outputs": [
    {
     "name": "stderr",
     "output_type": "stream",
     "text": [
      "3952it [00:06, 582.97it/s]\n",
      "240it [00:00, 580.81it/s]\n"
     ]
    }
   ],
   "source": [
    "unk_train_ids, unk_train_contexts = has_unk(list(train['context']))\n",
    "unk_valid_ids, unk_valid_contexts = has_unk(list(valid['context']))"
   ]
  },
  {
   "cell_type": "code",
   "execution_count": 28,
   "id": "87f6bd2a-31a2-4cc6-a137-3d8e12164b9b",
   "metadata": {},
   "outputs": [
    {
     "data": {
      "text/plain": [
       "(260, 13)"
      ]
     },
     "execution_count": 28,
     "metadata": {},
     "output_type": "execute_result"
    }
   ],
   "source": [
    "len(unk_train_ids), len(unk_valid_ids)"
   ]
  },
  {
   "cell_type": "code",
   "execution_count": 29,
   "id": "c43ec433-005a-4683-a6e9-27579bf0d141",
   "metadata": {},
   "outputs": [
    {
     "name": "stdout",
     "output_type": "stream",
     "text": [
      "<s> 그러나 한편으로는 미국 사회의 인종차별주의적, 흑인을 차별하는 태도를 목격하면서 백인들의 오만함에 대한 부정적인 생각을 갖게 되었다. 미국 체류 중 황인종을 멸시하는 백인 불량배들에게 끌려가 가끔 얻어맞기도 하고, “유색 인종”이라는 이유로 호텔 투숙을 거절당해 정거장에서 밤을 지<unk>는가 하면, 세례 교인이었던 그와 가장 가까워야 할 미국인 선교사에게마저 늘 은근히 - 그리고 가끔은 매우 노골적으로 - “왕따”당하는 처지였다 귀국 이후에 조선에서 만난 미국인 선교사들도 비슷하게 그를 대우했다.\\n\\n당시의 그에 대해 후일 노르웨이 오슬로 대학 교수 박노자는 '백인 인종주의에 상처받아 만신창이가 되었을 그의 마음 상태 '를 지적하기도 했다.\\n\\n만약 내가 마음대로 내 고국을 선택할 수 있다면, 나는 일본을 선택할 것이다. 오, 축복받은 일본이여! 동방의 낙원이여! |1893년 11월 1일자 일기 \\n\\n그는 평소 조선인들의 불결한 위생과 겉치레, 감정적 대응 등을 내심 경멸해왔다. 그리고 서구의 기독교사상과 일한 만큼만 대가를 받는다는 청교도 정신, 합리주의의 수용을 통해 이를 개선하려 했다. 그러나 평소 기독교선교사들로부터도 자기 일 처리도 못하는 작은 아이, 원주민, 예의를 지키지 않아도 될 만한 사람의 대접을 늘 받아 온 윤치호는, 인종주의야말로 미국의 가장 중요한 특징이라는 결론을 내리게 되었다 그 뒤 그는 조선에도 민주주의와 자유주의, 기독교 정신의 도입이 시급하다고 봤다. 그러나 미국의 민주주의와 자유주의, 기독교 사상과 개척정신은 높이 평가하면서도 내심 백인종을 혐오하는 이중적인 태도와 인종주의적인 사고를 갖게 되었다.\\n\\n어느 교회에서 남부 출신 남감리교회 목사들이 예배 시간에 흑인을 박멸해야 된다는 설교, 흑인들을 아프리카로 추방해야 된다는 설교를 듣고는 충격을 받기도 했다 그들이 목사인가 기독교인인가 자체를 의심하기도 했다. 하지만 흑인이 백인들로부터 차별대우를 받는 것에는 분노하면서도 흑인에 대해서는 1893년 2월 17일자 일기에 '(아프리카인들이 미국에 끌려와) 영어를 배운 것만으로도 그들의 노예생활에 대해 충분히 보상받은 것이다. 라는 이중적인 시각을 갖게 된다. 귀국 이후 그는 국내 인사들이 미국을 무조건적으로 의존하거나 일제와는 다른 선량한 국가일 것이라는 생각을 비판, 경계하기도 했다.</s>\n",
      "인종주의\n"
     ]
    }
   ],
   "source": [
    "IDX = unk_train_ids[11]\n",
    "print(tokenizer.decode(tokenizer(train['context'][IDX])['input_ids']))\n",
    "print(train['answers'][IDX])"
   ]
  },
  {
   "cell_type": "markdown",
   "id": "8d5bddf1-90cd-4343-a350-6214892e5c27",
   "metadata": {},
   "source": [
    "### 문장 내 줄바꿈 \"\\n\" -> [UNK] n [UNK] 처리됨\n",
    "### 줄바꿈 기호 그냥 일괄적으로 없애버려도 괜찮을 듯"
   ]
  },
  {
   "cell_type": "code",
   "execution_count": 30,
   "id": "c7eed1cc-db52-408c-88ca-747dd98fd4c1",
   "metadata": {},
   "outputs": [],
   "source": [
    "def print_unk(lst):\n",
    "    cnt = 0\n",
    "    for txt in lst:\n",
    "        encoded = tokenizer(txt)['input_ids']\n",
    "        if 3 in encoded:\n",
    "            cnt += 1\n",
    "            print(\"-\"*100)\n",
    "            print(txt)\n",
    "            print(tokenizer.decode(encoded, skip_special_tokens=True))\n",
    "    print(f\"Number of [UNK] tokens included : {cnt} / {len(lst)}\")"
   ]
  },
  {
   "cell_type": "code",
   "execution_count": 31,
   "id": "9548121b-a8e6-45ce-9901-18e0c4651d3f",
   "metadata": {},
   "outputs": [
    {
     "name": "stdout",
     "output_type": "stream",
     "text": [
      "----------------------------------------------------------------------------------------------------\n",
      "배곯는 아이들에게 도움이 된 식량 보급 제도는?\n",
      "배는 아이들에게 도움이 된 식량 보급 제도는?\n",
      "----------------------------------------------------------------------------------------------------\n",
      "1968년 대선 당시 후보로 출마된 수퇘지의 이름은?\n",
      "1968년 대선 당시 후보로 출마된 수지의 이름은?\n",
      "----------------------------------------------------------------------------------------------------\n",
      "선발 투수로서 첫 해에 젱킨스의 삼진 갯수는?\n",
      "선발 투수로서 첫 해에 킨스의 삼진 갯수는?\n",
      "----------------------------------------------------------------------------------------------------\n",
      "부녀자가 얼굴을 가리기위해 썻던 것 중, 고려시대에 사용한 것은?\n",
      "부녀자가 얼굴을 가리기위해 던 것 중, 고려시대에 사용한 것은?\n",
      "----------------------------------------------------------------------------------------------------\n",
      "그리스를 배반한 인물이 테르모퓔라이 습격을 돕기 위해 말해준 것은?\n",
      "그리스를 배반한 인물이 테르모라이 습격을 돕기 위해 말해준 것은?\n",
      "----------------------------------------------------------------------------------------------------\n",
      "하탸야 중위가 니도로 섬 동부에 상륙할 당시 이용한 보트는 어느 부대 소속인가?\n",
      "하야 중위가 니도로 섬 동부에 상륙할 당시 이용한 보트는 어느 부대 소속인가?\n",
      "----------------------------------------------------------------------------------------------------\n",
      "스퀠쾨더가 남군 해군에 인도된 시기는?\n",
      "스쾨더가 남군 해군에 인도된 시기는?\n",
      "----------------------------------------------------------------------------------------------------\n",
      "이브라임 퍄샤는 누구의 자식인가?\n",
      "이브라임 샤는 누구의 자식인가?\n",
      "----------------------------------------------------------------------------------------------------\n",
      "아르군 칸이 호노리오 4세에게 보낸 친서의 번역본이 보괸되어 있는 곳은?\n",
      "아르군 칸이 호노리오 4세에게 보낸 친서의 번역본이 보되어 있는 곳은?\n",
      "----------------------------------------------------------------------------------------------------\n",
      "크세르크세스 1세의 두 번쨰 침공이 실패한 원인이 된 전투는?\n",
      "크세르크세스 1세의 두 번 침공이 실패한 원인이 된 전투는?\n",
      "Number of [UNK] tokens included : 10 / 3952\n"
     ]
    }
   ],
   "source": [
    "print_unk(list(train['question']))"
   ]
  },
  {
   "cell_type": "code",
   "execution_count": 32,
   "id": "76f86dff-2b8f-46ab-ad52-764e6201c332",
   "metadata": {},
   "outputs": [
    {
     "name": "stdout",
     "output_type": "stream",
     "text": [
      "----------------------------------------------------------------------------------------------------\n",
      "우전왕(優塡王)식 착의법\n",
      "우전왕(優王)식 착의법\n",
      "----------------------------------------------------------------------------------------------------\n",
      "햣켄 해자\n",
      "켄 해자\n",
      "----------------------------------------------------------------------------------------------------\n",
      "정기필(鄭夔弼)\n",
      "정기필(鄭弼)\n",
      "----------------------------------------------------------------------------------------------------\n",
      "매개념(媒槪念)\n",
      "매개념(媒念)\n",
      "----------------------------------------------------------------------------------------------------\n",
      "애혼성(愛琿城, 아이훈 성)\n",
      "애혼성(愛城, 아이훈 성)\n",
      "----------------------------------------------------------------------------------------------------\n",
      "왝시 고든\n",
      "시 고든\n",
      "----------------------------------------------------------------------------------------------------\n",
      "마드리드의 에스파뇰 극장\n",
      "마드리드의 에스파 극장\n",
      "----------------------------------------------------------------------------------------------------\n",
      "오툉의 리첼다\n",
      "오의 리첼다\n",
      "Number of [UNK] tokens included : 8 / 3952\n"
     ]
    }
   ],
   "source": [
    "print_unk(list(train['answers']))"
   ]
  },
  {
   "cell_type": "markdown",
   "id": "546280cf-05aa-4baa-b6e7-71907019639e",
   "metadata": {},
   "source": [
    "### question, answer에서 각각 2% 정도 [UNK]로 인한 누락 발생"
   ]
  },
  {
   "cell_type": "code",
   "execution_count": 33,
   "id": "199e344f-292d-43f4-8c0c-b42b0c3869a4",
   "metadata": {},
   "outputs": [],
   "source": [
    "train.to_csv(\"./train.csv\", index=False)\n",
    "valid.to_csv(\"./valid.csv\", index=False)"
   ]
  },
  {
   "cell_type": "markdown",
   "id": "00ffe610-7960-4047-a66b-61706cbf93eb",
   "metadata": {},
   "source": [
    "# Explore TestDataset"
   ]
  },
  {
   "cell_type": "code",
   "execution_count": 34,
   "id": "919484a1-a183-4d1e-a41b-d88cadb8f8c3",
   "metadata": {},
   "outputs": [],
   "source": [
    "test_test = load_from_disk('../data/test_dataset/')"
   ]
  },
  {
   "cell_type": "code",
   "execution_count": 35,
   "id": "732c162e-e838-49a2-b6c2-fcde2f171609",
   "metadata": {},
   "outputs": [
    {
     "data": {
      "text/plain": [
       "DatasetDict({\n",
       "    validation: Dataset({\n",
       "        features: ['id', 'question'],\n",
       "        num_rows: 600\n",
       "    })\n",
       "})"
      ]
     },
     "execution_count": 35,
     "metadata": {},
     "output_type": "execute_result"
    }
   ],
   "source": [
    "test_test"
   ]
  },
  {
   "cell_type": "code",
   "execution_count": 36,
   "id": "c3e5fd54-29b9-4eb8-8177-c8db5cbe9fcf",
   "metadata": {},
   "outputs": [
    {
     "name": "stdout",
     "output_type": "stream",
     "text": [
      "************************************************** id **************************************************\n",
      "mrc-1-000653\n",
      "************************************************** question **************************************************\n",
      "유령'은 어느 행성에서 지구로 왔는가?\n"
     ]
    }
   ],
   "source": [
    "read_dataset(test_test, 0, \"validation\")"
   ]
  },
  {
   "cell_type": "code",
   "execution_count": 37,
   "id": "3c6c163d-e16a-46d5-badc-ec6106b657dd",
   "metadata": {},
   "outputs": [
    {
     "name": "stdout",
     "output_type": "stream",
     "text": [
      "************************************************** id **************************************************\n",
      "mrc-0-004345\n",
      "************************************************** question **************************************************\n",
      "셰이크 무지부르 라흐만의 딸이 처음으로 선거에서 졌던 해는?\n"
     ]
    }
   ],
   "source": [
    "read_dataset(test_test, 100, \"validation\")"
   ]
  },
  {
   "cell_type": "markdown",
   "id": "eab4d03d-cf80-470a-b9b0-049025cd7ca7",
   "metadata": {},
   "source": [
    "### 위의 분석으로 보아 question에서 max_seq_length인 384를 넘길 일은 거의 없을 듯 하여\n",
    "### [UNK] 포함된 question이 있는지 확인"
   ]
  },
  {
   "cell_type": "code",
   "execution_count": 38,
   "id": "4dd17d14-00fb-499f-8053-cc2c4c207ffb",
   "metadata": {},
   "outputs": [
    {
     "name": "stderr",
     "output_type": "stream",
     "text": [
      "100%|██████████| 600/600 [00:00<00:00, 28115.73it/s]\n"
     ]
    },
    {
     "data": {
      "text/html": [
       "<div>\n",
       "<style scoped>\n",
       "    .dataframe tbody tr th:only-of-type {\n",
       "        vertical-align: middle;\n",
       "    }\n",
       "\n",
       "    .dataframe tbody tr th {\n",
       "        vertical-align: top;\n",
       "    }\n",
       "\n",
       "    .dataframe thead th {\n",
       "        text-align: right;\n",
       "    }\n",
       "</style>\n",
       "<table border=\"1\" class=\"dataframe\">\n",
       "  <thead>\n",
       "    <tr style=\"text-align: right;\">\n",
       "      <th></th>\n",
       "      <th>id</th>\n",
       "      <th>question</th>\n",
       "    </tr>\n",
       "  </thead>\n",
       "  <tbody>\n",
       "    <tr>\n",
       "      <th>0</th>\n",
       "      <td>mrc-1-000653</td>\n",
       "      <td>유령'은 어느 행성에서 지구로 왔는가?</td>\n",
       "    </tr>\n",
       "    <tr>\n",
       "      <th>1</th>\n",
       "      <td>mrc-1-001113</td>\n",
       "      <td>용병회사의 경기가 좋아진 것은 무엇이 끝난 이후부터인가?</td>\n",
       "    </tr>\n",
       "    <tr>\n",
       "      <th>2</th>\n",
       "      <td>mrc-0-002191</td>\n",
       "      <td>돌푸스에게 불특정 기간동안 하원이 잠시 쉬는 것을 건의 받았던 인물은?</td>\n",
       "    </tr>\n",
       "    <tr>\n",
       "      <th>3</th>\n",
       "      <td>mrc-0-003951</td>\n",
       "      <td>마오리언어와 영어, 뉴질랜드 수화를 공식 언어로 사용하는 나라는?</td>\n",
       "    </tr>\n",
       "    <tr>\n",
       "      <th>4</th>\n",
       "      <td>mrc-1-001272</td>\n",
       "      <td>디엔비엔푸 전투에서 보응우옌잡이 상대한 국가는?</td>\n",
       "    </tr>\n",
       "  </tbody>\n",
       "</table>\n",
       "</div>"
      ],
      "text/plain": [
       "             id                                 question\n",
       "0  mrc-1-000653                    유령'은 어느 행성에서 지구로 왔는가?\n",
       "1  mrc-1-001113          용병회사의 경기가 좋아진 것은 무엇이 끝난 이후부터인가?\n",
       "2  mrc-0-002191  돌푸스에게 불특정 기간동안 하원이 잠시 쉬는 것을 건의 받았던 인물은?\n",
       "3  mrc-0-003951     마오리언어와 영어, 뉴질랜드 수화를 공식 언어로 사용하는 나라는?\n",
       "4  mrc-1-001272               디엔비엔푸 전투에서 보응우옌잡이 상대한 국가는?"
      ]
     },
     "execution_count": 38,
     "metadata": {},
     "output_type": "execute_result"
    }
   ],
   "source": [
    "test_ids = []\n",
    "test_query = []\n",
    "for data in tqdm(test_test['validation']):\n",
    "    test_ids.append(data['id'])\n",
    "    test_query.append(data['question'])\n",
    "    \n",
    "test = pd.DataFrame({\"id\":test_ids, \"question\":test_query})\n",
    "test.head()"
   ]
  },
  {
   "cell_type": "code",
   "execution_count": 39,
   "id": "da4bfd31-6199-4f4e-83e0-88b736712888",
   "metadata": {},
   "outputs": [
    {
     "name": "stdout",
     "output_type": "stream",
     "text": [
      "----------------------------------------------------------------------------------------------------\n",
      "철툇자루를 제작하는데 주로 활용된 재료는?\n",
      "철자루를 제작하는데 주로 활용된 재료는?\n",
      "----------------------------------------------------------------------------------------------------\n",
      "쿠틉 앗딘이 이라크에 있는 칼리프 영지를 점거하기 위해 출정을 시작한 지역은?\n",
      "쿠 앗딘이 이라크에 있는 칼리프 영지를 점거하기 위해 출정을 시작한 지역은?\n",
      "Number of [UNK] tokens included : 2 / 600\n"
     ]
    }
   ],
   "source": [
    "print_unk(list(test['question']))"
   ]
  },
  {
   "cell_type": "markdown",
   "id": "0057333f-32cc-4fe7-9ecb-5269eb16cbec",
   "metadata": {},
   "source": [
    "### 마찬가지로 2% 정도의 question이 [UNK] 포함"
   ]
  },
  {
   "cell_type": "code",
   "execution_count": 40,
   "id": "5c13662b-4309-44c2-aaa5-05fd2b26253f",
   "metadata": {},
   "outputs": [],
   "source": [
    "test.to_csv(\"./test.csv\")"
   ]
  },
  {
   "cell_type": "markdown",
   "id": "c3e82be5-4b32-4de5-a201-c046d5a4c797",
   "metadata": {},
   "source": [
    "### 현재까지 결론 : xlm-roberta-large > klue/bert = klue/roberta"
   ]
  },
  {
   "cell_type": "code",
   "execution_count": null,
   "id": "5b733d9e-13bc-4a89-b5c6-eab04fcbc03f",
   "metadata": {},
   "outputs": [],
   "source": []
  }
 ],
 "metadata": {
  "kernelspec": {
   "display_name": "Python 3 (ipykernel)",
   "language": "python",
   "name": "python3"
  },
  "language_info": {
   "codemirror_mode": {
    "name": "ipython",
    "version": 3
   },
   "file_extension": ".py",
   "mimetype": "text/x-python",
   "name": "python",
   "nbconvert_exporter": "python",
   "pygments_lexer": "ipython3",
   "version": "3.8.5"
  }
 },
 "nbformat": 4,
 "nbformat_minor": 5
}
