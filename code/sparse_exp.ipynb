{
 "cells": [
  {
   "cell_type": "markdown",
   "id": "b93290e5-55f5-4e3f-8779-63930af0d242",
   "metadata": {},
   "source": [
    "# TF-IDF, BM25, ElasticSearch\n",
    "# wikipedia로 임베딩을 만들고 valid set에 대해 테스트해보기\n",
    "## TF-IDF, BM25는 pretrained tokenizer 사용 / Elasticsearch는 내장 nori_tokenizer 사용"
   ]
  },
  {
   "cell_type": "code",
   "execution_count": 1,
   "id": "39cba611-de41-4d78-928c-5edaff25f46f",
   "metadata": {},
   "outputs": [],
   "source": [
    "from rank_bm25 import BM25Okapi, BM25Plus\n",
    "from sklearn.feature_extraction.text import TfidfVectorizer\n",
    "from elasticsearch import Elasticsearch\n",
    "\n",
    "from transformers import AutoTokenizer\n",
    "import os\n",
    "import json\n",
    "import pickle\n",
    "import numpy as np\n",
    "import pandas as pd\n",
    "import re\n",
    "from tqdm import tqdm\n",
    "\n",
    "from datasets import load_from_disk"
   ]
  },
  {
   "cell_type": "markdown",
   "id": "e0e83e45-efa4-4dbc-aed1-eea912ca7f18",
   "metadata": {},
   "source": [
    "### Tokenizer 설정"
   ]
  },
  {
   "cell_type": "code",
   "execution_count": null,
   "id": "b55927c9-15a9-4e78-afd8-4a74d4d42b09",
   "metadata": {},
   "outputs": [],
   "source": [
    "tokenizer = AutoTokenizer.from_pretrained(\"csebuetnlp/mT5_multilingual_XLSum\")"
   ]
  },
  {
   "cell_type": "markdown",
   "id": "bd29f94d-b9d7-400f-836d-c8ec9672021e",
   "metadata": {},
   "source": [
    "### 전처리 함수"
   ]
  },
  {
   "cell_type": "code",
   "execution_count": 3,
   "id": "9ab737a4-1377-46ee-9bbb-9cd8b247849a",
   "metadata": {},
   "outputs": [],
   "source": [
    "def preprocess_retrieval(corpus):\n",
    "    corpus = corpus.replace(\"\\\\n\", \"\")\n",
    "    corpus = re.sub(f\"[\\\"<>\\[\\].,?!\\(\\)\\:#\\|'\\=-]\", \" \", corpus)\n",
    "    corpus = ' '.join(corpus.split())\n",
    "    return corpus"
   ]
  },
  {
   "cell_type": "markdown",
   "id": "114e0aed-c15f-4f55-be8c-bb9f31edfc3c",
   "metadata": {},
   "source": [
    "## 데이터 불러오기"
   ]
  },
  {
   "cell_type": "code",
   "execution_count": 4,
   "id": "1a0bfefc-27a6-46c9-b5f6-f56996786f71",
   "metadata": {},
   "outputs": [],
   "source": [
    "# wikipedia_documents.json\n",
    "with open(\"../data/wikipedia_documents.json\", \"r\", encoding=\"utf-8\") as f:\n",
    "    wiki = json.load(f)\n",
    "contexts = list(dict.fromkeys([v[\"text\"] for v in wiki.values()]))"
   ]
  },
  {
   "cell_type": "code",
   "execution_count": 5,
   "id": "61ea853d-f1bb-4657-99f6-8f8fab340c78",
   "metadata": {},
   "outputs": [
    {
     "name": "stderr",
     "output_type": "stream",
     "text": [
      "100%|██████████| 3952/3952 [00:00<00:00, 6197.39it/s]\n",
      "100%|██████████| 240/240 [00:00<00:00, 5699.59it/s]\n"
     ]
    }
   ],
   "source": [
    "# train/valid dataset\n",
    "train_dataset = load_from_disk(\"../data/train_dataset\")\n",
    "train_context, valid_context = [], []\n",
    "train_query, valid_query = [], []\n",
    "for data in tqdm(train_dataset['train']):\n",
    "    train_context.append(preprocess_retrieval(data['context']))\n",
    "    train_query.append(preprocess_retrieval(data['question']))\n",
    "for data in tqdm(train_dataset['validation']):\n",
    "    valid_context.append(preprocess_retrieval(data['context']))\n",
    "    valid_query.append(preprocess_retrieval(data['question']))"
   ]
  },
  {
   "cell_type": "code",
   "execution_count": 6,
   "id": "1f88dba0-c63e-4f47-bbc4-4a81d3bef309",
   "metadata": {},
   "outputs": [
    {
     "name": "stdout",
     "output_type": "stream",
     "text": [
      "3952 240\n",
      "미국 상의원 또는 미국 상원 United States Senate 은 양원제인 미국 의회의 상원이다 미국 부통령이 상원의장이 된다 각 주당 2명의 상원의원이 선출되어 100명의 상원의원으로 구성되어 있다 임기는 6년이며 2년마다 50개주 중 1/3씩 상원의원을 새로 선출하여 연방에 보낸다 미국 상원은 미국 하원과는 다르게 미국 대통령을 수반으로 하는 미국 연방 행정부에 각종 동의를 하는 기관이다 하원이 세금과 경제에 대한 권한 대통령을 포함한 대다수의 공무원을 파면할 권한을 갖고 있는 국민을 대표하는 기관인 반면 상원은 미국의 주를 대표한다 즉 캘리포니아주 일리노이주 같이 주 정부와 주 의회를 대표하는 기관이다 그로 인하여 군대의 파병 관료의 임명에 대한 동의 외국 조약에 대한 승인 등 신속을 요하는 권한은 모두 상원에게만 있다 그리고 하원에 대한 견제 역할 하원의 법안을 거부할 권한 등 을 담당한다 2년의 임기로 인하여 급진적일 수밖에 없는 하원은 지나치게 급진적인 법안을 만들기 쉽다 대표적인 예로 건강보험 개혁 당시 하원이 미국 연방 행정부에게 퍼블릭 옵션 공공건강보험기관 의 조항이 있는 반면 상원의 경우 하원안이 지나치게 세금이 많이 든다는 이유로 퍼블릭 옵션 조항을 제외하고 비영리건강보험기관이나 보험회사가 담당하도록 한 것이다 이 경우처럼 상원은 하원이나 내각책임제가 빠지기 쉬운 국가들의 국회처럼 걸핏하면 발생하는 의회의 비정상적인 사태를 방지하는 기관이다 상원은 급박한 처리사항의 경우가 아니면 법안을 먼저 내는 경우가 드물고 하원이 만든 법안을 수정하여 다시 하원에 되돌려보낸다 이러한 방식으로 단원제가 빠지기 쉬운 함정을 미리 방지하는 것이다 날짜 2017 02 05\n"
     ]
    }
   ],
   "source": [
    "print(len(train_context), len(valid_context))\n",
    "print(train_context[0])"
   ]
  },
  {
   "cell_type": "code",
   "execution_count": 7,
   "id": "bf173508-3059-41e7-8465-20bd8e02164a",
   "metadata": {},
   "outputs": [
    {
     "data": {
      "text/plain": [
       "(3952, list)"
      ]
     },
     "execution_count": 7,
     "metadata": {},
     "output_type": "execute_result"
    }
   ],
   "source": [
    "train_ids = list(range(len(train_context)))\n",
    "valid_ids = list(range(len(valid_context)))\n",
    "len(train_ids), type(valid_ids)"
   ]
  },
  {
   "cell_type": "code",
   "execution_count": 8,
   "id": "8201f4d4-d79b-4bb0-96b6-d5ef6341c781",
   "metadata": {},
   "outputs": [],
   "source": [
    "contexts = [preprocess_retrieval(corpus) for corpus in contexts]"
   ]
  },
  {
   "cell_type": "markdown",
   "id": "101e408a-4adf-413c-8500-0dcac935cb14",
   "metadata": {
    "tags": []
   },
   "source": [
    "## BM25Okapi 실험"
   ]
  },
  {
   "cell_type": "code",
   "execution_count": 52,
   "id": "c8376891-cb6f-4015-ba75-4d55c459c2e5",
   "metadata": {},
   "outputs": [
    {
     "name": "stderr",
     "output_type": "stream",
     "text": [
      "100%|██████████| 56737/56737 [01:19<00:00, 710.58it/s]\n",
      "100%|██████████| 56737/56737 [00:07<00:00, 7256.25it/s]\n"
     ]
    }
   ],
   "source": [
    "tokenized_wiki = [tokenizer.tokenize(corpus) for corpus in tqdm(contexts)]\n",
    "bm25 = BM25Okapi(tqdm(tokenized_wiki))"
   ]
  },
  {
   "cell_type": "code",
   "execution_count": 53,
   "id": "8a444120-4a84-496c-b4cc-9bb83d19eb23",
   "metadata": {},
   "outputs": [
    {
     "data": {
      "text/plain": [
       "rank_bm25.BM25Okapi"
      ]
     },
     "execution_count": 53,
     "metadata": {},
     "output_type": "execute_result"
    }
   ],
   "source": [
    "type(bm25)"
   ]
  },
  {
   "cell_type": "code",
   "execution_count": 54,
   "id": "0578981e-c581-4dd5-a4a2-8c67f3866f8d",
   "metadata": {},
   "outputs": [
    {
     "data": {
      "text/plain": [
       "array([0.        , 2.70164591, 3.52023546, ..., 2.56500449, 0.        ,\n",
       "       0.        ])"
      ]
     },
     "execution_count": 54,
     "metadata": {},
     "output_type": "execute_result"
    }
   ],
   "source": [
    "query = \"트랜스포머\"\n",
    "tokenized_query = tokenizer.tokenize(preprocess_retrieval(query))\n",
    "\n",
    "doc_scores = bm25.get_scores(tokenized_query)\n",
    "doc_scores"
   ]
  },
  {
   "cell_type": "code",
   "execution_count": 55,
   "id": "c678f87b-6e80-4d19-9151-0b368779f826",
   "metadata": {},
   "outputs": [
    {
     "data": {
      "text/plain": [
       "['트랜스포머 실시영화 세계관에서는 1에서 처음등장하였다 비클모드는 머스탱이다 실사판 영화에서는 몸속의 프렌지를 데리고 다닌다 언뜻 보면 사운드웨이브처럼 숨기고 다닌다 트랜스포머 실사판 3편에서도 잠깐 휠잭를 죽일때나온다 그리고 군대쪽에서 총을 사격하자 그의 눈에 맞는다 그리고 군대쪽에서 빌딩에서 내려오고 군대쪽에서 바리케이드의 발쪽에 이상한 폭파무기를 다리쪽에 심어놓고는 폭파되어 사망한다 그후로 트랜스포머5 최후의 기사 에서도 부활하여 다시 출연한다 하지만 초반에는 메가트론과 좀 나오다가 중간에 시가전을 펼칠때 그림록의 꼬리에 밀려나간 후로부터 나오질 않는다 그 다음에는 스톤헨지에서 잠깐 메가트론 니트로제우스와 함께 포착되고 그 후로부터 등장이 없다 얼라인드 세계관에서 작품인 트랜스포머 워 포 사이버트론에서는 플레이캐릭터로 등장한다',\n",
       " '1969년 그렇게 개발된 것이 2254E 컴프레서/리미터이다 2254는 기본적으로 시그널이 게인의 변화를 주는 섹션을 지나서 다시 게인컨트롤 섹션에 영향을 주는 피드백 방식이었다 2254의 특징은 총 4개의 트랜스포머로 가득한 게인스테이지 덩어리라는 것이다 일단 인풋 게인 스테이지에서 첫 번째 트랜스포머가 들어온 신호에 색을 칠한다 그 다음 신호는 게인 리덕션 유닛으로 넘어오는데 니브만의 다이오드 브릿지 diode bridges 방식은 사실 레벨 효율이 매우 떨어지는 방식이었다 게인 리덕션 유닛을 지난 신호는 인풋신호에 비해 거의 40dB 가까이 떨어진채 두 번째 트랜스포머의 색을 묻힌 후 니브의 전매특허 BA283 아웃풋 앰프로 들어가게 된다 BA283에 포함된 총 세 번째 트랜스포머를 지나 원래의 라인신호 레벨을 되찾은 신호는 엔지니어 마음에 따라 리미터 사이드체인으로 들어가거나 말거나 중에 하나를 택한다 리미터까지 들어가면 총 4개의 트랜스포머를 거치게 되는 것이다 그로 인해 2254는 다른 기종에 비해 낮은 노이즈 대 시그널 비율을 가지고 있다 그리고 특유의 색깔도 매우 독특하다 이것이 2254만의 매력이다 게인리덕션의 성향은 비단같은 스무스함을 가지고 있다 다양한 신호에 대해서 레벨 컨트롤도 자연스러운 편이다 그렇지만 트랜스포머 덩어리와 BA283 앰프의 색을 잔뜩 입혀주었기에 여전히 클래식 컴프레서로서의 가치를 이어나가고 있는 것이다 기본적으로 느린 편인 어택은 고정되어 있다 2254는 대표적인 피드백타입 컴프레서로 불리는 만큼 반응이 느린 컴프레서이다 릴리즈를 자동으로 놓으면 릴리즈타임뿐만 아니라 어택타임까지 시그널에 맞추어 속도가 자동으로 조절된다 자연스러운 스무스니스는 바로 오토 세팅에서 나오는 것이다 하지만 트랜지언트 소스의 경우에는 다이나믹 디스토션이 생길 가능성이 크다 다이나믹 디스토션 효과를 얻고자 한다면 그렇게 쓸수도 있지만 펀치감이 파괴될 수도 있으니 주의해야 한다',\n",
       " '매년 해즈브로는 명예의 전당의 인간 부분에 입성할 개인을 선정한다 해즈브로는 또한 명예의 전당의 트랜스포머 부분에 소중히 간직하여 자격이 있다고 느끼는 특정 캐릭터를 선택한다 명예의 전당의 목적상 등장인물들은 다른 연속성들 사이에서 차별화되지 않는다 캐릭터 일대기는 캐릭터가 해즈브로의 현재 통일된 연속성에 표현되어 있음을 반영하는 경향이 있었다 해즈브로는 팬들 선택 입성을 위해 다양한 트랜스포머 팬 사이트에서 추가 후보 지명을 요청한다 상위 5명의 후보자는 명예의 전당에 선출 될 자격이 있으며 투표는 공식 트랜스포머 웹 사이트에서 4월에 열린다 수상자는 명예의 전당 입성식에서 발표된다']"
      ]
     },
     "execution_count": 55,
     "metadata": {},
     "output_type": "execute_result"
    }
   ],
   "source": [
    "bm25.get_top_n(tokenized_query, contexts, n=3)"
   ]
  },
  {
   "cell_type": "code",
   "execution_count": 56,
   "id": "67917680-c5ad-4498-a3a2-2794164b4a74",
   "metadata": {},
   "outputs": [],
   "source": [
    "def correct_retrieval(method, topk, passages, texts, queries):\n",
    "    accuracy = [[0, 0] for _ in range(len(topk))]\n",
    "    for i in tqdm(range(len(texts))):\n",
    "        tokenized_query = tokenizer.tokenize(preprocess_retrieval(queries[i]))\n",
    "        predict = method.get_top_n(tokenized_query, passages, n=max(topk))\n",
    "        for idx, k in enumerate(topk):\n",
    "            topk_predict = predict[:k]\n",
    "            if texts[i] in topk_predict:\n",
    "                accuracy[idx][0] += 1\n",
    "            else:\n",
    "                accuracy[idx][1] += 1\n",
    "    print(f\"Total Length : {accuracy[0][0]+accuracy[0][1]}\")\n",
    "    return accuracy"
   ]
  },
  {
   "cell_type": "code",
   "execution_count": 57,
   "id": "ac621c68-6cf8-46cb-9de0-48384df0c128",
   "metadata": {
    "tags": []
   },
   "outputs": [
    {
     "name": "stderr",
     "output_type": "stream",
     "text": [
      "100%|██████████| 240/240 [01:47<00:00,  2.24it/s]"
     ]
    },
    {
     "name": "stdout",
     "output_type": "stream",
     "text": [
      "Total Length : 240\n"
     ]
    },
    {
     "name": "stderr",
     "output_type": "stream",
     "text": [
      "\n"
     ]
    }
   ],
   "source": [
    "topk_list = [1, 2, 3, 5, 10]\n",
    "bm25_acc = correct_retrieval(bm25, topk_list, contexts, valid_context, valid_query)"
   ]
  },
  {
   "cell_type": "code",
   "execution_count": 58,
   "id": "148d1994-3ad8-4eb4-b26a-8a0b4f32716c",
   "metadata": {
    "tags": []
   },
   "outputs": [
    {
     "name": "stdout",
     "output_type": "stream",
     "text": [
      "Top-1 Acc. : 48.33\n",
      "Top-2 Acc. : 53.33\n",
      "Top-3 Acc. : 55.83\n",
      "Top-5 Acc. : 58.75\n",
      "Top-10 Acc. : 65.00\n"
     ]
    }
   ],
   "source": [
    "for i, topk in enumerate(topk_list):\n",
    "    print(f\"Top-{topk} Acc. : {100*bm25_acc[i][0]/(bm25_acc[i][0]+bm25_acc[i][1]):.2f}\")"
   ]
  },
  {
   "cell_type": "markdown",
   "id": "d4d508f1-2ce4-4c40-8de8-7437328aa660",
   "metadata": {},
   "source": [
    "## BM25Plus 실험"
   ]
  },
  {
   "cell_type": "code",
   "execution_count": 36,
   "id": "b414bf49-4739-4a11-bb1b-8545c391ef7d",
   "metadata": {},
   "outputs": [
    {
     "name": "stderr",
     "output_type": "stream",
     "text": [
      "100%|██████████| 56737/56737 [00:06<00:00, 8444.55it/s]\n"
     ]
    }
   ],
   "source": [
    "bm25plus = BM25Plus(tqdm(tokenized_wiki))"
   ]
  },
  {
   "cell_type": "code",
   "execution_count": 37,
   "id": "dd0a9e33-038b-4519-bd15-3cd29a169f7b",
   "metadata": {},
   "outputs": [
    {
     "data": {
      "text/plain": [
       "array([12.41217118, 16.19212622, 18.9751972 , ..., 12.41217118,\n",
       "       12.41217118, 12.41217118])"
      ]
     },
     "execution_count": 37,
     "metadata": {},
     "output_type": "execute_result"
    }
   ],
   "source": [
    "query = \"트랜스포머\"\n",
    "tokenized_query = tokenizer.tokenize(preprocess_retrieval(query))\n",
    "\n",
    "doc_scores = bm25plus.get_scores(tokenized_query)\n",
    "doc_scores"
   ]
  },
  {
   "cell_type": "code",
   "execution_count": 38,
   "id": "831afd25-f779-4616-a2e2-d25dd7b6906c",
   "metadata": {},
   "outputs": [
    {
     "data": {
      "text/plain": [
       "['트랜스포머 실시영화 세계관에서는 1에서 처음등장하였다 비클모드는 머스탱이다 실사판 영화에서는 몸속의 프렌지를 데리고 다닌다 언뜻 보면 사운드웨이브처럼 숨기고 다닌다 트랜스포머 실사판 3편에서도 잠깐 휠잭를 죽일때나온다 그리고 군대쪽에서 총을 사격하자 그의 눈에 맞는다 그리고 군대쪽에서 빌딩에서 내려오고 군대쪽에서 바리케이드의 발쪽에 이상한 폭파무기를 다리쪽에 심어놓고는 폭파되어 사망한다 그후로 트랜스포머5 최후의 기사 에서도 부활하여 다시 출연한다 하지만 초반에는 메가트론과 좀 나오다가 중간에 시가전을 펼칠때 그림록의 꼬리에 밀려나간 후로부터 나오질 않는다 그 다음에는 스톤헨지에서 잠깐 메가트론 니트로제우스와 함께 포착되고 그 후로부터 등장이 없다 얼라인드 세계관에서 작품인 트랜스포머 워 포 사이버트론에서는 플레이캐릭터로 등장한다',\n",
       " '1969년 그렇게 개발된 것이 2254E 컴프레서/리미터이다 2254는 기본적으로 시그널이 게인의 변화를 주는 섹션을 지나서 다시 게인컨트롤 섹션에 영향을 주는 피드백 방식이었다 2254의 특징은 총 4개의 트랜스포머로 가득한 게인스테이지 덩어리라는 것이다 일단 인풋 게인 스테이지에서 첫 번째 트랜스포머가 들어온 신호에 색을 칠한다 그 다음 신호는 게인 리덕션 유닛으로 넘어오는데 니브만의 다이오드 브릿지 diode bridges 방식은 사실 레벨 효율이 매우 떨어지는 방식이었다 게인 리덕션 유닛을 지난 신호는 인풋신호에 비해 거의 40dB 가까이 떨어진채 두 번째 트랜스포머의 색을 묻힌 후 니브의 전매특허 BA283 아웃풋 앰프로 들어가게 된다 BA283에 포함된 총 세 번째 트랜스포머를 지나 원래의 라인신호 레벨을 되찾은 신호는 엔지니어 마음에 따라 리미터 사이드체인으로 들어가거나 말거나 중에 하나를 택한다 리미터까지 들어가면 총 4개의 트랜스포머를 거치게 되는 것이다 그로 인해 2254는 다른 기종에 비해 낮은 노이즈 대 시그널 비율을 가지고 있다 그리고 특유의 색깔도 매우 독특하다 이것이 2254만의 매력이다 게인리덕션의 성향은 비단같은 스무스함을 가지고 있다 다양한 신호에 대해서 레벨 컨트롤도 자연스러운 편이다 그렇지만 트랜스포머 덩어리와 BA283 앰프의 색을 잔뜩 입혀주었기에 여전히 클래식 컴프레서로서의 가치를 이어나가고 있는 것이다 기본적으로 느린 편인 어택은 고정되어 있다 2254는 대표적인 피드백타입 컴프레서로 불리는 만큼 반응이 느린 컴프레서이다 릴리즈를 자동으로 놓으면 릴리즈타임뿐만 아니라 어택타임까지 시그널에 맞추어 속도가 자동으로 조절된다 자연스러운 스무스니스는 바로 오토 세팅에서 나오는 것이다 하지만 트랜지언트 소스의 경우에는 다이나믹 디스토션이 생길 가능성이 크다 다이나믹 디스토션 효과를 얻고자 한다면 그렇게 쓸수도 있지만 펀치감이 파괴될 수도 있으니 주의해야 한다',\n",
       " '매년 해즈브로는 명예의 전당의 인간 부분에 입성할 개인을 선정한다 해즈브로는 또한 명예의 전당의 트랜스포머 부분에 소중히 간직하여 자격이 있다고 느끼는 특정 캐릭터를 선택한다 명예의 전당의 목적상 등장인물들은 다른 연속성들 사이에서 차별화되지 않는다 캐릭터 일대기는 캐릭터가 해즈브로의 현재 통일된 연속성에 표현되어 있음을 반영하는 경향이 있었다 해즈브로는 팬들 선택 입성을 위해 다양한 트랜스포머 팬 사이트에서 추가 후보 지명을 요청한다 상위 5명의 후보자는 명예의 전당에 선출 될 자격이 있으며 투표는 공식 트랜스포머 웹 사이트에서 4월에 열린다 수상자는 명예의 전당 입성식에서 발표된다']"
      ]
     },
     "execution_count": 38,
     "metadata": {},
     "output_type": "execute_result"
    }
   ],
   "source": [
    "bm25plus.get_top_n(tokenized_query, contexts, n=3)"
   ]
  },
  {
   "cell_type": "code",
   "execution_count": 41,
   "id": "c712e134-eec2-40aa-8cd2-d5c179760e1d",
   "metadata": {},
   "outputs": [
    {
     "name": "stderr",
     "output_type": "stream",
     "text": [
      "100%|██████████| 240/240 [02:13<00:00,  1.80it/s]"
     ]
    },
    {
     "name": "stdout",
     "output_type": "stream",
     "text": [
      "Total Length : 240\n",
      "52.92\n"
     ]
    },
    {
     "name": "stderr",
     "output_type": "stream",
     "text": [
      "\n"
     ]
    }
   ],
   "source": [
    "bm25plus_acc = correct_retrieval(bm25plus, 1, contexts, valid_context, valid_query)\n",
    "print(f\"{100*bm25plus_acc:.2f}\")"
   ]
  },
  {
   "cell_type": "markdown",
   "id": "8c7beb09-1528-4d97-a63b-8d26c1605da1",
   "metadata": {},
   "source": [
    "## TF-IDF 실험 (max_features 제한 X)"
   ]
  },
  {
   "cell_type": "code",
   "execution_count": 43,
   "id": "d0163c89-655d-4b2d-885a-9d0f822706f2",
   "metadata": {},
   "outputs": [],
   "source": [
    "def get_relevant_doc(tfidfv, p_embedding, query, k=1):\n",
    "    query_vec = tfidfv.transform([query])\n",
    "    result = query_vec * p_embedding.T\n",
    "    result = result.toarray()\n",
    "\n",
    "    sorted_result = np.argsort(result.squeeze())[::-1]\n",
    "    doc_score = result.squeeze()[sorted_result].tolist()[:k]\n",
    "    doc_indices = sorted_result.tolist()[:k]\n",
    "    return doc_score, doc_indices"
   ]
  },
  {
   "cell_type": "code",
   "execution_count": 47,
   "id": "b22c328e-99bd-4012-b685-3b42e4759414",
   "metadata": {},
   "outputs": [],
   "source": [
    "def retrieval(tfidfv, p_embedding, query_or_dataset, topk):\n",
    "    doc_scores, doc_indices = get_relevant_doc(tfidfv, p_embedding, query_or_dataset, k=topk)\n",
    "    answers = []\n",
    "    for i in range(topk):\n",
    "        answers.append(contexts[doc_indices[i]])\n",
    "    return answers"
   ]
  },
  {
   "cell_type": "code",
   "execution_count": 46,
   "id": "4819aad9-a1b6-4952-9856-b63b5e120fdf",
   "metadata": {},
   "outputs": [
    {
     "name": "stderr",
     "output_type": "stream",
     "text": [
      "100%|██████████| 56737/56737 [02:11<00:00, 430.41it/s]\n"
     ]
    }
   ],
   "source": [
    "tfidfv = TfidfVectorizer(tokenizer=tokenizer.tokenize, ngram_range=(1, 2))\n",
    "p_embedding = tfidfv.fit_transform(tqdm(contexts))"
   ]
  },
  {
   "cell_type": "code",
   "execution_count": 55,
   "id": "4dc89e2f-b6eb-416f-8e4e-ace35ae0148e",
   "metadata": {},
   "outputs": [],
   "source": [
    "def tfidf_retrieval(method, embedding, topk, passages, texts, queries):\n",
    "    right, wrong = 0, 0\n",
    "    for i in tqdm(range(len(texts))):\n",
    "        predict = retrieval(tfidfv=tfidfv, p_embedding=embedding, query_or_dataset=queries[i], topk=topk)\n",
    "        if texts[i] in predict:\n",
    "            right += 1\n",
    "        else:\n",
    "            wrong += 1\n",
    "    print(f\"Total Length : {right+wrong}\")\n",
    "    return right/(right+wrong)"
   ]
  },
  {
   "cell_type": "code",
   "execution_count": 51,
   "id": "5dfe4460-0ba3-4e34-87f5-69f9843f6309",
   "metadata": {},
   "outputs": [
    {
     "name": "stderr",
     "output_type": "stream",
     "text": [
      "100%|██████████| 240/240 [14:58<00:00,  3.74s/it]"
     ]
    },
    {
     "name": "stdout",
     "output_type": "stream",
     "text": [
      "Total Length : 240\n",
      "47.92\n"
     ]
    },
    {
     "name": "stderr",
     "output_type": "stream",
     "text": [
      "\n"
     ]
    }
   ],
   "source": [
    "### (주의)시간 오래 걸림 - 약 15분 ###\n",
    "tfidf_acc = tfidf_retrieval(tfidfv, p_embedding, 1, contexts, valid_context, valid_query)\n",
    "print(f\"{100*tfidf_acc:.2f}\")"
   ]
  },
  {
   "cell_type": "markdown",
   "id": "529f5a8e-add3-4fb5-b03d-1980ad943f1e",
   "metadata": {
    "tags": []
   },
   "source": [
    "## Elastic Search 실험 (nori_tokenizer)"
   ]
  },
  {
   "cell_type": "code",
   "execution_count": 17,
   "id": "3dfd47f1-e4fd-4731-acf8-2f952f2886a7",
   "metadata": {},
   "outputs": [
    {
     "name": "stdout",
     "output_type": "stream",
     "text": [
      " * Starting Elasticsearch Server\n",
      " * Already running.\n",
      "   ...done.\n"
     ]
    }
   ],
   "source": [
    "!service elasticsearch start"
   ]
  },
  {
   "cell_type": "code",
   "execution_count": 18,
   "id": "b6091b18-9ec4-4c1a-a2f3-607d7aa1ca02",
   "metadata": {},
   "outputs": [],
   "source": [
    "import pprint  \n",
    "INDEX_NAME = \"toy_index\"\n",
    "\n",
    "\n",
    "INDEX_SETTINGS = {\n",
    "  \"settings\" : {\n",
    "    \"index\":{\n",
    "      \"analysis\":{\n",
    "        \"analyzer\":{\n",
    "          \"korean\":{\n",
    "            \"type\":\"custom\",\n",
    "            \"tokenizer\":\"nori_tokenizer\",\n",
    "            \"filter\": [ \"shingle\" ],\n",
    "\n",
    "          }\n",
    "        }\n",
    "      }\n",
    "    }\n",
    "  },\n",
    "  \"mappings\": {\n",
    "\n",
    "      \"properties\" : {\n",
    "        \"context\" : {\n",
    "          \"type\" : \"text\",\n",
    "          \"analyzer\": \"korean\",\n",
    "          \"search_analyzer\": \"korean\"\n",
    "        },\n",
    "      }\n",
    "\n",
    "  }\n",
    "}"
   ]
  },
  {
   "cell_type": "code",
   "execution_count": 19,
   "id": "71f7d9ad-d057-46f8-9b48-370da627cde6",
   "metadata": {},
   "outputs": [
    {
     "name": "stderr",
     "output_type": "stream",
     "text": [
      "100%|██████████| 56737/56737 [00:00<00:00, 547561.06it/s]\n"
     ]
    }
   ],
   "source": [
    "DOCS = {}\n",
    "for i in tqdm(range(len(contexts))):\n",
    "    DOCS[i] = {'context':contexts[i]}"
   ]
  },
  {
   "cell_type": "code",
   "execution_count": 20,
   "id": "1a299ec3-fe3b-4da1-8c90-5bd761b305ab",
   "metadata": {},
   "outputs": [],
   "source": [
    "try:\n",
    "    es.transport.close()\n",
    "except:\n",
    "    pass\n",
    "es = Elasticsearch()"
   ]
  },
  {
   "cell_type": "code",
   "execution_count": 21,
   "id": "7f08e63d-15ac-41fb-9d74-33e407613902",
   "metadata": {},
   "outputs": [
    {
     "name": "stderr",
     "output_type": "stream",
     "text": [
      "/opt/conda/lib/python3.8/site-packages/elasticsearch/connection/base.py:209: ElasticsearchWarning: Elasticsearch built-in security features are not enabled. Without authentication, your cluster could be accessible to anyone. See https://www.elastic.co/guide/en/elasticsearch/reference/7.15/security-minimal-setup.html to enable security.\n",
      "  warnings.warn(message, category=ElasticsearchWarning)\n"
     ]
    },
    {
     "data": {
      "text/plain": [
       "{'name': '13197ba8cc4f',\n",
       " 'cluster_name': 'elasticsearch',\n",
       " 'cluster_uuid': 'NsjOR1MlSNKPgkiGfKoBIg',\n",
       " 'version': {'number': '7.15.1',\n",
       "  'build_flavor': 'default',\n",
       "  'build_type': 'deb',\n",
       "  'build_hash': '83c34f456ae29d60e94d886e455e6a3409bba9ed',\n",
       "  'build_date': '2021-10-07T21:56:19.031608185Z',\n",
       "  'build_snapshot': False,\n",
       "  'lucene_version': '8.9.0',\n",
       "  'minimum_wire_compatibility_version': '6.8.0',\n",
       "  'minimum_index_compatibility_version': '6.0.0-beta1'},\n",
       " 'tagline': 'You Know, for Search'}"
      ]
     },
     "execution_count": 21,
     "metadata": {},
     "output_type": "execute_result"
    }
   ],
   "source": [
    "es.info()"
   ]
  },
  {
   "cell_type": "code",
   "execution_count": 22,
   "id": "5722d221-2863-48f4-8e39-6a76ca01561e",
   "metadata": {},
   "outputs": [
    {
     "name": "stderr",
     "output_type": "stream",
     "text": [
      "<ipython-input-22-b31c6028f9a8>:1: DeprecationWarning: Using positional arguments for APIs is deprecated and will be disabled in 8.0.0. Instead use only keyword arguments for all APIs. See https://github.com/elastic/elasticsearch-py/issues/1698 for more information\n",
      "  if es.indices.exists(INDEX_NAME):\n",
      "<ipython-input-22-b31c6028f9a8>:3: DeprecationWarning: The 'body' parameter is deprecated for the 'create' API and will be removed in a future version. Instead use API parameters directly. See https://github.com/elastic/elasticsearch-py/issues/1698 for more information\n",
      "  es.indices.create(index=INDEX_NAME, body=INDEX_SETTINGS)\n"
     ]
    },
    {
     "data": {
      "text/plain": [
       "{'acknowledged': True, 'shards_acknowledged': True, 'index': 'toy_index'}"
      ]
     },
     "execution_count": 22,
     "metadata": {},
     "output_type": "execute_result"
    }
   ],
   "source": [
    "if es.indices.exists(INDEX_NAME):\n",
    "    es.indices.delete(index=INDEX_NAME)\n",
    "es.indices.create(index=INDEX_NAME, body=INDEX_SETTINGS)"
   ]
  },
  {
   "cell_type": "code",
   "execution_count": 24,
   "id": "40608264-4f2b-4b8a-9842-013e3059c096",
   "metadata": {},
   "outputs": [
    {
     "name": "stderr",
     "output_type": "stream",
     "text": [
      "<ipython-input-24-1f3888081606>:3: DeprecationWarning: The 'body' parameter is deprecated for the 'index' API and will be removed in a future version. Instead use the 'document' parameter. See https://github.com/elastic/elasticsearch-py/issues/1698 for more information\n",
      "  es.index(index=INDEX_NAME,  id=doc_id, body=doc)\n"
     ]
    },
    {
     "name": "stdout",
     "output_type": "stream",
     "text": [
      "0.00% Done!\n",
      "3.53% Done!\n",
      "7.05% Done!\n",
      "10.58% Done!\n",
      "14.10% Done!\n",
      "17.63% Done!\n",
      "21.15% Done!\n",
      "24.68% Done!\n",
      "28.20% Done!\n",
      "31.73% Done!\n",
      "35.25% Done!\n",
      "38.78% Done!\n",
      "42.30% Done!\n",
      "45.83% Done!\n",
      "49.35% Done!\n",
      "52.88% Done!\n",
      "56.40% Done!\n",
      "59.93% Done!\n",
      "63.45% Done!\n",
      "66.98% Done!\n",
      "70.50% Done!\n",
      "74.03% Done!\n",
      "77.55% Done!\n",
      "81.08% Done!\n",
      "84.60% Done!\n",
      "88.13% Done!\n",
      "91.65% Done!\n",
      "95.18% Done!\n",
      "98.70% Done!\n"
     ]
    }
   ],
   "source": [
    "import time\n",
    "for doc_id, doc in DOCS.items():\n",
    "    es.index(index=INDEX_NAME,  id=doc_id, body=doc)\n",
    "    if doc_id % 2000 == 0:\n",
    "        print(f\"{100*doc_id/len(DOCS):.2f}% Done!\")\n",
    "    # time.sleep(0.1)"
   ]
  },
  {
   "cell_type": "code",
   "execution_count": 26,
   "id": "09bc9967-0598-45ee-b7f7-228d4050dd90",
   "metadata": {},
   "outputs": [
    {
     "name": "stdout",
     "output_type": "stream",
     "text": [
      "{'_id': '0',\n",
      " '_index': 'toy_index',\n",
      " '_primary_term': 1,\n",
      " '_seq_no': 3761,\n",
      " '_source': {'context': '이 문서는 나라 목록이며 전 세계 206개 나라의 각 현황과 주권 승인 정보를 개요 형태로 '\n",
      "                        '나열하고 있다 이 목록은 명료화를 위해 두 부분으로 나뉘어 있다 첫 번째 부분은 바티칸 시국과 '\n",
      "                        '팔레스타인을 포함하여 유엔 등 국제 기구에 가입되어 국제적인 승인을 널리 받았다고 여기는 '\n",
      "                        '195개 나라를 나열하고 있다 두 번째 부분은 일부 지역의 주권을 사실상 데 팍토 행사하고 '\n",
      "                        '있지만 아직 국제적인 승인을 널리 받지 않았다고 여기는 11개 나라를 나열하고 있다 두 목록은 '\n",
      "                        '모두 가나다 순이다 일부 국가의 경우 국가로서의 자격에 논쟁의 여부가 있으며 이 때문에 이러한 '\n",
      "                        '목록을 엮는 것은 매우 어렵고 논란이 생길 수 있는 과정이다 이 목록을 구성하고 있는 국가를 '\n",
      "                        '선정하는 기준에 대한 정보는 포함 기준 단락을 통해 설명하였다 나라에 대한 일반적인 정보는 국가 '\n",
      "                        '문서에서 설명하고 있다'},\n",
      " '_type': '_doc',\n",
      " '_version': 2,\n",
      " 'found': True}\n"
     ]
    }
   ],
   "source": [
    "doc = es.get(index=INDEX_NAME, id=0)\n",
    "pprint.pprint(doc)"
   ]
  },
  {
   "cell_type": "code",
   "execution_count": 27,
   "id": "f1a730d9-1f92-4da7-a2fa-90d07d2e8096",
   "metadata": {},
   "outputs": [
    {
     "name": "stdout",
     "output_type": "stream",
     "text": [
      "{'tokens': [{'end_offset': 5,\n",
      "             'position': 0,\n",
      "             'start_offset': 0,\n",
      "             'token': '트랜스포머',\n",
      "             'type': 'word'},\n",
      "            {'end_offset': 8,\n",
      "             'position': 0,\n",
      "             'positionLength': 2,\n",
      "             'start_offset': 0,\n",
      "             'token': '트랜스포머 영화',\n",
      "             'type': 'shingle'},\n",
      "            {'end_offset': 8,\n",
      "             'position': 1,\n",
      "             'start_offset': 6,\n",
      "             'token': '영화',\n",
      "             'type': 'word'}]}\n"
     ]
    }
   ],
   "source": [
    "query = \"트랜스포머 영화\"\n",
    "res = es.indices.analyze(index=INDEX_NAME,\n",
    "                                 body={\n",
    "                                       \"analyzer\" : \"korean\",\n",
    "                                        \"text\" : query\n",
    "                                 }\n",
    "                        )\n",
    "pprint.pprint(res)"
   ]
  },
  {
   "cell_type": "code",
   "execution_count": 28,
   "id": "5953e0fc-2a6b-4272-9b3c-83ee1c59c7a4",
   "metadata": {},
   "outputs": [
    {
     "name": "stdout",
     "output_type": "stream",
     "text": [
      "{'_shards': {'failed': 0, 'skipped': 0, 'successful': 1, 'total': 1},\n",
      " 'hits': {'hits': [{'_id': '39799',\n",
      "                    '_index': 'toy_index',\n",
      "                    '_score': 21.805086,\n",
      "                    '_source': {'context': '트랜스포머 실시영화 세계관에서는 1에서 처음등장하였다 '\n",
      "                                           '비클모드는 머스탱이다 실사판 영화에서는 몸속의 프렌지를 데리고 '\n",
      "                                           '다닌다 언뜻 보면 사운드웨이브처럼 숨기고 다닌다 트랜스포머 '\n",
      "                                           '실사판 3편에서도 잠깐 휠잭를 죽일때나온다 그리고 군대쪽에서 '\n",
      "                                           '총을 사격하자 그의 눈에 맞는다 그리고 군대쪽에서 빌딩에서 '\n",
      "                                           '내려오고 군대쪽에서 바리케이드의 발쪽에 이상한 폭파무기를 '\n",
      "                                           '다리쪽에 심어놓고는 폭파되어 사망한다 그후로 트랜스포머5 '\n",
      "                                           '최후의 기사 에서도 부활하여 다시 출연한다 하지만 초반에는 '\n",
      "                                           '메가트론과 좀 나오다가 중간에 시가전을 펼칠때 그림록의 꼬리에 '\n",
      "                                           '밀려나간 후로부터 나오질 않는다 그 다음에는 스톤헨지에서 잠깐 '\n",
      "                                           '메가트론 니트로제우스와 함께 포착되고 그 후로부터 등장이 없다 '\n",
      "                                           '얼라인드 세계관에서 작품인 트랜스포머 워 포 사이버트론에서는 '\n",
      "                                           '플레이캐릭터로 등장한다'},\n",
      "                    '_type': '_doc'},\n",
      "                   {'_id': '21093',\n",
      "                    '_index': 'toy_index',\n",
      "                    '_score': 18.337114,\n",
      "                    '_source': {'context': 'What I ve Done 은 미국의 록 밴드 린킨 파크의 '\n",
      "                                           '3번째 정규 음반인 Minutes to Midnight에 '\n",
      "                                           '수록된 곡이자 첫 번째 싱글 음반이다 2007년 4월 1일 '\n",
      "                                           '라디오 싱글로 공개하였으며 이어 4월 2일에는 디지털 '\n",
      "                                           '다운로드로 4월 30일에는 CD 싱글로 발매하였다 6월 28일 '\n",
      "                                           '영화 트랜스포머가 개봉되면서 이 영화의 OST로도 사용되었다 '\n",
      "                                           '2009년 12월 2일에는 Road To Revolution '\n",
      "                                           'Live At Milton Keynes에 수록된 What I '\n",
      "                                           've Done 라이브 트랙이 52회 그래미상 최고의 하드 록 '\n",
      "                                           '퍼포먼스 부문 후보에 올랐으나 AC/DC의 War '\n",
      "                                           'Machine 이 수상하였다'},\n",
      "                    '_type': '_doc'},\n",
      "                   {'_id': '27313',\n",
      "                    '_index': 'toy_index',\n",
      "                    '_score': 16.04517,\n",
      "                    '_source': {'context': '1969년 그렇게 개발된 것이 2254E 컴프레서/리미터이다 '\n",
      "                                           '2254는 기본적으로 시그널이 게인의 변화를 주는 섹션을 '\n",
      "                                           '지나서 다시 게인컨트롤 섹션에 영향을 주는 피드백 방식이었다 '\n",
      "                                           '2254의 특징은 총 4개의 트랜스포머로 가득한 게인스테이지 '\n",
      "                                           '덩어리라는 것이다 일단 인풋 게인 스테이지에서 첫 번째 '\n",
      "                                           '트랜스포머가 들어온 신호에 색을 칠한다 그 다음 신호는 게인 '\n",
      "                                           '리덕션 유닛으로 넘어오는데 니브만의 다이오드 브릿지 diode '\n",
      "                                           'bridges 방식은 사실 레벨 효율이 매우 떨어지는 '\n",
      "                                           '방식이었다 게인 리덕션 유닛을 지난 신호는 인풋신호에 비해 '\n",
      "                                           '거의 40dB 가까이 떨어진채 두 번째 트랜스포머의 색을 묻힌 '\n",
      "                                           '후 니브의 전매특허 BA283 아웃풋 앰프로 들어가게 된다 '\n",
      "                                           'BA283에 포함된 총 세 번째 트랜스포머를 지나 원래의 '\n",
      "                                           '라인신호 레벨을 되찾은 신호는 엔지니어 마음에 따라 리미터 '\n",
      "                                           '사이드체인으로 들어가거나 말거나 중에 하나를 택한다 리미터까지 '\n",
      "                                           '들어가면 총 4개의 트랜스포머를 거치게 되는 것이다 그로 인해 '\n",
      "                                           '2254는 다른 기종에 비해 낮은 노이즈 대 시그널 비율을 '\n",
      "                                           '가지고 있다 그리고 특유의 색깔도 매우 독특하다 이것이 '\n",
      "                                           '2254만의 매력이다 게인리덕션의 성향은 비단같은 스무스함을 '\n",
      "                                           '가지고 있다 다양한 신호에 대해서 레벨 컨트롤도 자연스러운 '\n",
      "                                           '편이다 그렇지만 트랜스포머 덩어리와 BA283 앰프의 색을 '\n",
      "                                           '잔뜩 입혀주었기에 여전히 클래식 컴프레서로서의 가치를 '\n",
      "                                           '이어나가고 있는 것이다 기본적으로 느린 편인 어택은 고정되어 '\n",
      "                                           '있다 2254는 대표적인 피드백타입 컴프레서로 불리는 만큼 '\n",
      "                                           '반응이 느린 컴프레서이다 릴리즈를 자동으로 놓으면 '\n",
      "                                           '릴리즈타임뿐만 아니라 어택타임까지 시그널에 맞추어 속도가 '\n",
      "                                           '자동으로 조절된다 자연스러운 스무스니스는 바로 오토 세팅에서 '\n",
      "                                           '나오는 것이다 하지만 트랜지언트 소스의 경우에는 다이나믹 '\n",
      "                                           '디스토션이 생길 가능성이 크다 다이나믹 디스토션 효과를 얻고자 '\n",
      "                                           '한다면 그렇게 쓸수도 있지만 펀치감이 파괴될 수도 있으니 '\n",
      "                                           '주의해야 한다'},\n",
      "                    '_type': '_doc'}],\n",
      "          'max_score': 21.805086,\n",
      "          'total': {'relation': 'eq', 'value': 2141}},\n",
      " 'timed_out': False,\n",
      " 'took': 629}\n"
     ]
    }
   ],
   "source": [
    "query = \"트랜스포머 영화\"\n",
    "res = es.search(index=INDEX_NAME, q=query, size=3)\n",
    "pprint.pprint(res)"
   ]
  },
  {
   "cell_type": "code",
   "execution_count": 29,
   "id": "0e9ef8dd-c7da-4319-9d02-d8c347b6bc09",
   "metadata": {},
   "outputs": [
    {
     "data": {
      "text/plain": [
       "'트랜스포머 실시영화 세계관에서는 1에서 처음등장하였다 비클모드는 머스탱이다 실사판 영화에서는 몸속의 프렌지를 데리고 다닌다 언뜻 보면 사운드웨이브처럼 숨기고 다닌다 트랜스포머 실사판 3편에서도 잠깐 휠잭를 죽일때나온다 그리고 군대쪽에서 총을 사격하자 그의 눈에 맞는다 그리고 군대쪽에서 빌딩에서 내려오고 군대쪽에서 바리케이드의 발쪽에 이상한 폭파무기를 다리쪽에 심어놓고는 폭파되어 사망한다 그후로 트랜스포머5 최후의 기사 에서도 부활하여 다시 출연한다 하지만 초반에는 메가트론과 좀 나오다가 중간에 시가전을 펼칠때 그림록의 꼬리에 밀려나간 후로부터 나오질 않는다 그 다음에는 스톤헨지에서 잠깐 메가트론 니트로제우스와 함께 포착되고 그 후로부터 등장이 없다 얼라인드 세계관에서 작품인 트랜스포머 워 포 사이버트론에서는 플레이캐릭터로 등장한다'"
      ]
     },
     "execution_count": 29,
     "metadata": {},
     "output_type": "execute_result"
    }
   ],
   "source": [
    "res['hits']['hits'][0]['_source']['context']"
   ]
  },
  {
   "cell_type": "code",
   "execution_count": 103,
   "id": "b8d9ca1f-d9c6-46c4-a17f-9306fd7aed1b",
   "metadata": {},
   "outputs": [],
   "source": [
    "def right_es(es, texts, queries, topk=1):\n",
    "    right, wrong = 0, 0\n",
    "    for i in range(len(queries)):\n",
    "        try:\n",
    "            res = es.search(index=INDEX_NAME, q=queries[i], size=topk)\n",
    "        except:\n",
    "            mod_q = queries[i].replace(\"%\", \" \")\n",
    "            res = es.search(index=INDEX_NAME, q=mod_q, size=topk)\n",
    "        answers = []\n",
    "        for idx in range(topk):\n",
    "            answers.append(res['hits']['hits'][idx]['_source']['context'])\n",
    "            \n",
    "        if texts[i] in answers:\n",
    "            right += 1\n",
    "        else:\n",
    "            wrong += 1\n",
    "        if i%24 == 0:\n",
    "            print(f\"{100*i/len(texts)}% Done!\")\n",
    "    print(f\"Total Length : {right+wrong}\")\n",
    "    return right/(right+wrong)"
   ]
  },
  {
   "cell_type": "code",
   "execution_count": 81,
   "id": "4faa7a69-d87a-499b-b409-07b109cd6eeb",
   "metadata": {},
   "outputs": [
    {
     "name": "stdout",
     "output_type": "stream",
     "text": [
      "0.0% Done!\n"
     ]
    },
    {
     "name": "stderr",
     "output_type": "stream",
     "text": [
      "WARNING:elasticsearch:POST http://localhost:9200/toy_index/_search?q=%EB%B3%91%EC%97%90+%EA%B1%B8%EB%A0%A4+%EC%A3%BD%EC%9D%84+%ED%99%95%EB%A5%A0%EC%9D%B4+%EC%95%BD+25~50%25%EC%97%90+%EB%8B%AC%ED%95%98%EB%8A%94+%EC%9C%A0%ED%98%95%EC%9D%98+%EC%A7%88%EB%B3%91%EC%9D%80 [status:400 request:0.002s]\n"
     ]
    },
    {
     "name": "stdout",
     "output_type": "stream",
     "text": [
      "10.0% Done!\n",
      "20.0% Done!\n",
      "30.0% Done!\n",
      "40.0% Done!\n",
      "50.0% Done!\n",
      "60.0% Done!\n",
      "70.0% Done!\n",
      "80.0% Done!\n",
      "90.0% Done!\n",
      "Total Length : 240\n",
      "97.92\n"
     ]
    }
   ],
   "source": [
    "es_acc = right_es(es, valid_context, valid_query, 100)\n",
    "print(f\"{100*es_acc:.2f}\")"
   ]
  },
  {
   "cell_type": "code",
   "execution_count": 83,
   "id": "f778f319-7eae-4f17-9cd9-a1a1e2a0f41c",
   "metadata": {},
   "outputs": [
    {
     "name": "stdout",
     "output_type": "stream",
     "text": [
      "---------------------------------------- Query & Context ----------------------------------------\n",
      "Query : 설리반이 불만을 표시한 대상은 누구인가\n",
      "Context : 1778년 초 설리번은 로드아일랜드로 전출되어 그곳의 부대와 민병대를 지휘하게 되었다 그것은 프랑스의 참전이후 난공불락으로 여겨지는 뉴포트를 장악한 영국군을 프랑스 해군과 연계하여 공격하거나 포위하려는 의도였다 그러나 데스탱 장군이 이끄는 함대가 폭우로 손실되어 그 계획은 취소되었다 손실된 배와 하우 제독이 이끄는 영국 함대의 도착으로 데스탱은 보스톤으로 철수하였다 그때 뉴포트의 영국군 요새에 있던 영국군이 출동하였고 설리번도 8월에 일어난 영양가 없었던 로드아일랜드 전투에서 교전을 벌인 후 퇴각했다 난공불락으로 보였던 요새 공략에 실패하고 작전이 붕괴된 방식으로 인해 프랑스와 미합중국 간의 관계가 불편해지게 되었다 설리반은 데스탱 장군에게 편지를 써서 그가 목격했던 것을 ‘프랑스의 명예를 손상시키는’이라는 표현을 써가며 배반적이고 비겁한 짓이라고 항의했다 이 작전 실패로 두 연합국 간의 국제 분쟁에 불이 붙었으며 1년 뒤 사바나 포위전에서 영국 요새에 대한 또 다른 실패를 불러왔다 설리번은 이 실패로 그의 이력에 큰 타격을 입지는 않았으며 그는 조심스런 캐나다 침공을 위한 지휘관으로 오르내리고 있었다\n",
      "---------------------------------------- Query & Context ----------------------------------------\n",
      "Query : 아이오와주에 수많은 산업체들이 들어오기 시작한 것은 언제인가\n",
      "Context : 제2차 세계 대전이 일어나는 동안에 아이오와 주에서 생산된 옥수수와 돼지고기를 포함한 미국 농산품들을 위한 요청이 늘어났다 결과로서 아이오와 주 농부들의 소득이 재빠르게 상승하였다 1945년과 1960년대 후반 사이에 수백개의 새로운 산업들이 아이오와 주로 옮겨져 들어왔다 그 대부분은 식품 혹은 금속 가공업이나 기계 제조업이었다 아이오와 주는 그때부터 기초의 농장 경제에서 공업 농업 경제로 변화하였다 그 동안 근대의 농기구 사용의 증가와 작은 농장들을 더 커진 농장들로 합병이 농장의 고용을 감소하였다 많은 아이오와 주민들이 새롭고 확장된 산업들에서 일하러 시골 지역들에서 도시들로 이주하였다 1960년 인구 조사국은 처음으로 더 많은 아이오와 주민들이 시골 지역들보다 도시 지역들에 산다고 보고하였다 조사국은 1950년에 48 퍼센트와 비교하며 주민들의 53 퍼센트가 도시와 타운들에 사는 것을 보여주었다 술 판매의 논쟁이 1950년대 동안에 다시 올랐다 아이오와 주의 입법부는 술집에서 알콜 음료들이 내도록 허락하는 일부 결의를 거절하였다 1963년 입법부는 마시는 술의 판매를 적법화하였다 그러나 각각의 아이오와 주의 카운티들에서 투표자들은 자신들의 지역들에서 술의 판매를 허락하느냐를 결정할 수 있다\n",
      "---------------------------------------- Query & Context ----------------------------------------\n",
      "Query : 쓰치야 히로시가 마지막으로 활동한 해는\n",
      "Context : 우스다 고등학교 시절에는 2학년 때부터 에이스로서 활약하여 1961년 추계 호쿠신에쓰 대회 나가노현 예선에서 준결승에 진출했지만 마루코 실업고등학교한테 져서 탈락했다 당시부터 낮게 조절된 무거운 속구는 정평이 나있어서 한 경기당 평균 10개 이상의 삼진을 빼앗았다 고교 졸업 후 사회인 야구팀인 산쿄 정기 덴덴 신에쓰로부터 입단 권유를 받았지만 고마자와 대학에 진학했다 도토 6대학 리그에서는 1 2학년 때 두 번의 우승을 경험했지만 1년 선배인 모리타 마사히코 홋카이도척식은행 팀 동료 이토 히사토시와 같은 좋은 투수가 있어서 눈에 띈 활약은 없었다 1965년 춘계 리그에서 첫 등판했고 모리타가 졸업한 이후에는 이토와 ‘좌우 두 기둥’으로 리그 통산 27경기에 등판하여 11승 9패라는 성적을 올렸다 그 외 대학 동기로는 유격수 오시타 쓰요시 3루수 고토 가즈아키 등이 있다 대학 졸업 후 덴덴 도쿄에 입사하여 1967년 도시 대항 야구 대회 2차전에서는 야마다 히사시가 소속된 후지제철 가마이시를 누르는 등 2승을 거두고 준결승에 진출했다 준결승전에서는 닛폰 석유의 히라마쓰 마사지 투수와 맞대결을 벌인 끝에 1대 2로 패했지만 우수 선수상을 수상했다 1967년 프로 야구 드래프트 회의에서 주니치 드래건스로부터 1순위 지명을 받고 입단했다 1968년에 1군에 올랐지만 그 후에는 일시적으로 침체를 겪었고 프로 4년차인 1971년 4월 18일 야쿠르트 아톰스를 상대로 데뷔 첫 선발 등판을 이뤘다 그해 5월 12일에는 두 번째 선발 등판에서 다이요 웨일스의 야마시타 리쓰오와 투수전을 펼쳐 7회 도중까지 호투한 끝에 데뷔 첫 승을 기록했다 1972년에는 두 번의 완투 3승을 올렸지만 1973년 시즌 도중에 미즈타니 노리히로와 함께 사토 마사오 오쿠다 나오야의 맞트레이드로 롯데 오리온스에 이적했다 그 후에는 등판 기회가 없어서 1975년 시즌 끝으로 선수 생활을 은퇴했다\n",
      "---------------------------------------- Query & Context ----------------------------------------\n",
      "Query : 그녀의 첫 작품이 데뷔한 곳은\n",
      "Context : 빅토리야 토카레바는 1937년 레닌그라드 지금의 상트페테르부르크 에서 태어났다 1958년 레닌그라드 음악대학 피아노과를 졸업하고 어린이 음악학교에서 피아노를 가르쳤다 이때부터 소설을 쓰기 시작했다 토카레바는 작가가 되겠다는 어릴 때부터의 꿈을 실현하기 위해 1962년 모스크바 국립영화학교 시나리오학부에 입학했고 1968년 졸업했다 1964년 단편소설 ＜거짓 없는 하루＞를 ＜젊은 근위대＞에 발표하면서 등단했다 그녀의 첫 번째 소설인 ＜거짓 없는 하루＞가 세상에 나왔던 1964년은 ‘해빙기’가 막을 내리던 시기였다 그러나 빅토리야 토카레바는 성공적으로 ‘마지막 열차’에 뛰어올랐고 이로써 대단한 관심과 주목을 받으며 작가의 삶을 시작했다 이후로 꾸준히 고급 문학예술 잡지인 ＜신세계＞와 ＜젊음＞ 등에 작품을 발표하면서 자신의 문학적 재능을 유감없이 발휘하는데 이는 1969년 첫 단편집 ≪없었던 것에 대하여≫가 출간되었을 때 평자들의 반응으로 나타났다 비평가 피로고프는 “토카레바는 윤기 있는 글쓰기와 전문적 열정을 보존한 작가 정신으로 ‘문학의 상업화’라는 위기 상황을 극복한 작가”라고 극찬했으며 유리 나기빈은 “토카레바에게는 나쁜 소설이 하나도 없다 매우 빛나고 좋은 것만 있다”고 했다 1990년대에 들어서면서 작가의 소설이 봇물처럼 쏟아져 나온다 해마다 두세 권의 중·단편집이 출간되며 이른바 ‘토카레바 붐’을 일으킨다 뿐만 아니라 “빅토리야 토카레바의 현상은 절대적으로 존재한다 이는 다른 누구도 아닌 우리 모두의 이야기다”라는 세간의 호평을 받으며 출간되는 즉시 거의 모두 베스트셀러가 된다 토카레바의 소설은 현재 영어 독일어 이탈리아어와 프랑스어로 번역 출간되고 있음은 물론 거의 모든 중·단편집이 계속해서 재출간되고 있다 작가는 현재 모스크바에 살고 있다\n",
      "---------------------------------------- Query & Context ----------------------------------------\n",
      "Query : 1표로 간주하기 위한 의견 수렴 방식은\n",
      "Context : 트리부스 민회 Comitia Tributa 는 로마 공화국 사회에서 행정과 관련된 민회 중 하나이다 부족 의회로 부족들이 소집한 모든 로마 시민들로 구성된 집합체였다 로마 공화정 시기에 시민은 35개의 부족을 기반으로 조직되어 있었다 4개의 로마 시내 부족과 31개의 시 외곽 부족이 있었다 부족들은 입법 사법 선거와 관련된 문제에 투표하기 위해 부족 의회를 소집했다 각 부족은 별도로 분리된 투표를 했다 각 부족마다 다수결 득표에 의한 결정이 내려졌으며 각 부족이 보유한 선거인 수와 관계없이 결정은 1표로 계산되었다 일단 대다수의 부족이 주어진 방법과 같은 방법으로 투표하면 투표가 끝나고 문제가 결정되었다 참가 자격은 로마 시민권을 가진 상류층인 파트리키와 평민 계급인 플레브스가 동시에 국정에 참여했다 대부분의 인원이 로마 시내에 있는 4개의 선거구 트리부스 본래 ‘부족’이라는 의미 에 집중되어 있으며 여기에서 투표 결과를 좌우했다 또한 켄투리아 민회처럼 각자의 시민들이 투표권을 가지고 있는 것은 아니었고 각 선거구에 하나의 투표권이 주어졌다 트리부스 민회는 포룸 로마눔에서 열린 수석 조영관 재무관 거기에 트리뷴 밀리툼이라는 군단 사령관의 선거를 결정했다 또한 루키우스 코르넬리우스 술라에 의한 개혁까지 트리부스 민회에서 재판도 진행되었다\n"
     ]
    }
   ],
   "source": [
    "for q, txt in wrongs:\n",
    "    print('-'*40, 'Query & Context', '-'*40)\n",
    "    print(f\"Query : {q}\")\n",
    "    print(f\"Context : {txt}\")"
   ]
  },
  {
   "cell_type": "markdown",
   "id": "d0f700e8-9dbe-4e05-9854-210046eee490",
   "metadata": {},
   "source": [
    "### 추가 테스트 해볼 내용\n",
    "1. nori_tokenizer 모든 query 처리 가능하게 preprocess => 크게 할 내용이 없었음 (Mecab 기반)\n",
    "2. passage 길이 너무 긴 것 삭제 (2500 이상?)\n",
    "3. 정답이 context 내 어디 쯤에 위치하는지 파악 -> 뒷단이나 앞단 random deletion"
   ]
  },
  {
   "cell_type": "markdown",
   "id": "2e401954-e88e-4a2c-a28b-e443d1aa2c9b",
   "metadata": {},
   "source": [
    "## Elasticsearch 긴 문장 제거 후 임베딩 실험"
   ]
  },
  {
   "cell_type": "code",
   "execution_count": 43,
   "id": "13800cdf-f7d6-48c1-b2a1-7e7d89a910b0",
   "metadata": {},
   "outputs": [
    {
     "name": "stdout",
     "output_type": "stream",
     "text": [
      " * Starting Elasticsearch Server\n",
      " * Already running.\n",
      "   ...done.\n"
     ]
    }
   ],
   "source": [
    "!service elasticsearch start"
   ]
  },
  {
   "cell_type": "code",
   "execution_count": 44,
   "id": "cf2195c6-03c2-44a4-a442-48eb22a92cf5",
   "metadata": {},
   "outputs": [],
   "source": [
    "INDEX_NAME = \"toy_index\"\n",
    "\n",
    "INDEX_SETTINGS = {\n",
    "  \"settings\" : {\n",
    "    \"index\":{\n",
    "      \"analysis\":{\n",
    "        \"analyzer\":{\n",
    "          \"korean\":{\n",
    "            \"type\":\"custom\",\n",
    "            \"tokenizer\":\"nori_tokenizer\",\n",
    "            \"filter\": [ \"shingle\" ],\n",
    "\n",
    "          }\n",
    "        }\n",
    "      }\n",
    "    }\n",
    "  },\n",
    "  \"mappings\": {\n",
    "\n",
    "      \"properties\" : {\n",
    "        \"context\" : {\n",
    "          \"type\" : \"text\",\n",
    "          \"analyzer\": \"korean\",\n",
    "          \"search_analyzer\": \"korean\"\n",
    "        },\n",
    "      }\n",
    "\n",
    "  }\n",
    "}"
   ]
  },
  {
   "cell_type": "code",
   "execution_count": 47,
   "id": "54a1ceff-99cc-496f-b0b2-8def740fff88",
   "metadata": {},
   "outputs": [
    {
     "data": {
      "text/plain": [
       "56207"
      ]
     },
     "execution_count": 47,
     "metadata": {},
     "output_type": "execute_result"
    }
   ],
   "source": [
    "normal_context = []\n",
    "for context in contexts:\n",
    "    if len(context) <= 3000:\n",
    "        normal_context.append(context)\n",
    "len(normal_context)"
   ]
  },
  {
   "cell_type": "code",
   "execution_count": 48,
   "id": "3cedb96e-af07-4f23-8030-e952af3a5e3b",
   "metadata": {},
   "outputs": [
    {
     "name": "stderr",
     "output_type": "stream",
     "text": [
      "100%|██████████| 56207/56207 [00:00<00:00, 668997.15it/s]\n"
     ]
    }
   ],
   "source": [
    "DOCS = {}\n",
    "for i in tqdm(range(len(normal_context))):\n",
    "    DOCS[i] = {'context':normal_context[i]}"
   ]
  },
  {
   "cell_type": "code",
   "execution_count": 49,
   "id": "2e79c982-ffd5-4f54-a03f-29087c33953b",
   "metadata": {},
   "outputs": [],
   "source": [
    "try:\n",
    "    es.transport.close()\n",
    "except:\n",
    "    pass\n",
    "es = Elasticsearch()"
   ]
  },
  {
   "cell_type": "code",
   "execution_count": 50,
   "id": "b7d798a8-a3eb-4c2f-b111-188eb04c42eb",
   "metadata": {},
   "outputs": [
    {
     "data": {
      "text/plain": [
       "{'name': '13197ba8cc4f',\n",
       " 'cluster_name': 'elasticsearch',\n",
       " 'cluster_uuid': 'NsjOR1MlSNKPgkiGfKoBIg',\n",
       " 'version': {'number': '7.15.1',\n",
       "  'build_flavor': 'default',\n",
       "  'build_type': 'deb',\n",
       "  'build_hash': '83c34f456ae29d60e94d886e455e6a3409bba9ed',\n",
       "  'build_date': '2021-10-07T21:56:19.031608185Z',\n",
       "  'build_snapshot': False,\n",
       "  'lucene_version': '8.9.0',\n",
       "  'minimum_wire_compatibility_version': '6.8.0',\n",
       "  'minimum_index_compatibility_version': '6.0.0-beta1'},\n",
       " 'tagline': 'You Know, for Search'}"
      ]
     },
     "execution_count": 50,
     "metadata": {},
     "output_type": "execute_result"
    }
   ],
   "source": [
    "es.info()"
   ]
  },
  {
   "cell_type": "code",
   "execution_count": 51,
   "id": "8b060d60-a2b6-426f-a2ba-e6e99e2c76a2",
   "metadata": {},
   "outputs": [
    {
     "name": "stderr",
     "output_type": "stream",
     "text": [
      "<ipython-input-51-b31c6028f9a8>:1: DeprecationWarning: Using positional arguments for APIs is deprecated and will be disabled in 8.0.0. Instead use only keyword arguments for all APIs. See https://github.com/elastic/elasticsearch-py/issues/1698 for more information\n",
      "  if es.indices.exists(INDEX_NAME):\n",
      "<ipython-input-51-b31c6028f9a8>:3: DeprecationWarning: The 'body' parameter is deprecated for the 'create' API and will be removed in a future version. Instead use API parameters directly. See https://github.com/elastic/elasticsearch-py/issues/1698 for more information\n",
      "  es.indices.create(index=INDEX_NAME, body=INDEX_SETTINGS)\n"
     ]
    },
    {
     "data": {
      "text/plain": [
       "{'acknowledged': True, 'shards_acknowledged': True, 'index': 'toy_index'}"
      ]
     },
     "execution_count": 51,
     "metadata": {},
     "output_type": "execute_result"
    }
   ],
   "source": [
    "if es.indices.exists(INDEX_NAME):\n",
    "    es.indices.delete(index=INDEX_NAME)\n",
    "es.indices.create(index=INDEX_NAME, body=INDEX_SETTINGS)"
   ]
  },
  {
   "cell_type": "code",
   "execution_count": 52,
   "id": "f75ac181-eb39-459a-986b-b7be7b84654b",
   "metadata": {},
   "outputs": [
    {
     "name": "stderr",
     "output_type": "stream",
     "text": [
      "<ipython-input-52-9fdec48c77a3>:2: DeprecationWarning: The 'body' parameter is deprecated for the 'index' API and will be removed in a future version. Instead use the 'document' parameter. See https://github.com/elastic/elasticsearch-py/issues/1698 for more information\n",
      "  es.index(index=INDEX_NAME,  id=doc_id, body=doc)\n"
     ]
    },
    {
     "name": "stdout",
     "output_type": "stream",
     "text": [
      "0.00% Done!\n",
      "3.56% Done!\n",
      "7.12% Done!\n",
      "10.67% Done!\n",
      "14.23% Done!\n",
      "17.79% Done!\n",
      "21.35% Done!\n",
      "24.91% Done!\n",
      "28.47% Done!\n",
      "32.02% Done!\n",
      "35.58% Done!\n",
      "39.14% Done!\n",
      "42.70% Done!\n",
      "46.26% Done!\n",
      "49.82% Done!\n",
      "53.37% Done!\n",
      "56.93% Done!\n",
      "60.49% Done!\n",
      "64.05% Done!\n",
      "67.61% Done!\n",
      "71.17% Done!\n",
      "74.72% Done!\n",
      "78.28% Done!\n",
      "81.84% Done!\n",
      "85.40% Done!\n",
      "88.96% Done!\n",
      "92.52% Done!\n",
      "96.07% Done!\n",
      "99.63% Done!\n"
     ]
    }
   ],
   "source": [
    "for doc_id, doc in DOCS.items():\n",
    "    es.index(index=INDEX_NAME,  id=doc_id, body=doc)\n",
    "    if doc_id % 2000 == 0:\n",
    "        print(f\"{100*doc_id/len(DOCS):.2f}% Done!\")\n",
    "    # time.sleep(0.1)"
   ]
  },
  {
   "cell_type": "code",
   "execution_count": 53,
   "id": "9226b098-7135-4dfa-b35b-757555a034c0",
   "metadata": {},
   "outputs": [
    {
     "name": "stdout",
     "output_type": "stream",
     "text": [
      "{'_id': '0',\n",
      " '_index': 'toy_index',\n",
      " '_primary_term': 1,\n",
      " '_seq_no': 0,\n",
      " '_source': {'context': '이 문서는 나라 목록이며 전 세계 206개 나라의 각 현황과 주권 승인 정보를 개요 형태로 '\n",
      "                        '나열하고 있다 이 목록은 명료화를 위해 두 부분으로 나뉘어 있다 첫 번째 부분은 바티칸 시국과 '\n",
      "                        '팔레스타인을 포함하여 유엔 등 국제 기구에 가입되어 국제적인 승인을 널리 받았다고 여기는 '\n",
      "                        '195개 나라를 나열하고 있다 두 번째 부분은 일부 지역의 주권을 사실상 데 팍토 행사하고 '\n",
      "                        '있지만 아직 국제적인 승인을 널리 받지 않았다고 여기는 11개 나라를 나열하고 있다 두 목록은 '\n",
      "                        '모두 가나다 순이다 일부 국가의 경우 국가로서의 자격에 논쟁의 여부가 있으며 이 때문에 이러한 '\n",
      "                        '목록을 엮는 것은 매우 어렵고 논란이 생길 수 있는 과정이다 이 목록을 구성하고 있는 국가를 '\n",
      "                        '선정하는 기준에 대한 정보는 포함 기준 단락을 통해 설명하였다 나라에 대한 일반적인 정보는 국가 '\n",
      "                        '문서에서 설명하고 있다'},\n",
      " '_type': '_doc',\n",
      " '_version': 1,\n",
      " 'found': True}\n"
     ]
    }
   ],
   "source": [
    "doc = es.get(index=INDEX_NAME, id=0)\n",
    "pprint.pprint(doc)"
   ]
  },
  {
   "cell_type": "code",
   "execution_count": 54,
   "id": "060e3e8b-5823-40d6-968c-944fd2e974d5",
   "metadata": {},
   "outputs": [
    {
     "name": "stdout",
     "output_type": "stream",
     "text": [
      "{'tokens': [{'end_offset': 5,\n",
      "             'position': 0,\n",
      "             'start_offset': 0,\n",
      "             'token': '트랜스포머',\n",
      "             'type': 'word'},\n",
      "            {'end_offset': 8,\n",
      "             'position': 0,\n",
      "             'positionLength': 2,\n",
      "             'start_offset': 0,\n",
      "             'token': '트랜스포머 영화',\n",
      "             'type': 'shingle'},\n",
      "            {'end_offset': 8,\n",
      "             'position': 1,\n",
      "             'start_offset': 6,\n",
      "             'token': '영화',\n",
      "             'type': 'word'}]}\n"
     ]
    }
   ],
   "source": [
    "query = \"트랜스포머 영화\"\n",
    "res = es.indices.analyze(index=INDEX_NAME,\n",
    "                                 body={\n",
    "                                       \"analyzer\" : \"korean\",\n",
    "                                        \"text\" : query\n",
    "                                 }\n",
    "                        )\n",
    "pprint.pprint(res)"
   ]
  },
  {
   "cell_type": "code",
   "execution_count": 56,
   "id": "4ec823e3-253c-449b-95a5-e41e007fdaa3",
   "metadata": {},
   "outputs": [
    {
     "name": "stdout",
     "output_type": "stream",
     "text": [
      "{'_shards': {'failed': 0, 'skipped': 0, 'successful': 1, 'total': 1},\n",
      " 'hits': {'hits': [{'_id': '39400',\n",
      "                    '_index': 'toy_index',\n",
      "                    '_score': 21.840775,\n",
      "                    '_source': {'context': '트랜스포머 실시영화 세계관에서는 1에서 처음등장하였다 '\n",
      "                                           '비클모드는 머스탱이다 실사판 영화에서는 몸속의 프렌지를 데리고 '\n",
      "                                           '다닌다 언뜻 보면 사운드웨이브처럼 숨기고 다닌다 트랜스포머 '\n",
      "                                           '실사판 3편에서도 잠깐 휠잭를 죽일때나온다 그리고 군대쪽에서 '\n",
      "                                           '총을 사격하자 그의 눈에 맞는다 그리고 군대쪽에서 빌딩에서 '\n",
      "                                           '내려오고 군대쪽에서 바리케이드의 발쪽에 이상한 폭파무기를 '\n",
      "                                           '다리쪽에 심어놓고는 폭파되어 사망한다 그후로 트랜스포머5 '\n",
      "                                           '최후의 기사 에서도 부활하여 다시 출연한다 하지만 초반에는 '\n",
      "                                           '메가트론과 좀 나오다가 중간에 시가전을 펼칠때 그림록의 꼬리에 '\n",
      "                                           '밀려나간 후로부터 나오질 않는다 그 다음에는 스톤헨지에서 잠깐 '\n",
      "                                           '메가트론 니트로제우스와 함께 포착되고 그 후로부터 등장이 없다 '\n",
      "                                           '얼라인드 세계관에서 작품인 트랜스포머 워 포 사이버트론에서는 '\n",
      "                                           '플레이캐릭터로 등장한다'},\n",
      "                    '_type': '_doc'},\n",
      "                   {'_id': '20894',\n",
      "                    '_index': 'toy_index',\n",
      "                    '_score': 18.313906,\n",
      "                    '_source': {'context': 'What I ve Done 은 미국의 록 밴드 린킨 파크의 '\n",
      "                                           '3번째 정규 음반인 Minutes to Midnight에 '\n",
      "                                           '수록된 곡이자 첫 번째 싱글 음반이다 2007년 4월 1일 '\n",
      "                                           '라디오 싱글로 공개하였으며 이어 4월 2일에는 디지털 '\n",
      "                                           '다운로드로 4월 30일에는 CD 싱글로 발매하였다 6월 28일 '\n",
      "                                           '영화 트랜스포머가 개봉되면서 이 영화의 OST로도 사용되었다 '\n",
      "                                           '2009년 12월 2일에는 Road To Revolution '\n",
      "                                           'Live At Milton Keynes에 수록된 What I '\n",
      "                                           've Done 라이브 트랙이 52회 그래미상 최고의 하드 록 '\n",
      "                                           '퍼포먼스 부문 후보에 올랐으나 AC/DC의 War '\n",
      "                                           'Machine 이 수상하였다'},\n",
      "                    '_type': '_doc'},\n",
      "                   {'_id': '27057',\n",
      "                    '_index': 'toy_index',\n",
      "                    '_score': 16.106827,\n",
      "                    '_source': {'context': '1969년 그렇게 개발된 것이 2254E 컴프레서/리미터이다 '\n",
      "                                           '2254는 기본적으로 시그널이 게인의 변화를 주는 섹션을 '\n",
      "                                           '지나서 다시 게인컨트롤 섹션에 영향을 주는 피드백 방식이었다 '\n",
      "                                           '2254의 특징은 총 4개의 트랜스포머로 가득한 게인스테이지 '\n",
      "                                           '덩어리라는 것이다 일단 인풋 게인 스테이지에서 첫 번째 '\n",
      "                                           '트랜스포머가 들어온 신호에 색을 칠한다 그 다음 신호는 게인 '\n",
      "                                           '리덕션 유닛으로 넘어오는데 니브만의 다이오드 브릿지 diode '\n",
      "                                           'bridges 방식은 사실 레벨 효율이 매우 떨어지는 '\n",
      "                                           '방식이었다 게인 리덕션 유닛을 지난 신호는 인풋신호에 비해 '\n",
      "                                           '거의 40dB 가까이 떨어진채 두 번째 트랜스포머의 색을 묻힌 '\n",
      "                                           '후 니브의 전매특허 BA283 아웃풋 앰프로 들어가게 된다 '\n",
      "                                           'BA283에 포함된 총 세 번째 트랜스포머를 지나 원래의 '\n",
      "                                           '라인신호 레벨을 되찾은 신호는 엔지니어 마음에 따라 리미터 '\n",
      "                                           '사이드체인으로 들어가거나 말거나 중에 하나를 택한다 리미터까지 '\n",
      "                                           '들어가면 총 4개의 트랜스포머를 거치게 되는 것이다 그로 인해 '\n",
      "                                           '2254는 다른 기종에 비해 낮은 노이즈 대 시그널 비율을 '\n",
      "                                           '가지고 있다 그리고 특유의 색깔도 매우 독특하다 이것이 '\n",
      "                                           '2254만의 매력이다 게인리덕션의 성향은 비단같은 스무스함을 '\n",
      "                                           '가지고 있다 다양한 신호에 대해서 레벨 컨트롤도 자연스러운 '\n",
      "                                           '편이다 그렇지만 트랜스포머 덩어리와 BA283 앰프의 색을 '\n",
      "                                           '잔뜩 입혀주었기에 여전히 클래식 컴프레서로서의 가치를 '\n",
      "                                           '이어나가고 있는 것이다 기본적으로 느린 편인 어택은 고정되어 '\n",
      "                                           '있다 2254는 대표적인 피드백타입 컴프레서로 불리는 만큼 '\n",
      "                                           '반응이 느린 컴프레서이다 릴리즈를 자동으로 놓으면 '\n",
      "                                           '릴리즈타임뿐만 아니라 어택타임까지 시그널에 맞추어 속도가 '\n",
      "                                           '자동으로 조절된다 자연스러운 스무스니스는 바로 오토 세팅에서 '\n",
      "                                           '나오는 것이다 하지만 트랜지언트 소스의 경우에는 다이나믹 '\n",
      "                                           '디스토션이 생길 가능성이 크다 다이나믹 디스토션 효과를 얻고자 '\n",
      "                                           '한다면 그렇게 쓸수도 있지만 펀치감이 파괴될 수도 있으니 '\n",
      "                                           '주의해야 한다'},\n",
      "                    '_type': '_doc'}],\n",
      "          'max_score': 21.840775,\n",
      "          'total': {'relation': 'eq', 'value': 2091}},\n",
      " 'timed_out': False,\n",
      " 'took': 3}\n"
     ]
    }
   ],
   "source": [
    "query = \"트랜스포머 영화\"\n",
    "res = es.search(index=INDEX_NAME, q=query, size=3)\n",
    "pprint.pprint(res)"
   ]
  },
  {
   "cell_type": "code",
   "execution_count": 57,
   "id": "ba183a9a-8e91-4ea5-b211-6a200f5c1d3d",
   "metadata": {},
   "outputs": [
    {
     "name": "stdout",
     "output_type": "stream",
     "text": [
      "0.0% Done!\n"
     ]
    },
    {
     "name": "stderr",
     "output_type": "stream",
     "text": [
      "WARNING:elasticsearch:POST http://localhost:9200/toy_index/_search?q=%EB%B3%91%EC%97%90+%EA%B1%B8%EB%A0%A4+%EC%A3%BD%EC%9D%84+%ED%99%95%EB%A5%A0%EC%9D%B4+%EC%95%BD+25~50%25%EC%97%90+%EB%8B%AC%ED%95%98%EB%8A%94+%EC%9C%A0%ED%98%95%EC%9D%98+%EC%A7%88%EB%B3%91%EC%9D%80 [status:400 request:0.001s]\n"
     ]
    },
    {
     "name": "stdout",
     "output_type": "stream",
     "text": [
      "10.0% Done!\n",
      "20.0% Done!\n",
      "30.0% Done!\n",
      "40.0% Done!\n",
      "50.0% Done!\n",
      "60.0% Done!\n",
      "70.0% Done!\n",
      "80.0% Done!\n",
      "90.0% Done!\n",
      "Total Length : 240\n",
      "70.00\n"
     ]
    }
   ],
   "source": [
    "es_acc = right_es(es, valid_context, valid_query)\n",
    "print(f\"{100*es_acc:.2f}\")"
   ]
  },
  {
   "cell_type": "markdown",
   "id": "9072cefd-b9b8-463d-a286-762e8b7b69a8",
   "metadata": {},
   "source": [
    "### 길이가 긴 passage 삭제 -> 효과 없었음"
   ]
  },
  {
   "cell_type": "markdown",
   "id": "39cbc24c-e72d-4759-aebd-811a50a4b140",
   "metadata": {
    "tags": []
   },
   "source": [
    "## query에서 키워드만 추출하면 정확도가 올라가는지 실험"
   ]
  },
  {
   "cell_type": "code",
   "execution_count": 85,
   "id": "673d889b-95a6-4703-b4fd-c10de1dfcd7f",
   "metadata": {},
   "outputs": [
    {
     "data": {
      "text/html": [
       "<div>\n",
       "<style scoped>\n",
       "    .dataframe tbody tr th:only-of-type {\n",
       "        vertical-align: middle;\n",
       "    }\n",
       "\n",
       "    .dataframe tbody tr th {\n",
       "        vertical-align: top;\n",
       "    }\n",
       "\n",
       "    .dataframe thead th {\n",
       "        text-align: right;\n",
       "    }\n",
       "</style>\n",
       "<table border=\"1\" class=\"dataframe\">\n",
       "  <thead>\n",
       "    <tr style=\"text-align: right;\">\n",
       "      <th></th>\n",
       "      <th>query</th>\n",
       "    </tr>\n",
       "  </thead>\n",
       "  <tbody>\n",
       "    <tr>\n",
       "      <th>78</th>\n",
       "      <td>대한민국 민법에서 채권의 권리가 누구에게 있으면 채권이 사라지지 않는다고 명시하는가</td>\n",
       "    </tr>\n",
       "    <tr>\n",
       "      <th>179</th>\n",
       "      <td>면역력이 약해져서 아시클로버의 약효가 발휘되지 않을 때 쓰는 것은 무엇인가</td>\n",
       "    </tr>\n",
       "    <tr>\n",
       "      <th>50</th>\n",
       "      <td>정민과 이별한 이후 옥림의 매력에 마음을 빼앗겨버린 인물은</td>\n",
       "    </tr>\n",
       "    <tr>\n",
       "      <th>19</th>\n",
       "      <td>박지훈은 1라운드에서 몇 순위를 차지했는가</td>\n",
       "    </tr>\n",
       "    <tr>\n",
       "      <th>16</th>\n",
       "      <td>몽케가 죽은 뒤 쿠릴타이에서 대칸의 지위를 얻은 사람의 이름은</td>\n",
       "    </tr>\n",
       "    <tr>\n",
       "      <th>223</th>\n",
       "      <td>센니치마에 선의 관리권은 어디에 있나</td>\n",
       "    </tr>\n",
       "    <tr>\n",
       "      <th>134</th>\n",
       "      <td>돈대에서 무너져내린 포좌부분이 있는 위치는</td>\n",
       "    </tr>\n",
       "    <tr>\n",
       "      <th>193</th>\n",
       "      <td>타코벨과 달리 대한민국에서 많은 성과를 달성했던 업체는</td>\n",
       "    </tr>\n",
       "    <tr>\n",
       "      <th>170</th>\n",
       "      <td>탄수화물의 최종적 분해가 이루어지는 곳은</td>\n",
       "    </tr>\n",
       "    <tr>\n",
       "      <th>188</th>\n",
       "      <td>윤진학이 동아찬영회에 들어가기 전에 속해있었던 곳은</td>\n",
       "    </tr>\n",
       "    <tr>\n",
       "      <th>98</th>\n",
       "      <td>태양이 대부분 철로 이루어지지 않음을 발견한 인물은</td>\n",
       "    </tr>\n",
       "    <tr>\n",
       "      <th>124</th>\n",
       "      <td>애니미즘만을 믿던 세부아노족들에게 전파된 외부 종교는</td>\n",
       "    </tr>\n",
       "    <tr>\n",
       "      <th>67</th>\n",
       "      <td>닭의 관절 재생을 유도할 수 있는 재생 기술은</td>\n",
       "    </tr>\n",
       "    <tr>\n",
       "      <th>117</th>\n",
       "      <td>상사병으로 사망한 소녀의 장례식이 열린 곳은 어디인가</td>\n",
       "    </tr>\n",
       "    <tr>\n",
       "      <th>37</th>\n",
       "      <td>로마의 공성무기에 대한 기록을 남긴 사람은</td>\n",
       "    </tr>\n",
       "    <tr>\n",
       "      <th>49</th>\n",
       "      <td>적색육을 지칭하는 또 다른 이름은</td>\n",
       "    </tr>\n",
       "    <tr>\n",
       "      <th>17</th>\n",
       "      <td>이흥구의 사법시험 이야기를 기사로 작성한 곳은</td>\n",
       "    </tr>\n",
       "    <tr>\n",
       "      <th>160</th>\n",
       "      <td>2011년이후 세력이 약해진 조직은</td>\n",
       "    </tr>\n",
       "    <tr>\n",
       "      <th>215</th>\n",
       "      <td>샤이닝 폼을 무엇이라고 칭하기도 하나요</td>\n",
       "    </tr>\n",
       "    <tr>\n",
       "      <th>109</th>\n",
       "      <td>어느정도 규모 이상의 대회에서 깃털 셔틀콕만을 사용하는 이유는</td>\n",
       "    </tr>\n",
       "  </tbody>\n",
       "</table>\n",
       "</div>"
      ],
      "text/plain": [
       "                                              query\n",
       "78   대한민국 민법에서 채권의 권리가 누구에게 있으면 채권이 사라지지 않는다고 명시하는가\n",
       "179       면역력이 약해져서 아시클로버의 약효가 발휘되지 않을 때 쓰는 것은 무엇인가\n",
       "50                 정민과 이별한 이후 옥림의 매력에 마음을 빼앗겨버린 인물은\n",
       "19                          박지훈은 1라운드에서 몇 순위를 차지했는가\n",
       "16               몽케가 죽은 뒤 쿠릴타이에서 대칸의 지위를 얻은 사람의 이름은\n",
       "223                            센니치마에 선의 관리권은 어디에 있나\n",
       "134                         돈대에서 무너져내린 포좌부분이 있는 위치는\n",
       "193                  타코벨과 달리 대한민국에서 많은 성과를 달성했던 업체는\n",
       "170                          탄수화물의 최종적 분해가 이루어지는 곳은\n",
       "188                    윤진학이 동아찬영회에 들어가기 전에 속해있었던 곳은\n",
       "98                     태양이 대부분 철로 이루어지지 않음을 발견한 인물은\n",
       "124                   애니미즘만을 믿던 세부아노족들에게 전파된 외부 종교는\n",
       "67                        닭의 관절 재생을 유도할 수 있는 재생 기술은\n",
       "117                   상사병으로 사망한 소녀의 장례식이 열린 곳은 어디인가\n",
       "37                          로마의 공성무기에 대한 기록을 남긴 사람은\n",
       "49                               적색육을 지칭하는 또 다른 이름은\n",
       "17                        이흥구의 사법시험 이야기를 기사로 작성한 곳은\n",
       "160                             2011년이후 세력이 약해진 조직은\n",
       "215                           샤이닝 폼을 무엇이라고 칭하기도 하나요\n",
       "109              어느정도 규모 이상의 대회에서 깃털 셔틀콕만을 사용하는 이유는"
      ]
     },
     "execution_count": 85,
     "metadata": {},
     "output_type": "execute_result"
    }
   ],
   "source": [
    "val_query = pd.DataFrame({'query':valid_query})\n",
    "val_query.sample(20)"
   ]
  },
  {
   "cell_type": "markdown",
   "id": "49aa1ce0-2fac-4d5b-a07f-c456e6366444",
   "metadata": {},
   "source": [
    "### 그 전에 우선 전처리 다르게 해서 동일 실험 진행해보기"
   ]
  },
  {
   "cell_type": "code",
   "execution_count": 143,
   "id": "f3f93b08-29d4-4e83-9e0a-9221387ea436",
   "metadata": {},
   "outputs": [],
   "source": [
    "def preprocess(corpus):\n",
    "    corpus = corpus.replace(\"\\\\n\", \"\")\n",
    "    corpus = re.sub(f\"[^- ㄱ-ㅎㅏ-ㅣ가-힣0-9a-zA-Zぁ-ゔァ-ヴー々〆〤一-龥]\", \" \", corpus)\n",
    "    corpus = ' '.join(corpus.split())\n",
    "    return corpus"
   ]
  },
  {
   "cell_type": "code",
   "execution_count": 144,
   "id": "5ccfaff8-1a5e-4234-a5fc-adb9f4a39d6b",
   "metadata": {},
   "outputs": [],
   "source": [
    "with open(\"../data/wikipedia_documents.json\", \"r\", encoding=\"utf-8\") as f:\n",
    "    wiki = json.load(f)\n",
    "contexts = list(dict.fromkeys([v[\"text\"] for v in wiki.values()]))"
   ]
  },
  {
   "cell_type": "code",
   "execution_count": 145,
   "id": "49072c75-833a-487d-952e-4e40792c55c6",
   "metadata": {},
   "outputs": [
    {
     "name": "stderr",
     "output_type": "stream",
     "text": [
      "100%|██████████| 240/240 [00:00<00:00, 5211.58it/s]\n"
     ]
    }
   ],
   "source": [
    "train_dataset = load_from_disk(\"../data/train_dataset\")\n",
    "new_context, new_query = [], []\n",
    "for data in tqdm(train_dataset['validation']):\n",
    "    new_context.append(preprocess(data['context']))\n",
    "    new_query.append(preprocess(data['question']))"
   ]
  },
  {
   "cell_type": "code",
   "execution_count": 146,
   "id": "13a4538e-db20-43ac-9868-a56488fb6b3b",
   "metadata": {},
   "outputs": [],
   "source": [
    "new_contexts = [preprocess(corpus) for corpus in contexts]"
   ]
  },
  {
   "cell_type": "code",
   "execution_count": 147,
   "id": "68f09ccf-698d-4fe0-b730-f11c67327ca6",
   "metadata": {},
   "outputs": [
    {
     "name": "stdout",
     "output_type": "stream",
     "text": [
      " * Starting Elasticsearch Server\n",
      " * Already running.\n",
      "   ...done.\n"
     ]
    }
   ],
   "source": [
    "!service elasticsearch start"
   ]
  },
  {
   "cell_type": "code",
   "execution_count": 148,
   "id": "931af9e3-c086-48ff-bf24-4f255f19ff7f",
   "metadata": {},
   "outputs": [],
   "source": [
    "INDEX_NAME = \"toy_index\"\n",
    "\n",
    "INDEX_SETTINGS = {\n",
    "  \"settings\" : {\n",
    "    \"index\":{\n",
    "      \"analysis\":{\n",
    "        \"analyzer\":{\n",
    "          \"korean\":{\n",
    "            \"type\":\"custom\",\n",
    "            \"tokenizer\":\"nori_tokenizer\",\n",
    "            \"filter\": [ \"shingle\" ],\n",
    "          }\n",
    "        }\n",
    "      }\n",
    "    }\n",
    "  },\n",
    "  \"mappings\": {\n",
    "\n",
    "      \"properties\" : {\n",
    "        \"context\" : {\n",
    "          \"type\" : \"text\",\n",
    "          \"analyzer\": \"korean\",\n",
    "          \"search_analyzer\": \"korean\"\n",
    "        },\n",
    "      }\n",
    "\n",
    "  }\n",
    "}"
   ]
  },
  {
   "cell_type": "code",
   "execution_count": 149,
   "id": "818b7fb5-34f6-45ca-ad83-2597094af367",
   "metadata": {},
   "outputs": [
    {
     "name": "stderr",
     "output_type": "stream",
     "text": [
      "100%|██████████| 56737/56737 [00:00<00:00, 571957.88it/s]\n"
     ]
    }
   ],
   "source": [
    "DOCS = {}\n",
    "for i in tqdm(range(len(new_contexts))):\n",
    "    DOCS[i] = {'context':new_contexts[i]}"
   ]
  },
  {
   "cell_type": "code",
   "execution_count": 150,
   "id": "50dce59f-209f-409c-98ca-7eccb367aa2b",
   "metadata": {},
   "outputs": [],
   "source": [
    "try:\n",
    "    es.transport.close()\n",
    "except:\n",
    "    pass\n",
    "es = Elasticsearch()"
   ]
  },
  {
   "cell_type": "code",
   "execution_count": 151,
   "id": "3ad55895-00d0-4d19-af9c-c1b235266bb2",
   "metadata": {},
   "outputs": [
    {
     "data": {
      "text/plain": [
       "{'name': '13197ba8cc4f',\n",
       " 'cluster_name': 'elasticsearch',\n",
       " 'cluster_uuid': 'NsjOR1MlSNKPgkiGfKoBIg',\n",
       " 'version': {'number': '7.15.1',\n",
       "  'build_flavor': 'default',\n",
       "  'build_type': 'deb',\n",
       "  'build_hash': '83c34f456ae29d60e94d886e455e6a3409bba9ed',\n",
       "  'build_date': '2021-10-07T21:56:19.031608185Z',\n",
       "  'build_snapshot': False,\n",
       "  'lucene_version': '8.9.0',\n",
       "  'minimum_wire_compatibility_version': '6.8.0',\n",
       "  'minimum_index_compatibility_version': '6.0.0-beta1'},\n",
       " 'tagline': 'You Know, for Search'}"
      ]
     },
     "execution_count": 151,
     "metadata": {},
     "output_type": "execute_result"
    }
   ],
   "source": [
    "es.info()"
   ]
  },
  {
   "cell_type": "code",
   "execution_count": 152,
   "id": "a49078c9-c109-426e-bb5e-40c47e2afea1",
   "metadata": {},
   "outputs": [
    {
     "name": "stderr",
     "output_type": "stream",
     "text": [
      "<ipython-input-152-b31c6028f9a8>:1: DeprecationWarning: Using positional arguments for APIs is deprecated and will be disabled in 8.0.0. Instead use only keyword arguments for all APIs. See https://github.com/elastic/elasticsearch-py/issues/1698 for more information\n",
      "  if es.indices.exists(INDEX_NAME):\n",
      "<ipython-input-152-b31c6028f9a8>:3: DeprecationWarning: The 'body' parameter is deprecated for the 'create' API and will be removed in a future version. Instead use API parameters directly. See https://github.com/elastic/elasticsearch-py/issues/1698 for more information\n",
      "  es.indices.create(index=INDEX_NAME, body=INDEX_SETTINGS)\n"
     ]
    },
    {
     "data": {
      "text/plain": [
       "{'acknowledged': True, 'shards_acknowledged': True, 'index': 'toy_index'}"
      ]
     },
     "execution_count": 152,
     "metadata": {},
     "output_type": "execute_result"
    }
   ],
   "source": [
    "if es.indices.exists(INDEX_NAME):\n",
    "    es.indices.delete(index=INDEX_NAME)\n",
    "es.indices.create(index=INDEX_NAME, body=INDEX_SETTINGS)"
   ]
  },
  {
   "cell_type": "code",
   "execution_count": 153,
   "id": "126feb3e-8e4b-4489-b20c-7d5f897a0085",
   "metadata": {},
   "outputs": [
    {
     "name": "stderr",
     "output_type": "stream",
     "text": [
      "<ipython-input-153-9fdec48c77a3>:2: DeprecationWarning: The 'body' parameter is deprecated for the 'index' API and will be removed in a future version. Instead use the 'document' parameter. See https://github.com/elastic/elasticsearch-py/issues/1698 for more information\n",
      "  es.index(index=INDEX_NAME,  id=doc_id, body=doc)\n"
     ]
    },
    {
     "name": "stdout",
     "output_type": "stream",
     "text": [
      "0.00% Done!\n",
      "3.53% Done!\n",
      "7.05% Done!\n",
      "10.58% Done!\n",
      "14.10% Done!\n",
      "17.63% Done!\n",
      "21.15% Done!\n",
      "24.68% Done!\n",
      "28.20% Done!\n",
      "31.73% Done!\n",
      "35.25% Done!\n",
      "38.78% Done!\n",
      "42.30% Done!\n",
      "45.83% Done!\n",
      "49.35% Done!\n",
      "52.88% Done!\n",
      "56.40% Done!\n",
      "59.93% Done!\n",
      "63.45% Done!\n",
      "66.98% Done!\n",
      "70.50% Done!\n",
      "74.03% Done!\n",
      "77.55% Done!\n",
      "81.08% Done!\n",
      "84.60% Done!\n",
      "88.13% Done!\n",
      "91.65% Done!\n",
      "95.18% Done!\n",
      "98.70% Done!\n"
     ]
    }
   ],
   "source": [
    "for doc_id, doc in DOCS.items():\n",
    "    es.index(index=INDEX_NAME,  id=doc_id, body=doc)\n",
    "    if doc_id % 2000 == 0:\n",
    "        print(f\"{100*doc_id/len(DOCS):.2f}% Done!\")\n",
    "    # time.sleep(0.1)"
   ]
  },
  {
   "cell_type": "code",
   "execution_count": 154,
   "id": "f14a0b3f-b8f0-44ef-ad62-eb895b1c9a1b",
   "metadata": {},
   "outputs": [
    {
     "name": "stdout",
     "output_type": "stream",
     "text": [
      "{'_id': '0',\n",
      " '_index': 'toy_index',\n",
      " '_primary_term': 1,\n",
      " '_seq_no': 0,\n",
      " '_source': {'context': '이 문서는 나라 목록이며 전 세계 206개 나라의 각 현황과 주권 승인 정보를 개요 형태로 '\n",
      "                        '나열하고 있다 이 목록은 명료화를 위해 두 부분으로 나뉘어 있다 첫 번째 부분은 바티칸 시국과 '\n",
      "                        '팔레스타인을 포함하여 유엔 등 국제 기구에 가입되어 국제적인 승인을 널리 받았다고 여기는 '\n",
      "                        '195개 나라를 나열하고 있다 두 번째 부분은 일부 지역의 주권을 사실상 데 팍토 행사하고 '\n",
      "                        '있지만 아직 국제적인 승인을 널리 받지 않았다고 여기는 11개 나라를 나열하고 있다 두 목록은 '\n",
      "                        '모두 가나다 순이다 일부 국가의 경우 국가로서의 자격에 논쟁의 여부가 있으며 이 때문에 이러한 '\n",
      "                        '목록을 엮는 것은 매우 어렵고 논란이 생길 수 있는 과정이다 이 목록을 구성하고 있는 국가를 '\n",
      "                        '선정하는 기준에 대한 정보는 포함 기준 단락을 통해 설명하였다 나라에 대한 일반적인 정보는 국가 '\n",
      "                        '문서에서 설명하고 있다'},\n",
      " '_type': '_doc',\n",
      " '_version': 1,\n",
      " 'found': True}\n"
     ]
    }
   ],
   "source": [
    "doc = es.get(index=INDEX_NAME, id=0)\n",
    "pprint.pprint(doc)"
   ]
  },
  {
   "cell_type": "code",
   "execution_count": 155,
   "id": "ce57103d-4736-45e2-bf14-e6182fc01d6c",
   "metadata": {},
   "outputs": [
    {
     "name": "stdout",
     "output_type": "stream",
     "text": [
      "{'tokens': [{'end_offset': 5,\n",
      "             'position': 0,\n",
      "             'start_offset': 0,\n",
      "             'token': '트랜스포머',\n",
      "             'type': 'word'},\n",
      "            {'end_offset': 8,\n",
      "             'position': 1,\n",
      "             'start_offset': 6,\n",
      "             'token': '영화',\n",
      "             'type': 'word'}]}\n"
     ]
    }
   ],
   "source": [
    "query = \"트랜스포머 영화\"\n",
    "res = es.indices.analyze(index=INDEX_NAME,\n",
    "                                 body={\n",
    "                                       \"analyzer\" : \"korean\",\n",
    "                                        \"text\" : query\n",
    "                                 }\n",
    "                        )\n",
    "pprint.pprint(res)"
   ]
  },
  {
   "cell_type": "code",
   "execution_count": 156,
   "id": "f3928522-a5b3-492b-9f8a-b53f4139f312",
   "metadata": {},
   "outputs": [
    {
     "name": "stdout",
     "output_type": "stream",
     "text": [
      "{'_shards': {'failed': 0, 'skipped': 0, 'successful': 1, 'total': 1},\n",
      " 'hits': {'hits': [{'_id': '39799',\n",
      "                    '_index': 'toy_index',\n",
      "                    '_score': 20.270441,\n",
      "                    '_source': {'context': '트랜스포머 실시영화 세계관에서는 1에서 처음등장하였다 '\n",
      "                                           '비클모드는 머스탱이다 실사판 영화에서는 몸속의 프렌지를 데리고 '\n",
      "                                           '다닌다 언뜻 보면 사운드웨이브처럼 숨기고 다닌다 트랜스포머 '\n",
      "                                           '실사판 3편에서도 잠깐 휠잭를 죽일때나온다 그리고 군대쪽에서 '\n",
      "                                           '총을 사격하자 그의 눈에 맞는다 그리고 군대쪽에서 빌딩에서 '\n",
      "                                           '내려오고 군대쪽에서 바리케이드의 발쪽에 이상한 폭파무기를 '\n",
      "                                           '다리쪽에 심어놓고는 폭파되어 사망한다 그후로 트랜스포머5 '\n",
      "                                           '최후의 기사 에서도 부활하여 다시 출연한다 하지만 초반에는 '\n",
      "                                           '메가트론과 좀 나오다가 중간에 시가전을 펼칠때 그림록의 꼬리에 '\n",
      "                                           '밀려나간 후로부터 나오질 않는다 그 다음에는 스톤헨지에서 잠깐 '\n",
      "                                           '메가트론 니트로제우스와 함께 포착되고 그 후로부터 등장이 없다 '\n",
      "                                           '얼라인드 세계관에서 작품인 트랜스포머 워 포 사이버트론에서는 '\n",
      "                                           '플레이캐릭터로 등장한다'},\n",
      "                    '_type': '_doc'},\n",
      "                   {'_id': '21093',\n",
      "                    '_index': 'toy_index',\n",
      "                    '_score': 16.504116,\n",
      "                    '_source': {'context': 'What I ve Done 은 미국의 록 밴드 린킨 파크의 '\n",
      "                                           '3번째 정규 음반인 Minutes to Midnight에 '\n",
      "                                           '수록된 곡이자 첫 번째 싱글 음반이다 2007년 4월 1일 '\n",
      "                                           '라디오 싱글로 공개하였으며 이어 4월 2일에는 디지털 '\n",
      "                                           '다운로드로 4월 30일에는 CD 싱글로 발매하였다 6월 28일 '\n",
      "                                           '영화 트랜스포머가 개봉되면서 이 영화의 OST로도 사용되었다 '\n",
      "                                           '2009년 12월 2일에는 Road To Revolution '\n",
      "                                           'Live At Milton Keynes에 수록된 What I '\n",
      "                                           've Done 라이브 트랙이 52회 그래미상 최고의 하드 록 '\n",
      "                                           '퍼포먼스 부문 후보에 올랐으나 AC DC의 War '\n",
      "                                           'Machine 이 수상하였다'},\n",
      "                    '_type': '_doc'},\n",
      "                   {'_id': '37263',\n",
      "                    '_index': 'toy_index',\n",
      "                    '_score': 14.804483,\n",
      "                    '_source': {'context': '매년 해즈브로는 명예의 전당의 인간 부분에 입성할 개인을 '\n",
      "                                           '선정한다 해즈브로는 또한 명예의 전당의 트랜스포머 부분에 '\n",
      "                                           '소중히 간직하여 자격이 있다고 느끼는 특정 캐릭터를 선택한다 '\n",
      "                                           '명예의 전당의 목적상 등장인물들은 다른 연속성들 사이에서 '\n",
      "                                           '차별화되지 않는다 캐릭터 일대기는 캐릭터가 해즈브로의 현재 '\n",
      "                                           '통일된 연속성에 표현되어 있음을 반영하는 경향이 있었다 '\n",
      "                                           '해즈브로는 팬들 선택 입성을 위해 다양한 트랜스포머 팬 '\n",
      "                                           '사이트에서 추가 후보 지명을 요청한다 상위 5명의 후보자는 '\n",
      "                                           '명예의 전당에 선출 될 자격이 있으며 투표는 공식 트랜스포머 '\n",
      "                                           '웹 사이트에서 4월에 열린다 수상자는 명예의 전당 입성식에서 '\n",
      "                                           '발표된다'},\n",
      "                    '_type': '_doc'}],\n",
      "          'max_score': 20.270441,\n",
      "          'total': {'relation': 'eq', 'value': 2142}},\n",
      " 'timed_out': False,\n",
      " 'took': 3604}\n"
     ]
    }
   ],
   "source": [
    "query = \"트랜스포머 영화\"\n",
    "res = es.search(index=INDEX_NAME, q=query, size=3)\n",
    "pprint.pprint(res)"
   ]
  },
  {
   "cell_type": "code",
   "execution_count": 158,
   "id": "965a0496-4bc0-4cb6-a9c9-828c4e9c5b73",
   "metadata": {
    "tags": []
   },
   "outputs": [
    {
     "name": "stdout",
     "output_type": "stream",
     "text": [
      "0.0% Done!\n",
      "10.0% Done!\n",
      "20.0% Done!\n",
      "30.0% Done!\n",
      "40.0% Done!\n",
      "50.0% Done!\n",
      "60.0% Done!\n",
      "70.0% Done!\n",
      "80.0% Done!\n",
      "90.0% Done!\n",
      "Total Length : 240\n",
      "76.67\n"
     ]
    }
   ],
   "source": [
    "es_acc = right_es(es, new_context, new_query, topk=2)\n",
    "print(f\"{100*es_acc:.2f}\")"
   ]
  },
  {
   "cell_type": "markdown",
   "id": "0717a2d5-831d-43b8-ba93-d9cc77b1dbce",
   "metadata": {
    "tags": []
   },
   "source": [
    "### 특수문자 제거 성능 >> 특수문자 미제거 성능"
   ]
  },
  {
   "cell_type": "code",
   "execution_count": 39,
   "id": "c8122223-0faa-49e2-9e1c-06ba0149029f",
   "metadata": {},
   "outputs": [
    {
     "data": {
      "text/plain": [
       "[[0, 0], [0, 0], [0, 0], [0, 0], [0, 0]]"
      ]
     },
     "execution_count": 39,
     "metadata": {},
     "output_type": "execute_result"
    }
   ],
   "source": [
    "topk = [1, 2, 3, 5, 10]\n",
    "accuracy = [[0, 0] for _ in range(len(topk))]\n",
    "accuracy"
   ]
  },
  {
   "cell_type": "code",
   "execution_count": null,
   "id": "c140c1b2-b903-4624-9a6d-a85f688d6c14",
   "metadata": {},
   "outputs": [],
   "source": []
  }
 ],
 "metadata": {
  "kernelspec": {
   "display_name": "Python 3 (ipykernel)",
   "language": "python",
   "name": "python3"
  },
  "language_info": {
   "codemirror_mode": {
    "name": "ipython",
    "version": 3
   },
   "file_extension": ".py",
   "mimetype": "text/x-python",
   "name": "python",
   "nbconvert_exporter": "python",
   "pygments_lexer": "ipython3",
   "version": "3.8.5"
  }
 },
 "nbformat": 4,
 "nbformat_minor": 5
}
